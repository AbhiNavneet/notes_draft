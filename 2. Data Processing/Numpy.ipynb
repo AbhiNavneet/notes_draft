{
  "cells": [
    {
      "cell_type": "markdown",
      "metadata": {
        "colab_type": "text",
        "id": "view-in-github"
      },
      "source": [
        "<a href=\"https://colab.research.google.com/github/sureshmecad/CloudyML-AI-FOR-ALL/blob/main/4_Numpy_CloudyML.ipynb\" target=\"_parent\"><img src=\"https://colab.research.google.com/assets/colab-badge.svg\" alt=\"Open In Colab\"/></a>"
      ]
    },
    {
      "cell_type": "markdown",
      "metadata": {
        "id": "XfEZxkgmpUgP"
      },
      "source": [
        "# <center> Numpy Basics </center>"
      ]
    },
    {
      "cell_type": "markdown",
      "metadata": {
        "id": "aE_ZVV-8pUgT"
      },
      "source": [
        "* Welcome to section of Numpy. This is one of the \n",
        "the most used Python libraries for data science. NumPy consists of a powerful data structure called multidimensional arrays. Pandas is another powerful Python library that provides fast and easy data analysis platform.\n",
        "\n",
        "* NumPy is a library written for scientific computing and data analysis. It stands for numerical python and also known as array oriented computing.\n",
        "\n",
        "* The most basic object in NumPy is the ndarray, or simply an array which is an n-dimensional, homogeneous array. By homogenous, we mean that all the elements in a NumPy array have to be of the same data type, which is commonly numeric (float or integer).\n",
        "\n",
        "\n",
        " # Why Numpy?\n",
        " \n",
        " * Convenience & speed.\n",
        " \n",
        " * Numpy is much faster than the standard python ways to do computations.\n",
        "\n",
        " * Vectorised code typically does not contain explicit looping and indexing etc. (all of this happens behind the scenes, in precompiled C-code), and thus it is much more concise.\n",
        " \n",
        " * Also, many Numpy operations are implemented in C which is basically being executed behind the scenes, avoiding the general cost of loops in Python, pointer indirection and per-element dynamic type checking. The speed boost depends on which operations you're performing.\n",
        " \n",
        " * NumPy arrays are more compact than lists, i.e. they take much lesser storage space than lists"
      ]
    },
    {
      "cell_type": "code",
      "execution_count": 1,
      "metadata": {
        "id": "j3Cw1-V_pUgU"
      },
      "outputs": [],
      "source": [
        "#import numpy module with alias np\n",
        "import numpy as np"
      ]
    },
    {
      "cell_type": "markdown",
      "metadata": {
        "id": "DbFWIUS5pUgV"
      },
      "source": [
        "* We can create a NumPy ndarray object by using the array() function.\n",
        "To create an ndarray, we can pass a list, tuple or any array-like object into the array() method, and it will be converted into an ndarray:\n"
      ]
    },
    {
      "cell_type": "code",
      "execution_count": 2,
      "metadata": {
        "id": "5uECrRrspUgV"
      },
      "outputs": [],
      "source": [
        "# Define a numpy array passing a list with  1,2 and 3 as elements in it\n",
        "a = np.array([1,2,3])"
      ]
    },
    {
      "cell_type": "code",
      "execution_count": 3,
      "metadata": {
        "colab": {
          "base_uri": "https://localhost:8080/"
        },
        "id": "vypw7Ws2pUgW",
        "outputId": "122a4717-2415-4ab6-e860-ca95ab607d75"
      },
      "outputs": [
        {
          "data": {
            "text/plain": [
              "array([1, 2, 3])"
            ]
          },
          "execution_count": 3,
          "metadata": {
            "tags": []
          },
          "output_type": "execute_result"
        }
      ],
      "source": [
        "# print a\n",
        "a"
      ]
    },
    {
      "cell_type": "markdown",
      "metadata": {
        "id": "wBghhb57pUgX"
      },
      "source": [
        "## Dimensions in Arrays\n",
        "\n",
        "* Numpy array can be of **n** dimentions\n",
        "\n",
        "* Lets create arrays of different dimentions.\n",
        "\n",
        "    - a = A numpy array with one single integer 10\n",
        "\n",
        "    - b = A numpy array passing a list having a list= [1,2,3]\n",
        "\n",
        "    - c = A numpy array passing nested list having [[1, 2, 3], [4, 5, 6]] as elements\n",
        "\n",
        "    - d = A numpy array passing nested list having [[[1, 2, 3], [4, 5, 6]], [[1, 2, 3], [4, 5, 6]]] as elements\n",
        "\n",
        "<p style='text-align: right;'> 3 points </p>\n"
      ]
    },
    {
      "cell_type": "code",
      "execution_count": 4,
      "metadata": {
        "id": "RcoGDTf6pUgX"
      },
      "outputs": [],
      "source": [
        "#define a,b,c and d as instructed above\n",
        "\n",
        "a = np.array(10)\n",
        "b = np.array([1,2,3])\n",
        "c = np.array([[1, 2, 3], [4, 5, 6]])\n",
        "d = np.array([[[1, 2, 3], [4, 5, 6]], [[1, 2, 3], [4, 5, 6]]])"
      ]
    },
    {
      "cell_type": "markdown",
      "metadata": {
        "id": "y6ZAlfYfpUgX"
      },
      "source": [
        "* Are you ready to check its dimention? Use ndim attribute on each variable to check its dimention"
      ]
    },
    {
      "cell_type": "code",
      "execution_count": 5,
      "metadata": {
        "colab": {
          "base_uri": "https://localhost:8080/"
        },
        "id": "UWeTZu8JpUgY",
        "outputId": "65049cb1-ce20-4ab1-a8fb-48675399d76d"
      },
      "outputs": [
        {
          "name": "stdout",
          "output_type": "stream",
          "text": [
            "a dimension: 0\n",
            "b dimension: 1\n",
            "c dimension: 2\n",
            "d dimension: 3\n"
          ]
        }
      ],
      "source": [
        "#print dimentions of a,b, c and d\n",
        "print('a dimension:', a.ndim)\n",
        "print('b dimension:', b.ndim)\n",
        "print('c dimension:', c.ndim)\n",
        "print('d dimension:', d.ndim)"
      ]
    },
    {
      "cell_type": "markdown",
      "metadata": {
        "id": "IATgFHFSpUgY"
      },
      "source": [
        "* Hey hey. Did you see! you have created 0-D,1-D, 2-D and 3-D arrays.\n",
        "\n",
        "* Lets print there shape as well. You can check shape using shape attribute\n",
        "\n"
      ]
    },
    {
      "cell_type": "code",
      "execution_count": 6,
      "metadata": {
        "colab": {
          "base_uri": "https://localhost:8080/"
        },
        "id": "1AK1WqGHpUgY",
        "outputId": "137190b7-9e8f-4e63-944a-a960e38b7bff"
      },
      "outputs": [
        {
          "name": "stdout",
          "output_type": "stream",
          "text": [
            "shape of a: ()\n",
            "shape of b: (3,)\n",
            "shape of c: (2, 3)\n",
            "shape of d: (2, 2, 3)\n"
          ]
        }
      ],
      "source": [
        "# print shape of each a,b ,c and d\n",
        "print('shape of a:', a.shape)\n",
        "print('shape of b:', b.shape)\n",
        "print('shape of c:', c.shape)\n",
        "print('shape of d:', d.shape)"
      ]
    },
    {
      "cell_type": "markdown",
      "metadata": {
        "id": "PolNnru7pUgZ"
      },
      "source": [
        "* Lets check data type passed in our array. To check data type you can use dtype attribute"
      ]
    },
    {
      "cell_type": "code",
      "execution_count": 7,
      "metadata": {
        "colab": {
          "base_uri": "https://localhost:8080/"
        },
        "id": "HRAV01pvpUgZ",
        "outputId": "a903ec7d-6fba-49ae-fbf8-93fe377cf45c"
      },
      "outputs": [
        {
          "name": "stdout",
          "output_type": "stream",
          "text": [
            "int64\n",
            "int64\n"
          ]
        }
      ],
      "source": [
        "# print data type of c and d\n",
        "print(c.dtype)\n",
        "print(d.dtype)"
      ]
    },
    {
      "cell_type": "markdown",
      "metadata": {
        "id": "zCiv49wrpUgZ"
      },
      "source": [
        "* Above output mean our array is having int type elements in it."
      ]
    },
    {
      "cell_type": "markdown",
      "metadata": {
        "id": "B4QK_kbcpUgZ"
      },
      "source": [
        "* Lets check the type of our variable. To check type of any numpy variable use type() function "
      ]
    },
    {
      "cell_type": "code",
      "execution_count": 8,
      "metadata": {
        "colab": {
          "base_uri": "https://localhost:8080/"
        },
        "id": "Cltd7mN3pUga",
        "outputId": "6c0f0f29-b2d4-4227-9e81-90d2093c9222"
      },
      "outputs": [
        {
          "name": "stdout",
          "output_type": "stream",
          "text": [
            "<class 'numpy.ndarray'>\n",
            "<class 'numpy.ndarray'>\n"
          ]
        }
      ],
      "source": [
        "#print type of a and b variable\n",
        "print(type(a))\n",
        "print(type(b))"
      ]
    },
    {
      "cell_type": "code",
      "execution_count": 9,
      "metadata": {
        "colab": {
          "base_uri": "https://localhost:8080/"
        },
        "id": "ojqYqZXRpUga",
        "outputId": "031521d3-c648-4236-be21-22c1c7c25f83"
      },
      "outputs": [
        {
          "data": {
            "text/plain": [
              "3"
            ]
          },
          "execution_count": 9,
          "metadata": {
            "tags": []
          },
          "output_type": "execute_result"
        }
      ],
      "source": [
        "# Lets check length of array b, using len() function\n",
        "len(b)"
      ]
    },
    {
      "cell_type": "markdown",
      "metadata": {
        "id": "24qpKmvepUga"
      },
      "source": [
        "* Bravo!You have Defined ndarray i.e numpy array in variable a nd b. Also you have successfully learned how to create numpy. "
      ]
    },
    {
      "cell_type": "markdown",
      "metadata": {
        "id": "FswnfsvvpUga"
      },
      "source": [
        "## Performance measurement\n",
        "\n",
        "* I mentioned that the key advantages of numpy are convenience and speed of computation.\n",
        "\n",
        "* You'll often work with extremely large datasets, and thus it is important point for you to understand how much computation time (and memory) you can save using numpy, compared to standard python lists.\n",
        "\n",
        "<p style='text-align: right;'> 2 points </p>\n"
      ]
    },
    {
      "cell_type": "markdown",
      "metadata": {
        "id": "No-QhynQpUgb"
      },
      "source": [
        "* Create two list l1 and l2 where, l1=[10,20,30] and l2=[40,50,60]\n",
        "\n",
        "* Also define two numpy arrays l3,l4 where l3 has l1 as element and l4 has l2 as element\n"
      ]
    },
    {
      "cell_type": "code",
      "execution_count": 10,
      "metadata": {
        "id": "J87Hqk7xpUgb"
      },
      "outputs": [],
      "source": [
        "# Define l1,l2,l3 and l4 as stated above.\n",
        "l1 = [10,20,30]\n",
        "l2 = [40,50,60]\n",
        "l3 = np.array(l1)\n",
        "l4 = np.array(l2)"
      ]
    },
    {
      "cell_type": "markdown",
      "metadata": {
        "id": "b7jk-m_lpUgb"
      },
      "source": [
        "* Lets multiply each elements of l1 with corresponding elements of l2\n",
        "\n",
        "* Here use list comprehention to do so. Lets see how much you remember your work in other assignments.\n",
        "\n",
        "* **Note**: use %timeit as prefix before your line of code inorder to calculate total time taken to run that line<br> eg. %timeit my_code"
      ]
    },
    {
      "cell_type": "code",
      "execution_count": 11,
      "metadata": {
        "colab": {
          "base_uri": "https://localhost:8080/"
        },
        "id": "9uCp9O39pUgb",
        "outputId": "1727d75e-0c90-41db-c76c-63daa27c94ee"
      },
      "outputs": [
        {
          "name": "stdout",
          "output_type": "stream",
          "text": [
            "[400, 1000, 1800]\n"
          ]
        }
      ],
      "source": [
        "#code here as instructed above\n",
        "import timeit\n",
        "%timeit\n",
        "res_list = [l1[i] * l2[i] for i in range(len(l1))]\n",
        "print(res_list)"
      ]
    },
    {
      "cell_type": "markdown",
      "metadata": {
        "id": "C6skzQNJpUgb"
      },
      "source": [
        "* Lets mulptiply l3 and l4\n",
        "\n",
        "* Note: use %timeit as prefix before your line of code inorder to calculate total time taken to run that line"
      ]
    },
    {
      "cell_type": "code",
      "execution_count": 130,
      "metadata": {
        "colab": {
          "base_uri": "https://localhost:8080/"
        },
        "id": "QRHISgfPpUgc",
        "outputId": "ce3ab77c-b8d9-482c-defe-f87f03badeb8"
      },
      "outputs": [
        {
          "name": "stdout",
          "output_type": "stream",
          "text": [
            "[ 400 1000 1800]\n"
          ]
        }
      ],
      "source": [
        "#%timeit #code here\n",
        "%timeit\n",
        "res_list1 = np.multiply(l3, l4)\n",
        "print(res_list1)"
      ]
    },
    {
      "cell_type": "markdown",
      "metadata": {
        "id": "RYUcvDNCpUgc"
      },
      "source": [
        "* Don't worry if still your one line of code is running. Its because your system is calculating total time taken to run your code.\n",
        "\n",
        "* Did you notice buddy! time taken to multiply two lists takes more time than multiplyimg two numpy array.\n",
        "Hence proved that numpy arrays are faster than lists.\n",
        "\n"
      ]
    },
    {
      "cell_type": "markdown",
      "metadata": {
        "id": "a1-A1w-GpUgc"
      },
      "source": [
        "### So in numpy arrays I can do everything without even writing a loop? yes... ohh wao"
      ]
    },
    {
      "cell_type": "markdown",
      "metadata": {
        "id": "rNYIuG9ppUgc"
      },
      "source": [
        "## Creating Numpy array\n",
        "\n",
        "\n",
        "There are multiple ways to create numpy array. Lets walk over them\n",
        "\n",
        "### 1. Using arrange() function <br>\n",
        "    Refer: https://numpy.org/doc/stable/reference/generated/numpy.arange.html\n",
        "\n",
        "<p style='text-align: right;'> 8 points </p>\n"
      ]
    },
    {
      "cell_type": "code",
      "execution_count": 13,
      "metadata": {
        "colab": {
          "base_uri": "https://localhost:8080/"
        },
        "id": "pP3i9Y39pUgc",
        "outputId": "7e7effed-d93f-4d17-f9c9-4eb4a4f66e31"
      },
      "outputs": [
        {
          "data": {
            "text/plain": [
              "array([ 1,  2,  3,  4,  5,  6,  7,  8,  9, 10])"
            ]
          },
          "execution_count": 13,
          "metadata": {
            "tags": []
          },
          "output_type": "execute_result"
        }
      ],
      "source": [
        "#Create a numpy array using arange with 1 and 11 as parameter in it\n",
        "np.arange(1, 11)"
      ]
    },
    {
      "cell_type": "markdown",
      "metadata": {
        "id": "1WcwYUfUpUgd"
      },
      "source": [
        "* This means using arrange we get evenly spaced values within a given interval. Interval? Yes you can mention interval as well as third parameter in it."
      ]
    },
    {
      "cell_type": "code",
      "execution_count": 14,
      "metadata": {
        "colab": {
          "base_uri": "https://localhost:8080/"
        },
        "id": "SnMJC7QdpUgd",
        "outputId": "ce393adb-6674-49c2-d74d-e78462b4e155"
      },
      "outputs": [
        {
          "data": {
            "text/plain": [
              "array([1, 3, 5, 7, 9])"
            ]
          },
          "execution_count": 14,
          "metadata": {
            "tags": []
          },
          "output_type": "execute_result"
        }
      ],
      "source": [
        "# Create an array using arange passing 1,11 and 2 as parameters\n",
        "np.arange(1,11,2)"
      ]
    },
    {
      "cell_type": "markdown",
      "metadata": {
        "id": "U8GxGR9SpUgd"
      },
      "source": [
        "* Did you see? you got all odd numbers as you had mentioned interval between 1 and 10. Also note that 11 is excluded and hence arrange function counted till 10\n",
        "\n",
        "### 2. Using eye Function <br>\n",
        "    Refer: https://numpy.org/devdocs/reference/generated/numpy.eye.html"
      ]
    },
    {
      "cell_type": "code",
      "execution_count": 15,
      "metadata": {
        "colab": {
          "base_uri": "https://localhost:8080/"
        },
        "id": "_X_EtKfwpUgd",
        "outputId": "122ff457-3632-4566-af4f-ca50534e2e1d"
      },
      "outputs": [
        {
          "data": {
            "text/plain": [
              "array([[1., 0., 0.],\n",
              "       [0., 1., 0.],\n",
              "       [0., 0., 1.]])"
            ]
          },
          "execution_count": 15,
          "metadata": {
            "tags": []
          },
          "output_type": "execute_result"
        }
      ],
      "source": [
        "# create numpy array using eye function with 3 as passed parameter\n",
        "np.eye(3, dtype = float)"
      ]
    },
    {
      "cell_type": "markdown",
      "metadata": {
        "id": "TJGLYyYdpUge"
      },
      "source": [
        "* Wohoo! eye return a 2-D array with ones on the diagonal and zeros elsewhere.\n",
        "\n",
        "### 3. Using zero function<br>\n",
        "    Refer: https://numpy.org/doc/stable/reference/generated/numpy.zeros.html"
      ]
    },
    {
      "cell_type": "code",
      "execution_count": 16,
      "metadata": {
        "colab": {
          "base_uri": "https://localhost:8080/"
        },
        "id": "OetpPBkepUge",
        "outputId": "a37e1783-0978-4a0e-b4db-7597c101bc9c"
      },
      "outputs": [
        {
          "data": {
            "text/plain": [
              "array([[0., 0.],\n",
              "       [0., 0.],\n",
              "       [0., 0.]])"
            ]
          },
          "execution_count": 16,
          "metadata": {
            "tags": []
          },
          "output_type": "execute_result"
        }
      ],
      "source": [
        "#create a numpy array using zero function with (3,2) as passed parameter\n",
        "np.zeros((3, 2))"
      ]
    },
    {
      "cell_type": "markdown",
      "metadata": {
        "id": "EkDfGHN0pUge"
      },
      "source": [
        "* Zero function returns a new array of given shape and type, filled with zeros.\n",
        "\n",
        "### 4. Using ones Function <br>\n",
        "    Refer: https://numpy.org/doc/stable/reference/generated/numpy.ones.html"
      ]
    },
    {
      "cell_type": "code",
      "execution_count": 17,
      "metadata": {
        "colab": {
          "base_uri": "https://localhost:8080/"
        },
        "id": "ez61wpaWpUgf",
        "outputId": "3c02f99d-d685-4052-f7ce-72fd5ff2850f"
      },
      "outputs": [
        {
          "data": {
            "text/plain": [
              "array([[1., 1.],\n",
              "       [1., 1.],\n",
              "       [1., 1.]])"
            ]
          },
          "execution_count": 17,
          "metadata": {
            "tags": []
          },
          "output_type": "execute_result"
        }
      ],
      "source": [
        "#create a numpy array using ones function with (3,2) as passed parameter\n",
        "np.ones((3, 2))"
      ]
    },
    {
      "cell_type": "markdown",
      "metadata": {
        "id": "hNc3ACCbpUgf"
      },
      "source": [
        "* You noticed! ones function returns a new array of given shape and type, filled with ones.\n",
        "\n",
        "### 5. Using fill Function<br>\n",
        "    Refer: https://numpy.org/doc/stable/reference/generated/numpy.full.html"
      ]
    },
    {
      "cell_type": "code",
      "execution_count": 18,
      "metadata": {
        "colab": {
          "base_uri": "https://localhost:8080/"
        },
        "id": "V1LMVwYmpUgf",
        "outputId": "1d357d2c-58cd-460f-f84b-2452e08192f3"
      },
      "outputs": [
        {
          "data": {
            "text/plain": [
              "array([[2, 2],\n",
              "       [2, 2],\n",
              "       [2, 2]])"
            ]
          },
          "execution_count": 18,
          "metadata": {
            "tags": []
          },
          "output_type": "execute_result"
        }
      ],
      "source": [
        "#create a numpy array using foll function with (3,2) and 2 as passed parameter\n",
        "np.full((3, 2), 2)"
      ]
    },
    {
      "cell_type": "markdown",
      "metadata": {
        "id": "1vxGNDfQpUgf"
      },
      "source": [
        "Yeah! full function return a new array of given shape and type, filled with fill_value, here it is 2\n",
        "\n",
        "### 6. Using diag function<br>\n",
        "    Refer: https://numpy.org/doc/stable/reference/generated/numpy.diag.html"
      ]
    },
    {
      "cell_type": "code",
      "execution_count": 19,
      "metadata": {
        "colab": {
          "base_uri": "https://localhost:8080/"
        },
        "id": "aNrXaN4kpUgf",
        "outputId": "6b4e5886-0e6e-449b-a3ca-7956ed429579"
      },
      "outputs": [
        {
          "data": {
            "text/plain": [
              "array([[1, 0, 0, 0, 0],\n",
              "       [0, 2, 0, 0, 0],\n",
              "       [0, 0, 3, 0, 0],\n",
              "       [0, 0, 0, 4, 0],\n",
              "       [0, 0, 0, 0, 5]])"
            ]
          },
          "execution_count": 19,
          "metadata": {
            "tags": []
          },
          "output_type": "execute_result"
        }
      ],
      "source": [
        "#create a numpy array using diag function passing a list [1,2,3,4,5]\n",
        "x = [1,2,3,4,5]\n",
        "np.diag(x)"
      ]
    },
    {
      "cell_type": "markdown",
      "metadata": {
        "id": "HDotYEBmpUgg"
      },
      "source": [
        "* diag function extract a diagonal or construct a diagonal array.\n",
        "\n",
        "### 7. Using tile function<br>\n",
        "    Refer: https://numpy.org/doc/stable/reference/generated/numpy.tile.html"
      ]
    },
    {
      "cell_type": "code",
      "execution_count": 20,
      "metadata": {
        "colab": {
          "base_uri": "https://localhost:8080/"
        },
        "id": "u86Yg99DpUgg",
        "outputId": "d8ee9b83-0512-4967-80ba-f60c11228d05"
      },
      "outputs": [
        {
          "data": {
            "text/plain": [
              "array([[1, 2, 3],\n",
              "       [1, 2, 3],\n",
              "       [1, 2, 3]])"
            ]
          },
          "execution_count": 20,
          "metadata": {
            "tags": []
          },
          "output_type": "execute_result"
        }
      ],
      "source": [
        "# Create a numpy array v with [1,2,3] as its elements\n",
        "v = [1,2,3]\n",
        "\n",
        "#Use tile function of numpy and pass v and (3,1) as its parametrs\n",
        "np.tile(v,(3,1))"
      ]
    },
    {
      "cell_type": "markdown",
      "metadata": {
        "id": "55UKsU8XpUgg"
      },
      "source": [
        "* Returns an array by repeating an input array the number of times given by mentioned shape.\n",
        "Here you can see that you stacked 3 copies of v on top of each other\n",
        "\n",
        "### 8. Using linspace Function<br>\n",
        "    Refer: https://numpy.org/doc/stable/reference/generated/numpy.linspace.html"
      ]
    },
    {
      "cell_type": "code",
      "execution_count": 21,
      "metadata": {
        "colab": {
          "base_uri": "https://localhost:8080/"
        },
        "id": "viA2NPv7pUgg",
        "outputId": "26e617eb-5d48-4923-c59f-0564f36e7c49"
      },
      "outputs": [
        {
          "data": {
            "text/plain": [
              "array([ 1.        ,  1.49494949,  1.98989899,  2.48484848,  2.97979798,\n",
              "        3.47474747,  3.96969697,  4.46464646,  4.95959596,  5.45454545,\n",
              "        5.94949495,  6.44444444,  6.93939394,  7.43434343,  7.92929293,\n",
              "        8.42424242,  8.91919192,  9.41414141,  9.90909091, 10.4040404 ,\n",
              "       10.8989899 , 11.39393939, 11.88888889, 12.38383838, 12.87878788,\n",
              "       13.37373737, 13.86868687, 14.36363636, 14.85858586, 15.35353535,\n",
              "       15.84848485, 16.34343434, 16.83838384, 17.33333333, 17.82828283,\n",
              "       18.32323232, 18.81818182, 19.31313131, 19.80808081, 20.3030303 ,\n",
              "       20.7979798 , 21.29292929, 21.78787879, 22.28282828, 22.77777778,\n",
              "       23.27272727, 23.76767677, 24.26262626, 24.75757576, 25.25252525,\n",
              "       25.74747475, 26.24242424, 26.73737374, 27.23232323, 27.72727273,\n",
              "       28.22222222, 28.71717172, 29.21212121, 29.70707071, 30.2020202 ,\n",
              "       30.6969697 , 31.19191919, 31.68686869, 32.18181818, 32.67676768,\n",
              "       33.17171717, 33.66666667, 34.16161616, 34.65656566, 35.15151515,\n",
              "       35.64646465, 36.14141414, 36.63636364, 37.13131313, 37.62626263,\n",
              "       38.12121212, 38.61616162, 39.11111111, 39.60606061, 40.1010101 ,\n",
              "       40.5959596 , 41.09090909, 41.58585859, 42.08080808, 42.57575758,\n",
              "       43.07070707, 43.56565657, 44.06060606, 44.55555556, 45.05050505,\n",
              "       45.54545455, 46.04040404, 46.53535354, 47.03030303, 47.52525253,\n",
              "       48.02020202, 48.51515152, 49.01010101, 49.50505051, 50.        ])"
            ]
          },
          "execution_count": 21,
          "metadata": {
            "tags": []
          },
          "output_type": "execute_result"
        }
      ],
      "source": [
        "# Create an array with 100 values between 1 and 50 using linspace\n",
        "np.linspace(1, 50, num=100)"
      ]
    },
    {
      "cell_type": "markdown",
      "metadata": {
        "id": "hjWRs7FUpUgg"
      },
      "source": [
        "* Wao! linspace returns evenly spaced numbers over a specified interval.\n",
        "\n",
        "* Hey but you saw some similar defination for arrange function\n",
        "\n",
        "* The main difference both of them is that arange return values with in a range which has a space between values (in other words the step) and linspace returns set of samples with in a given interval.\n",
        "\n",
        "## Numpy Random numbers\n",
        "\n",
        "\n",
        "* Fun Fact:\n",
        "\n",
        "    You can create a numpy array with random numbers also. How? Uisng random function<br>\n",
        "    Lets see how\n",
        "    Refer: https://numpy.org/doc/stable/reference/random/generated/numpy.random.rand.html\n",
        "\n",
        "<p style='text-align: right;'> 3 points </p>\n"
      ]
    },
    {
      "cell_type": "code",
      "execution_count": 22,
      "metadata": {
        "colab": {
          "base_uri": "https://localhost:8080/"
        },
        "id": "6ZWSB18_pUgh",
        "outputId": "088e22ec-2ea0-402a-d3c7-de9e2ff3f8ad"
      },
      "outputs": [
        {
          "data": {
            "text/plain": [
              "0.4954153211187722"
            ]
          },
          "execution_count": 22,
          "metadata": {
            "tags": []
          },
          "output_type": "execute_result"
        }
      ],
      "source": [
        "# Generate one random number between 0 and 1 using numpy's random.rand() function.\n",
        "\n",
        "np.random.random(1)[0]"
      ]
    },
    {
      "cell_type": "markdown",
      "metadata": {
        "id": "tdg3_KyTpUgh"
      },
      "source": [
        "* Run the above cell again and check if number changes.\n",
        "\n",
        "* Yeah it changes. That's so random :)"
      ]
    },
    {
      "cell_type": "code",
      "execution_count": 23,
      "metadata": {
        "colab": {
          "base_uri": "https://localhost:8080/"
        },
        "id": "6cC53stWpUgh",
        "outputId": "abc43786-08ee-4535-ea07-11343083a7c6"
      },
      "outputs": [
        {
          "data": {
            "text/plain": [
              "27"
            ]
          },
          "execution_count": 23,
          "metadata": {
            "tags": []
          },
          "output_type": "execute_result"
        }
      ],
      "source": [
        "# so let say I want a random value between 2 and 50\n",
        "np.random.randint(0,50)"
      ]
    },
    {
      "cell_type": "markdown",
      "metadata": {
        "id": "jwUAGq6cpUgi"
      },
      "source": [
        "* Run the above cell again and check if number changes and its between 2 to 50.\n",
        "\n",
        "* Now lets create an array with random numbers 0 to 1 of shape 3X3"
      ]
    },
    {
      "cell_type": "code",
      "execution_count": 24,
      "metadata": {
        "colab": {
          "base_uri": "https://localhost:8080/"
        },
        "id": "EzS84gqcpUgi",
        "outputId": "eac2b50b-c3ed-4eff-cf94-97e13651e82b"
      },
      "outputs": [
        {
          "data": {
            "text/plain": [
              "array([[ 0.42017926, -1.50433995, -1.68709347],\n",
              "       [ 1.35051184, -0.36146167,  0.84025617],\n",
              "       [ 0.13586284, -0.0155048 , -0.18463374]])"
            ]
          },
          "execution_count": 24,
          "metadata": {
            "tags": []
          },
          "output_type": "execute_result"
        }
      ],
      "source": [
        "#get an array as stated above\n",
        "np.random.randn(3,3)"
      ]
    },
    {
      "cell_type": "markdown",
      "metadata": {
        "id": "FQDAhMLqpUgi"
      },
      "source": [
        "* Smile! you got it how to create a numpy array with random numbers.\n",
        "\n",
        "## Numpy Reshape\n",
        "\n",
        "reference doc: https://numpy.org/doc/stable/reference/generated/numpy.reshape.html\n",
        "\n",
        "Reshaping means changing the shape of an array.\n",
        "The shape of an array is the number of elements in each dimension.\n",
        "By reshaping we can add or remove dimensions or change number of elements in each dimension.\n",
        "\n",
        "<p style='text-align: right;'> 6 points </p>\n"
      ]
    },
    {
      "cell_type": "code",
      "execution_count": 25,
      "metadata": {
        "id": "1Mkntnq8pUgj"
      },
      "outputs": [],
      "source": [
        "# Using arange() to generate numpy array x with numbers between 1 to 16\n",
        "x = np.arange(1, 17)"
      ]
    },
    {
      "cell_type": "markdown",
      "metadata": {
        "id": "avdXlnCbpUgj"
      },
      "source": [
        "* So here x is our 1-D array along with being sweet sixteen array ;). Lets reshape our x into 2-D and 3-D array using Reshape\n",
        "\n",
        "### 1. Reshaping 1-D to 2-D"
      ]
    },
    {
      "cell_type": "code",
      "execution_count": 26,
      "metadata": {
        "colab": {
          "base_uri": "https://localhost:8080/"
        },
        "id": "IiFs0khIpUgk",
        "outputId": "ba78f034-5ebc-4e6b-ce09-148af3883756"
      },
      "outputs": [
        {
          "data": {
            "text/plain": [
              "array([[ 1,  2,  3,  4,  5,  6,  7,  8],\n",
              "       [ 9, 10, 11, 12, 13, 14, 15, 16]])"
            ]
          },
          "execution_count": 26,
          "metadata": {
            "tags": []
          },
          "output_type": "execute_result"
        }
      ],
      "source": [
        "# Reshape x with 2 rows and 8 columns\n",
        "x.reshape((2, 8))"
      ]
    },
    {
      "cell_type": "markdown",
      "metadata": {
        "id": "tKTTFU0opUgk"
      },
      "source": [
        "* As you can see above that our x changed into 2D matrix\n",
        "\n",
        "### 2. Reshaping 1-D to 3-D array\n"
      ]
    },
    {
      "cell_type": "code",
      "execution_count": 27,
      "metadata": {
        "colab": {
          "base_uri": "https://localhost:8080/"
        },
        "id": "QYTZwSSLpUgk",
        "outputId": "1846d041-89de-46c9-8d93-4d9af62c90ab"
      },
      "outputs": [
        {
          "data": {
            "text/plain": [
              "array([[[ 1,  2],\n",
              "        [ 3,  4],\n",
              "        [ 5,  6],\n",
              "        [ 7,  8]],\n",
              "\n",
              "       [[ 9, 10],\n",
              "        [11, 12],\n",
              "        [13, 14],\n",
              "        [15, 16]]])"
            ]
          },
          "execution_count": 27,
          "metadata": {
            "tags": []
          },
          "output_type": "execute_result"
        }
      ],
      "source": [
        "# reshape x with dimension that will have 2 arrays that contains 4 arrays, each with 2 elements:\n",
        "x.reshape((2,4,2))"
      ]
    },
    {
      "cell_type": "markdown",
      "metadata": {
        "id": "XuvNYyiSpUgl"
      },
      "source": [
        "**Fun Fact:**\n",
        "\n",
        "<u>Unknown Dimension</u>\n",
        "\n",
        "* You are allowed to have one \"unknown\" dimension.Meaning that you do not have to specify an exact number for one of the dimensions in the reshape method.\n",
        "Pass -1 as the value, and NumPy will calculate this number for you. Awesome right?\n"
      ]
    },
    {
      "cell_type": "code",
      "execution_count": 28,
      "metadata": {
        "colab": {
          "base_uri": "https://localhost:8080/"
        },
        "id": "roDb10yLpUgl",
        "outputId": "30bfebb6-772a-4915-bd27-0a8f8e6e0770"
      },
      "outputs": [
        {
          "data": {
            "text/plain": [
              "array([[ 1,  2,  3,  4],\n",
              "       [ 5,  6,  7,  8],\n",
              "       [ 9, 10, 11, 12],\n",
              "       [13, 14, 15, 16]])"
            ]
          },
          "execution_count": 28,
          "metadata": {
            "tags": []
          },
          "output_type": "execute_result"
        }
      ],
      "source": [
        "# Use unknown dimention to reshape x into 2-D numpy array with shape 4*4\n",
        "x.reshape((4, -1))"
      ]
    },
    {
      "cell_type": "code",
      "execution_count": 29,
      "metadata": {
        "colab": {
          "base_uri": "https://localhost:8080/"
        },
        "id": "M-GmAbvlpUgl",
        "outputId": "d446c575-956f-49a5-9732-3fe3d7f4e27f"
      },
      "outputs": [
        {
          "name": "stdout",
          "output_type": "stream",
          "text": [
            "[[[ 1  2]\n",
            "  [ 3  4]\n",
            "  [ 5  6]\n",
            "  [ 7  8]]\n",
            "\n",
            " [[ 9 10]\n",
            "  [11 12]\n",
            "  [13 14]\n",
            "  [15 16]]]\n"
          ]
        }
      ],
      "source": [
        "# Use unknown dimention to  reshape x into 3-D numpy array with 2 arrays that contains 4 arrays\n",
        "y = x.reshape((2,4,-1))\n",
        "\n",
        "# print y\n",
        "print(y)"
      ]
    },
    {
      "cell_type": "markdown",
      "metadata": {
        "id": "jrl2StmmpUgl"
      },
      "source": [
        "* Note: We can not pass -1 to more than one dimension.\n",
        "\n",
        "* Another cool Fact: -1 can be used to flatten an array which means converting a multidimensional array into a 1D array.\n",
        "    - Lets apply this technique on y which is 3-D array"
      ]
    },
    {
      "cell_type": "code",
      "execution_count": 30,
      "metadata": {
        "colab": {
          "base_uri": "https://localhost:8080/"
        },
        "id": "gwipaekHpUgm",
        "outputId": "5232a869-685d-49ca-b5c3-368b9de52995"
      },
      "outputs": [
        {
          "data": {
            "text/plain": [
              "array([ 1,  2,  3,  4,  5,  6,  7,  8,  9, 10, 11, 12, 13, 14, 15, 16])"
            ]
          },
          "execution_count": 30,
          "metadata": {
            "tags": []
          },
          "output_type": "execute_result"
        }
      ],
      "source": [
        "# Flattening y\n",
        "y.flatten()"
      ]
    },
    {
      "cell_type": "markdown",
      "metadata": {
        "id": "BvP_nOjLpUgm"
      },
      "source": [
        "Awesome work!\n",
        "\n",
        "## NumPy Array Indexing\n",
        "\n",
        "* Array indexing is the same as accessing an array element. You can access an array element by referring to its index number.\n",
        "\n",
        "* The indexes in NumPy arrays start with 0, meaning that the first element has index 0, and the second has index 1 etc.\n",
        "\n",
        "<p style='text-align: right;'> 4 points </p>\n"
      ]
    },
    {
      "cell_type": "code",
      "execution_count": 31,
      "metadata": {
        "colab": {
          "base_uri": "https://localhost:8080/"
        },
        "id": "FGxHe9bgpUgm",
        "outputId": "7f0d1ca5-caf3-424e-d5b5-7e9f79112dad"
      },
      "outputs": [
        {
          "data": {
            "text/plain": [
              "array([ 2,  4,  6,  8, 10, 12, 14, 16])"
            ]
          },
          "execution_count": 31,
          "metadata": {
            "tags": []
          },
          "output_type": "execute_result"
        }
      ],
      "source": [
        "# Create an array a with all even numbers between 1 to 17\n",
        "a = np.arange(2,17,2)\n",
        "\n",
        "# print a\n",
        "a"
      ]
    },
    {
      "cell_type": "code",
      "execution_count": 32,
      "metadata": {
        "colab": {
          "base_uri": "https://localhost:8080/"
        },
        "id": "SCi5EO46pUgm",
        "outputId": "331c5321-b8b3-4f7b-c7d7-b648522f0511"
      },
      "outputs": [
        {
          "data": {
            "text/plain": [
              "6"
            ]
          },
          "execution_count": 32,
          "metadata": {
            "tags": []
          },
          "output_type": "execute_result"
        }
      ],
      "source": [
        "# Get third element in array a\n",
        "a[2]"
      ]
    },
    {
      "cell_type": "code",
      "execution_count": 33,
      "metadata": {
        "colab": {
          "base_uri": "https://localhost:8080/"
        },
        "id": "P7c9eCL-pUgm",
        "outputId": "75a4be12-dd22-4372-a20a-e4f7b8af2759"
      },
      "outputs": [
        {
          "data": {
            "text/plain": [
              "array([ 6, 10, 14])"
            ]
          },
          "execution_count": 33,
          "metadata": {
            "tags": []
          },
          "output_type": "execute_result"
        }
      ],
      "source": [
        "#Print 3rd, 5th, and 7th element in array a\n",
        "a[2:7:2]"
      ]
    },
    {
      "cell_type": "markdown",
      "metadata": {
        "id": "MdxjJvLEpUgn"
      },
      "source": [
        "* Lets check the same for 2 D array"
      ]
    },
    {
      "cell_type": "code",
      "execution_count": 34,
      "metadata": {
        "colab": {
          "base_uri": "https://localhost:8080/"
        },
        "id": "R3xi9KcdpUgn",
        "outputId": "51068f0f-b9a0-487b-ed19-99e67feb9d53"
      },
      "outputs": [
        {
          "data": {
            "text/plain": [
              "array([[1, 2, 3],\n",
              "       [4, 5, 6],\n",
              "       [7, 8, 9]])"
            ]
          },
          "execution_count": 34,
          "metadata": {
            "tags": []
          },
          "output_type": "execute_result"
        }
      ],
      "source": [
        "# Define an array 2-D a with [[1,2,3],[4,5,6],[7,8,9]] as its elements.\n",
        "a = np.array([[1,2,3],[4,5,6],[7,8,9]])\n",
        "a"
      ]
    },
    {
      "cell_type": "code",
      "execution_count": 35,
      "metadata": {
        "colab": {
          "base_uri": "https://localhost:8080/"
        },
        "id": "tSOlo9TlpUgn",
        "outputId": "bfb9878f-37d2-4557-bc33-68d9c7ebfe35"
      },
      "outputs": [
        {
          "data": {
            "text/plain": [
              "9"
            ]
          },
          "execution_count": 35,
          "metadata": {
            "tags": []
          },
          "output_type": "execute_result"
        }
      ],
      "source": [
        "# print the 3rd element from the 3rd row of a\n",
        "a[2,2]"
      ]
    },
    {
      "cell_type": "markdown",
      "metadata": {
        "id": "wVooiE5kpUgn"
      },
      "source": [
        "Well done!\n",
        "\n",
        "* Now lets check indexing for 3 D array "
      ]
    },
    {
      "cell_type": "code",
      "execution_count": 36,
      "metadata": {
        "colab": {
          "base_uri": "https://localhost:8080/"
        },
        "id": "G3LFerQEpUgn",
        "outputId": "3da94ca0-56ce-4a06-9bf4-92c88133d492"
      },
      "outputs": [
        {
          "data": {
            "text/plain": [
              "array([[[ 1,  2,  3],\n",
              "        [ 4,  5,  6]],\n",
              "\n",
              "       [[ 7,  8,  9],\n",
              "        [10, 11, 12]]])"
            ]
          },
          "execution_count": 36,
          "metadata": {
            "tags": []
          },
          "output_type": "execute_result"
        }
      ],
      "source": [
        "# Define an array b again with [[[1, 2, 3], [4, 5, 6]], [[7, 8, 9], [10, 11, 12]]] as its elements.\n",
        "b = np.array([[[1, 2, 3], [4, 5, 6]], [[7, 8, 9], [10, 11, 12]]])\n",
        "b"
      ]
    },
    {
      "cell_type": "code",
      "execution_count": 37,
      "metadata": {
        "colab": {
          "base_uri": "https://localhost:8080/"
        },
        "id": "_TlenkdYpUgo",
        "outputId": "9ca6f80a-5a1f-43d9-bc42-28d833cb7682"
      },
      "outputs": [
        {
          "data": {
            "text/plain": [
              "6"
            ]
          },
          "execution_count": 37,
          "metadata": {
            "tags": []
          },
          "output_type": "execute_result"
        }
      ],
      "source": [
        "# Print 3rd element from 2nd list which is 1st list in nested list passed. Confusing right? 'a' have nested array.Understand the braket differences.\n",
        "b[0][1][2]"
      ]
    },
    {
      "cell_type": "markdown",
      "metadata": {
        "id": "lRwcKR5EpUgo"
      },
      "source": [
        "Well done.!\n",
        "\n",
        "* Have you heared about **negative indexing?**\n",
        "\n",
        "\n",
        "* We can use negative indexing to access an array from the end."
      ]
    },
    {
      "cell_type": "code",
      "execution_count": 38,
      "metadata": {
        "colab": {
          "base_uri": "https://localhost:8080/"
        },
        "id": "4E5GRHdvpUgo",
        "outputId": "e02ad02f-630e-4dfd-92d6-23a3e3abc1b5"
      },
      "outputs": [
        {
          "data": {
            "text/plain": [
              "5"
            ]
          },
          "execution_count": 38,
          "metadata": {
            "tags": []
          },
          "output_type": "execute_result"
        }
      ],
      "source": [
        "# Print the second last element from the 2nd dim using negative indexing\n",
        "b[-2][-1][-2]"
      ]
    },
    {
      "cell_type": "markdown",
      "metadata": {
        "id": "zHPXTcaGpUgo"
      },
      "source": [
        "Great job! \n",
        "So now you have learned how to to indexing on various dimentions of numpy array.\n",
        "\n",
        "## NumPy Array Slicing\n",
        "\n",
        "Slicing in python means taking elements from one given index to another given index.\n",
        "\n",
        "    1. We pass slice instead of index like this: [start:end].\n",
        "    2. We can also define the step, like this: [start:end:step].\n",
        "    3. If we don't pass start its considered 0\n",
        "    4. If we don't pass end its considered length of array in that dimension\n",
        "    5. If we don't pass step its considered 1\n",
        "    \n",
        "<p style='text-align: right;'> 5 points </p>\n",
        "\n",
        "    \n",
        "### 1. **Array slicing in 1-D array.**"
      ]
    },
    {
      "cell_type": "code",
      "execution_count": 39,
      "metadata": {
        "colab": {
          "base_uri": "https://localhost:8080/"
        },
        "id": "ZlW3oJERpUgo",
        "outputId": "6ac09311-df64-4941-9508-7d44fa2c74da"
      },
      "outputs": [
        {
          "data": {
            "text/plain": [
              "array([ 1,  2,  3,  4,  5,  6,  7,  8,  9, 10])"
            ]
          },
          "execution_count": 39,
          "metadata": {
            "tags": []
          },
          "output_type": "execute_result"
        }
      ],
      "source": [
        "arr=np.arange(1,11)\n",
        "arr"
      ]
    },
    {
      "cell_type": "code",
      "execution_count": 40,
      "metadata": {
        "colab": {
          "base_uri": "https://localhost:8080/"
        },
        "id": "x7nAaX0PpUgo",
        "outputId": "4658dd20-f03d-4176-b9b4-b7d808e67ddf"
      },
      "outputs": [
        {
          "data": {
            "text/plain": [
              "array([1, 2, 3, 4, 5])"
            ]
          },
          "execution_count": 40,
          "metadata": {
            "tags": []
          },
          "output_type": "execute_result"
        }
      ],
      "source": [
        "# Slice elements from 1st to 5th element from array arr:\n",
        "arr[0:5]"
      ]
    },
    {
      "cell_type": "markdown",
      "metadata": {
        "id": "9aJRsrKPpUgp"
      },
      "source": [
        "Note: The result includes the start index, but excludes the end index.\n",
        "\n"
      ]
    },
    {
      "cell_type": "code",
      "execution_count": 41,
      "metadata": {
        "colab": {
          "base_uri": "https://localhost:8080/"
        },
        "id": "9cI9SZ2zpUgp",
        "outputId": "ea66f988-830e-4ea4-c934-c41d8865a5f6"
      },
      "outputs": [
        {
          "data": {
            "text/plain": [
              "array([ 6,  7,  8,  9, 10])"
            ]
          },
          "execution_count": 41,
          "metadata": {
            "tags": []
          },
          "output_type": "execute_result"
        }
      ],
      "source": [
        "# Slice elements from index 5 to the end of the array arr:\n",
        "arr[5:]"
      ]
    },
    {
      "cell_type": "code",
      "execution_count": 42,
      "metadata": {
        "colab": {
          "base_uri": "https://localhost:8080/"
        },
        "id": "9HdaV4VipUgp",
        "outputId": "f559a296-67e2-4898-89ff-41fac113f188"
      },
      "outputs": [
        {
          "data": {
            "text/plain": [
              "array([1, 2, 3, 4, 5])"
            ]
          },
          "execution_count": 42,
          "metadata": {
            "tags": []
          },
          "output_type": "execute_result"
        }
      ],
      "source": [
        "# Slice elements from the beginning to index 5 (not included) in array arr:\n",
        "arr[0:5]"
      ]
    },
    {
      "cell_type": "markdown",
      "metadata": {
        "id": "zmNip1BdpUgp"
      },
      "source": [
        "* Have you heared about **Negative Slicing?**\n",
        "\n",
        "* We can use the minus operator to refer to an index from the end:\n",
        "\n"
      ]
    },
    {
      "cell_type": "code",
      "execution_count": 43,
      "metadata": {
        "colab": {
          "base_uri": "https://localhost:8080/"
        },
        "id": "srEHtB13pUgp",
        "outputId": "b1b9696d-246d-41a2-e328-05127e9a3767"
      },
      "outputs": [
        {
          "data": {
            "text/plain": [
              "array([8, 9])"
            ]
          },
          "execution_count": 43,
          "metadata": {
            "tags": []
          },
          "output_type": "execute_result"
        }
      ],
      "source": [
        "# Slice from the index 3 from the end to index 1 from the end:\n",
        "arr[-3:-1]"
      ]
    },
    {
      "cell_type": "markdown",
      "metadata": {
        "id": "hhw3Zbm4pUgq"
      },
      "source": [
        "#### **STEP**\n",
        "\n",
        "Use the step value to determine the step of the slicing:"
      ]
    },
    {
      "cell_type": "code",
      "execution_count": 44,
      "metadata": {
        "colab": {
          "base_uri": "https://localhost:8080/"
        },
        "id": "5Es4pZqtpUgq",
        "outputId": "89af5bfa-2093-4825-806f-4603d62f7fdc"
      },
      "outputs": [
        {
          "data": {
            "text/plain": [
              "array([2, 4, 6])"
            ]
          },
          "execution_count": 44,
          "metadata": {
            "tags": []
          },
          "output_type": "execute_result"
        }
      ],
      "source": [
        "# Print every other element from index 1 to index 7:\n",
        "arr[1:7:2]"
      ]
    },
    {
      "cell_type": "markdown",
      "metadata": {
        "id": "iIk0YohppUgq"
      },
      "source": [
        "* Did you see? using step you were able to get alternate elements within specified index numbers."
      ]
    },
    {
      "cell_type": "code",
      "execution_count": 45,
      "metadata": {
        "colab": {
          "base_uri": "https://localhost:8080/"
        },
        "id": "6eGz2psmpUgq",
        "outputId": "33418d1f-ce38-4dbe-f232-f6ebc4a373e8"
      },
      "outputs": [
        {
          "data": {
            "text/plain": [
              "array([1, 3, 5, 7, 9])"
            ]
          },
          "execution_count": 45,
          "metadata": {
            "tags": []
          },
          "output_type": "execute_result"
        }
      ],
      "source": [
        "# Return every other element from the entire array arr:\n",
        "arr[0:10:2]"
      ]
    },
    {
      "cell_type": "markdown",
      "metadata": {
        "id": "1RcYCXM3pUgs"
      },
      "source": [
        "well done!\n",
        "\n",
        "* Lets do some slicing on 2-D array also. We already have 'a' as our 2-D array. We will use it here.\n",
        "\n",
        "### **2. Array slicing in 2-D array.**"
      ]
    },
    {
      "cell_type": "code",
      "execution_count": 46,
      "metadata": {
        "colab": {
          "base_uri": "https://localhost:8080/"
        },
        "id": "Xc5hgEmppUgt",
        "outputId": "7695f1c8-7b3a-4249-d3a5-c574b6b6c953"
      },
      "outputs": [
        {
          "data": {
            "text/plain": [
              "array([[1, 2, 3],\n",
              "       [4, 5, 6],\n",
              "       [7, 8, 9]])"
            ]
          },
          "execution_count": 46,
          "metadata": {
            "tags": []
          },
          "output_type": "execute_result"
        }
      ],
      "source": [
        "# Print array a\n",
        "a"
      ]
    },
    {
      "cell_type": "code",
      "execution_count": 47,
      "metadata": {
        "colab": {
          "base_uri": "https://localhost:8080/"
        },
        "id": "0bmWwEK4pUgt",
        "outputId": "309323a2-052c-4dd3-899e-af2325da34a5"
      },
      "outputs": [
        {
          "data": {
            "text/plain": [
              "array([8, 9])"
            ]
          },
          "execution_count": 47,
          "metadata": {
            "tags": []
          },
          "output_type": "execute_result"
        }
      ],
      "source": [
        "# From the third element, slice elements from index 1 to index 5 (not included) from array 'a'\n",
        "a[2,1:]"
      ]
    },
    {
      "cell_type": "code",
      "execution_count": 48,
      "metadata": {
        "colab": {
          "base_uri": "https://localhost:8080/"
        },
        "id": "W_9L7ERopUgt",
        "outputId": "023dfeda-f98a-44da-c65e-2c3a300a4295"
      },
      "outputs": [
        {
          "data": {
            "text/plain": [
              "array([7, 8, 9])"
            ]
          },
          "execution_count": 48,
          "metadata": {
            "tags": []
          },
          "output_type": "execute_result"
        }
      ],
      "source": [
        "# In array 'a' print index 2 from all the rows :\n",
        "a[2]"
      ]
    },
    {
      "cell_type": "code",
      "execution_count": 49,
      "metadata": {
        "colab": {
          "base_uri": "https://localhost:8080/"
        },
        "id": "oGjup_crpUgt",
        "outputId": "b4e5b5bf-07c5-40d4-c70e-41a1acac5fe7"
      },
      "outputs": [
        {
          "data": {
            "text/plain": [
              "array([[2, 3],\n",
              "       [5, 6],\n",
              "       [8, 9]])"
            ]
          },
          "execution_count": 49,
          "metadata": {
            "tags": []
          },
          "output_type": "execute_result"
        }
      ],
      "source": [
        "# From all the elements in 'a', slice index 1 till end, this will return a 2-D array:\n",
        "a[0:,1:]"
      ]
    },
    {
      "cell_type": "markdown",
      "metadata": {
        "id": "FZSBKSVPpUgt"
      },
      "source": [
        "Hurray! You have learned Slicing in Numpy array. Now you know to access any numpy array."
      ]
    },
    {
      "cell_type": "markdown",
      "metadata": {
        "id": "uao-weGjpUgu"
      },
      "source": [
        "## Numpy copy vs view\n",
        "<p style='text-align: right;'> 7 points </p>\n"
      ]
    },
    {
      "cell_type": "code",
      "execution_count": 50,
      "metadata": {
        "id": "dEv5ubMxpUgu"
      },
      "outputs": [],
      "source": [
        "x1= np.arange(10)"
      ]
    },
    {
      "cell_type": "code",
      "execution_count": 51,
      "metadata": {
        "id": "Xk5usKzCpUgu"
      },
      "outputs": [],
      "source": [
        "# assign x2 = x1\n",
        "x2 = x1"
      ]
    },
    {
      "cell_type": "code",
      "execution_count": 52,
      "metadata": {
        "colab": {
          "base_uri": "https://localhost:8080/"
        },
        "id": "ri7jAYUapUgu",
        "outputId": "6dbe9f8c-46c9-4d32-9fd5-14225f57c6fc"
      },
      "outputs": [
        {
          "name": "stdout",
          "output_type": "stream",
          "text": [
            "[0 1 2 3 4 5 6 7 8 9]\n",
            "[0 1 2 3 4 5 6 7 8 9]\n"
          ]
        }
      ],
      "source": [
        "#print x1 and x2\n",
        "print(x1)\n",
        "print(x2)"
      ]
    },
    {
      "cell_type": "markdown",
      "metadata": {
        "id": "lp4CGHPwpUgu"
      },
      "source": [
        "Ok now you have seen that both of them are same "
      ]
    },
    {
      "cell_type": "code",
      "execution_count": 53,
      "metadata": {
        "id": "tIU0PVJ9pUgv"
      },
      "outputs": [],
      "source": [
        "# change 1st element of x2 as 10\n",
        "x2[0] = 10"
      ]
    },
    {
      "cell_type": "code",
      "execution_count": 54,
      "metadata": {
        "colab": {
          "base_uri": "https://localhost:8080/"
        },
        "id": "hq_sAUKWpUgv",
        "outputId": "b7d25ebb-1ad2-4d90-b51e-6341c9f20eec"
      },
      "outputs": [
        {
          "name": "stdout",
          "output_type": "stream",
          "text": [
            "[10  1  2  3  4  5  6  7  8  9]\n",
            "[10  1  2  3  4  5  6  7  8  9]\n"
          ]
        }
      ],
      "source": [
        "#Again print x1 and x2\n",
        "print(x1)\n",
        "print(x2)"
      ]
    },
    {
      "cell_type": "markdown",
      "metadata": {
        "id": "ajn1h8yBpUgv"
      },
      "source": [
        "* Wait a minute. Just check your above result on change of x2, x1 also got changed. Why?\n",
        "\n",
        "* Lets check if both the variables shares memory. Use numpy shares_memory() function to check if both x1 and x2 shares a  memory.\n",
        "\n",
        "Refer: https://numpy.org/doc/stable/reference/generated/numpy.shares_memory.html"
      ]
    },
    {
      "cell_type": "code",
      "execution_count": 55,
      "metadata": {
        "colab": {
          "base_uri": "https://localhost:8080/"
        },
        "id": "J2e6zSsrpUgv",
        "outputId": "14c2a9ec-7627-41f1-c20e-74154f8d45f2"
      },
      "outputs": [
        {
          "data": {
            "text/plain": [
              "True"
            ]
          },
          "execution_count": 55,
          "metadata": {
            "tags": []
          },
          "output_type": "execute_result"
        }
      ],
      "source": [
        "# Check memory share between x1 and x2\n",
        "np.shares_memory(x1, x2)"
      ]
    },
    {
      "cell_type": "markdown",
      "metadata": {
        "id": "hJNRRe9tpUgv"
      },
      "source": [
        "* Hey It's True they both share memory\n",
        "\n",
        "* Shall we try **view()** function also likwise."
      ]
    },
    {
      "cell_type": "code",
      "execution_count": 56,
      "metadata": {
        "id": "rdr-nyLIpUgv"
      },
      "outputs": [],
      "source": [
        "# Create a view of x1 and store it in x3.\n",
        "x3 = x1.view()"
      ]
    },
    {
      "cell_type": "code",
      "execution_count": 57,
      "metadata": {
        "colab": {
          "base_uri": "https://localhost:8080/"
        },
        "id": "m1gcRuFOpUgw",
        "outputId": "b3c8d891-f1a7-403a-e6b4-3d0334874e1c"
      },
      "outputs": [
        {
          "data": {
            "text/plain": [
              "True"
            ]
          },
          "execution_count": 57,
          "metadata": {
            "tags": []
          },
          "output_type": "execute_result"
        }
      ],
      "source": [
        "# Again check memory share between x1 and x3\n",
        "np.shares_memory(x1, x3)"
      ]
    },
    {
      "cell_type": "markdown",
      "metadata": {
        "id": "rKaXbX3ppUgw"
      },
      "source": [
        "* Woh! simple assignment is similar to view. That means \n",
        "* The view does not own the data and any changes made to the view will affect the original array, and any changes made to the original array will affect the view.\n",
        "\n",
        "* Don't agree? ok lets change x3 and see if original array i.e. x1 also changes"
      ]
    },
    {
      "cell_type": "code",
      "execution_count": 58,
      "metadata": {
        "id": "Gk6ZcPNppUgw"
      },
      "outputs": [],
      "source": [
        "#Change 1st element of x3=100\n",
        "x3[0] = 100"
      ]
    },
    {
      "cell_type": "code",
      "execution_count": 59,
      "metadata": {
        "colab": {
          "base_uri": "https://localhost:8080/"
        },
        "id": "9VdTBJJSpUgw",
        "outputId": "c4eaf30b-f9e1-46f1-bcac-f031250a51d0"
      },
      "outputs": [
        {
          "name": "stdout",
          "output_type": "stream",
          "text": [
            "[100   1   2   3   4   5   6   7   8   9]\n",
            "[100   1   2   3   4   5   6   7   8   9]\n"
          ]
        }
      ],
      "source": [
        "#print x1 and x3 to check if changes reflected in both\n",
        "print(x1)\n",
        "print(x3)"
      ]
    },
    {
      "cell_type": "markdown",
      "metadata": {
        "id": "xx802J9QpUgw"
      },
      "source": [
        "* Now its proved.\n",
        "\n",
        "* Lets see how **Copy()** function works"
      ]
    },
    {
      "cell_type": "code",
      "execution_count": 60,
      "metadata": {
        "id": "cvurR9WYpUgw"
      },
      "outputs": [],
      "source": [
        "# Now create an array x4 which is copy of x1\n",
        "\n",
        "x4 = np.copy(x1)"
      ]
    },
    {
      "cell_type": "code",
      "execution_count": 61,
      "metadata": {
        "id": "gDsPJDNipUgx"
      },
      "outputs": [],
      "source": [
        "# Change the last element of x4 as 900\n",
        "x4[-1] = 900"
      ]
    },
    {
      "cell_type": "code",
      "execution_count": 62,
      "metadata": {
        "colab": {
          "base_uri": "https://localhost:8080/"
        },
        "id": "I1E_TA6vpUgx",
        "outputId": "f83d5364-3d54-4f66-cf93-ee6733844aba"
      },
      "outputs": [
        {
          "name": "stdout",
          "output_type": "stream",
          "text": [
            "[100   1   2   3   4   5   6   7   8   9]\n",
            "[100   1   2   3   4   5   6   7   8 900]\n"
          ]
        }
      ],
      "source": [
        "# print both x1 and x4 to check if changes reflected in both\n",
        "print(x1)\n",
        "print(x4)"
      ]
    },
    {
      "cell_type": "markdown",
      "metadata": {
        "id": "MNG2-xxnpUgx"
      },
      "source": [
        "* Hey! such an intresting output. You noticed buddy! your original array didn't get changed on change of its copy ie. x4.\n",
        "\n",
        "* Still not convinced? Ok lets see if they both share memory or not"
      ]
    },
    {
      "cell_type": "code",
      "execution_count": 63,
      "metadata": {
        "colab": {
          "base_uri": "https://localhost:8080/"
        },
        "id": "K1CjRA5gpUgy",
        "outputId": "07dbcbae-3642-4f53-9315-e1ada03d5a69"
      },
      "outputs": [
        {
          "data": {
            "text/plain": [
              "False"
            ]
          },
          "execution_count": 63,
          "metadata": {
            "tags": []
          },
          "output_type": "execute_result"
        }
      ],
      "source": [
        "#Check memory share between x1 and x4\n",
        "np.shares_memory(x1, x4)"
      ]
    },
    {
      "cell_type": "markdown",
      "metadata": {
        "id": "K3JOHmTXpUgy"
      },
      "source": [
        "You see! x1 and x4 don't share its memory. \n",
        "\n",
        "So with all our outputs we can takeaway few points:\n",
        "\n",
        "    1. The main difference between a copy and a view of an array is that the copy is a new array, and the view is just a view of the original array.\n",
        "\n",
        "    2. The copy owns the data and any changes made to the copy will not affect original array, and any changes made to the original array will not affect the copy.\n",
        "\n",
        "    3. The view does not own the data and any changes made to the view will affect the original array, and any changes made to the original array will affect the view."
      ]
    },
    {
      "cell_type": "markdown",
      "metadata": {
        "id": "NlKfYkYIpUgy"
      },
      "source": [
        "## More operations on Numpy\n",
        "\n",
        "### **1. Applying conditions**\n",
        "\n",
        "*  Reference: https://thispointer.com/python-numpy-select-elements-or-indices-by-conditions-from-numpy-array/\n",
        "\n",
        "<p style='text-align: right;'> 5 points </p>\n"
      ]
    },
    {
      "cell_type": "code",
      "execution_count": 64,
      "metadata": {
        "colab": {
          "base_uri": "https://localhost:8080/"
        },
        "id": "fOPtQB-spUgz",
        "outputId": "d293ca09-5606-4b60-b9b9-a8bfb6dbd6b8"
      },
      "outputs": [
        {
          "data": {
            "text/plain": [
              "array([[1, 2, 3],\n",
              "       [4, 5, 6],\n",
              "       [7, 8, 9]])"
            ]
          },
          "execution_count": 64,
          "metadata": {
            "tags": []
          },
          "output_type": "execute_result"
        }
      ],
      "source": [
        "#print a\n",
        "a"
      ]
    },
    {
      "cell_type": "markdown",
      "metadata": {
        "id": "so-bjJGZpUgz"
      },
      "source": [
        "* We are going to use 'a' array for all our array condition operations.\n"
      ]
    },
    {
      "cell_type": "code",
      "execution_count": 104,
      "metadata": {
        "colab": {
          "base_uri": "https://localhost:8080/"
        },
        "id": "4pY2GPH-pUgz",
        "outputId": "af8ef686-7ca9-4ec4-f0c4-e64051e9124e"
      },
      "outputs": [
        {
          "data": {
            "text/plain": [
              "array([[False, False, False],\n",
              "       [ True,  True,  True],\n",
              "       [ True,  True,  True]])"
            ]
          },
          "execution_count": 104,
          "metadata": {
            "tags": []
          },
          "output_type": "execute_result"
        }
      ],
      "source": [
        "# Check if every element in array a greater than 3 or not Using '>' notation\n",
        "a > 3"
      ]
    },
    {
      "cell_type": "code",
      "execution_count": 106,
      "metadata": {
        "colab": {
          "base_uri": "https://localhost:8080/"
        },
        "id": "h7x4MsNwpUgz",
        "outputId": "a04b14fb-d2c9-44a4-83f5-d23ba0987c6f"
      },
      "outputs": [
        {
          "data": {
            "text/plain": [
              "array([4, 5, 6, 7, 8, 9])"
            ]
          },
          "execution_count": 106,
          "metadata": {
            "tags": []
          },
          "output_type": "execute_result"
        }
      ],
      "source": [
        "# Get a list with all elements of array 'a' grater than 3\n",
        "a[a > 3]"
      ]
    },
    {
      "cell_type": "code",
      "execution_count": 107,
      "metadata": {
        "colab": {
          "base_uri": "https://localhost:8080/"
        },
        "id": "2nuF5q8fpUgz",
        "outputId": "9446732f-09ff-4aa1-b8cb-3d5495488967"
      },
      "outputs": [
        {
          "data": {
            "text/plain": [
              "array([4, 5])"
            ]
          },
          "execution_count": 107,
          "metadata": {
            "tags": []
          },
          "output_type": "execute_result"
        }
      ],
      "source": [
        "# Get a list with all elements of array 'a' greater than 3 but less than 6\n",
        "a[(a > 3) & (a < 6)]"
      ]
    },
    {
      "cell_type": "code",
      "execution_count": 108,
      "metadata": {
        "colab": {
          "base_uri": "https://localhost:8080/"
        },
        "id": "os-GyNAipUg0",
        "outputId": "ee6f9666-3198-4f6f-adbe-5252497e6b2e"
      },
      "outputs": [
        {
          "data": {
            "text/plain": [
              "array([ True,  True,  True,  True,  True,  True,  True,  True,  True,\n",
              "       False])"
            ]
          },
          "execution_count": 108,
          "metadata": {
            "tags": []
          },
          "output_type": "execute_result"
        }
      ],
      "source": [
        "# check if each elements in array 'x1' equals array 'x4' using '==' notation\n",
        "x1 == x4"
      ]
    },
    {
      "cell_type": "markdown",
      "metadata": {
        "id": "vqTpa41jpUg0"
      },
      "source": [
        "* You can see in above output that the last element is not same in both x1 and x4\n",
        "\n",
        "* Well done so far.\n",
        "\n",
        "* Lets check how to transpose an array\n",
        "\n",
        "### **2. Transposing array**"
      ]
    },
    {
      "cell_type": "code",
      "execution_count": 110,
      "metadata": {
        "colab": {
          "base_uri": "https://localhost:8080/"
        },
        "id": "mP0_dCUxpUg0",
        "outputId": "0d7802b6-96cf-45d8-8f77-fdfd394473c4"
      },
      "outputs": [
        {
          "name": "stdout",
          "output_type": "stream",
          "text": [
            "[[1 4 7]\n",
            " [2 5 8]\n",
            " [3 6 9]]\n",
            "-----------------\n",
            "[[1 2 3]\n",
            " [4 5 6]\n",
            " [7 8 9]]\n"
          ]
        }
      ],
      "source": [
        "# Print Transpose of array 'a'\n",
        "print(a.transpose())\n",
        "#print array 'a'\n",
        "print(\"-----------------\")\n",
        "print(a)"
      ]
    },
    {
      "cell_type": "markdown",
      "metadata": {
        "id": "WpOBWNoppUg0"
      },
      "source": [
        "* In above output all the rows became columns by transposing "
      ]
    },
    {
      "cell_type": "markdown",
      "metadata": {
        "id": "8puKXbJwpUg0"
      },
      "source": [
        "### **3. hstack vs vstack function**\n",
        "\n",
        "* Stacking is same as concatenation, the only difference is that stacking is done along a new axis.\n",
        "\n",
        "* NumPy provides a helper function: \n",
        "    - hstack() to stack along rows.\n",
        "    - vstack()  to stack along columns\n",
        "\n",
        "* You wanna see how? Then here we go...!\n",
        "\n",
        "    reference doc: https://scipython.com/book/chapter-6-numpy/examples/vstack-and-hstack/"
      ]
    },
    {
      "cell_type": "code",
      "execution_count": 115,
      "metadata": {
        "colab": {
          "base_uri": "https://localhost:8080/"
        },
        "id": "DOE-0gTwpUg1",
        "outputId": "fd0ccb74-f5d8-4ac1-95e6-e129936944c8"
      },
      "outputs": [
        {
          "data": {
            "text/plain": [
              "array([[100,   1,   2,   3,   4,   5,   6,   7,   8,   9],\n",
              "       [100,   1,   2,   3,   4,   5,   6,   7,   8, 900]])"
            ]
          },
          "execution_count": 115,
          "metadata": {
            "tags": []
          },
          "output_type": "execute_result"
        }
      ],
      "source": [
        "# stack x1 and x4 along columns.\n",
        "np.vstack((x1, x4))"
      ]
    },
    {
      "cell_type": "code",
      "execution_count": 116,
      "metadata": {
        "colab": {
          "base_uri": "https://localhost:8080/"
        },
        "id": "V2bNzfrkpUg1",
        "outputId": "1c54184e-8962-46d6-a19a-8debc71b5bd5"
      },
      "outputs": [
        {
          "data": {
            "text/plain": [
              "array([100,   1,   2,   3,   4,   5,   6,   7,   8,   9, 100,   1,   2,\n",
              "         3,   4,   5,   6,   7,   8, 900])"
            ]
          },
          "execution_count": 116,
          "metadata": {
            "tags": []
          },
          "output_type": "execute_result"
        }
      ],
      "source": [
        "#stack x1 and x4 along rows\n",
        "np.hstack((x1, x4))"
      ]
    },
    {
      "cell_type": "markdown",
      "metadata": {
        "id": "7DMln7YZpUg1"
      },
      "source": [
        "* We hope now you saw the difference between them.\n",
        "\n",
        "* fun fact! you can even use concatenate() function to join 2 arrays along with the axis. If axis is not explicitly passed, it is taken as 0 ie. along column\n",
        "\n",
        "* Lets try this function as well"
      ]
    },
    {
      "cell_type": "code",
      "execution_count": 72,
      "metadata": {
        "colab": {
          "base_uri": "https://localhost:8080/"
        },
        "id": "hjI-wuqRpUg1",
        "outputId": "84619ba8-c219-4f33-8bfd-0364faba6c77"
      },
      "outputs": [
        {
          "data": {
            "text/plain": [
              "array([[1, 2, 5, 6],\n",
              "       [3, 4, 7, 8]])"
            ]
          },
          "execution_count": 72,
          "metadata": {
            "tags": []
          },
          "output_type": "execute_result"
        }
      ],
      "source": [
        "arr1 = np.array([[1, 2], [3, 4]])\n",
        "\n",
        "arr2 = np.array([[5, 6], [7, 8]])\n",
        "\n",
        "##join arr1 and arr2 along rows using concatenate() function\n",
        "np.concatenate((arr1, arr2), axis=1)"
      ]
    },
    {
      "cell_type": "code",
      "execution_count": 73,
      "metadata": {
        "colab": {
          "base_uri": "https://localhost:8080/"
        },
        "id": "WH70hNeIpUg1",
        "outputId": "9d0e1e0c-be5e-46cf-a187-929a7d9dae9f"
      },
      "outputs": [
        {
          "data": {
            "text/plain": [
              "array([[1, 2],\n",
              "       [3, 4],\n",
              "       [5, 6],\n",
              "       [7, 8]])"
            ]
          },
          "execution_count": 73,
          "metadata": {
            "tags": []
          },
          "output_type": "execute_result"
        }
      ],
      "source": [
        "##join arr1 and arr2 along columns using concatenate() function\n",
        "np.concatenate((arr1, arr2), axis=0)"
      ]
    },
    {
      "cell_type": "markdown",
      "metadata": {
        "id": "qqhpdM01pUg2"
      },
      "source": [
        "## Adding, Insert and delete Numpy array\n",
        "\n",
        "<p style='text-align: right;'> 3 points </p>\n"
      ]
    },
    {
      "cell_type": "markdown",
      "metadata": {
        "id": "A8LM2NiepUg2"
      },
      "source": [
        "* You can also add 2 arrays using append() function also. This function appends values to end of array. Lets see how"
      ]
    },
    {
      "cell_type": "code",
      "execution_count": 74,
      "metadata": {
        "colab": {
          "base_uri": "https://localhost:8080/"
        },
        "id": "TWK1Wiu2pUg2",
        "outputId": "d35221af-3125-4126-ee6f-87455d81d915"
      },
      "outputs": [
        {
          "data": {
            "text/plain": [
              "array([1, 2, 3, 4, 5, 6, 7, 8])"
            ]
          },
          "execution_count": 74,
          "metadata": {
            "tags": []
          },
          "output_type": "execute_result"
        }
      ],
      "source": [
        "# append arr2 to arr1\n",
        "np.append(arr1, arr2)"
      ]
    },
    {
      "cell_type": "markdown",
      "metadata": {
        "id": "OPXhLAR-pUg2"
      },
      "source": [
        "* Lets use insert() function which Inserts values into array before specified index value"
      ]
    },
    {
      "cell_type": "code",
      "execution_count": 75,
      "metadata": {
        "colab": {
          "base_uri": "https://localhost:8080/"
        },
        "id": "Ptc8f_BapUg2",
        "outputId": "afe43c29-e58f-4fbd-cab2-f42b064d235b"
      },
      "outputs": [
        {
          "data": {
            "text/plain": [
              "array([100,   1,   2,   3, 100,   1,   2,   3,   4,   5,   6,   7,   8,\n",
              "       900,   4,   5,   6,   7,   8,   9])"
            ]
          },
          "execution_count": 75,
          "metadata": {
            "tags": []
          },
          "output_type": "execute_result"
        }
      ],
      "source": [
        "# Inserts values into array x1 before index 4 with elements of x4\n",
        "np.insert(x1, 4, x4)"
      ]
    },
    {
      "cell_type": "markdown",
      "metadata": {
        "id": "REUCmBvzpUg2"
      },
      "source": [
        "* You can see in above output we have inserted all the elements of x4 before index 4 in array x1."
      ]
    },
    {
      "cell_type": "code",
      "execution_count": 76,
      "metadata": {
        "colab": {
          "base_uri": "https://localhost:8080/"
        },
        "id": "xKRx-b0JpUg3",
        "outputId": "87e0f926-7f1e-470d-ae9e-6cefb2fec5c1"
      },
      "outputs": [
        {
          "data": {
            "text/plain": [
              "array([100,   1,   3,   4,   5,   6,   7,   8,   9])"
            ]
          },
          "execution_count": 76,
          "metadata": {
            "tags": []
          },
          "output_type": "execute_result"
        }
      ],
      "source": [
        "# delete 2nd element from array x2\n",
        "np.delete(x2, 2)"
      ]
    },
    {
      "cell_type": "markdown",
      "metadata": {
        "id": "d33aIsHmpUg3"
      },
      "source": [
        "* Did you see? 2 value is deleted from x2 which was at index position 2"
      ]
    },
    {
      "cell_type": "markdown",
      "metadata": {
        "id": "qDKKKCjppUg3"
      },
      "source": [
        "## Mathmatical operations on Numpy array\n",
        "\n",
        "Reference doc for Numpy Mathmatical functions: https://numpy.org/doc/stable/reference/routines.math.html\n",
        "\n",
        "<p style='text-align: right;'> 8 points </p>\n"
      ]
    },
    {
      "cell_type": "code",
      "execution_count": 77,
      "metadata": {
        "id": "O7foeULTpUg3"
      },
      "outputs": [],
      "source": [
        "#defining a\n",
        "a= np.array([[1,2,3],[4,5,6],[7,8,9]])"
      ]
    },
    {
      "cell_type": "code",
      "execution_count": 78,
      "metadata": {
        "colab": {
          "base_uri": "https://localhost:8080/"
        },
        "id": "LMWlqmDypUg3",
        "outputId": "114c018a-c644-4387-ad3e-563287b261e9"
      },
      "outputs": [
        {
          "data": {
            "text/plain": [
              "array([[ 0.84147098,  0.90929743,  0.14112001],\n",
              "       [-0.7568025 , -0.95892427, -0.2794155 ],\n",
              "       [ 0.6569866 ,  0.98935825,  0.41211849]])"
            ]
          },
          "execution_count": 78,
          "metadata": {
            "tags": []
          },
          "output_type": "execute_result"
        }
      ],
      "source": [
        "# print trigonometric sin value of each element of a\n",
        "np.sin(a)"
      ]
    },
    {
      "cell_type": "code",
      "execution_count": 79,
      "metadata": {
        "colab": {
          "base_uri": "https://localhost:8080/"
        },
        "id": "9bSn6dZApUg3",
        "outputId": "5aaa12aa-bd27-44be-ab64-cf07d9d28306"
      },
      "outputs": [
        {
          "data": {
            "text/plain": [
              "array([[ 0.54030231, -0.41614684, -0.9899925 ],\n",
              "       [-0.65364362,  0.28366219,  0.96017029],\n",
              "       [ 0.75390225, -0.14550003, -0.91113026]])"
            ]
          },
          "execution_count": 79,
          "metadata": {
            "tags": []
          },
          "output_type": "execute_result"
        }
      ],
      "source": [
        "# print trigonometric cos value of each element of a\n",
        "np.cos(a)"
      ]
    },
    {
      "cell_type": "code",
      "execution_count": 80,
      "metadata": {
        "colab": {
          "base_uri": "https://localhost:8080/"
        },
        "id": "E4bfMU4ipUg4",
        "outputId": "86b65224-1124-43f2-aefb-b5ce51244437"
      },
      "outputs": [
        {
          "data": {
            "text/plain": [
              "array([[2.71828183e+00, 7.38905610e+00, 2.00855369e+01],\n",
              "       [5.45981500e+01, 1.48413159e+02, 4.03428793e+02],\n",
              "       [1.09663316e+03, 2.98095799e+03, 8.10308393e+03]])"
            ]
          },
          "execution_count": 80,
          "metadata": {
            "tags": []
          },
          "output_type": "execute_result"
        }
      ],
      "source": [
        "# Print exponential value of each elements of a\n",
        "np.exp(a)"
      ]
    },
    {
      "cell_type": "markdown",
      "metadata": {
        "id": "6_FQV12dpUg4"
      },
      "source": [
        "* Referal: https://numpy.org/doc/stable/reference/generated/numpy.sum.html"
      ]
    },
    {
      "cell_type": "code",
      "execution_count": 81,
      "metadata": {
        "colab": {
          "base_uri": "https://localhost:8080/"
        },
        "id": "QRSyMRmzpUg4",
        "outputId": "7850336f-b4f4-4034-e5f6-2024834c4dea"
      },
      "outputs": [
        {
          "data": {
            "text/plain": [
              "45"
            ]
          },
          "execution_count": 81,
          "metadata": {
            "tags": []
          },
          "output_type": "execute_result"
        }
      ],
      "source": [
        "# print total sum of elements of a\n",
        "np.sum(a)"
      ]
    },
    {
      "cell_type": "code",
      "execution_count": 82,
      "metadata": {
        "colab": {
          "base_uri": "https://localhost:8080/"
        },
        "id": "d1mFBqXVpUg4",
        "outputId": "b38b3123-ef8c-4010-822a-699dfefa82ec"
      },
      "outputs": [
        {
          "data": {
            "text/plain": [
              "array([ 6, 15, 24])"
            ]
          },
          "execution_count": 82,
          "metadata": {
            "tags": []
          },
          "output_type": "execute_result"
        }
      ],
      "source": [
        "# Print sum in array a column wise\n",
        "np.sum(a, axis=1)"
      ]
    },
    {
      "cell_type": "code",
      "execution_count": 83,
      "metadata": {
        "colab": {
          "base_uri": "https://localhost:8080/"
        },
        "id": "4Cx--WYVpUg4",
        "outputId": "0cba05ff-ff93-49e7-c151-4b7d6a9ef233"
      },
      "outputs": [
        {
          "data": {
            "text/plain": [
              "array([12, 15, 18])"
            ]
          },
          "execution_count": 83,
          "metadata": {
            "tags": []
          },
          "output_type": "execute_result"
        }
      ],
      "source": [
        "# Print sum in array a row wise\n",
        "np.sum(a, axis=0)"
      ]
    },
    {
      "cell_type": "markdown",
      "metadata": {
        "id": "0_PWO_AfpUg5"
      },
      "source": [
        "* Refrence doc: https://numpy.org/doc/stable/reference/generated/numpy.median.html"
      ]
    },
    {
      "cell_type": "code",
      "execution_count": 84,
      "metadata": {
        "colab": {
          "base_uri": "https://localhost:8080/"
        },
        "id": "ZpttxTHppUg5",
        "outputId": "7f7e2bca-83b4-4e98-ad94-60aa4f094be3"
      },
      "outputs": [
        {
          "data": {
            "text/plain": [
              "5.0"
            ]
          },
          "execution_count": 84,
          "metadata": {
            "tags": []
          },
          "output_type": "execute_result"
        }
      ],
      "source": [
        "# print median of array a\n",
        "np.median(a)"
      ]
    },
    {
      "cell_type": "markdown",
      "metadata": {
        "id": "r3gfixY8pUg5"
      },
      "source": [
        "* Refrence doc: https://numpy.org/doc/stable/reference/generated/numpy.std.html"
      ]
    },
    {
      "cell_type": "code",
      "execution_count": 85,
      "metadata": {
        "colab": {
          "base_uri": "https://localhost:8080/"
        },
        "id": "u-EKr6VMpUg5",
        "outputId": "c7de0368-1f99-4327-dc7e-caef003c035a"
      },
      "outputs": [
        {
          "data": {
            "text/plain": [
              "2.581988897471611"
            ]
          },
          "execution_count": 85,
          "metadata": {
            "tags": []
          },
          "output_type": "execute_result"
        }
      ],
      "source": [
        "# print standard deviation of array a\n",
        "np.std(a)"
      ]
    },
    {
      "cell_type": "markdown",
      "metadata": {
        "id": "Wm5ZOQGypUg5"
      },
      "source": [
        "* Refrence doc: https://numpy.org/doc/stable/reference/generated/numpy.linalg.det.html"
      ]
    },
    {
      "cell_type": "code",
      "execution_count": 86,
      "metadata": {
        "colab": {
          "base_uri": "https://localhost:8080/"
        },
        "id": "zZ6BtfK2pUg6",
        "outputId": "bb9eb031-2520-429d-cb7e-aa2fba1ad2cf"
      },
      "outputs": [
        {
          "data": {
            "text/plain": [
              "0.0"
            ]
          },
          "execution_count": 86,
          "metadata": {
            "tags": []
          },
          "output_type": "execute_result"
        }
      ],
      "source": [
        "# print the determinant of array a\n",
        "np.linalg.det(a)"
      ]
    },
    {
      "cell_type": "markdown",
      "metadata": {
        "id": "m8plVWhCpUg6"
      },
      "source": [
        "* reference doc: https://numpy.org/doc/stable/reference/generated/numpy.linalg.inv.html"
      ]
    },
    {
      "cell_type": "code",
      "execution_count": null,
      "metadata": {
        "colab": {
          "base_uri": "https://localhost:8080/",
          "height": 391
        },
        "id": "d49BZw4UpUg6",
        "outputId": "a8d2bea0-001e-49b3-d723-a9f80a6da3d5"
      },
      "outputs": [],
      "source": [
        "# print the (multiplicative) inverse of array a\n",
        "#from numpy.linalg import inv\n",
        "y = np.linalg.inv(a)\n",
        "print(np.dot(a,y))"
      ]
    },
    {
      "cell_type": "markdown",
      "metadata": {
        "id": "SeLxFtJ1pUg6"
      },
      "source": [
        "* Reference doc: https://numpy.org/doc/stable/reference/generated/numpy.linalg.eig.html"
      ]
    },
    {
      "cell_type": "code",
      "execution_count": 88,
      "metadata": {
        "colab": {
          "base_uri": "https://localhost:8080/"
        },
        "id": "SSkuIbpxpUg6",
        "outputId": "ec4555a3-142f-41e9-8003-b318fd0785f5"
      },
      "outputs": [
        {
          "data": {
            "text/plain": [
              "(array([ 1.61168440e+01, -1.11684397e+00, -9.75918483e-16]),\n",
              " array([[-0.23197069, -0.78583024,  0.40824829],\n",
              "        [-0.52532209, -0.08675134, -0.81649658],\n",
              "        [-0.8186735 ,  0.61232756,  0.40824829]]))"
            ]
          },
          "execution_count": 88,
          "metadata": {
            "tags": []
          },
          "output_type": "execute_result"
        }
      ],
      "source": [
        "# Print the eigenvalues and right eigenvectors of array a.\n",
        "from numpy import linalg\n",
        "linalg.eig(a)"
      ]
    },
    {
      "cell_type": "markdown",
      "metadata": {
        "id": "HI_9Qz9opUg7"
      },
      "source": [
        "* Reference doc: https://numpy.org/doc/stable/reference/generated/numpy.dot.html"
      ]
    },
    {
      "cell_type": "code",
      "execution_count": 89,
      "metadata": {
        "colab": {
          "base_uri": "https://localhost:8080/"
        },
        "id": "hSnyCGoHpUg7",
        "outputId": "876a5d31-3cd1-49c6-ec77-a884a8e18405"
      },
      "outputs": [
        {
          "data": {
            "text/plain": [
              "array([[19, 22],\n",
              "       [43, 50]])"
            ]
          },
          "execution_count": 89,
          "metadata": {
            "tags": []
          },
          "output_type": "execute_result"
        }
      ],
      "source": [
        "# compute dot product of arr1 and arr2\n",
        "np.dot(arr1, arr2)"
      ]
    },
    {
      "cell_type": "markdown",
      "metadata": {
        "id": "8pU5OWUvpUg7"
      },
      "source": [
        " * Reference doc: https://numpy.org/doc/stable/reference/generated/numpy.ndarray.max.html"
      ]
    },
    {
      "cell_type": "code",
      "execution_count": 90,
      "metadata": {
        "colab": {
          "base_uri": "https://localhost:8080/"
        },
        "id": "KDSwMgUQpUg7",
        "outputId": "318e014a-afda-4bc3-f888-3324b62b2b3b"
      },
      "outputs": [
        {
          "data": {
            "text/plain": [
              "9"
            ]
          },
          "execution_count": 90,
          "metadata": {
            "tags": []
          },
          "output_type": "execute_result"
        }
      ],
      "source": [
        "#print largest element present in array a\n",
        "np.max(a)"
      ]
    },
    {
      "cell_type": "markdown",
      "metadata": {
        "id": "_p4OEEttpUg7"
      },
      "source": [
        "* Reference doc: https://numpy.org/doc/stable/reference/generated/numpy.argmax.html"
      ]
    },
    {
      "cell_type": "code",
      "execution_count": 91,
      "metadata": {
        "colab": {
          "base_uri": "https://localhost:8080/"
        },
        "id": "rS6eX9g-pUg7",
        "outputId": "dcb9fe44-965c-412a-903d-b693dc1b0d90"
      },
      "outputs": [
        {
          "data": {
            "text/plain": [
              "8"
            ]
          },
          "execution_count": 91,
          "metadata": {
            "tags": []
          },
          "output_type": "execute_result"
        }
      ],
      "source": [
        "#print index of largest element present in array a \n",
        "np.argmax(a)"
      ]
    },
    {
      "cell_type": "markdown",
      "metadata": {
        "id": "o4uaNzg5pUg8"
      },
      "source": [
        "* Reference doc: https://numpy.org/doc/stable/reference/generated/numpy.sort.html"
      ]
    },
    {
      "cell_type": "code",
      "execution_count": 92,
      "metadata": {
        "colab": {
          "base_uri": "https://localhost:8080/"
        },
        "id": "NcN6sQIVpUg8",
        "outputId": "bfc609d3-0b86-450d-cdb3-d671358cfddd"
      },
      "outputs": [
        {
          "data": {
            "text/plain": [
              "array([  1,   2,   3,   4,   5,   6,   7,   8, 100, 900])"
            ]
          },
          "execution_count": 92,
          "metadata": {
            "tags": []
          },
          "output_type": "execute_result"
        }
      ],
      "source": [
        "# print sorted x4 array\n",
        "np.sort(x4)"
      ]
    },
    {
      "cell_type": "markdown",
      "metadata": {
        "id": "Ni14Zx8XpUg8"
      },
      "source": [
        "* Reference doc: https://numpy.org/doc/stable/reference/generated/numpy.argsort.html"
      ]
    },
    {
      "cell_type": "code",
      "execution_count": 93,
      "metadata": {
        "colab": {
          "base_uri": "https://localhost:8080/"
        },
        "id": "ptEWGVthpUg8",
        "outputId": "9e62ca84-1696-4774-a2e5-599b47b740f4"
      },
      "outputs": [
        {
          "data": {
            "text/plain": [
              "array([1, 2, 3, 4, 5, 6, 7, 8, 0, 9])"
            ]
          },
          "execution_count": 93,
          "metadata": {
            "tags": []
          },
          "output_type": "execute_result"
        }
      ],
      "source": [
        "# print indices of each sorted element in x4 array\n",
        "np.argsort(x4)"
      ]
    },
    {
      "cell_type": "markdown",
      "metadata": {
        "id": "af81CRz-pUg8"
      },
      "source": [
        "## Searching Arrays\n",
        "\n",
        "* You can search an array for a certain value, and return the indexes that get a match.\n",
        "\n",
        "* To search an array, use the where() method.\n",
        "\n",
        "<p style='text-align: right;'> 4 points </p>\n"
      ]
    },
    {
      "cell_type": "code",
      "execution_count": 98,
      "metadata": {
        "colab": {
          "base_uri": "https://localhost:8080/"
        },
        "id": "RDWxyTF6pUg9",
        "outputId": "1507f208-93f5-4fd1-99c3-071f444e9385"
      },
      "outputs": [
        {
          "data": {
            "text/plain": [
              "(array([4]),)"
            ]
          },
          "execution_count": 98,
          "metadata": {
            "tags": []
          },
          "output_type": "execute_result"
        }
      ],
      "source": [
        "# print the indexes where the value is 4 in array x1\n",
        "\n",
        "np.where(x1 == 4)"
      ]
    },
    {
      "cell_type": "markdown",
      "metadata": {
        "id": "NTdnDA1-pUg9"
      },
      "source": [
        "* Which means that the value 4 is present at index 4\n",
        "\n",
        "* You can check it by printing array x1"
      ]
    },
    {
      "cell_type": "code",
      "execution_count": 95,
      "metadata": {
        "colab": {
          "base_uri": "https://localhost:8080/"
        },
        "id": "nPY8DKHTpUg9",
        "outputId": "44b00ca9-901e-4f2c-e926-651b454ad790"
      },
      "outputs": [
        {
          "data": {
            "text/plain": [
              "array([100,   1,   2,   3,   4,   5,   6,   7,   8,   9])"
            ]
          },
          "execution_count": 95,
          "metadata": {
            "tags": []
          },
          "output_type": "execute_result"
        }
      ],
      "source": [
        "#print array x1\n",
        "x1"
      ]
    },
    {
      "cell_type": "code",
      "execution_count": 102,
      "metadata": {
        "colab": {
          "base_uri": "https://localhost:8080/"
        },
        "id": "atfURRUtpUg9",
        "outputId": "f7dc8414-92bb-4e86-ff59-a7153bfc90a0"
      },
      "outputs": [
        {
          "data": {
            "text/plain": [
              "(array([0, 2, 4, 6, 8]),)"
            ]
          },
          "execution_count": 102,
          "metadata": {
            "tags": []
          },
          "output_type": "execute_result"
        }
      ],
      "source": [
        "# Print the indexes where the values are even in array x1\n",
        "np.where(x1%2 == 0)"
      ]
    },
    {
      "cell_type": "code",
      "execution_count": 103,
      "metadata": {
        "colab": {
          "base_uri": "https://localhost:8080/"
        },
        "id": "fPIY6xLlpUg9",
        "outputId": "364c0c00-c4e2-4834-9cb9-f1ac3b3822be"
      },
      "outputs": [
        {
          "data": {
            "text/plain": [
              "array([100,   0,   0,   0,   0,   0,   6,   7,   8,   9])"
            ]
          },
          "execution_count": 103,
          "metadata": {
            "tags": []
          },
          "output_type": "execute_result"
        }
      ],
      "source": [
        "# Print x1 where x1 is greater than 5, also if number is less than 5 then replace it with 0\n",
        "\n",
        "np.where(x1>5, x1, 0)"
      ]
    },
    {
      "cell_type": "markdown",
      "metadata": {
        "id": "aDFNOJuApUg-"
      },
      "source": [
        "## Good Job learner! "
      ]
    },
    {
      "cell_type": "markdown",
      "metadata": {},
      "source": []
    }
  ],
  "metadata": {
    "colab": {
      "collapsed_sections": [],
      "include_colab_link": true,
      "name": "4_Numpy_CloudyML.ipynb",
      "provenance": []
    },
    "kernelspec": {
      "display_name": "Python 3",
      "language": "python",
      "name": "python3"
    },
    "language_info": {
      "codemirror_mode": {
        "name": "ipython",
        "version": 3
      },
      "file_extension": ".py",
      "mimetype": "text/x-python",
      "name": "python",
      "nbconvert_exporter": "python",
      "pygments_lexer": "ipython3",
      "version": "3.8.5"
    }
  },
  "nbformat": 4,
  "nbformat_minor": 0
}
