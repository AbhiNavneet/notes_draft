{
 "cells": [
  {
   "cell_type": "markdown",
   "execution_count": null,
   "metadata": {
    "papermill": {
     "duration": 0.00895,
     "end_time": "2020-08-11T07:17:16.576394",
     "exception": false,
     "start_time": "2020-08-11T07:17:16.567444",
     "status": "completed"
    },
    "tags": []
   },
   "source": [
    "## To Explore Decision Tree Algorithm\n",
    "For the given ‘Iris’ dataset, create the Decision Tree classifier and visualize it graphically. The purpose is if we feed any new data to this classifier, it would be able to predict the right class accordingly."
   ]
  },
  {
   "cell_type": "code",
   "execution_count": 1,
   "metadata": {
    "execution": {
     "iopub.execute_input": "2020-08-11T07:17:16.604630Z",
     "iopub.status.busy": "2020-08-11T07:17:16.603806Z",
     "iopub.status.idle": "2020-08-11T07:17:18.251676Z",
     "shell.execute_reply": "2020-08-11T07:17:18.250775Z"
    },
    "papermill": {
     "duration": 1.667463,
     "end_time": "2020-08-11T07:17:18.251819",
     "exception": false,
     "start_time": "2020-08-11T07:17:16.584356",
     "status": "completed"
    },
    "tags": []
   },
   "outputs": [],
   "source": [
    "#Loading Libraries\n",
    "import numpy as np\n",
    "import pandas as pd\n",
    "import seaborn as sns\n",
    "import matplotlib.pyplot as plt\n",
    "%matplotlib inline\n",
    "\n",
    "import sklearn.datasets as datasets\n",
    "from sklearn.model_selection import train_test_split\n",
    "from sklearn.tree import DecisionTreeClassifier\n",
    "from sklearn.metrics import accuracy_score, roc_auc_score, roc_curve\n",
    "from sklearn.tree import plot_tree\n",
    "\n",
    "from sklearn.tree import DecisionTreeClassifier\n",
    "from sklearn.model_selection import GridSearchCV, RandomizedSearchCV\n",
    "\n",
    "from sklearn.metrics import confusion_matrix \n",
    "from sklearn.metrics import classification_report "
   ]
  },
  {
   "cell_type": "code",
   "execution_count": 2,
   "metadata": {
    "execution": {
     "iopub.execute_input": "2020-08-11T07:17:18.297315Z",
     "iopub.status.busy": "2020-08-11T07:17:18.296507Z",
     "iopub.status.idle": "2020-08-11T07:17:18.984734Z",
     "shell.execute_reply": "2020-08-11T07:17:18.985384Z"
    },
    "papermill": {
     "duration": 0.72594,
     "end_time": "2020-08-11T07:17:18.985568",
     "exception": false,
     "start_time": "2020-08-11T07:17:18.259628",
     "status": "completed"
    },
    "tags": []
   },
   "outputs": [
    {
     "data": {
      "text/html": [
       "<div>\n",
       "<style scoped>\n",
       "    .dataframe tbody tr th:only-of-type {\n",
       "        vertical-align: middle;\n",
       "    }\n",
       "\n",
       "    .dataframe tbody tr th {\n",
       "        vertical-align: top;\n",
       "    }\n",
       "\n",
       "    .dataframe thead th {\n",
       "        text-align: right;\n",
       "    }\n",
       "</style>\n",
       "<table border=\"1\" class=\"dataframe\">\n",
       "  <thead>\n",
       "    <tr style=\"text-align: right;\">\n",
       "      <th></th>\n",
       "      <th>sepal length (cm)</th>\n",
       "      <th>sepal width (cm)</th>\n",
       "      <th>petal length (cm)</th>\n",
       "      <th>petal width (cm)</th>\n",
       "      <th>Species</th>\n",
       "    </tr>\n",
       "  </thead>\n",
       "  <tbody>\n",
       "    <tr>\n",
       "      <th>0</th>\n",
       "      <td>5.1</td>\n",
       "      <td>3.5</td>\n",
       "      <td>1.4</td>\n",
       "      <td>0.2</td>\n",
       "      <td>Iris-setosa</td>\n",
       "    </tr>\n",
       "    <tr>\n",
       "      <th>1</th>\n",
       "      <td>4.9</td>\n",
       "      <td>3.0</td>\n",
       "      <td>1.4</td>\n",
       "      <td>0.2</td>\n",
       "      <td>Iris-setosa</td>\n",
       "    </tr>\n",
       "    <tr>\n",
       "      <th>2</th>\n",
       "      <td>4.7</td>\n",
       "      <td>3.2</td>\n",
       "      <td>1.3</td>\n",
       "      <td>0.2</td>\n",
       "      <td>Iris-setosa</td>\n",
       "    </tr>\n",
       "    <tr>\n",
       "      <th>3</th>\n",
       "      <td>4.6</td>\n",
       "      <td>3.1</td>\n",
       "      <td>1.5</td>\n",
       "      <td>0.2</td>\n",
       "      <td>Iris-setosa</td>\n",
       "    </tr>\n",
       "    <tr>\n",
       "      <th>4</th>\n",
       "      <td>5.0</td>\n",
       "      <td>3.6</td>\n",
       "      <td>1.4</td>\n",
       "      <td>0.2</td>\n",
       "      <td>Iris-setosa</td>\n",
       "    </tr>\n",
       "  </tbody>\n",
       "</table>\n",
       "</div>"
      ],
      "text/plain": [
       "   sepal length (cm)  sepal width (cm)  petal length (cm)  petal width (cm)  \\\n",
       "0                5.1               3.5                1.4               0.2   \n",
       "1                4.9               3.0                1.4               0.2   \n",
       "2                4.7               3.2                1.3               0.2   \n",
       "3                4.6               3.1                1.5               0.2   \n",
       "4                5.0               3.6                1.4               0.2   \n",
       "\n",
       "       Species  \n",
       "0  Iris-setosa  \n",
       "1  Iris-setosa  \n",
       "2  Iris-setosa  \n",
       "3  Iris-setosa  \n",
       "4  Iris-setosa  "
      ]
     },
     "execution_count": 2,
     "metadata": {},
     "output_type": "execute_result"
    }
   ],
   "source": [
    "# Loading the iris dataset\n",
    "url = \"https://archive.ics.uci.edu/ml/machine-learning-databases/iris/iris.data\"\n",
    "df = pd.read_csv(url, header=None, names=['sepal length (cm)', 'sepal width (cm)', 'petal length (cm)',\n",
    "                                          'petal width (cm)', 'Species'])\n",
    "\n",
    "df.head() # To view first 5 rows"
   ]
  },
  {
   "cell_type": "code",
   "execution_count": 3,
   "metadata": {
    "execution": {
     "iopub.execute_input": "2020-08-11T07:17:19.008474Z",
     "iopub.status.busy": "2020-08-11T07:17:19.007308Z",
     "iopub.status.idle": "2020-08-11T07:17:19.012037Z",
     "shell.execute_reply": "2020-08-11T07:17:19.011423Z"
    },
    "papermill": {
     "duration": 0.018632,
     "end_time": "2020-08-11T07:17:19.012213",
     "exception": false,
     "start_time": "2020-08-11T07:17:18.993581",
     "status": "completed"
    },
    "tags": []
   },
   "outputs": [
    {
     "data": {
      "text/plain": [
       "(150, 5)"
      ]
     },
     "execution_count": 3,
     "metadata": {},
     "output_type": "execute_result"
    }
   ],
   "source": [
    "# To know number of rows and collumns\n",
    "df.shape"
   ]
  },
  {
   "cell_type": "code",
   "execution_count": 4,
   "metadata": {
    "execution": {
     "iopub.execute_input": "2020-08-11T07:17:19.043707Z",
     "iopub.status.busy": "2020-08-11T07:17:19.042897Z",
     "iopub.status.idle": "2020-08-11T07:17:19.046593Z",
     "shell.execute_reply": "2020-08-11T07:17:19.047229Z"
    },
    "papermill": {
     "duration": 0.026914,
     "end_time": "2020-08-11T07:17:19.047400",
     "exception": false,
     "start_time": "2020-08-11T07:17:19.020486",
     "status": "completed"
    },
    "tags": []
   },
   "outputs": [
    {
     "name": "stdout",
     "output_type": "stream",
     "text": [
      "<class 'pandas.core.frame.DataFrame'>\n",
      "RangeIndex: 150 entries, 0 to 149\n",
      "Data columns (total 5 columns):\n",
      " #   Column             Non-Null Count  Dtype  \n",
      "---  ------             --------------  -----  \n",
      " 0   sepal length (cm)  150 non-null    float64\n",
      " 1   sepal width (cm)   150 non-null    float64\n",
      " 2   petal length (cm)  150 non-null    float64\n",
      " 3   petal width (cm)   150 non-null    float64\n",
      " 4   Species            150 non-null    object \n",
      "dtypes: float64(4), object(1)\n",
      "memory usage: 6.0+ KB\n"
     ]
    }
   ],
   "source": [
    "# Check the dataframe information\n",
    "df.info()"
   ]
  },
  {
   "cell_type": "markdown",
   "execution_count": null,
   "metadata": {
    "papermill": {
     "duration": 0.008091,
     "end_time": "2020-08-11T07:17:19.063830",
     "exception": false,
     "start_time": "2020-08-11T07:17:19.055739",
     "status": "completed"
    },
    "tags": []
   },
   "source": [
    "- There are 4 - Numerical Features and one categorical column\n",
    "- There are totally 150 rows or observations are in data"
   ]
  },
  {
   "cell_type": "code",
   "execution_count": 5,
   "metadata": {
    "execution": {
     "iopub.execute_input": "2020-08-11T07:17:19.089298Z",
     "iopub.status.busy": "2020-08-11T07:17:19.088233Z",
     "iopub.status.idle": "2020-08-11T07:17:19.093392Z",
     "shell.execute_reply": "2020-08-11T07:17:19.092760Z"
    },
    "papermill": {
     "duration": 0.021403,
     "end_time": "2020-08-11T07:17:19.093533",
     "exception": false,
     "start_time": "2020-08-11T07:17:19.072130",
     "status": "completed"
    },
    "tags": []
   },
   "outputs": [
    {
     "data": {
      "text/plain": [
       "sepal length (cm)    0\n",
       "sepal width (cm)     0\n",
       "petal length (cm)    0\n",
       "petal width (cm)     0\n",
       "Species              0\n",
       "dtype: int64"
      ]
     },
     "execution_count": 5,
     "metadata": {},
     "output_type": "execute_result"
    }
   ],
   "source": [
    "# To find if any null value is present\n",
    "df.isnull().sum()"
   ]
  },
  {
   "cell_type": "code",
   "execution_count": 6,
   "metadata": {
    "execution": {
     "iopub.execute_input": "2020-08-11T07:17:19.125680Z",
     "iopub.status.busy": "2020-08-11T07:17:19.124830Z",
     "iopub.status.idle": "2020-08-11T07:17:19.156977Z",
     "shell.execute_reply": "2020-08-11T07:17:19.156255Z"
    },
    "papermill": {
     "duration": 0.054946,
     "end_time": "2020-08-11T07:17:19.157149",
     "exception": false,
     "start_time": "2020-08-11T07:17:19.102203",
     "status": "completed"
    },
    "tags": []
   },
   "outputs": [
    {
     "data": {
      "text/html": [
       "<div>\n",
       "<style scoped>\n",
       "    .dataframe tbody tr th:only-of-type {\n",
       "        vertical-align: middle;\n",
       "    }\n",
       "\n",
       "    .dataframe tbody tr th {\n",
       "        vertical-align: top;\n",
       "    }\n",
       "\n",
       "    .dataframe thead th {\n",
       "        text-align: right;\n",
       "    }\n",
       "</style>\n",
       "<table border=\"1\" class=\"dataframe\">\n",
       "  <thead>\n",
       "    <tr style=\"text-align: right;\">\n",
       "      <th></th>\n",
       "      <th>count</th>\n",
       "      <th>mean</th>\n",
       "      <th>std</th>\n",
       "      <th>min</th>\n",
       "      <th>25%</th>\n",
       "      <th>50%</th>\n",
       "      <th>75%</th>\n",
       "      <th>max</th>\n",
       "    </tr>\n",
       "  </thead>\n",
       "  <tbody>\n",
       "    <tr>\n",
       "      <th>sepal length (cm)</th>\n",
       "      <td>150.0</td>\n",
       "      <td>5.843333</td>\n",
       "      <td>0.828066</td>\n",
       "      <td>4.3</td>\n",
       "      <td>5.1</td>\n",
       "      <td>5.80</td>\n",
       "      <td>6.4</td>\n",
       "      <td>7.9</td>\n",
       "    </tr>\n",
       "    <tr>\n",
       "      <th>sepal width (cm)</th>\n",
       "      <td>150.0</td>\n",
       "      <td>3.054000</td>\n",
       "      <td>0.433594</td>\n",
       "      <td>2.0</td>\n",
       "      <td>2.8</td>\n",
       "      <td>3.00</td>\n",
       "      <td>3.3</td>\n",
       "      <td>4.4</td>\n",
       "    </tr>\n",
       "    <tr>\n",
       "      <th>petal length (cm)</th>\n",
       "      <td>150.0</td>\n",
       "      <td>3.758667</td>\n",
       "      <td>1.764420</td>\n",
       "      <td>1.0</td>\n",
       "      <td>1.6</td>\n",
       "      <td>4.35</td>\n",
       "      <td>5.1</td>\n",
       "      <td>6.9</td>\n",
       "    </tr>\n",
       "    <tr>\n",
       "      <th>petal width (cm)</th>\n",
       "      <td>150.0</td>\n",
       "      <td>1.198667</td>\n",
       "      <td>0.763161</td>\n",
       "      <td>0.1</td>\n",
       "      <td>0.3</td>\n",
       "      <td>1.30</td>\n",
       "      <td>1.8</td>\n",
       "      <td>2.5</td>\n",
       "    </tr>\n",
       "  </tbody>\n",
       "</table>\n",
       "</div>"
      ],
      "text/plain": [
       "                   count      mean       std  min  25%   50%  75%  max\n",
       "sepal length (cm)  150.0  5.843333  0.828066  4.3  5.1  5.80  6.4  7.9\n",
       "sepal width (cm)   150.0  3.054000  0.433594  2.0  2.8  3.00  3.3  4.4\n",
       "petal length (cm)  150.0  3.758667  1.764420  1.0  1.6  4.35  5.1  6.9\n",
       "petal width (cm)   150.0  1.198667  0.763161  0.1  0.3  1.30  1.8  2.5"
      ]
     },
     "execution_count": 6,
     "metadata": {},
     "output_type": "execute_result"
    }
   ],
   "source": [
    "# To see summary statistics\n",
    "df.describe().T"
   ]
  },
  {
   "cell_type": "code",
   "execution_count": 7,
   "metadata": {
    "execution": {
     "iopub.execute_input": "2020-08-11T07:17:19.181945Z",
     "iopub.status.busy": "2020-08-11T07:17:19.181179Z",
     "iopub.status.idle": "2020-08-11T07:17:19.885978Z",
     "shell.execute_reply": "2020-08-11T07:17:19.885220Z"
    },
    "papermill": {
     "duration": 0.72006,
     "end_time": "2020-08-11T07:17:19.886120",
     "exception": false,
     "start_time": "2020-08-11T07:17:19.166060",
     "status": "completed"
    },
    "tags": []
   },
   "outputs": [
    {
     "data": {
      "image/png": "[encoded data removed]",
      "text/plain": [
       "<Figure size 432x288 with 1 Axes>"
      ]
     },
     "metadata": {
      "needs_background": "light"
     },
     "output_type": "display_data"
    },
    {
     "data": {
      "image/png": "[encoded data removed]",
      "text/plain": [
       "<Figure size 432x288 with 1 Axes>"
      ]
     },
     "metadata": {
      "needs_background": "light"
     },
     "output_type": "display_data"
    },
    {
     "data": {
      "image/png": "[encoded data removed]",
      "text/plain": [
       "<Figure size 432x288 with 1 Axes>"
      ]
     },
     "metadata": {
      "needs_background": "light"
     },
     "output_type": "display_data"
    },
    {
     "data": {
      "image/png": "[encoded data removed]",
      "text/plain": [
       "<Figure size 432x288 with 1 Axes>"
      ]
     },
     "metadata": {
      "needs_background": "light"
     },
     "output_type": "display_data"
    }
   ],
   "source": [
    "# To find outliers\n",
    "cols = df.columns[0:-1]\n",
    "for i in cols:\n",
    "    sns.boxplot(y=df[i])\n",
    "    plt.show()"
   ]
  },
  {
   "cell_type": "markdown",
   "execution_count": null,
   "metadata": {
    "papermill": {
     "duration": 0.00915,
     "end_time": "2020-08-11T07:17:19.904812",
     "exception": false,
     "start_time": "2020-08-11T07:17:19.895662",
     "status": "completed"
    },
    "tags": []
   },
   "source": [
    "- From the above boxplot we can say that there are outliers in the column 'sepal width (cm)'"
   ]
  },
  {
   "cell_type": "code",
   "execution_count": 8,
   "metadata": {
    "execution": {
     "iopub.execute_input": "2020-08-11T07:17:19.938551Z",
     "iopub.status.busy": "2020-08-11T07:17:19.932123Z",
     "iopub.status.idle": "2020-08-11T07:17:19.943329Z",
     "shell.execute_reply": "2020-08-11T07:17:19.942715Z"
    },
    "papermill": {
     "duration": 0.029206,
     "end_time": "2020-08-11T07:17:19.943462",
     "exception": false,
     "start_time": "2020-08-11T07:17:19.914256",
     "status": "completed"
    },
    "tags": []
   },
   "outputs": [
    {
     "data": {
      "text/plain": [
       "(146, 5)"
      ]
     },
     "execution_count": 8,
     "metadata": {},
     "output_type": "execute_result"
    }
   ],
   "source": [
    "# To remove outliers from 'sepal width (cm)'\n",
    "q1 = df['sepal width (cm)'].quantile(0.25)\n",
    "q3 = df['sepal width (cm)'].quantile(0.75)\n",
    "iqr = q3 - q1\n",
    "df = df[(df['sepal width (cm)'] >= q1-1.5*iqr) & (df['sepal width (cm)'] <= q3+1.5*iqr)]\n",
    "df.shape # To find out the number of rows and column after outlier treatment"
   ]
  },
  {
   "cell_type": "markdown",
   "execution_count": null,
   "metadata": {
    "papermill": {
     "duration": 0.009175,
     "end_time": "2020-08-11T07:17:19.962455",
     "exception": false,
     "start_time": "2020-08-11T07:17:19.953280",
     "status": "completed"
    },
    "tags": []
   },
   "source": [
    "- We can see that after outlier treatment the number of rows are reduced to 146 from 150"
   ]
  },
  {
   "cell_type": "code",
   "execution_count": 9,
   "metadata": {
    "execution": {
     "iopub.execute_input": "2020-08-11T07:17:19.997059Z",
     "iopub.status.busy": "2020-08-11T07:17:19.988365Z",
     "iopub.status.idle": "2020-08-11T07:17:20.133975Z",
     "shell.execute_reply": "2020-08-11T07:17:20.133236Z"
    },
    "papermill": {
     "duration": 0.162158,
     "end_time": "2020-08-11T07:17:20.134121",
     "exception": false,
     "start_time": "2020-08-11T07:17:19.971963",
     "status": "completed"
    },
    "tags": []
   },
   "outputs": [
    {
     "data": {
      "image/png": "[encoded data removed]",
      "text/plain": [
       "<Figure size 432x288 with 1 Axes>"
      ]
     },
     "metadata": {
      "needs_background": "light"
     },
     "output_type": "display_data"
    }
   ],
   "source": [
    "# Blocplot for sepal width (cm) after outlier treatment\n",
    "sns.boxplot(y=df['sepal width (cm)'])\n",
    "plt.show()"
   ]
  },
  {
   "cell_type": "code",
   "execution_count": 10,
   "metadata": {
    "execution": {
     "iopub.execute_input": "2020-08-11T07:17:20.165533Z",
     "iopub.status.busy": "2020-08-11T07:17:20.164662Z",
     "iopub.status.idle": "2020-08-11T07:17:20.167553Z",
     "shell.execute_reply": "2020-08-11T07:17:20.168164Z"
    },
    "papermill": {
     "duration": 0.023709,
     "end_time": "2020-08-11T07:17:20.168340",
     "exception": false,
     "start_time": "2020-08-11T07:17:20.144631",
     "status": "completed"
    },
    "tags": []
   },
   "outputs": [],
   "source": [
    "# Splitting the data into train and test sets\n",
    "X = df.drop(\"Species\",axis=1)\n",
    "y = df[\"Species\"]\n",
    "X_train,X_test,y_train,y_test=train_test_split(X,y,test_size=0.3, random_state= 1)"
   ]
  },
  {
   "cell_type": "code",
   "execution_count": 11,
   "metadata": {
    "execution": {
     "iopub.execute_input": "2020-08-11T07:17:20.199662Z",
     "iopub.status.busy": "2020-08-11T07:17:20.198838Z",
     "iopub.status.idle": "2020-08-11T07:17:20.206016Z",
     "shell.execute_reply": "2020-08-11T07:17:20.206546Z"
    },
    "papermill": {
     "duration": 0.028252,
     "end_time": "2020-08-11T07:17:20.206710",
     "exception": false,
     "start_time": "2020-08-11T07:17:20.178458",
     "status": "completed"
    },
    "tags": []
   },
   "outputs": [
    {
     "data": {
      "text/plain": [
       "DecisionTreeClassifier(max_depth=3, min_samples_leaf=10, random_state=1)"
      ]
     },
     "execution_count": 11,
     "metadata": {},
     "output_type": "execute_result"
    }
   ],
   "source": [
    "# Defining an object for DTC and fitting for whole dataset\n",
    "dt = DecisionTreeClassifier(max_depth=3, min_samples_leaf=10, random_state=1 )\n",
    "dt.fit(X, y)"
   ]
  },
  {
   "cell_type": "code",
   "execution_count": 12,
   "metadata": {
    "execution": {
     "iopub.execute_input": "2020-08-11T07:17:20.237960Z",
     "iopub.status.busy": "2020-08-11T07:17:20.237135Z",
     "iopub.status.idle": "2020-08-11T07:17:34.058134Z",
     "shell.execute_reply": "2020-08-11T07:17:34.058742Z"
    },
    "papermill": {
     "duration": 13.841471,
     "end_time": "2020-08-11T07:17:34.058904",
     "exception": false,
     "start_time": "2020-08-11T07:17:20.217433",
     "status": "completed"
    },
    "tags": []
   },
   "outputs": [
    {
     "name": "stdout",
     "output_type": "stream",
     "text": [
      "Collecting pydotplus\r\n",
      "  Downloading pydotplus-2.0.2.tar.gz (278 kB)\r\n",
      "\u001b[K     |████████████████████████████████| 278 kB 403 kB/s \r\n",
      "\u001b[?25hRequirement already satisfied: pyparsing>=2.0.1 in /opt/conda/lib/python3.7/site-packages (from pydotplus) (2.4.7)\r\n",
      "Building wheels for collected packages: pydotplus\r\n",
      "  Building wheel for pydotplus (setup.py) ... \u001b[?25l-\b \b\\\b \bdone\r\n",
      "\u001b[?25h  Created wheel for pydotplus: filename=pydotplus-2.0.2-py3-none-any.whl size=24566 sha256=0d7beff6128918f9274c7405f977c368f778ae28b09b35259097a5034bfdedf1\r\n",
      "  Stored in directory: /root/.cache/pip/wheels/1e/7b/04/7387cf6cc9e48b4a96e361b0be812f0708b394b821bf8c9c50\r\n",
      "Successfully built pydotplus\r\n",
      "Installing collected packages: pydotplus\r\n",
      "Successfully installed pydotplus-2.0.2\r\n",
      "\u001b[33mWARNING: You are using pip version 20.1.1; however, version 20.2.1 is available.\r\n",
      "You should consider upgrading via the '/opt/conda/bin/python3.7 -m pip install --upgrade pip' command.\u001b[0m\r\n"
     ]
    },
    {
     "data": {
      "image/png": "[encoded data removed]",
      "text/plain": [
       "<IPython.core.display.Image object>"
      ]
     },
     "execution_count": 12,
     "metadata": {},
     "output_type": "execute_result"
    }
   ],
   "source": [
    "# Plotting of decission tree\n",
    "from IPython.display import Image\n",
    "from sklearn.tree import export_graphviz\n",
    "\n",
    "!pip install pydotplus\n",
    "import pydotplus\n",
    "\n",
    "\n",
    "features = X.columns\n",
    "dot_data = export_graphviz(dt, out_file=None, feature_names=features)\n",
    "graph = pydotplus.graph_from_dot_data(dot_data)\n",
    "Image(graph.create_png())"
   ]
  },
  {
   "cell_type": "code",
   "execution_count": 13,
   "metadata": {
    "execution": {
     "iopub.execute_input": "2020-08-11T07:17:34.095458Z",
     "iopub.status.busy": "2020-08-11T07:17:34.094639Z",
     "iopub.status.idle": "2020-08-11T07:17:34.105160Z",
     "shell.execute_reply": "2020-08-11T07:17:34.104319Z"
    },
    "papermill": {
     "duration": 0.033788,
     "end_time": "2020-08-11T07:17:34.105293",
     "exception": false,
     "start_time": "2020-08-11T07:17:34.071505",
     "status": "completed"
    },
    "tags": []
   },
   "outputs": [],
   "source": [
    "# Defining an object for DTC and fitting for train dataset\n",
    "dt = DecisionTreeClassifier(random_state=1)\n",
    "dt.fit(X_train, y_train)\n",
    "\n",
    "y_pred_train = dt.predict(X_train)\n",
    "y_pred = dt.predict(X_test)\n",
    "y_prob = dt.predict_proba(X_test)"
   ]
  },
  {
   "cell_type": "code",
   "execution_count": 14,
   "metadata": {
    "execution": {
     "iopub.execute_input": "2020-08-11T07:17:34.137283Z",
     "iopub.status.busy": "2020-08-11T07:17:34.136453Z",
     "iopub.status.idle": "2020-08-11T07:17:34.141147Z",
     "shell.execute_reply": "2020-08-11T07:17:34.140480Z"
    },
    "papermill": {
     "duration": 0.023886,
     "end_time": "2020-08-11T07:17:34.141278",
     "exception": false,
     "start_time": "2020-08-11T07:17:34.117392",
     "status": "completed"
    },
    "tags": []
   },
   "outputs": [
    {
     "name": "stdout",
     "output_type": "stream",
     "text": [
      "Accuracy of Decision Tree-Train:  1.0\n",
      "Accuracy of Decision Tree-Test:  0.9545454545454546\n"
     ]
    }
   ],
   "source": [
    "print('Accuracy of Decision Tree-Train: ', accuracy_score(y_pred_train, y_train))\n",
    "print('Accuracy of Decision Tree-Test: ', accuracy_score(y_pred, y_test))"
   ]
  },
  {
   "cell_type": "markdown",
   "execution_count": null,
   "metadata": {
    "papermill": {
     "duration": 0.011689,
     "end_time": "2020-08-11T07:17:34.165835",
     "exception": false,
     "start_time": "2020-08-11T07:17:34.154146",
     "status": "completed"
    },
    "tags": []
   },
   "source": [
    "- The accuracy of the DT has slightly overfit\n",
    "- Shall try hyperparameter tuning to reduce overfitting if possible"
   ]
  },
  {
   "cell_type": "code",
   "execution_count": 15,
   "metadata": {
    "execution": {
     "iopub.execute_input": "2020-08-11T07:17:34.197358Z",
     "iopub.status.busy": "2020-08-11T07:17:34.196217Z",
     "iopub.status.idle": "2020-08-11T07:17:34.207505Z",
     "shell.execute_reply": "2020-08-11T07:17:34.206514Z"
    },
    "papermill": {
     "duration": 0.029965,
     "end_time": "2020-08-11T07:17:34.207719",
     "exception": false,
     "start_time": "2020-08-11T07:17:34.177754",
     "status": "completed"
    },
    "tags": []
   },
   "outputs": [
    {
     "name": "stdout",
     "output_type": "stream",
     "text": [
      "                 precision    recall  f1-score   support\n",
      "\n",
      "    Iris-setosa       1.00      1.00      1.00        15\n",
      "Iris-versicolor       1.00      0.87      0.93        15\n",
      " Iris-virginica       0.88      1.00      0.93        14\n",
      "\n",
      "       accuracy                           0.95        44\n",
      "      macro avg       0.96      0.96      0.95        44\n",
      "   weighted avg       0.96      0.95      0.95        44\n",
      "\n"
     ]
    }
   ],
   "source": [
    "#Classification for test before hyperparameter tuning\n",
    "print(classification_report(y_test,y_pred))"
   ]
  },
  {
   "cell_type": "code",
   "execution_count": 16,
   "metadata": {
    "execution": {
     "iopub.execute_input": "2020-08-11T07:17:34.245537Z",
     "iopub.status.busy": "2020-08-11T07:17:34.242246Z",
     "iopub.status.idle": "2020-08-11T07:17:35.899666Z",
     "shell.execute_reply": "2020-08-11T07:17:35.898818Z"
    },
    "papermill": {
     "duration": 1.679848,
     "end_time": "2020-08-11T07:17:35.899808",
     "exception": false,
     "start_time": "2020-08-11T07:17:34.219960",
     "status": "completed"
    },
    "tags": []
   },
   "outputs": [
    {
     "data": {
      "text/plain": [
       "{'max_depth': 3, 'min_samples_leaf': 3, 'min_samples_split': 2}"
      ]
     },
     "execution_count": 16,
     "metadata": {},
     "output_type": "execute_result"
    }
   ],
   "source": [
    "# Hyperparameter Tuning of DTC\n",
    "\n",
    "dt = DecisionTreeClassifier(random_state=1)\n",
    "\n",
    "params = {'max_depth' : [2,3,4,5],\n",
    "        'min_samples_split': [2,3,4,5],\n",
    "        'min_samples_leaf': [1,2,3,4,5]}\n",
    "\n",
    "gsearch = GridSearchCV(dt, param_grid=params, cv=3)\n",
    "\n",
    "gsearch.fit(X,y)\n",
    "\n",
    "gsearch.best_params_"
   ]
  },
  {
   "cell_type": "code",
   "execution_count": 17,
   "metadata": {
    "execution": {
     "iopub.execute_input": "2020-08-11T07:17:35.936798Z",
     "iopub.status.busy": "2020-08-11T07:17:35.936045Z",
     "iopub.status.idle": "2020-08-11T07:17:35.948376Z",
     "shell.execute_reply": "2020-08-11T07:17:35.948921Z"
    },
    "papermill": {
     "duration": 0.035326,
     "end_time": "2020-08-11T07:17:35.949121",
     "exception": false,
     "start_time": "2020-08-11T07:17:35.913795",
     "status": "completed"
    },
    "tags": []
   },
   "outputs": [],
   "source": [
    "# Passing best parameter for the Hyperparameter Tuning\n",
    "dt = DecisionTreeClassifier(**gsearch.best_params_, random_state=1)\n",
    "\n",
    "dt.fit(X_train, y_train)\n",
    "\n",
    "y_pred_train = dt.predict(X_train)\n",
    "y_prob_train = dt.predict_proba(X_train)[:,1]\n",
    "\n",
    "y_pred = dt.predict(X_test)\n",
    "y_prob = dt.predict_proba(X_test)[:,1]"
   ]
  },
  {
   "cell_type": "code",
   "execution_count": 18,
   "metadata": {
    "execution": {
     "iopub.execute_input": "2020-08-11T07:17:35.982996Z",
     "iopub.status.busy": "2020-08-11T07:17:35.981059Z",
     "iopub.status.idle": "2020-08-11T07:17:35.988300Z",
     "shell.execute_reply": "2020-08-11T07:17:35.988846Z"
    },
    "papermill": {
     "duration": 0.027428,
     "end_time": "2020-08-11T07:17:35.989047",
     "exception": false,
     "start_time": "2020-08-11T07:17:35.961619",
     "status": "completed"
    },
    "tags": []
   },
   "outputs": [
    {
     "name": "stdout",
     "output_type": "stream",
     "text": [
      "Confusion Matrix - Train: \n",
      " [[32  0  0]\n",
      " [ 0 33  1]\n",
      " [ 0  0 36]]\n",
      "\n",
      " Confusion Matrix - Test: \n",
      " [[15  0  0]\n",
      " [ 0 13  2]\n",
      " [ 0  0 14]]\n"
     ]
    }
   ],
   "source": [
    "print('Confusion Matrix - Train:','\\n',confusion_matrix(y_train,y_pred_train))\n",
    "print('\\n','Confusion Matrix - Test:','\\n',confusion_matrix(y_test,y_pred))"
   ]
  },
  {
   "cell_type": "code",
   "execution_count": 19,
   "metadata": {
    "execution": {
     "iopub.execute_input": "2020-08-11T07:17:36.021840Z",
     "iopub.status.busy": "2020-08-11T07:17:36.020784Z",
     "iopub.status.idle": "2020-08-11T07:17:36.033171Z",
     "shell.execute_reply": "2020-08-11T07:17:36.032354Z"
    },
    "papermill": {
     "duration": 0.030749,
     "end_time": "2020-08-11T07:17:36.033323",
     "exception": false,
     "start_time": "2020-08-11T07:17:36.002574",
     "status": "completed"
    },
    "tags": []
   },
   "outputs": [
    {
     "name": "stdout",
     "output_type": "stream",
     "text": [
      "                 precision    recall  f1-score   support\n",
      "\n",
      "    Iris-setosa       1.00      1.00      1.00        15\n",
      "Iris-versicolor       1.00      0.87      0.93        15\n",
      " Iris-virginica       0.88      1.00      0.93        14\n",
      "\n",
      "       accuracy                           0.95        44\n",
      "      macro avg       0.96      0.96      0.95        44\n",
      "   weighted avg       0.96      0.95      0.95        44\n",
      "\n"
     ]
    }
   ],
   "source": [
    "#Classification for test after hyperparameter tuning\n",
    "print(classification_report(y_test,y_pred))"
   ]
  },
  {
   "cell_type": "code",
   "execution_count": 20,
   "metadata": {
    "execution": {
     "iopub.execute_input": "2020-08-11T07:17:36.066616Z",
     "iopub.status.busy": "2020-08-11T07:17:36.065628Z",
     "iopub.status.idle": "2020-08-11T07:17:36.069074Z",
     "shell.execute_reply": "2020-08-11T07:17:36.069646Z"
    },
    "papermill": {
     "duration": 0.023338,
     "end_time": "2020-08-11T07:17:36.069802",
     "exception": false,
     "start_time": "2020-08-11T07:17:36.046464",
     "status": "completed"
    },
    "tags": []
   },
   "outputs": [
    {
     "name": "stdout",
     "output_type": "stream",
     "text": [
      "Accuracy of Decision Tree-Train:  0.9901960784313726\n",
      "Accuracy of Decision Tree-Test:  0.9545454545454546\n"
     ]
    }
   ],
   "source": [
    "print('Accuracy of Decision Tree-Train: ', accuracy_score(y_pred_train, y_train))\n",
    "print('Accuracy of Decision Tree-Test: ', accuracy_score(y_pred, y_test))"
   ]
  },
  {
   "cell_type": "markdown",
   "execution_count": null,
   "metadata": {
    "papermill": {
     "duration": 0.012674,
     "end_time": "2020-08-11T07:17:36.095301",
     "exception": false,
     "start_time": "2020-08-11T07:17:36.082627",
     "status": "completed"
    },
    "tags": []
   },
   "source": [
    "- After hyperparameter tuning we can say the overfitting has been reduced slightly"
   ]
  }
 ],
 "metadata": {
  "kernelspec": {
   "display_name": "Python 3",
   "language": "python",
   "name": "python3"
  },
  "language_info": {
   "codemirror_mode": {
    "name": "ipython",
    "version": 3
   },
   "file_extension": ".py",
   "mimetype": "text/x-python",
   "name": "python",
   "nbconvert_exporter": "python",
   "pygments_lexer": "ipython3",
   "version": "3.7.6"
  },
  "papermill": {
   "duration": 25.032615,
   "end_time": "2020-08-11T07:17:36.215661",
   "environment_variables": {},
   "exception": null,
   "input_path": "__notebook__.ipynb",
   "output_path": "__notebook__.ipynb",
   "parameters": {},
   "start_time": "2020-08-11T07:17:11.183046",
   "version": "2.1.0"
  }
 },
 "nbformat": 4,
 "nbformat_minor": 4
}
