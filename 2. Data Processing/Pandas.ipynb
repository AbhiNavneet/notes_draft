{
  "cells": [
    {
      "cell_type": "markdown",
      "metadata": {
        "colab_type": "text",
        "id": "view-in-github"
      },
      "source": [
        "<a href=\"https://colab.research.google.com/github/sureshmecad/CloudyML-AI-FOR-ALL/blob/main/5_Pandas_CloudyML.ipynb\" target=\"_parent\"><img src=\"https://colab.research.google.com/assets/colab-badge.svg\" alt=\"Open In Colab\"/></a>"
      ]
    },
    {
      "cell_type": "markdown",
      "id": "PANBxgY3Tj4t",
      "metadata": {
        "id": "PANBxgY3Tj4t"
      },
      "source": [
        "# <center><u>Pandas <u> </center>"
      ]
    },
    {
      "cell_type": "markdown",
      "id": "h3M-0VYJTj4u",
      "metadata": {
        "id": "h3M-0VYJTj4u"
      },
      "source": [
        "## 1.[Pandas Series](https://pandas.pydata.org/pandas-docs/stable/reference/series.html)\n",
        "\n",
        "Pandas is a python library built on top of Numpy.\n",
        "\n",
        "While Numpy is best suited for working with arrays based numerical data, Pandas is designed for working with tabular data. It allows us to perform powerful tabular data based operations similar to those used in spreadsheet programs like excel.\n",
        "Pandas Objects\n",
        "\n",
        "There are two fundamental Datatypes in pandas, they are:\n",
        "1. Series: A Series is a one dimensional array containing a sequence of homogeneous(same) values. The Series object is similar to a one dimensional array. A pandas series can be created from a homogeneous list or an array.\n",
        "\n",
        "2. Dataframe: The DataFrame basically represents a rectangular table of data, which contains an ordered collection of homogeneous(same) columns. Though the elements within a single column have to be homogeneous, each column can independently have its own different data type. The DataFrame objects have two indexes, one to represent the rows within the rectangular table of data and one for the columns."
      ]
    },
    {
      "cell_type": "markdown",
      "id": "B7kGnjDoTj4v",
      "metadata": {
        "id": "B7kGnjDoTj4v"
      },
      "source": [
        "### Import pandas and numpy with their aliases"
      ]
    },
    {
      "cell_type": "code",
      "execution_count": 1,
      "id": "WH36K915Tj4w",
      "metadata": {
        "id": "WH36K915Tj4w"
      },
      "outputs": [],
      "source": [
        "import numpy as np\n",
        "import pandas as pd"
      ]
    },
    {
      "cell_type": "markdown",
      "id": "w9Jxv3MPTj4w",
      "metadata": {
        "id": "w9Jxv3MPTj4w"
      },
      "source": [
        "Create a variable a = pd.Series([ 100, 200, 300, 400])"
      ]
    },
    {
      "cell_type": "code",
      "execution_count": 2,
      "id": "NKFfE8vcTj4w",
      "metadata": {
        "id": "NKFfE8vcTj4w"
      },
      "outputs": [],
      "source": [
        "a = pd.Series([ 100, 200, 300, 400])"
      ]
    },
    {
      "cell_type": "markdown",
      "id": "q3dNZloETj4x",
      "metadata": {
        "id": "q3dNZloETj4x"
      },
      "source": [
        "* Print a, and data type"
      ]
    },
    {
      "cell_type": "code",
      "execution_count": 3,
      "id": "Xs-5Zm08Tj4x",
      "metadata": {
        "colab": {
          "base_uri": "https://localhost:8080/"
        },
        "id": "Xs-5Zm08Tj4x",
        "outputId": "4eece8da-1c06-40ee-c849-50bc140d3496"
      },
      "outputs": [
        {
          "name": "stdout",
          "output_type": "stream",
          "text": [
            "0    100\n",
            "1    200\n",
            "2    300\n",
            "3    400\n",
            "dtype: int64\n",
            "<class 'pandas.core.series.Series'>\n"
          ]
        }
      ],
      "source": [
        "print(a)\n",
        "print(type(a))"
      ]
    },
    {
      "cell_type": "markdown",
      "id": "JB5izz0wTj4y",
      "metadata": {
        "id": "JB5izz0wTj4y"
      },
      "source": [
        "* Using indexing access the element 300 from the series a."
      ]
    },
    {
      "cell_type": "code",
      "execution_count": 4,
      "id": "jf6Y1od-Tj4y",
      "metadata": {
        "colab": {
          "base_uri": "https://localhost:8080/"
        },
        "id": "jf6Y1od-Tj4y",
        "outputId": "ccb5c30c-dfca-4c56-81af-2cd78a86b06c"
      },
      "outputs": [
        {
          "data": {
            "text/plain": [
              "300"
            ]
          },
          "execution_count": 4,
          "metadata": {
            "tags": []
          },
          "output_type": "execute_result"
        }
      ],
      "source": [
        "a[2]"
      ]
    },
    {
      "cell_type": "markdown",
      "id": "B6Yac7AQTj4y",
      "metadata": {
        "id": "B6Yac7AQTj4y"
      },
      "source": [
        "* What are the values of index for series a?"
      ]
    },
    {
      "cell_type": "code",
      "execution_count": 5,
      "id": "VJjFVrnnTj4z",
      "metadata": {
        "colab": {
          "base_uri": "https://localhost:8080/"
        },
        "id": "VJjFVrnnTj4z",
        "outputId": "1d44a7d8-f40b-4b57-9036-c1695854d9bb"
      },
      "outputs": [
        {
          "data": {
            "text/plain": [
              "range(0, 4)"
            ]
          },
          "execution_count": 5,
          "metadata": {
            "tags": []
          },
          "output_type": "execute_result"
        }
      ],
      "source": [
        "range(0,4,1)"
      ]
    },
    {
      "cell_type": "markdown",
      "id": "m_p3a6MPTj4z",
      "metadata": {
        "id": "m_p3a6MPTj4z"
      },
      "source": [
        "* Change the index to  ['c', 'a', 'b', 'd']"
      ]
    },
    {
      "cell_type": "code",
      "execution_count": 6,
      "id": "YJOH_f0HTj4z",
      "metadata": {
        "colab": {
          "base_uri": "https://localhost:8080/"
        },
        "id": "YJOH_f0HTj4z",
        "outputId": "81a1e833-058b-410d-ff47-f72575332b92"
      },
      "outputs": [
        {
          "data": {
            "text/plain": [
              "c    100\n",
              "a    200\n",
              "b    300\n",
              "d    400\n",
              "dtype: int64"
            ]
          },
          "execution_count": 6,
          "metadata": {
            "tags": []
          },
          "output_type": "execute_result"
        }
      ],
      "source": [
        "a.index = ['c', 'a', 'b', 'd']\n",
        "a"
      ]
    },
    {
      "cell_type": "markdown",
      "id": "mkX6Ah14Tj4z",
      "metadata": {
        "id": "mkX6Ah14Tj4z"
      },
      "source": [
        "* Access the value in the series with index 'd'"
      ]
    },
    {
      "cell_type": "code",
      "execution_count": 7,
      "id": "rV01auX6Tj4z",
      "metadata": {
        "colab": {
          "base_uri": "https://localhost:8080/"
        },
        "id": "rV01auX6Tj4z",
        "outputId": "84a0f813-b7a4-468d-95b5-52a807320c41"
      },
      "outputs": [
        {
          "data": {
            "text/plain": [
              "400"
            ]
          },
          "execution_count": 7,
          "metadata": {
            "tags": []
          },
          "output_type": "execute_result"
        }
      ],
      "source": [
        "a['d']"
      ]
    },
    {
      "cell_type": "markdown",
      "id": "eHnQuSQBTj40",
      "metadata": {
        "id": "eHnQuSQBTj40"
      },
      "source": [
        "* Sort the values wrt to the index and print it"
      ]
    },
    {
      "cell_type": "code",
      "execution_count": 8,
      "id": "pzcB82cVTj40",
      "metadata": {
        "colab": {
          "base_uri": "https://localhost:8080/"
        },
        "id": "pzcB82cVTj40",
        "outputId": "9682d73d-d76e-4993-8b81-12d759710dec"
      },
      "outputs": [
        {
          "data": {
            "text/plain": [
              "a    200\n",
              "b    300\n",
              "c    100\n",
              "d    400\n",
              "dtype: int64"
            ]
          },
          "execution_count": 8,
          "metadata": {
            "tags": []
          },
          "output_type": "execute_result"
        }
      ],
      "source": [
        "a.sort_index()"
      ]
    },
    {
      "cell_type": "markdown",
      "id": "OqvjWQG1Tj40",
      "metadata": {
        "id": "OqvjWQG1Tj40"
      },
      "source": [
        "* Create a new Pandas Series b having index as 'e', 'f', and 'g' and value 800,450,100 and print it"
      ]
    },
    {
      "cell_type": "markdown",
      "id": "DCXo4eqPTj40",
      "metadata": {
        "id": "DCXo4eqPTj40"
      },
      "source": [
        "<p style='text-align: right;'> 4*2=8 points</p>\n"
      ]
    },
    {
      "cell_type": "code",
      "execution_count": 9,
      "id": "qx4eXwr3Tj40",
      "metadata": {
        "colab": {
          "base_uri": "https://localhost:8080/"
        },
        "id": "qx4eXwr3Tj40",
        "outputId": "e23eb11e-7560-4ca0-b598-22a6e024bb0e"
      },
      "outputs": [
        {
          "data": {
            "text/plain": [
              "e    800\n",
              "f    450\n",
              "g    100\n",
              "dtype: int64"
            ]
          },
          "execution_count": 9,
          "metadata": {
            "tags": []
          },
          "output_type": "execute_result"
        }
      ],
      "source": [
        "b = pd.Series([800, 450, 100], index=['e', 'f', 'g'])\n",
        "b"
      ]
    },
    {
      "cell_type": "markdown",
      "id": "Y_z1oL_rTj41",
      "metadata": {
        "id": "Y_z1oL_rTj41"
      },
      "source": [
        "* Append b series at the end of a series"
      ]
    },
    {
      "cell_type": "code",
      "execution_count": 10,
      "id": "7X_Gsg4_Tj41",
      "metadata": {
        "colab": {
          "base_uri": "https://localhost:8080/"
        },
        "id": "7X_Gsg4_Tj41",
        "outputId": "95c70705-ea23-4b82-8004-2ea9e5f77811"
      },
      "outputs": [
        {
          "data": {
            "text/plain": [
              "c    100\n",
              "a    200\n",
              "b    300\n",
              "d    400\n",
              "e    800\n",
              "f    450\n",
              "g    100\n",
              "dtype: int64"
            ]
          },
          "execution_count": 10,
          "metadata": {
            "tags": []
          },
          "output_type": "execute_result"
        }
      ],
      "source": [
        "a = a.append(b)\n",
        "a"
      ]
    },
    {
      "cell_type": "code",
      "execution_count": 11,
      "id": "Bf593PceTj41",
      "metadata": {
        "colab": {
          "base_uri": "https://localhost:8080/"
        },
        "id": "Bf593PceTj41",
        "outputId": "8c8ac5da-7dd5-477b-c7f3-a928e3f8cfa8"
      },
      "outputs": [
        {
          "data": {
            "text/plain": [
              "c    100\n",
              "a    200\n",
              "b    300\n",
              "d    400\n",
              "e    800\n",
              "f    450\n",
              "g    100\n",
              "dtype: int64"
            ]
          },
          "execution_count": 11,
          "metadata": {
            "tags": []
          },
          "output_type": "execute_result"
        }
      ],
      "source": [
        "#print a again after appending b into it\n",
        "a"
      ]
    },
    {
      "cell_type": "markdown",
      "id": "RBJIDiJkTj41",
      "metadata": {
        "id": "RBJIDiJkTj41"
      },
      "source": [
        "* Sort the values in descending order of a and print the index of the sorted series"
      ]
    },
    {
      "cell_type": "code",
      "execution_count": 12,
      "id": "1aANEzGTTj41",
      "metadata": {
        "colab": {
          "base_uri": "https://localhost:8080/"
        },
        "id": "1aANEzGTTj41",
        "outputId": "0018e376-fae0-4a52-b53a-df8f4375bd3d"
      },
      "outputs": [
        {
          "data": {
            "text/plain": [
              "e    800\n",
              "f    450\n",
              "d    400\n",
              "b    300\n",
              "a    200\n",
              "g    100\n",
              "c    100\n",
              "dtype: int64"
            ]
          },
          "execution_count": 12,
          "metadata": {
            "tags": []
          },
          "output_type": "execute_result"
        }
      ],
      "source": [
        "a=a.sort_values(ascending=False)\n",
        "a"
      ]
    },
    {
      "cell_type": "code",
      "execution_count": 13,
      "id": "wNQbzqxhTj42",
      "metadata": {
        "colab": {
          "base_uri": "https://localhost:8080/"
        },
        "id": "wNQbzqxhTj42",
        "outputId": "0b73db94-0fef-4c83-e97c-9fcb6a3c5c95"
      },
      "outputs": [
        {
          "data": {
            "text/plain": [
              "Index(['e', 'f', 'd', 'b', 'a', 'g', 'c'], dtype='object')"
            ]
          },
          "execution_count": 13,
          "metadata": {
            "tags": []
          },
          "output_type": "execute_result"
        }
      ],
      "source": [
        "# print index of a\n",
        "a.index\n"
      ]
    },
    {
      "cell_type": "markdown",
      "id": "09nHpd9RTj42",
      "metadata": {
        "id": "09nHpd9RTj42"
      },
      "source": [
        "## 2. [Pandas DataFrame](https://pandas.pydata.org/pandas-docs/stable/reference/api/pandas.DataFrame.html)"
      ]
    },
    {
      "cell_type": "markdown",
      "id": "XijGxUbaTj42",
      "metadata": {
        "id": "XijGxUbaTj42"
      },
      "source": [
        "## Part 1"
      ]
    },
    {
      "cell_type": "markdown",
      "id": "Iur3AMH_Tj43",
      "metadata": {
        "id": "Iur3AMH_Tj43"
      },
      "source": [
        "* Create a pandas dataframe df from the series 'a' that we used in the last section, print the dataframe"
      ]
    },
    {
      "cell_type": "code",
      "execution_count": 14,
      "id": "7QTFaN9gTj43",
      "metadata": {
        "colab": {
          "base_uri": "https://localhost:8080/",
          "height": 266
        },
        "id": "7QTFaN9gTj43",
        "outputId": "fc4743f3-b1ea-4214-f0fc-07e3195db241"
      },
      "outputs": [
        {
          "data": {
            "text/html": [
              "<div>\n",
              "<style scoped>\n",
              "    .dataframe tbody tr th:only-of-type {\n",
              "        vertical-align: middle;\n",
              "    }\n",
              "\n",
              "    .dataframe tbody tr th {\n",
              "        vertical-align: top;\n",
              "    }\n",
              "\n",
              "    .dataframe thead th {\n",
              "        text-align: right;\n",
              "    }\n",
              "</style>\n",
              "<table border=\"1\" class=\"dataframe\">\n",
              "  <thead>\n",
              "    <tr style=\"text-align: right;\">\n",
              "      <th></th>\n",
              "      <th>0</th>\n",
              "    </tr>\n",
              "  </thead>\n",
              "  <tbody>\n",
              "    <tr>\n",
              "      <th>e</th>\n",
              "      <td>800</td>\n",
              "    </tr>\n",
              "    <tr>\n",
              "      <th>f</th>\n",
              "      <td>450</td>\n",
              "    </tr>\n",
              "    <tr>\n",
              "      <th>d</th>\n",
              "      <td>400</td>\n",
              "    </tr>\n",
              "    <tr>\n",
              "      <th>b</th>\n",
              "      <td>300</td>\n",
              "    </tr>\n",
              "    <tr>\n",
              "      <th>a</th>\n",
              "      <td>200</td>\n",
              "    </tr>\n",
              "    <tr>\n",
              "      <th>g</th>\n",
              "      <td>100</td>\n",
              "    </tr>\n",
              "    <tr>\n",
              "      <th>c</th>\n",
              "      <td>100</td>\n",
              "    </tr>\n",
              "  </tbody>\n",
              "</table>\n",
              "</div>"
            ],
            "text/plain": [
              "     0\n",
              "e  800\n",
              "f  450\n",
              "d  400\n",
              "b  300\n",
              "a  200\n",
              "g  100\n",
              "c  100"
            ]
          },
          "execution_count": 14,
          "metadata": {
            "tags": []
          },
          "output_type": "execute_result"
        }
      ],
      "source": [
        "df = pd.DataFrame(a)\n",
        "df"
      ]
    },
    {
      "cell_type": "markdown",
      "id": "Lt7lLN4qTj43",
      "metadata": {
        "id": "Lt7lLN4qTj43"
      },
      "source": [
        "* Point to ponder! Don't you think series a and dataframe df looks alike? But there must be some difference between them.\n",
        "\n",
        "* A Pandas Series is one dimensioned whereas a DataFrame is two dimensioned. Therefore, a single column DataFrame can have a name for its single column but a Series cannot have a column name. In fact, each column of a DataFrame can be converted to a series"
      ]
    },
    {
      "cell_type": "markdown",
      "id": "3FImOk-wTj44",
      "metadata": {
        "id": "3FImOk-wTj44"
      },
      "source": [
        "* What is the shape of the datafarme?? <br>\n"
      ]
    },
    {
      "cell_type": "code",
      "execution_count": 16,
      "id": "bpeT13F-Tj44",
      "metadata": {
        "colab": {
          "base_uri": "https://localhost:8080/"
        },
        "id": "bpeT13F-Tj44",
        "outputId": "3696f61f-3735-47ef-ca06-ee40c67a0c8c"
      },
      "outputs": [
        {
          "data": {
            "text/plain": [
              "(7, 1)"
            ]
          },
          "execution_count": 16,
          "metadata": {
            "tags": []
          },
          "output_type": "execute_result"
        }
      ],
      "source": [
        "df.shape"
      ]
    },
    {
      "cell_type": "markdown",
      "id": "-k77ncJfTj44",
      "metadata": {
        "id": "-k77ncJfTj44"
      },
      "source": [
        "* Hey! remember shape (7,1) implies dataframe has 7 rows and 1 column. "
      ]
    },
    {
      "cell_type": "markdown",
      "id": "XLOMnoMWTj44",
      "metadata": {
        "id": "XLOMnoMWTj44"
      },
      "source": [
        "* What is the index of the dataframe, is it same as the series 'a' ?"
      ]
    },
    {
      "cell_type": "code",
      "execution_count": 17,
      "id": "FzwhAXiLTj45",
      "metadata": {
        "colab": {
          "base_uri": "https://localhost:8080/"
        },
        "id": "FzwhAXiLTj45",
        "outputId": "7f8f42ee-e384-497a-dbfe-383390e76876"
      },
      "outputs": [
        {
          "data": {
            "text/plain": [
              "Index(['e', 'f', 'd', 'b', 'a', 'g', 'c'], dtype='object')"
            ]
          },
          "execution_count": 17,
          "metadata": {
            "tags": []
          },
          "output_type": "execute_result"
        }
      ],
      "source": [
        "df.index"
      ]
    },
    {
      "cell_type": "markdown",
      "id": "IjVDgqDuTj45",
      "metadata": {
        "id": "IjVDgqDuTj45"
      },
      "source": [
        "* print the head and tail of the dataframe. <br>\n",
        "* Additional - (what does head and tali represent?)"
      ]
    },
    {
      "cell_type": "code",
      "execution_count": 18,
      "id": "Cd5EHxTpTj45",
      "metadata": {
        "colab": {
          "base_uri": "https://localhost:8080/",
          "height": 204
        },
        "id": "Cd5EHxTpTj45",
        "outputId": "78e2e201-6338-422d-a282-826fb64f0b85"
      },
      "outputs": [
        {
          "data": {
            "text/html": [
              "<div>\n",
              "<style scoped>\n",
              "    .dataframe tbody tr th:only-of-type {\n",
              "        vertical-align: middle;\n",
              "    }\n",
              "\n",
              "    .dataframe tbody tr th {\n",
              "        vertical-align: top;\n",
              "    }\n",
              "\n",
              "    .dataframe thead th {\n",
              "        text-align: right;\n",
              "    }\n",
              "</style>\n",
              "<table border=\"1\" class=\"dataframe\">\n",
              "  <thead>\n",
              "    <tr style=\"text-align: right;\">\n",
              "      <th></th>\n",
              "      <th>0</th>\n",
              "    </tr>\n",
              "  </thead>\n",
              "  <tbody>\n",
              "    <tr>\n",
              "      <th>e</th>\n",
              "      <td>800</td>\n",
              "    </tr>\n",
              "    <tr>\n",
              "      <th>f</th>\n",
              "      <td>450</td>\n",
              "    </tr>\n",
              "    <tr>\n",
              "      <th>d</th>\n",
              "      <td>400</td>\n",
              "    </tr>\n",
              "    <tr>\n",
              "      <th>b</th>\n",
              "      <td>300</td>\n",
              "    </tr>\n",
              "    <tr>\n",
              "      <th>a</th>\n",
              "      <td>200</td>\n",
              "    </tr>\n",
              "  </tbody>\n",
              "</table>\n",
              "</div>"
            ],
            "text/plain": [
              "     0\n",
              "e  800\n",
              "f  450\n",
              "d  400\n",
              "b  300\n",
              "a  200"
            ]
          },
          "execution_count": 18,
          "metadata": {
            "tags": []
          },
          "output_type": "execute_result"
        }
      ],
      "source": [
        "#head\n",
        "# head prints first 5 rows of dataframe\n",
        "df.head()"
      ]
    },
    {
      "cell_type": "code",
      "execution_count": 19,
      "id": "M39Zx7_vTj45",
      "metadata": {
        "colab": {
          "base_uri": "https://localhost:8080/",
          "height": 204
        },
        "id": "M39Zx7_vTj45",
        "outputId": "b025dfe2-dba1-41aa-b436-d811c0f8b269"
      },
      "outputs": [
        {
          "data": {
            "text/html": [
              "<div>\n",
              "<style scoped>\n",
              "    .dataframe tbody tr th:only-of-type {\n",
              "        vertical-align: middle;\n",
              "    }\n",
              "\n",
              "    .dataframe tbody tr th {\n",
              "        vertical-align: top;\n",
              "    }\n",
              "\n",
              "    .dataframe thead th {\n",
              "        text-align: right;\n",
              "    }\n",
              "</style>\n",
              "<table border=\"1\" class=\"dataframe\">\n",
              "  <thead>\n",
              "    <tr style=\"text-align: right;\">\n",
              "      <th></th>\n",
              "      <th>0</th>\n",
              "    </tr>\n",
              "  </thead>\n",
              "  <tbody>\n",
              "    <tr>\n",
              "      <th>d</th>\n",
              "      <td>400</td>\n",
              "    </tr>\n",
              "    <tr>\n",
              "      <th>b</th>\n",
              "      <td>300</td>\n",
              "    </tr>\n",
              "    <tr>\n",
              "      <th>a</th>\n",
              "      <td>200</td>\n",
              "    </tr>\n",
              "    <tr>\n",
              "      <th>g</th>\n",
              "      <td>100</td>\n",
              "    </tr>\n",
              "    <tr>\n",
              "      <th>c</th>\n",
              "      <td>100</td>\n",
              "    </tr>\n",
              "  </tbody>\n",
              "</table>\n",
              "</div>"
            ],
            "text/plain": [
              "     0\n",
              "d  400\n",
              "b  300\n",
              "a  200\n",
              "g  100\n",
              "c  100"
            ]
          },
          "execution_count": 19,
          "metadata": {
            "tags": []
          },
          "output_type": "execute_result"
        }
      ],
      "source": [
        "#tail\n",
        "# tail prints last 5 rows of dataframe\n",
        "df.tail()"
      ]
    },
    {
      "cell_type": "markdown",
      "id": "BLK_k_BLTj45",
      "metadata": {
        "id": "BLK_k_BLTj45"
      },
      "source": [
        "* Rename the columns of the dataframe as 'points'"
      ]
    },
    {
      "cell_type": "code",
      "execution_count": 20,
      "id": "X-I4HOoiTj46",
      "metadata": {
        "colab": {
          "base_uri": "https://localhost:8080/",
          "height": 266
        },
        "id": "X-I4HOoiTj46",
        "outputId": "00581ebf-7d72-4742-df1b-c20eaef9e56c"
      },
      "outputs": [
        {
          "data": {
            "text/html": [
              "<div>\n",
              "<style scoped>\n",
              "    .dataframe tbody tr th:only-of-type {\n",
              "        vertical-align: middle;\n",
              "    }\n",
              "\n",
              "    .dataframe tbody tr th {\n",
              "        vertical-align: top;\n",
              "    }\n",
              "\n",
              "    .dataframe thead th {\n",
              "        text-align: right;\n",
              "    }\n",
              "</style>\n",
              "<table border=\"1\" class=\"dataframe\">\n",
              "  <thead>\n",
              "    <tr style=\"text-align: right;\">\n",
              "      <th></th>\n",
              "      <th>points</th>\n",
              "    </tr>\n",
              "  </thead>\n",
              "  <tbody>\n",
              "    <tr>\n",
              "      <th>e</th>\n",
              "      <td>800</td>\n",
              "    </tr>\n",
              "    <tr>\n",
              "      <th>f</th>\n",
              "      <td>450</td>\n",
              "    </tr>\n",
              "    <tr>\n",
              "      <th>d</th>\n",
              "      <td>400</td>\n",
              "    </tr>\n",
              "    <tr>\n",
              "      <th>b</th>\n",
              "      <td>300</td>\n",
              "    </tr>\n",
              "    <tr>\n",
              "      <th>a</th>\n",
              "      <td>200</td>\n",
              "    </tr>\n",
              "    <tr>\n",
              "      <th>g</th>\n",
              "      <td>100</td>\n",
              "    </tr>\n",
              "    <tr>\n",
              "      <th>c</th>\n",
              "      <td>100</td>\n",
              "    </tr>\n",
              "  </tbody>\n",
              "</table>\n",
              "</div>"
            ],
            "text/plain": [
              "   points\n",
              "e     800\n",
              "f     450\n",
              "d     400\n",
              "b     300\n",
              "a     200\n",
              "g     100\n",
              "c     100"
            ]
          },
          "execution_count": 20,
          "metadata": {
            "tags": []
          },
          "output_type": "execute_result"
        }
      ],
      "source": [
        "df.columns = [\"points\"]\n",
        "df"
      ]
    },
    {
      "cell_type": "markdown",
      "id": "a_ge5oMBTj46",
      "metadata": {
        "id": "a_ge5oMBTj46"
      },
      "source": [
        "* Create another Series 'fruits', which contains random names of fruits from ['orange','mango','apple']. The series should contain 7 elements, randomly selected from ['orange','mango','apple']"
      ]
    },
    {
      "cell_type": "code",
      "execution_count": 21,
      "id": "92BGQOkSTj46",
      "metadata": {
        "colab": {
          "base_uri": "https://localhost:8080/"
        },
        "id": "92BGQOkSTj46",
        "outputId": "f73e9bbe-64e0-43a8-a4ec-d27d96f72117"
      },
      "outputs": [
        {
          "data": {
            "text/plain": [
              "array(['mango', 'apple', 'orange', 'apple', 'apple', 'orange', 'orange'],\n",
              "      dtype='<U6')"
            ]
          },
          "execution_count": 21,
          "metadata": {
            "tags": []
          },
          "output_type": "execute_result"
        }
      ],
      "source": [
        "#Create fruits array\n",
        "import random\n",
        "import numpy as np\n",
        "#fruits = ['orange','mango','apple']\n",
        "fruits_array = np.random.choice(['orange', 'mango', 'apple'], 7)\n",
        "fruits_array"
      ]
    },
    {
      "cell_type": "markdown",
      "id": "tsKYe_FjTj46",
      "metadata": {
        "id": "tsKYe_FjTj46"
      },
      "source": [
        "* The above output might vary based randomness"
      ]
    },
    {
      "cell_type": "code",
      "execution_count": 22,
      "id": "EQm8-NWmTj47",
      "metadata": {
        "colab": {
          "base_uri": "https://localhost:8080/"
        },
        "id": "EQm8-NWmTj47",
        "outputId": "6b7808b4-2e9b-4379-e095-300d0c853448"
      },
      "outputs": [
        {
          "data": {
            "text/plain": [
              "0     mango\n",
              "1     apple\n",
              "2    orange\n",
              "3     apple\n",
              "4     apple\n",
              "5    orange\n",
              "6    orange\n",
              "dtype: object"
            ]
          },
          "execution_count": 22,
          "metadata": {
            "tags": []
          },
          "output_type": "execute_result"
        }
      ],
      "source": [
        "#Create series fruits out of fruits array\n",
        "fruits = pd.Series(fruits_array)\n",
        "fruits"
      ]
    },
    {
      "cell_type": "markdown",
      "id": "nJVSOFB_Tj47",
      "metadata": {
        "id": "nJVSOFB_Tj47"
      },
      "source": [
        "* Change the index of fruits to the index of dataframe df"
      ]
    },
    {
      "cell_type": "code",
      "execution_count": 23,
      "id": "9ZCDDHJuTj47",
      "metadata": {
        "colab": {
          "base_uri": "https://localhost:8080/"
        },
        "id": "9ZCDDHJuTj47",
        "outputId": "0d7fbfdb-ac51-4a34-dc04-87aa9fa2384b"
      },
      "outputs": [
        {
          "data": {
            "text/plain": [
              "e     mango\n",
              "f     apple\n",
              "d    orange\n",
              "b     apple\n",
              "a     apple\n",
              "g    orange\n",
              "c    orange\n",
              "dtype: object"
            ]
          },
          "execution_count": 23,
          "metadata": {
            "tags": []
          },
          "output_type": "execute_result"
        }
      ],
      "source": [
        "fruits.index = ['e', 'f', 'd', 'b', 'a', 'g', 'c']\n",
        "fruits"
      ]
    },
    {
      "cell_type": "markdown",
      "id": "--NgNWDrTj47",
      "metadata": {
        "id": "--NgNWDrTj47"
      },
      "source": [
        "* Add this fruits series as a new column to the dataframe df with its column name as 'fruits' <br> print the head of the dataframe to verify"
      ]
    },
    {
      "cell_type": "code",
      "execution_count": 24,
      "id": "0RtavqECTj48",
      "metadata": {
        "colab": {
          "base_uri": "https://localhost:8080/",
          "height": 204
        },
        "id": "0RtavqECTj48",
        "outputId": "2210e380-0d9c-4fa5-8443-bdf6b3a48f17"
      },
      "outputs": [
        {
          "data": {
            "text/html": [
              "<div>\n",
              "<style scoped>\n",
              "    .dataframe tbody tr th:only-of-type {\n",
              "        vertical-align: middle;\n",
              "    }\n",
              "\n",
              "    .dataframe tbody tr th {\n",
              "        vertical-align: top;\n",
              "    }\n",
              "\n",
              "    .dataframe thead th {\n",
              "        text-align: right;\n",
              "    }\n",
              "</style>\n",
              "<table border=\"1\" class=\"dataframe\">\n",
              "  <thead>\n",
              "    <tr style=\"text-align: right;\">\n",
              "      <th></th>\n",
              "      <th>fruits</th>\n",
              "      <th>points</th>\n",
              "    </tr>\n",
              "  </thead>\n",
              "  <tbody>\n",
              "    <tr>\n",
              "      <th>e</th>\n",
              "      <td>mango</td>\n",
              "      <td>800</td>\n",
              "    </tr>\n",
              "    <tr>\n",
              "      <th>f</th>\n",
              "      <td>apple</td>\n",
              "      <td>450</td>\n",
              "    </tr>\n",
              "    <tr>\n",
              "      <th>d</th>\n",
              "      <td>orange</td>\n",
              "      <td>400</td>\n",
              "    </tr>\n",
              "    <tr>\n",
              "      <th>b</th>\n",
              "      <td>apple</td>\n",
              "      <td>300</td>\n",
              "    </tr>\n",
              "    <tr>\n",
              "      <th>a</th>\n",
              "      <td>apple</td>\n",
              "      <td>200</td>\n",
              "    </tr>\n",
              "  </tbody>\n",
              "</table>\n",
              "</div>"
            ],
            "text/plain": [
              "   fruits  points\n",
              "e   mango     800\n",
              "f   apple     450\n",
              "d  orange     400\n",
              "b   apple     300\n",
              "a   apple     200"
            ]
          },
          "execution_count": 24,
          "metadata": {
            "tags": []
          },
          "output_type": "execute_result"
        }
      ],
      "source": [
        "fruits = pd.DataFrame(fruits)\n",
        "fruits.columns = [\"fruits\"]\n",
        "df1 = pd.concat([fruits, df], axis=1)\n",
        "df1.head()"
      ]
    },
    {
      "cell_type": "markdown",
      "id": "a19dCmdJTj48",
      "metadata": {
        "id": "a19dCmdJTj48"
      },
      "source": [
        "* <u>Bonus optional question:</u> <br>\n",
        "What if we had to changed the index of the dataframe? <br>\n",
        "Try to add any series to the dataframe with the origianl index (when index of series is not same as to the index of dataframe)\n",
        "\n",
        "* Use series as pd.Series([100,200,300,400,500,600,700]) and try to add it to df with column name Bonus_number."
      ]
    },
    {
      "cell_type": "code",
      "execution_count": 25,
      "id": "gULrBJcDTj48",
      "metadata": {
        "colab": {
          "base_uri": "https://localhost:8080/",
          "height": 266
        },
        "id": "gULrBJcDTj48",
        "outputId": "3b5e91e8-1575-4a5a-f687-7e95fc688e67"
      },
      "outputs": [
        {
          "data": {
            "text/html": [
              "<div>\n",
              "<style scoped>\n",
              "    .dataframe tbody tr th:only-of-type {\n",
              "        vertical-align: middle;\n",
              "    }\n",
              "\n",
              "    .dataframe tbody tr th {\n",
              "        vertical-align: top;\n",
              "    }\n",
              "\n",
              "    .dataframe thead th {\n",
              "        text-align: right;\n",
              "    }\n",
              "</style>\n",
              "<table border=\"1\" class=\"dataframe\">\n",
              "  <thead>\n",
              "    <tr style=\"text-align: right;\">\n",
              "      <th></th>\n",
              "      <th>fruits</th>\n",
              "      <th>points</th>\n",
              "      <th>Bonus_number</th>\n",
              "    </tr>\n",
              "  </thead>\n",
              "  <tbody>\n",
              "    <tr>\n",
              "      <th>e</th>\n",
              "      <td>mango</td>\n",
              "      <td>800</td>\n",
              "      <td>100</td>\n",
              "    </tr>\n",
              "    <tr>\n",
              "      <th>f</th>\n",
              "      <td>apple</td>\n",
              "      <td>450</td>\n",
              "      <td>200</td>\n",
              "    </tr>\n",
              "    <tr>\n",
              "      <th>d</th>\n",
              "      <td>orange</td>\n",
              "      <td>400</td>\n",
              "      <td>300</td>\n",
              "    </tr>\n",
              "    <tr>\n",
              "      <th>b</th>\n",
              "      <td>apple</td>\n",
              "      <td>300</td>\n",
              "      <td>400</td>\n",
              "    </tr>\n",
              "    <tr>\n",
              "      <th>a</th>\n",
              "      <td>apple</td>\n",
              "      <td>200</td>\n",
              "      <td>500</td>\n",
              "    </tr>\n",
              "    <tr>\n",
              "      <th>g</th>\n",
              "      <td>orange</td>\n",
              "      <td>100</td>\n",
              "      <td>600</td>\n",
              "    </tr>\n",
              "    <tr>\n",
              "      <th>c</th>\n",
              "      <td>orange</td>\n",
              "      <td>100</td>\n",
              "      <td>700</td>\n",
              "    </tr>\n",
              "  </tbody>\n",
              "</table>\n",
              "</div>"
            ],
            "text/plain": [
              "   fruits  points  Bonus_number\n",
              "e   mango     800           100\n",
              "f   apple     450           200\n",
              "d  orange     400           300\n",
              "b   apple     300           400\n",
              "a   apple     200           500\n",
              "g  orange     100           600\n",
              "c  orange     100           700"
            ]
          },
          "execution_count": 25,
          "metadata": {
            "tags": []
          },
          "output_type": "execute_result"
        }
      ],
      "source": [
        "#bonus code here\n",
        "\n",
        "new = pd.Series([100,200,300,400,500,600,700])\n",
        "new.index = ['e', 'f', 'd', 'b', 'a', 'g', 'c']\n",
        "new = pd.DataFrame(new)\n",
        "new.columns = ['Bonus_number']\n",
        "df2 = pd.concat([df1, new], axis=1)\n",
        "df2\n"
      ]
    },
    {
      "cell_type": "markdown",
      "id": "kA9Nxvv_Tj48",
      "metadata": {
        "id": "kA9Nxvv_Tj48"
      },
      "source": [
        "## Part 2"
      ]
    },
    {
      "cell_type": "markdown",
      "id": "nXQivRmeTj48",
      "metadata": {
        "id": "nXQivRmeTj48"
      },
      "source": [
        "* Create a dataframe  d1 where the columns are  ‘city’ : [‘Chandigarh’, ‘Delhi’, ‘Kanpur’, ‘Chennai’, ‘Manali’ ] and ‘Temperature’ : [15, 22, 20, 26,-2] "
      ]
    },
    {
      "cell_type": "markdown",
      "id": "ZxXXIic7Tj4-",
      "metadata": {
        "id": "ZxXXIic7Tj4-"
      },
      "source": [
        "<p style='text-align: right;'> 2*5=10 points</p>\n"
      ]
    },
    {
      "cell_type": "code",
      "execution_count": 26,
      "id": "BkwwEc2KTj4-",
      "metadata": {
        "id": "BkwwEc2KTj4-"
      },
      "outputs": [],
      "source": [
        "dict = {'city' : ['Chandigarh', 'Delhi', 'Kanpur', 'Chennai', 'Manali'], 'Temperature' : [15, 22, 20, 26,-2]}\n",
        "d1 = pd.DataFrame(dict)"
      ]
    },
    {
      "cell_type": "markdown",
      "id": "iPlnc3f6Tj4-",
      "metadata": {
        "id": "iPlnc3f6Tj4-"
      },
      "source": [
        "* Print d1"
      ]
    },
    {
      "cell_type": "code",
      "execution_count": 27,
      "id": "YpkZZ-m2Tj4_",
      "metadata": {
        "colab": {
          "base_uri": "https://localhost:8080/",
          "height": 204
        },
        "id": "YpkZZ-m2Tj4_",
        "outputId": "4ce95373-0a2f-405b-aad6-05bdc1f720e8"
      },
      "outputs": [
        {
          "data": {
            "text/html": [
              "<div>\n",
              "<style scoped>\n",
              "    .dataframe tbody tr th:only-of-type {\n",
              "        vertical-align: middle;\n",
              "    }\n",
              "\n",
              "    .dataframe tbody tr th {\n",
              "        vertical-align: top;\n",
              "    }\n",
              "\n",
              "    .dataframe thead th {\n",
              "        text-align: right;\n",
              "    }\n",
              "</style>\n",
              "<table border=\"1\" class=\"dataframe\">\n",
              "  <thead>\n",
              "    <tr style=\"text-align: right;\">\n",
              "      <th></th>\n",
              "      <th>city</th>\n",
              "      <th>Temperature</th>\n",
              "    </tr>\n",
              "  </thead>\n",
              "  <tbody>\n",
              "    <tr>\n",
              "      <th>0</th>\n",
              "      <td>Chandigarh</td>\n",
              "      <td>15</td>\n",
              "    </tr>\n",
              "    <tr>\n",
              "      <th>1</th>\n",
              "      <td>Delhi</td>\n",
              "      <td>22</td>\n",
              "    </tr>\n",
              "    <tr>\n",
              "      <th>2</th>\n",
              "      <td>Kanpur</td>\n",
              "      <td>20</td>\n",
              "    </tr>\n",
              "    <tr>\n",
              "      <th>3</th>\n",
              "      <td>Chennai</td>\n",
              "      <td>26</td>\n",
              "    </tr>\n",
              "    <tr>\n",
              "      <th>4</th>\n",
              "      <td>Manali</td>\n",
              "      <td>-2</td>\n",
              "    </tr>\n",
              "  </tbody>\n",
              "</table>\n",
              "</div>"
            ],
            "text/plain": [
              "         city  Temperature\n",
              "0  Chandigarh           15\n",
              "1       Delhi           22\n",
              "2      Kanpur           20\n",
              "3     Chennai           26\n",
              "4      Manali           -2"
            ]
          },
          "execution_count": 27,
          "metadata": {
            "tags": []
          },
          "output_type": "execute_result"
        }
      ],
      "source": [
        "d1"
      ]
    },
    {
      "cell_type": "markdown",
      "id": "krbGpWdaTj4_",
      "metadata": {
        "id": "krbGpWdaTj4_"
      },
      "source": [
        "* What is the shape of d1."
      ]
    },
    {
      "cell_type": "code",
      "execution_count": 28,
      "id": "z9r9drDwTj4_",
      "metadata": {
        "colab": {
          "base_uri": "https://localhost:8080/"
        },
        "id": "z9r9drDwTj4_",
        "outputId": "0cca4e8a-ebad-40fe-b823-08fbb17fa346"
      },
      "outputs": [
        {
          "data": {
            "text/plain": [
              "(5, 2)"
            ]
          },
          "execution_count": 28,
          "metadata": {
            "tags": []
          },
          "output_type": "execute_result"
        }
      ],
      "source": [
        "d1.shape"
      ]
    },
    {
      "cell_type": "markdown",
      "id": "QbwTbOISTj4_",
      "metadata": {
        "id": "QbwTbOISTj4_"
      },
      "source": [
        "* Set city = d1['city']"
      ]
    },
    {
      "cell_type": "code",
      "execution_count": 29,
      "id": "SWLl1D1bTj4_",
      "metadata": {
        "id": "SWLl1D1bTj4_"
      },
      "outputs": [],
      "source": [
        "city = d1['city']"
      ]
    },
    {
      "cell_type": "markdown",
      "id": "UMM3ZPMVTj4_",
      "metadata": {
        "id": "UMM3ZPMVTj4_"
      },
      "source": [
        "* print city <br>\n",
        "* What is the type of city."
      ]
    },
    {
      "cell_type": "code",
      "execution_count": 30,
      "id": "HK8OT3HlTj4_",
      "metadata": {
        "colab": {
          "base_uri": "https://localhost:8080/"
        },
        "id": "HK8OT3HlTj4_",
        "outputId": "f5068792-7ec4-4b7f-8395-3f382a97b596"
      },
      "outputs": [
        {
          "name": "stdout",
          "output_type": "stream",
          "text": [
            "0    Chandigarh\n",
            "1         Delhi\n",
            "2        Kanpur\n",
            "3       Chennai\n",
            "4        Manali\n",
            "Name: city, dtype: object\n",
            "<class 'pandas.core.series.Series'>\n"
          ]
        }
      ],
      "source": [
        "print(city)\n",
        "print(type(city))"
      ]
    },
    {
      "cell_type": "markdown",
      "id": "O9AWqQWpTj5A",
      "metadata": {
        "id": "O9AWqQWpTj5A"
      },
      "source": [
        "* Create another dataframe d2 where the columns are <br>\n",
        "'city' - ['Bengalaru','Coimbatore','Srirangam','Pondicherry'] <br>\n",
        "'Temperature' - [24,35,36,39]"
      ]
    },
    {
      "cell_type": "markdown",
      "id": "BfLACPlTTj5A",
      "metadata": {
        "id": "BfLACPlTTj5A"
      },
      "source": [
        "<p style='text-align: right;'> 3+2+5 = 10 points</p>\n"
      ]
    },
    {
      "cell_type": "code",
      "execution_count": 31,
      "id": "YUhb1G3QTj5A",
      "metadata": {
        "colab": {
          "base_uri": "https://localhost:8080/",
          "height": 173
        },
        "id": "YUhb1G3QTj5A",
        "outputId": "b9c14113-44db-4428-b00f-8a42b0a2000b"
      },
      "outputs": [
        {
          "data": {
            "text/html": [
              "<div>\n",
              "<style scoped>\n",
              "    .dataframe tbody tr th:only-of-type {\n",
              "        vertical-align: middle;\n",
              "    }\n",
              "\n",
              "    .dataframe tbody tr th {\n",
              "        vertical-align: top;\n",
              "    }\n",
              "\n",
              "    .dataframe thead th {\n",
              "        text-align: right;\n",
              "    }\n",
              "</style>\n",
              "<table border=\"1\" class=\"dataframe\">\n",
              "  <thead>\n",
              "    <tr style=\"text-align: right;\">\n",
              "      <th></th>\n",
              "      <th>city</th>\n",
              "      <th>Temperature</th>\n",
              "    </tr>\n",
              "  </thead>\n",
              "  <tbody>\n",
              "    <tr>\n",
              "      <th>0</th>\n",
              "      <td>Bengalaru</td>\n",
              "      <td>24</td>\n",
              "    </tr>\n",
              "    <tr>\n",
              "      <th>1</th>\n",
              "      <td>Coimbatore</td>\n",
              "      <td>35</td>\n",
              "    </tr>\n",
              "    <tr>\n",
              "      <th>2</th>\n",
              "      <td>Srirangam</td>\n",
              "      <td>36</td>\n",
              "    </tr>\n",
              "    <tr>\n",
              "      <th>3</th>\n",
              "      <td>Pondicherry</td>\n",
              "      <td>39</td>\n",
              "    </tr>\n",
              "  </tbody>\n",
              "</table>\n",
              "</div>"
            ],
            "text/plain": [
              "          city  Temperature\n",
              "0    Bengalaru           24\n",
              "1   Coimbatore           35\n",
              "2    Srirangam           36\n",
              "3  Pondicherry           39"
            ]
          },
          "execution_count": 31,
          "metadata": {
            "tags": []
          },
          "output_type": "execute_result"
        }
      ],
      "source": [
        "dict2 = {'city': ['Bengalaru','Coimbatore','Srirangam','Pondicherry'], 'Temperature': [24,35,36,39]}\n",
        "d2 = pd.DataFrame(dict2)\n",
        "d2"
      ]
    },
    {
      "cell_type": "markdown",
      "id": "fummvsWQTj5A",
      "metadata": {
        "id": "fummvsWQTj5A"
      },
      "source": [
        "* print the shape of this dataframe"
      ]
    },
    {
      "cell_type": "code",
      "execution_count": 32,
      "id": "89PDpTzATj5A",
      "metadata": {
        "colab": {
          "base_uri": "https://localhost:8080/"
        },
        "id": "89PDpTzATj5A",
        "outputId": "dcd7cfa5-62c7-4f98-fab3-a06595ca336a"
      },
      "outputs": [
        {
          "data": {
            "text/plain": [
              "(4, 2)"
            ]
          },
          "execution_count": 32,
          "metadata": {
            "tags": []
          },
          "output_type": "execute_result"
        }
      ],
      "source": [
        "d2.shape"
      ]
    },
    {
      "cell_type": "markdown",
      "id": "o9J-VwSjTj5A",
      "metadata": {
        "id": "o9J-VwSjTj5A"
      },
      "source": [
        "* merge the two dataframes together, save it in a new dataframe named 'd3'\n"
      ]
    },
    {
      "cell_type": "code",
      "execution_count": 33,
      "id": "lwoYCTrJTj5B",
      "metadata": {
        "colab": {
          "base_uri": "https://localhost:8080/",
          "height": 328
        },
        "id": "lwoYCTrJTj5B",
        "outputId": "a19e3302-d1da-486e-ad9f-75741e5fe94b"
      },
      "outputs": [
        {
          "data": {
            "text/html": [
              "<div>\n",
              "<style scoped>\n",
              "    .dataframe tbody tr th:only-of-type {\n",
              "        vertical-align: middle;\n",
              "    }\n",
              "\n",
              "    .dataframe tbody tr th {\n",
              "        vertical-align: top;\n",
              "    }\n",
              "\n",
              "    .dataframe thead th {\n",
              "        text-align: right;\n",
              "    }\n",
              "</style>\n",
              "<table border=\"1\" class=\"dataframe\">\n",
              "  <thead>\n",
              "    <tr style=\"text-align: right;\">\n",
              "      <th></th>\n",
              "      <th>city</th>\n",
              "      <th>Temperature</th>\n",
              "    </tr>\n",
              "  </thead>\n",
              "  <tbody>\n",
              "    <tr>\n",
              "      <th>0</th>\n",
              "      <td>Chandigarh</td>\n",
              "      <td>15</td>\n",
              "    </tr>\n",
              "    <tr>\n",
              "      <th>1</th>\n",
              "      <td>Delhi</td>\n",
              "      <td>22</td>\n",
              "    </tr>\n",
              "    <tr>\n",
              "      <th>2</th>\n",
              "      <td>Kanpur</td>\n",
              "      <td>20</td>\n",
              "    </tr>\n",
              "    <tr>\n",
              "      <th>3</th>\n",
              "      <td>Chennai</td>\n",
              "      <td>26</td>\n",
              "    </tr>\n",
              "    <tr>\n",
              "      <th>4</th>\n",
              "      <td>Manali</td>\n",
              "      <td>-2</td>\n",
              "    </tr>\n",
              "    <tr>\n",
              "      <th>0</th>\n",
              "      <td>Bengalaru</td>\n",
              "      <td>24</td>\n",
              "    </tr>\n",
              "    <tr>\n",
              "      <th>1</th>\n",
              "      <td>Coimbatore</td>\n",
              "      <td>35</td>\n",
              "    </tr>\n",
              "    <tr>\n",
              "      <th>2</th>\n",
              "      <td>Srirangam</td>\n",
              "      <td>36</td>\n",
              "    </tr>\n",
              "    <tr>\n",
              "      <th>3</th>\n",
              "      <td>Pondicherry</td>\n",
              "      <td>39</td>\n",
              "    </tr>\n",
              "  </tbody>\n",
              "</table>\n",
              "</div>"
            ],
            "text/plain": [
              "          city  Temperature\n",
              "0   Chandigarh           15\n",
              "1        Delhi           22\n",
              "2       Kanpur           20\n",
              "3      Chennai           26\n",
              "4       Manali           -2\n",
              "0    Bengalaru           24\n",
              "1   Coimbatore           35\n",
              "2    Srirangam           36\n",
              "3  Pondicherry           39"
            ]
          },
          "execution_count": 33,
          "metadata": {
            "tags": []
          },
          "output_type": "execute_result"
        }
      ],
      "source": [
        "d3 = pd.concat([d1, d2], axis=0)\n",
        "d3"
      ]
    },
    {
      "cell_type": "markdown",
      "id": "jPk5D1MWTj5B",
      "metadata": {
        "id": "jPk5D1MWTj5B"
      },
      "source": [
        "# Fun fact at high level\n",
        "\n",
        "1. .concat() simply stacks multiple DataFrame together either vertically, or stitches horizontally after aligning on index\n",
        "2. .merge() first aligns two DataFrame' selected common column(s) or index, and then pick up the remaining columns from the aligned rows of each DataFrame\n",
        "\n",
        "Do you know about join function? This interesting quest we give to you to find. "
      ]
    },
    {
      "cell_type": "markdown",
      "id": "KP6-TdaBTj5B",
      "metadata": {
        "id": "KP6-TdaBTj5B"
      },
      "source": [
        "* Select the part of the dataframe such that it contains cities where temp is less then or equal to 20 <br>\n",
        "* How many cities are there? "
      ]
    },
    {
      "cell_type": "markdown",
      "id": "LRLIn37zTj5B",
      "metadata": {
        "id": "LRLIn37zTj5B"
      },
      "source": [
        "<p style='text-align: right;'> 5+5=10 points</p>\n"
      ]
    },
    {
      "cell_type": "code",
      "execution_count": 34,
      "id": "Mb3XX4U1Tj5B",
      "metadata": {
        "colab": {
          "base_uri": "https://localhost:8080/",
          "height": 142
        },
        "id": "Mb3XX4U1Tj5B",
        "outputId": "7b59a413-fec2-41d9-bba8-cf0e052038dc"
      },
      "outputs": [
        {
          "data": {
            "text/html": [
              "<div>\n",
              "<style scoped>\n",
              "    .dataframe tbody tr th:only-of-type {\n",
              "        vertical-align: middle;\n",
              "    }\n",
              "\n",
              "    .dataframe tbody tr th {\n",
              "        vertical-align: top;\n",
              "    }\n",
              "\n",
              "    .dataframe thead th {\n",
              "        text-align: right;\n",
              "    }\n",
              "</style>\n",
              "<table border=\"1\" class=\"dataframe\">\n",
              "  <thead>\n",
              "    <tr style=\"text-align: right;\">\n",
              "      <th></th>\n",
              "      <th>city</th>\n",
              "      <th>Temperature</th>\n",
              "    </tr>\n",
              "  </thead>\n",
              "  <tbody>\n",
              "    <tr>\n",
              "      <th>0</th>\n",
              "      <td>Chandigarh</td>\n",
              "      <td>15</td>\n",
              "    </tr>\n",
              "    <tr>\n",
              "      <th>2</th>\n",
              "      <td>Kanpur</td>\n",
              "      <td>20</td>\n",
              "    </tr>\n",
              "    <tr>\n",
              "      <th>4</th>\n",
              "      <td>Manali</td>\n",
              "      <td>-2</td>\n",
              "    </tr>\n",
              "  </tbody>\n",
              "</table>\n",
              "</div>"
            ],
            "text/plain": [
              "         city  Temperature\n",
              "0  Chandigarh           15\n",
              "2      Kanpur           20\n",
              "4      Manali           -2"
            ]
          },
          "execution_count": 34,
          "metadata": {
            "tags": []
          },
          "output_type": "execute_result"
        }
      ],
      "source": [
        "d3[(d3['Temperature']<= 20)]"
      ]
    },
    {
      "cell_type": "markdown",
      "id": "X2gQEH9HTj5C",
      "metadata": {
        "id": "X2gQEH9HTj5C"
      },
      "source": [
        "* Select the part of the dataframe such that it contains the cities where tempearature greater than or equal to 35"
      ]
    },
    {
      "cell_type": "code",
      "execution_count": 35,
      "id": "GYpJ101RTj5C",
      "metadata": {
        "colab": {
          "base_uri": "https://localhost:8080/",
          "height": 142
        },
        "id": "GYpJ101RTj5C",
        "outputId": "0b930c4b-b71f-4f0c-ce6c-a45b46220f14"
      },
      "outputs": [
        {
          "data": {
            "text/html": [
              "<div>\n",
              "<style scoped>\n",
              "    .dataframe tbody tr th:only-of-type {\n",
              "        vertical-align: middle;\n",
              "    }\n",
              "\n",
              "    .dataframe tbody tr th {\n",
              "        vertical-align: top;\n",
              "    }\n",
              "\n",
              "    .dataframe thead th {\n",
              "        text-align: right;\n",
              "    }\n",
              "</style>\n",
              "<table border=\"1\" class=\"dataframe\">\n",
              "  <thead>\n",
              "    <tr style=\"text-align: right;\">\n",
              "      <th></th>\n",
              "      <th>city</th>\n",
              "      <th>Temperature</th>\n",
              "    </tr>\n",
              "  </thead>\n",
              "  <tbody>\n",
              "    <tr>\n",
              "      <th>1</th>\n",
              "      <td>Coimbatore</td>\n",
              "      <td>35</td>\n",
              "    </tr>\n",
              "    <tr>\n",
              "      <th>2</th>\n",
              "      <td>Srirangam</td>\n",
              "      <td>36</td>\n",
              "    </tr>\n",
              "    <tr>\n",
              "      <th>3</th>\n",
              "      <td>Pondicherry</td>\n",
              "      <td>39</td>\n",
              "    </tr>\n",
              "  </tbody>\n",
              "</table>\n",
              "</div>"
            ],
            "text/plain": [
              "          city  Temperature\n",
              "1   Coimbatore           35\n",
              "2    Srirangam           36\n",
              "3  Pondicherry           39"
            ]
          },
          "execution_count": 35,
          "metadata": {
            "tags": []
          },
          "output_type": "execute_result"
        }
      ],
      "source": [
        "d3[(d3['Temperature']>= 35)]"
      ]
    },
    {
      "cell_type": "markdown",
      "id": "79mHpn-eTj5C",
      "metadata": {
        "id": "79mHpn-eTj5C"
      },
      "source": [
        "## 3. Applying functions to columns and creating new columns"
      ]
    },
    {
      "cell_type": "markdown",
      "id": "zNmfCCdlTj5C",
      "metadata": {
        "id": "zNmfCCdlTj5C"
      },
      "source": [
        "* We need to create another column in d3, which contains  a boolean value for each city to indicate whether it's a union territory or not. \n",
        "- HINT: Chandigarh, Pondicherry and Delhi are only 3 union territories here. \n"
      ]
    },
    {
      "cell_type": "code",
      "execution_count": 43,
      "id": "Ht8ZEvJOTj5C",
      "metadata": {
        "id": "Ht8ZEvJOTj5C"
      },
      "outputs": [],
      "source": [
        "# write function here\n",
        "union_terrs = [\"Chandigarh\", \"Pondicherry\", \"Delhi\"]\n",
        "d3[\"is_ut\"] = d3[\"city\"].isin(union_terrs)  "
      ]
    },
    {
      "cell_type": "code",
      "execution_count": 44,
      "id": "X24Clnd-Tj5D",
      "metadata": {
        "colab": {
          "base_uri": "https://localhost:8080/",
          "height": 328
        },
        "id": "X24Clnd-Tj5D",
        "outputId": "3310b6b8-22d0-4944-b0f5-fb9d271e00a0"
      },
      "outputs": [
        {
          "data": {
            "text/html": [
              "<div>\n",
              "<style scoped>\n",
              "    .dataframe tbody tr th:only-of-type {\n",
              "        vertical-align: middle;\n",
              "    }\n",
              "\n",
              "    .dataframe tbody tr th {\n",
              "        vertical-align: top;\n",
              "    }\n",
              "\n",
              "    .dataframe thead th {\n",
              "        text-align: right;\n",
              "    }\n",
              "</style>\n",
              "<table border=\"1\" class=\"dataframe\">\n",
              "  <thead>\n",
              "    <tr style=\"text-align: right;\">\n",
              "      <th></th>\n",
              "      <th>city</th>\n",
              "      <th>Temperature</th>\n",
              "      <th>is_ut</th>\n",
              "    </tr>\n",
              "  </thead>\n",
              "  <tbody>\n",
              "    <tr>\n",
              "      <th>0</th>\n",
              "      <td>Chandigarh</td>\n",
              "      <td>15</td>\n",
              "      <td>True</td>\n",
              "    </tr>\n",
              "    <tr>\n",
              "      <th>1</th>\n",
              "      <td>Delhi</td>\n",
              "      <td>22</td>\n",
              "      <td>True</td>\n",
              "    </tr>\n",
              "    <tr>\n",
              "      <th>2</th>\n",
              "      <td>Kanpur</td>\n",
              "      <td>20</td>\n",
              "      <td>False</td>\n",
              "    </tr>\n",
              "    <tr>\n",
              "      <th>3</th>\n",
              "      <td>Chennai</td>\n",
              "      <td>26</td>\n",
              "      <td>False</td>\n",
              "    </tr>\n",
              "    <tr>\n",
              "      <th>4</th>\n",
              "      <td>Manali</td>\n",
              "      <td>-2</td>\n",
              "      <td>False</td>\n",
              "    </tr>\n",
              "    <tr>\n",
              "      <th>0</th>\n",
              "      <td>Bengalaru</td>\n",
              "      <td>24</td>\n",
              "      <td>False</td>\n",
              "    </tr>\n",
              "    <tr>\n",
              "      <th>1</th>\n",
              "      <td>Coimbatore</td>\n",
              "      <td>35</td>\n",
              "      <td>False</td>\n",
              "    </tr>\n",
              "    <tr>\n",
              "      <th>2</th>\n",
              "      <td>Srirangam</td>\n",
              "      <td>36</td>\n",
              "      <td>False</td>\n",
              "    </tr>\n",
              "    <tr>\n",
              "      <th>3</th>\n",
              "      <td>Pondicherry</td>\n",
              "      <td>39</td>\n",
              "      <td>True</td>\n",
              "    </tr>\n",
              "  </tbody>\n",
              "</table>\n",
              "</div>"
            ],
            "text/plain": [
              "          city  Temperature  is_ut\n",
              "0   Chandigarh           15   True\n",
              "1        Delhi           22   True\n",
              "2       Kanpur           20  False\n",
              "3      Chennai           26  False\n",
              "4       Manali           -2  False\n",
              "0    Bengalaru           24  False\n",
              "1   Coimbatore           35  False\n",
              "2    Srirangam           36  False\n",
              "3  Pondicherry           39   True"
            ]
          },
          "execution_count": 44,
          "metadata": {
            "tags": []
          },
          "output_type": "execute_result"
        }
      ],
      "source": [
        "#print d3\n",
        "d3"
      ]
    },
    {
      "cell_type": "markdown",
      "id": "IDIB9DJvTj5D",
      "metadata": {
        "id": "IDIB9DJvTj5D"
      },
      "source": [
        "* The temperatures mentioned in ‘Temperature’ column are mentioned in Celsius, we need another column which contains the same in Fahrenheit. "
      ]
    },
    {
      "cell_type": "markdown",
      "id": "jwV8DMORTj5D",
      "metadata": {
        "id": "jwV8DMORTj5D"
      },
      "source": [
        "HINT - \n",
        "- Define a function c_to_f which takes input temp in celsius and returns a value with temperature in Fahrenheit.\n",
        "- To check: c_to_f(10) should return 50. \n"
      ]
    },
    {
      "cell_type": "code",
      "execution_count": 58,
      "id": "-VzHMqoiTj5D",
      "metadata": {
        "id": "-VzHMqoiTj5D"
      },
      "outputs": [],
      "source": [
        "# write function here\n",
        "\n",
        "def c_to_f(Temperature):\n",
        "    \"\"\"Convert Celsius to Fahrenheit\n",
        "    \n",
        "    Return Fahrenheit conversion of input\"\"\"\n",
        "    temp_Fahrenheit = (Temperature*1.8) + 32\n",
        "    return temp_Fahrenheit\n",
        "\n",
        "#d3.assign(temp_farenhiet = lambda x: (9/5)*x['Temperature']+32)"
      ]
    },
    {
      "cell_type": "code",
      "execution_count": 59,
      "id": "GB--vApNTj5D",
      "metadata": {
        "colab": {
          "base_uri": "https://localhost:8080/"
        },
        "id": "GB--vApNTj5D",
        "outputId": "414bbe36-cc16-4985-82e8-e5c6cf5bd266"
      },
      "outputs": [
        {
          "data": {
            "text/plain": [
              "50.0"
            ]
          },
          "execution_count": 59,
          "metadata": {
            "tags": []
          },
          "output_type": "execute_result"
        }
      ],
      "source": [
        "# check  function c_to_f(10)\n",
        "c_to_f(10)"
      ]
    },
    {
      "cell_type": "code",
      "execution_count": 61,
      "id": "ecrW1uu4Tj5D",
      "metadata": {
        "colab": {
          "base_uri": "https://localhost:8080/",
          "height": 328
        },
        "id": "ecrW1uu4Tj5D",
        "outputId": "3213341d-ccd8-41b4-8c51-d0272088f34b"
      },
      "outputs": [
        {
          "data": {
            "text/html": [
              "<div>\n",
              "<style scoped>\n",
              "    .dataframe tbody tr th:only-of-type {\n",
              "        vertical-align: middle;\n",
              "    }\n",
              "\n",
              "    .dataframe tbody tr th {\n",
              "        vertical-align: top;\n",
              "    }\n",
              "\n",
              "    .dataframe thead th {\n",
              "        text-align: right;\n",
              "    }\n",
              "</style>\n",
              "<table border=\"1\" class=\"dataframe\">\n",
              "  <thead>\n",
              "    <tr style=\"text-align: right;\">\n",
              "      <th></th>\n",
              "      <th>city</th>\n",
              "      <th>Temperature</th>\n",
              "      <th>is_ut</th>\n",
              "      <th>temp_farenhiet</th>\n",
              "    </tr>\n",
              "  </thead>\n",
              "  <tbody>\n",
              "    <tr>\n",
              "      <th>0</th>\n",
              "      <td>Chandigarh</td>\n",
              "      <td>15</td>\n",
              "      <td>True</td>\n",
              "      <td>59.0</td>\n",
              "    </tr>\n",
              "    <tr>\n",
              "      <th>1</th>\n",
              "      <td>Delhi</td>\n",
              "      <td>22</td>\n",
              "      <td>True</td>\n",
              "      <td>71.6</td>\n",
              "    </tr>\n",
              "    <tr>\n",
              "      <th>2</th>\n",
              "      <td>Kanpur</td>\n",
              "      <td>20</td>\n",
              "      <td>False</td>\n",
              "      <td>68.0</td>\n",
              "    </tr>\n",
              "    <tr>\n",
              "      <th>3</th>\n",
              "      <td>Chennai</td>\n",
              "      <td>26</td>\n",
              "      <td>False</td>\n",
              "      <td>78.8</td>\n",
              "    </tr>\n",
              "    <tr>\n",
              "      <th>4</th>\n",
              "      <td>Manali</td>\n",
              "      <td>-2</td>\n",
              "      <td>False</td>\n",
              "      <td>28.4</td>\n",
              "    </tr>\n",
              "    <tr>\n",
              "      <th>0</th>\n",
              "      <td>Bengalaru</td>\n",
              "      <td>24</td>\n",
              "      <td>False</td>\n",
              "      <td>75.2</td>\n",
              "    </tr>\n",
              "    <tr>\n",
              "      <th>1</th>\n",
              "      <td>Coimbatore</td>\n",
              "      <td>35</td>\n",
              "      <td>False</td>\n",
              "      <td>95.0</td>\n",
              "    </tr>\n",
              "    <tr>\n",
              "      <th>2</th>\n",
              "      <td>Srirangam</td>\n",
              "      <td>36</td>\n",
              "      <td>False</td>\n",
              "      <td>96.8</td>\n",
              "    </tr>\n",
              "    <tr>\n",
              "      <th>3</th>\n",
              "      <td>Pondicherry</td>\n",
              "      <td>39</td>\n",
              "      <td>True</td>\n",
              "      <td>102.2</td>\n",
              "    </tr>\n",
              "  </tbody>\n",
              "</table>\n",
              "</div>"
            ],
            "text/plain": [
              "          city  Temperature  is_ut  temp_farenhiet\n",
              "0   Chandigarh           15   True            59.0\n",
              "1        Delhi           22   True            71.6\n",
              "2       Kanpur           20  False            68.0\n",
              "3      Chennai           26  False            78.8\n",
              "4       Manali           -2  False            28.4\n",
              "0    Bengalaru           24  False            75.2\n",
              "1   Coimbatore           35  False            95.0\n",
              "2    Srirangam           36  False            96.8\n",
              "3  Pondicherry           39   True           102.2"
            ]
          },
          "execution_count": 61,
          "metadata": {
            "tags": []
          },
          "output_type": "execute_result"
        }
      ],
      "source": [
        "# apply function c_to_f to d3 to create a column 'temp_farenhiet'\n",
        "\n",
        "d3['temp_farenhiet'] = (d3['Temperature']*1.8 + 32)\n",
        "d3"
      ]
    },
    {
      "cell_type": "markdown",
      "id": "MGJEcOlgTj5E",
      "metadata": {
        "id": "MGJEcOlgTj5E"
      },
      "source": [
        "## 4. Indexing and selecting rows in DataFrame"
      ]
    },
    {
      "cell_type": "markdown",
      "id": "gryBESm2Tj5E",
      "metadata": {
        "id": "gryBESm2Tj5E"
      },
      "source": [
        "* Select subset of the dataframe d3 such that it contains the cities which are union territories."
      ]
    },
    {
      "cell_type": "code",
      "execution_count": 72,
      "id": "apicyagvTj5E",
      "metadata": {
        "colab": {
          "base_uri": "https://localhost:8080/",
          "height": 142
        },
        "id": "apicyagvTj5E",
        "outputId": "8578cfb0-c00b-4df8-b068-129eb4034864"
      },
      "outputs": [
        {
          "data": {
            "text/html": [
              "<div>\n",
              "<style scoped>\n",
              "    .dataframe tbody tr th:only-of-type {\n",
              "        vertical-align: middle;\n",
              "    }\n",
              "\n",
              "    .dataframe tbody tr th {\n",
              "        vertical-align: top;\n",
              "    }\n",
              "\n",
              "    .dataframe thead th {\n",
              "        text-align: right;\n",
              "    }\n",
              "</style>\n",
              "<table border=\"1\" class=\"dataframe\">\n",
              "  <thead>\n",
              "    <tr style=\"text-align: right;\">\n",
              "      <th></th>\n",
              "      <th>city</th>\n",
              "      <th>Temperature</th>\n",
              "      <th>is_ut</th>\n",
              "      <th>temp_farenhiet</th>\n",
              "    </tr>\n",
              "  </thead>\n",
              "  <tbody>\n",
              "    <tr>\n",
              "      <th>0</th>\n",
              "      <td>Chandigarh</td>\n",
              "      <td>15</td>\n",
              "      <td>True</td>\n",
              "      <td>59.0</td>\n",
              "    </tr>\n",
              "    <tr>\n",
              "      <th>1</th>\n",
              "      <td>Delhi</td>\n",
              "      <td>22</td>\n",
              "      <td>True</td>\n",
              "      <td>71.6</td>\n",
              "    </tr>\n",
              "    <tr>\n",
              "      <th>3</th>\n",
              "      <td>Pondicherry</td>\n",
              "      <td>39</td>\n",
              "      <td>True</td>\n",
              "      <td>102.2</td>\n",
              "    </tr>\n",
              "  </tbody>\n",
              "</table>\n",
              "</div>"
            ],
            "text/plain": [
              "          city  Temperature  is_ut  temp_farenhiet\n",
              "0   Chandigarh           15   True            59.0\n",
              "1        Delhi           22   True            71.6\n",
              "3  Pondicherry           39   True           102.2"
            ]
          },
          "execution_count": 72,
          "metadata": {
            "tags": []
          },
          "output_type": "execute_result"
        }
      ],
      "source": [
        "d3.iloc[[0, 1, 8], [0, 1, 2, 3]]"
      ]
    },
    {
      "cell_type": "markdown",
      "id": "dQlOdyb8Tj5E",
      "metadata": {
        "id": "dQlOdyb8Tj5E"
      },
      "source": [
        "* Select a subset of the dataframe d3 such that it contains the cities which only have temperature above 90 Farenhiet."
      ]
    },
    {
      "cell_type": "code",
      "execution_count": 73,
      "id": "a0bA1WmRTj5E",
      "metadata": {
        "colab": {
          "base_uri": "https://localhost:8080/",
          "height": 142
        },
        "id": "a0bA1WmRTj5E",
        "outputId": "1f8b679b-29b0-489f-a22a-389674380ef2"
      },
      "outputs": [
        {
          "data": {
            "text/html": [
              "<div>\n",
              "<style scoped>\n",
              "    .dataframe tbody tr th:only-of-type {\n",
              "        vertical-align: middle;\n",
              "    }\n",
              "\n",
              "    .dataframe tbody tr th {\n",
              "        vertical-align: top;\n",
              "    }\n",
              "\n",
              "    .dataframe thead th {\n",
              "        text-align: right;\n",
              "    }\n",
              "</style>\n",
              "<table border=\"1\" class=\"dataframe\">\n",
              "  <thead>\n",
              "    <tr style=\"text-align: right;\">\n",
              "      <th></th>\n",
              "      <th>city</th>\n",
              "      <th>Temperature</th>\n",
              "      <th>is_ut</th>\n",
              "      <th>temp_farenhiet</th>\n",
              "    </tr>\n",
              "  </thead>\n",
              "  <tbody>\n",
              "    <tr>\n",
              "      <th>1</th>\n",
              "      <td>Coimbatore</td>\n",
              "      <td>35</td>\n",
              "      <td>False</td>\n",
              "      <td>95.0</td>\n",
              "    </tr>\n",
              "    <tr>\n",
              "      <th>2</th>\n",
              "      <td>Srirangam</td>\n",
              "      <td>36</td>\n",
              "      <td>False</td>\n",
              "      <td>96.8</td>\n",
              "    </tr>\n",
              "    <tr>\n",
              "      <th>3</th>\n",
              "      <td>Pondicherry</td>\n",
              "      <td>39</td>\n",
              "      <td>True</td>\n",
              "      <td>102.2</td>\n",
              "    </tr>\n",
              "  </tbody>\n",
              "</table>\n",
              "</div>"
            ],
            "text/plain": [
              "          city  Temperature  is_ut  temp_farenhiet\n",
              "1   Coimbatore           35  False            95.0\n",
              "2    Srirangam           36  False            96.8\n",
              "3  Pondicherry           39   True           102.2"
            ]
          },
          "execution_count": 73,
          "metadata": {
            "tags": []
          },
          "output_type": "execute_result"
        }
      ],
      "source": [
        "d3[(d3['temp_farenhiet']>90)]"
      ]
    },
    {
      "cell_type": "markdown",
      "id": "eW5Y3_9pTj5F",
      "metadata": {
        "id": "eW5Y3_9pTj5F"
      },
      "source": [
        "* Select only the first three rows of the dataframe d3. \n"
      ]
    },
    {
      "cell_type": "code",
      "execution_count": 74,
      "id": "CWdJxZpkTj5F",
      "metadata": {
        "colab": {
          "base_uri": "https://localhost:8080/",
          "height": 142
        },
        "id": "CWdJxZpkTj5F",
        "outputId": "c6c1c598-52d9-4f10-ed4d-025378df70a3"
      },
      "outputs": [
        {
          "data": {
            "text/html": [
              "<div>\n",
              "<style scoped>\n",
              "    .dataframe tbody tr th:only-of-type {\n",
              "        vertical-align: middle;\n",
              "    }\n",
              "\n",
              "    .dataframe tbody tr th {\n",
              "        vertical-align: top;\n",
              "    }\n",
              "\n",
              "    .dataframe thead th {\n",
              "        text-align: right;\n",
              "    }\n",
              "</style>\n",
              "<table border=\"1\" class=\"dataframe\">\n",
              "  <thead>\n",
              "    <tr style=\"text-align: right;\">\n",
              "      <th></th>\n",
              "      <th>city</th>\n",
              "      <th>Temperature</th>\n",
              "      <th>is_ut</th>\n",
              "      <th>temp_farenhiet</th>\n",
              "    </tr>\n",
              "  </thead>\n",
              "  <tbody>\n",
              "    <tr>\n",
              "      <th>0</th>\n",
              "      <td>Chandigarh</td>\n",
              "      <td>15</td>\n",
              "      <td>True</td>\n",
              "      <td>59.0</td>\n",
              "    </tr>\n",
              "    <tr>\n",
              "      <th>1</th>\n",
              "      <td>Delhi</td>\n",
              "      <td>22</td>\n",
              "      <td>True</td>\n",
              "      <td>71.6</td>\n",
              "    </tr>\n",
              "    <tr>\n",
              "      <th>2</th>\n",
              "      <td>Kanpur</td>\n",
              "      <td>20</td>\n",
              "      <td>False</td>\n",
              "      <td>68.0</td>\n",
              "    </tr>\n",
              "  </tbody>\n",
              "</table>\n",
              "</div>"
            ],
            "text/plain": [
              "         city  Temperature  is_ut  temp_farenhiet\n",
              "0  Chandigarh           15   True            59.0\n",
              "1       Delhi           22   True            71.6\n",
              "2      Kanpur           20  False            68.0"
            ]
          },
          "execution_count": 74,
          "metadata": {
            "tags": []
          },
          "output_type": "execute_result"
        }
      ],
      "source": [
        "d3.head(3)"
      ]
    },
    {
      "cell_type": "markdown",
      "id": "YBwia2cITj5F",
      "metadata": {
        "id": "YBwia2cITj5F"
      },
      "source": [
        "Select all the rows and last two columns in the dataframe.\n",
        "\n",
        "\n"
      ]
    },
    {
      "cell_type": "code",
      "execution_count": 75,
      "id": "M0bKZ4oATj5F",
      "metadata": {
        "colab": {
          "base_uri": "https://localhost:8080/",
          "height": 328
        },
        "id": "M0bKZ4oATj5F",
        "outputId": "b6ab1bd1-91e3-49e9-fbee-0b1087f11325"
      },
      "outputs": [
        {
          "data": {
            "text/html": [
              "<div>\n",
              "<style scoped>\n",
              "    .dataframe tbody tr th:only-of-type {\n",
              "        vertical-align: middle;\n",
              "    }\n",
              "\n",
              "    .dataframe tbody tr th {\n",
              "        vertical-align: top;\n",
              "    }\n",
              "\n",
              "    .dataframe thead th {\n",
              "        text-align: right;\n",
              "    }\n",
              "</style>\n",
              "<table border=\"1\" class=\"dataframe\">\n",
              "  <thead>\n",
              "    <tr style=\"text-align: right;\">\n",
              "      <th></th>\n",
              "      <th>is_ut</th>\n",
              "      <th>temp_farenhiet</th>\n",
              "    </tr>\n",
              "  </thead>\n",
              "  <tbody>\n",
              "    <tr>\n",
              "      <th>0</th>\n",
              "      <td>True</td>\n",
              "      <td>59.0</td>\n",
              "    </tr>\n",
              "    <tr>\n",
              "      <th>1</th>\n",
              "      <td>True</td>\n",
              "      <td>71.6</td>\n",
              "    </tr>\n",
              "    <tr>\n",
              "      <th>2</th>\n",
              "      <td>False</td>\n",
              "      <td>68.0</td>\n",
              "    </tr>\n",
              "    <tr>\n",
              "      <th>3</th>\n",
              "      <td>False</td>\n",
              "      <td>78.8</td>\n",
              "    </tr>\n",
              "    <tr>\n",
              "      <th>4</th>\n",
              "      <td>False</td>\n",
              "      <td>28.4</td>\n",
              "    </tr>\n",
              "    <tr>\n",
              "      <th>0</th>\n",
              "      <td>False</td>\n",
              "      <td>75.2</td>\n",
              "    </tr>\n",
              "    <tr>\n",
              "      <th>1</th>\n",
              "      <td>False</td>\n",
              "      <td>95.0</td>\n",
              "    </tr>\n",
              "    <tr>\n",
              "      <th>2</th>\n",
              "      <td>False</td>\n",
              "      <td>96.8</td>\n",
              "    </tr>\n",
              "    <tr>\n",
              "      <th>3</th>\n",
              "      <td>True</td>\n",
              "      <td>102.2</td>\n",
              "    </tr>\n",
              "  </tbody>\n",
              "</table>\n",
              "</div>"
            ],
            "text/plain": [
              "   is_ut  temp_farenhiet\n",
              "0   True            59.0\n",
              "1   True            71.6\n",
              "2  False            68.0\n",
              "3  False            78.8\n",
              "4  False            28.4\n",
              "0  False            75.2\n",
              "1  False            95.0\n",
              "2  False            96.8\n",
              "3   True           102.2"
            ]
          },
          "execution_count": 75,
          "metadata": {
            "tags": []
          },
          "output_type": "execute_result"
        }
      ],
      "source": [
        "d3.iloc[:, 2:4]"
      ]
    },
    {
      "cell_type": "markdown",
      "id": "opZzTgioTj5F",
      "metadata": {
        "id": "opZzTgioTj5F"
      },
      "source": [
        "## 5. Reading csv file and group by"
      ]
    },
    {
      "cell_type": "markdown",
      "id": "opKBgj3CTj5G",
      "metadata": {
        "id": "opKBgj3CTj5G"
      },
      "source": [
        "* Read the csv file - weather_data.csv\n",
        "* print the shape and head of the dataframe"
      ]
    },
    {
      "cell_type": "code",
      "execution_count": 81,
      "id": "2X5FwELSTj5G",
      "metadata": {
        "colab": {
          "base_uri": "https://localhost:8080/"
        },
        "id": "2X5FwELSTj5G",
        "outputId": "eb295a61-289e-408a-af48-ba1cc6ff6d12"
      },
      "outputs": [
        {
          "name": "stdout",
          "output_type": "stream",
          "text": [
            "(6, 4)\n",
            "        day  temperature  windspeed  event\n",
            "0  1/1/2017           32          6   Rain\n",
            "1  1/2/2017           35          7  Sunny\n",
            "2  1/3/2017           28          2   Snow\n",
            "3  1/4/2017           24          7   Snow\n",
            "4  1/5/2017           32          4   Rain\n"
          ]
        }
      ],
      "source": [
        "df = pd.read_csv(\"weather_data.csv\")\n",
        "print(df.shape)\n",
        "print(df.head())"
      ]
    },
    {
      "cell_type": "markdown",
      "id": "ZaFF7VYDTj5G",
      "metadata": {
        "id": "ZaFF7VYDTj5G"
      },
      "source": [
        "* Group the dataframe wrt to 'event' and save the resulting output in a variable named 'g'"
      ]
    },
    {
      "cell_type": "markdown",
      "id": "6oxOMGzWTj5G",
      "metadata": {
        "id": "6oxOMGzWTj5G"
      },
      "source": [
        "<p style='text-align: right;'> 5*3 = 15 points</p>\n"
      ]
    },
    {
      "cell_type": "code",
      "execution_count": 79,
      "id": "E0T-hdYqTj5H",
      "metadata": {
        "id": "E0T-hdYqTj5H"
      },
      "outputs": [],
      "source": [
        "g = df.groupby(['event'])"
      ]
    },
    {
      "cell_type": "markdown",
      "id": "w1X4dJQuTj5H",
      "metadata": {
        "id": "w1X4dJQuTj5H"
      },
      "source": [
        "* Print g and  type(g)"
      ]
    },
    {
      "cell_type": "code",
      "execution_count": 82,
      "id": "WZlS_AyJTj5H",
      "metadata": {
        "colab": {
          "base_uri": "https://localhost:8080/"
        },
        "id": "WZlS_AyJTj5H",
        "outputId": "ddadd2c3-4d60-45a8-a2f2-c47274db91ac"
      },
      "outputs": [
        {
          "name": "stdout",
          "output_type": "stream",
          "text": [
            "<pandas.core.groupby.generic.DataFrameGroupBy object at 0x7f45704c0050>\n",
            "<class 'pandas.core.groupby.generic.DataFrameGroupBy'>\n"
          ]
        }
      ],
      "source": [
        "print(g)\n",
        "print(type(g))"
      ]
    },
    {
      "cell_type": "markdown",
      "id": "NoHGRUDnTj5H",
      "metadata": {
        "id": "NoHGRUDnTj5H"
      },
      "source": [
        "* Iterate over all the temperatures in g and print them "
      ]
    },
    {
      "cell_type": "code",
      "execution_count": 100,
      "id": "8TLrNXAkTj5H",
      "metadata": {
        "colab": {
          "base_uri": "https://localhost:8080/"
        },
        "id": "8TLrNXAkTj5H",
        "outputId": "107b21dc-d95d-4423-a25a-b086aaa800d9"
      },
      "outputs": [
        {
          "name": "stdout",
          "output_type": "stream",
          "text": [
            "('Rain',         day  temperature  windspeed event\n",
            "0  1/1/2017           32          6  Rain\n",
            "4  1/5/2017           32          4  Rain)\n",
            "('Snow',         day  temperature  windspeed event\n",
            "2  1/3/2017           28          2  Snow\n",
            "3  1/4/2017           24          7  Snow)\n",
            "('Sunny',         day  temperature  windspeed  event\n",
            "1  1/2/2017           35          7  Sunny\n",
            "5  1/6/2017           31          2  Sunny)\n"
          ]
        }
      ],
      "source": [
        "for i in g:\n",
        "   print(i)"
      ]
    },
    {
      "cell_type": "markdown",
      "id": "B_8ENztFTj5H",
      "metadata": {
        "id": "B_8ENztFTj5H"
      },
      "source": [
        "* Use the describle method on g to get the complete description on it."
      ]
    },
    {
      "cell_type": "code",
      "execution_count": 83,
      "id": "uiwiZhu1Tj5I",
      "metadata": {
        "colab": {
          "base_uri": "https://localhost:8080/",
          "height": 204
        },
        "id": "uiwiZhu1Tj5I",
        "outputId": "c37a1729-0314-4f16-a2f4-628b94913091"
      },
      "outputs": [
        {
          "data": {
            "text/html": [
              "<div>\n",
              "<style scoped>\n",
              "    .dataframe tbody tr th:only-of-type {\n",
              "        vertical-align: middle;\n",
              "    }\n",
              "\n",
              "    .dataframe tbody tr th {\n",
              "        vertical-align: top;\n",
              "    }\n",
              "\n",
              "    .dataframe thead tr th {\n",
              "        text-align: left;\n",
              "    }\n",
              "\n",
              "    .dataframe thead tr:last-of-type th {\n",
              "        text-align: right;\n",
              "    }\n",
              "</style>\n",
              "<table border=\"1\" class=\"dataframe\">\n",
              "  <thead>\n",
              "    <tr>\n",
              "      <th></th>\n",
              "      <th colspan=\"8\" halign=\"left\">temperature</th>\n",
              "      <th colspan=\"8\" halign=\"left\">windspeed</th>\n",
              "    </tr>\n",
              "    <tr>\n",
              "      <th></th>\n",
              "      <th>count</th>\n",
              "      <th>mean</th>\n",
              "      <th>std</th>\n",
              "      <th>min</th>\n",
              "      <th>25%</th>\n",
              "      <th>50%</th>\n",
              "      <th>75%</th>\n",
              "      <th>max</th>\n",
              "      <th>count</th>\n",
              "      <th>mean</th>\n",
              "      <th>std</th>\n",
              "      <th>min</th>\n",
              "      <th>25%</th>\n",
              "      <th>50%</th>\n",
              "      <th>75%</th>\n",
              "      <th>max</th>\n",
              "    </tr>\n",
              "    <tr>\n",
              "      <th>event</th>\n",
              "      <th></th>\n",
              "      <th></th>\n",
              "      <th></th>\n",
              "      <th></th>\n",
              "      <th></th>\n",
              "      <th></th>\n",
              "      <th></th>\n",
              "      <th></th>\n",
              "      <th></th>\n",
              "      <th></th>\n",
              "      <th></th>\n",
              "      <th></th>\n",
              "      <th></th>\n",
              "      <th></th>\n",
              "      <th></th>\n",
              "      <th></th>\n",
              "    </tr>\n",
              "  </thead>\n",
              "  <tbody>\n",
              "    <tr>\n",
              "      <th>Rain</th>\n",
              "      <td>2.0</td>\n",
              "      <td>32.0</td>\n",
              "      <td>0.000000</td>\n",
              "      <td>32.0</td>\n",
              "      <td>32.0</td>\n",
              "      <td>32.0</td>\n",
              "      <td>32.0</td>\n",
              "      <td>32.0</td>\n",
              "      <td>2.0</td>\n",
              "      <td>5.0</td>\n",
              "      <td>1.414214</td>\n",
              "      <td>4.0</td>\n",
              "      <td>4.50</td>\n",
              "      <td>5.0</td>\n",
              "      <td>5.50</td>\n",
              "      <td>6.0</td>\n",
              "    </tr>\n",
              "    <tr>\n",
              "      <th>Snow</th>\n",
              "      <td>2.0</td>\n",
              "      <td>26.0</td>\n",
              "      <td>2.828427</td>\n",
              "      <td>24.0</td>\n",
              "      <td>25.0</td>\n",
              "      <td>26.0</td>\n",
              "      <td>27.0</td>\n",
              "      <td>28.0</td>\n",
              "      <td>2.0</td>\n",
              "      <td>4.5</td>\n",
              "      <td>3.535534</td>\n",
              "      <td>2.0</td>\n",
              "      <td>3.25</td>\n",
              "      <td>4.5</td>\n",
              "      <td>5.75</td>\n",
              "      <td>7.0</td>\n",
              "    </tr>\n",
              "    <tr>\n",
              "      <th>Sunny</th>\n",
              "      <td>2.0</td>\n",
              "      <td>33.0</td>\n",
              "      <td>2.828427</td>\n",
              "      <td>31.0</td>\n",
              "      <td>32.0</td>\n",
              "      <td>33.0</td>\n",
              "      <td>34.0</td>\n",
              "      <td>35.0</td>\n",
              "      <td>2.0</td>\n",
              "      <td>4.5</td>\n",
              "      <td>3.535534</td>\n",
              "      <td>2.0</td>\n",
              "      <td>3.25</td>\n",
              "      <td>4.5</td>\n",
              "      <td>5.75</td>\n",
              "      <td>7.0</td>\n",
              "    </tr>\n",
              "  </tbody>\n",
              "</table>\n",
              "</div>"
            ],
            "text/plain": [
              "      temperature                              ... windspeed                      \n",
              "            count  mean       std   min   25%  ...       min   25%  50%   75%  max\n",
              "event                                          ...                                \n",
              "Rain          2.0  32.0  0.000000  32.0  32.0  ...       4.0  4.50  5.0  5.50  6.0\n",
              "Snow          2.0  26.0  2.828427  24.0  25.0  ...       2.0  3.25  4.5  5.75  7.0\n",
              "Sunny         2.0  33.0  2.828427  31.0  32.0  ...       2.0  3.25  4.5  5.75  7.0\n",
              "\n",
              "[3 rows x 16 columns]"
            ]
          },
          "execution_count": 83,
          "metadata": {
            "tags": []
          },
          "output_type": "execute_result"
        }
      ],
      "source": [
        "g.describe()"
      ]
    },
    {
      "cell_type": "markdown",
      "id": "SfUehL76Tj5I",
      "metadata": {
        "id": "SfUehL76Tj5I"
      },
      "source": [
        "* Create a new column in the dataframe df, named 'hot_temp' which contains True if temp is above 30, else False"
      ]
    },
    {
      "cell_type": "code",
      "execution_count": 86,
      "id": "D3lZwKz_Tj5I",
      "metadata": {
        "id": "D3lZwKz_Tj5I"
      },
      "outputs": [],
      "source": [
        "#code here to filter df with above condition\n",
        "df['hot_temp'] = df['temperature']>30"
      ]
    },
    {
      "cell_type": "code",
      "execution_count": 87,
      "id": "Awg56g-BTj5I",
      "metadata": {
        "colab": {
          "base_uri": "https://localhost:8080/",
          "height": 235
        },
        "id": "Awg56g-BTj5I",
        "outputId": "d98a3428-db1a-4d26-a967-be7893e577a2"
      },
      "outputs": [
        {
          "data": {
            "text/html": [
              "<div>\n",
              "<style scoped>\n",
              "    .dataframe tbody tr th:only-of-type {\n",
              "        vertical-align: middle;\n",
              "    }\n",
              "\n",
              "    .dataframe tbody tr th {\n",
              "        vertical-align: top;\n",
              "    }\n",
              "\n",
              "    .dataframe thead th {\n",
              "        text-align: right;\n",
              "    }\n",
              "</style>\n",
              "<table border=\"1\" class=\"dataframe\">\n",
              "  <thead>\n",
              "    <tr style=\"text-align: right;\">\n",
              "      <th></th>\n",
              "      <th>day</th>\n",
              "      <th>temperature</th>\n",
              "      <th>windspeed</th>\n",
              "      <th>event</th>\n",
              "      <th>hot_temp</th>\n",
              "    </tr>\n",
              "  </thead>\n",
              "  <tbody>\n",
              "    <tr>\n",
              "      <th>0</th>\n",
              "      <td>1/1/2017</td>\n",
              "      <td>32</td>\n",
              "      <td>6</td>\n",
              "      <td>Rain</td>\n",
              "      <td>True</td>\n",
              "    </tr>\n",
              "    <tr>\n",
              "      <th>1</th>\n",
              "      <td>1/2/2017</td>\n",
              "      <td>35</td>\n",
              "      <td>7</td>\n",
              "      <td>Sunny</td>\n",
              "      <td>True</td>\n",
              "    </tr>\n",
              "    <tr>\n",
              "      <th>2</th>\n",
              "      <td>1/3/2017</td>\n",
              "      <td>28</td>\n",
              "      <td>2</td>\n",
              "      <td>Snow</td>\n",
              "      <td>False</td>\n",
              "    </tr>\n",
              "    <tr>\n",
              "      <th>3</th>\n",
              "      <td>1/4/2017</td>\n",
              "      <td>24</td>\n",
              "      <td>7</td>\n",
              "      <td>Snow</td>\n",
              "      <td>False</td>\n",
              "    </tr>\n",
              "    <tr>\n",
              "      <th>4</th>\n",
              "      <td>1/5/2017</td>\n",
              "      <td>32</td>\n",
              "      <td>4</td>\n",
              "      <td>Rain</td>\n",
              "      <td>True</td>\n",
              "    </tr>\n",
              "    <tr>\n",
              "      <th>5</th>\n",
              "      <td>1/6/2017</td>\n",
              "      <td>31</td>\n",
              "      <td>2</td>\n",
              "      <td>Sunny</td>\n",
              "      <td>True</td>\n",
              "    </tr>\n",
              "  </tbody>\n",
              "</table>\n",
              "</div>"
            ],
            "text/plain": [
              "        day  temperature  windspeed  event  hot_temp\n",
              "0  1/1/2017           32          6   Rain      True\n",
              "1  1/2/2017           35          7  Sunny      True\n",
              "2  1/3/2017           28          2   Snow     False\n",
              "3  1/4/2017           24          7   Snow     False\n",
              "4  1/5/2017           32          4   Rain      True\n",
              "5  1/6/2017           31          2  Sunny      True"
            ]
          },
          "execution_count": 87,
          "metadata": {
            "tags": []
          },
          "output_type": "execute_result"
        }
      ],
      "source": [
        "# print df\n",
        "df"
      ]
    },
    {
      "cell_type": "markdown",
      "id": "V7eY8IDXTj5I",
      "metadata": {
        "id": "V7eY8IDXTj5I"
      },
      "source": [
        "## Data Range"
      ]
    },
    {
      "cell_type": "markdown",
      "id": "71j4ZKIBTj5J",
      "metadata": {
        "id": "71j4ZKIBTj5J"
      },
      "source": [
        "* Create a pandas daterange where starting date is 1st of January,2020 and end date is 1st of April 2021, store it in a new variable named 'a'"
      ]
    },
    {
      "cell_type": "code",
      "execution_count": 93,
      "id": "dOdUdgguTj5J",
      "metadata": {
        "id": "dOdUdgguTj5J"
      },
      "outputs": [],
      "source": [
        "date1 = '2020-01-01'\n",
        "date2 = '2021-01-04'\n",
        "a = pd.date_range(date1, date2)"
      ]
    },
    {
      "cell_type": "markdown",
      "id": "rrv6DlKYTj5J",
      "metadata": {
        "id": "rrv6DlKYTj5J"
      },
      "source": [
        "* print a"
      ]
    },
    {
      "cell_type": "code",
      "execution_count": 94,
      "id": "FgbHTOxLTj5J",
      "metadata": {
        "colab": {
          "base_uri": "https://localhost:8080/"
        },
        "id": "FgbHTOxLTj5J",
        "outputId": "2b8a2593-1e99-4c8d-bc45-e473d839dd0e"
      },
      "outputs": [
        {
          "data": {
            "text/plain": [
              "DatetimeIndex(['2020-01-01', '2020-01-02', '2020-01-03', '2020-01-04',\n",
              "               '2020-01-05', '2020-01-06', '2020-01-07', '2020-01-08',\n",
              "               '2020-01-09', '2020-01-10',\n",
              "               ...\n",
              "               '2020-12-26', '2020-12-27', '2020-12-28', '2020-12-29',\n",
              "               '2020-12-30', '2020-12-31', '2021-01-01', '2021-01-02',\n",
              "               '2021-01-03', '2021-01-04'],\n",
              "              dtype='datetime64[ns]', length=370, freq='D')"
            ]
          },
          "execution_count": 94,
          "metadata": {
            "tags": []
          },
          "output_type": "execute_result"
        }
      ],
      "source": [
        "a"
      ]
    },
    {
      "cell_type": "markdown",
      "id": "SFE-HYMtTj5J",
      "metadata": {
        "id": "SFE-HYMtTj5J"
      },
      "source": [
        "* What is the len of a?"
      ]
    },
    {
      "cell_type": "code",
      "execution_count": 95,
      "id": "yKhSCTubTj5K",
      "metadata": {
        "colab": {
          "base_uri": "https://localhost:8080/"
        },
        "id": "yKhSCTubTj5K",
        "outputId": "0cad56d5-7c0d-478a-ef87-2b4d0514146a"
      },
      "outputs": [
        {
          "data": {
            "text/plain": [
              "370"
            ]
          },
          "execution_count": 95,
          "metadata": {
            "tags": []
          },
          "output_type": "execute_result"
        }
      ],
      "source": [
        "len(a)"
      ]
    },
    {
      "cell_type": "markdown",
      "id": "2a1TsoudTj5K",
      "metadata": {
        "id": "2a1TsoudTj5K"
      },
      "source": [
        "* What is the type of a?"
      ]
    },
    {
      "cell_type": "code",
      "execution_count": 96,
      "id": "SC1xBR3lTj5K",
      "metadata": {
        "colab": {
          "base_uri": "https://localhost:8080/"
        },
        "id": "SC1xBR3lTj5K",
        "outputId": "55490b29-365b-41ff-93e5-3cba06461d5f"
      },
      "outputs": [
        {
          "data": {
            "text/plain": [
              "pandas.core.indexes.datetimes.DatetimeIndex"
            ]
          },
          "execution_count": 96,
          "metadata": {
            "tags": []
          },
          "output_type": "execute_result"
        }
      ],
      "source": [
        "type(a)"
      ]
    }
  ],
  "metadata": {
    "colab": {
      "collapsed_sections": [],
      "include_colab_link": true,
      "name": "5_Pandas_CloudyML.ipynb",
      "provenance": []
    },
    "kernelspec": {
      "display_name": "Python 3",
      "language": "python",
      "name": "python3"
    },
    "language_info": {
      "codemirror_mode": {
        "name": "ipython",
        "version": 3
      },
      "file_extension": ".py",
      "mimetype": "text/x-python",
      "name": "python",
      "nbconvert_exporter": "python",
      "pygments_lexer": "ipython3",
      "version": "3.8.5"
    }
  },
  "nbformat": 4,
  "nbformat_minor": 5
}
