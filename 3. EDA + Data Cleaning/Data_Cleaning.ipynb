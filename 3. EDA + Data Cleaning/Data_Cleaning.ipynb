{
  "cells": [
    {
      "cell_type": "markdown",
      "metadata": {
        "colab_type": "text",
        "id": "view-in-github"
      },
      "source": [
        "<a href=\"https://colab.research.google.com/github/sureshmecad/CloudyML-AI-FOR-ALL/blob/main/6_Data_Cleaning_CloudyML.ipynb\" target=\"_parent\"><img src=\"https://colab.research.google.com/assets/colab-badge.svg\" alt=\"Open In Colab\"/></a>"
      ]
    },
    {
      "cell_type": "markdown",
      "metadata": {
        "id": "rc6I3sagkqhR"
      },
      "source": [
        "# <center><u>Data Cleaning</u></center>"
      ]
    },
    {
      "cell_type": "markdown",
      "metadata": {
        "id": "h9sXOHkckqhY"
      },
      "source": [
        " * Data cleaning is a part of the process on a data science project.\n",
        " \n",
        "* Data cleaning is the process of fixing or removing incorrect, corrupted, incorrectly formatted, duplicate, or incomplete data within a dataset.\n",
        "<br>\n",
        "* When you clean your data, all outdated or incorrect information is gone – leaving you with the highest quality information for your analysis and model building."
      ]
    },
    {
      "cell_type": "code",
      "execution_count": 1,
      "metadata": {
        "id": "wF_oQrRAkqhe"
      },
      "outputs": [],
      "source": [
        "# import pandas and numpy with alias pd and np respectively\n",
        "import numpy as np\n",
        "import pandas as pd"
      ]
    },
    {
      "cell_type": "markdown",
      "metadata": {
        "id": "7k4VuSAekqhe"
      },
      "source": [
        "* Create a dataframe, d1 = pd.DataFrame( {‘Temperature’ : [1, np.nan, 3, 2, 3] ,’Humidity’ : [22, np.nan, 2 , np.nan, 20 ] })"
      ]
    },
    {
      "cell_type": "code",
      "execution_count": 2,
      "metadata": {
        "id": "8fjpdGnskqhe"
      },
      "outputs": [],
      "source": [
        "#create d1\n",
        "d1 = pd.DataFrame( {'Temperature' : [1, np.nan, 3, 2, 3] , 'Humidity' : [22, np.nan, 2 , np.nan, 20 ] })"
      ]
    },
    {
      "cell_type": "markdown",
      "metadata": {
        "id": "_6S2Agszkqhf"
      },
      "source": [
        "* print the dataframe d1"
      ]
    },
    {
      "cell_type": "code",
      "execution_count": 3,
      "metadata": {
        "colab": {
          "base_uri": "https://localhost:8080/",
          "height": 204
        },
        "id": "fauZD3xnkqhf",
        "outputId": "7700a3de-b4b9-48b6-aac3-0bcfe27db494"
      },
      "outputs": [
        {
          "data": {
            "text/html": [
              "<div>\n",
              "<style scoped>\n",
              "    .dataframe tbody tr th:only-of-type {\n",
              "        vertical-align: middle;\n",
              "    }\n",
              "\n",
              "    .dataframe tbody tr th {\n",
              "        vertical-align: top;\n",
              "    }\n",
              "\n",
              "    .dataframe thead th {\n",
              "        text-align: right;\n",
              "    }\n",
              "</style>\n",
              "<table border=\"1\" class=\"dataframe\">\n",
              "  <thead>\n",
              "    <tr style=\"text-align: right;\">\n",
              "      <th></th>\n",
              "      <th>Temperature</th>\n",
              "      <th>Humidity</th>\n",
              "    </tr>\n",
              "  </thead>\n",
              "  <tbody>\n",
              "    <tr>\n",
              "      <th>0</th>\n",
              "      <td>1.0</td>\n",
              "      <td>22.0</td>\n",
              "    </tr>\n",
              "    <tr>\n",
              "      <th>1</th>\n",
              "      <td>NaN</td>\n",
              "      <td>NaN</td>\n",
              "    </tr>\n",
              "    <tr>\n",
              "      <th>2</th>\n",
              "      <td>3.0</td>\n",
              "      <td>2.0</td>\n",
              "    </tr>\n",
              "    <tr>\n",
              "      <th>3</th>\n",
              "      <td>2.0</td>\n",
              "      <td>NaN</td>\n",
              "    </tr>\n",
              "    <tr>\n",
              "      <th>4</th>\n",
              "      <td>3.0</td>\n",
              "      <td>20.0</td>\n",
              "    </tr>\n",
              "  </tbody>\n",
              "</table>\n",
              "</div>"
            ],
            "text/plain": [
              "   Temperature  Humidity\n",
              "0          1.0      22.0\n",
              "1          NaN       NaN\n",
              "2          3.0       2.0\n",
              "3          2.0       NaN\n",
              "4          3.0      20.0"
            ]
          },
          "execution_count": 3,
          "metadata": {
            "tags": []
          },
          "output_type": "execute_result"
        }
      ],
      "source": [
        "#print d1\n",
        "d1"
      ]
    },
    {
      "cell_type": "markdown",
      "metadata": {
        "id": "PIvW5svikqhg"
      },
      "source": [
        "* Find whether the given dataframe contain any missing values? "
      ]
    },
    {
      "cell_type": "code",
      "execution_count": 4,
      "metadata": {
        "colab": {
          "base_uri": "https://localhost:8080/",
          "height": 204
        },
        "id": "lJ3MiNk-kqhg",
        "outputId": "239d74f5-85aa-489b-b483-f4170ecea3bd"
      },
      "outputs": [
        {
          "data": {
            "text/html": [
              "<div>\n",
              "<style scoped>\n",
              "    .dataframe tbody tr th:only-of-type {\n",
              "        vertical-align: middle;\n",
              "    }\n",
              "\n",
              "    .dataframe tbody tr th {\n",
              "        vertical-align: top;\n",
              "    }\n",
              "\n",
              "    .dataframe thead th {\n",
              "        text-align: right;\n",
              "    }\n",
              "</style>\n",
              "<table border=\"1\" class=\"dataframe\">\n",
              "  <thead>\n",
              "    <tr style=\"text-align: right;\">\n",
              "      <th></th>\n",
              "      <th>Temperature</th>\n",
              "      <th>Humidity</th>\n",
              "    </tr>\n",
              "  </thead>\n",
              "  <tbody>\n",
              "    <tr>\n",
              "      <th>0</th>\n",
              "      <td>False</td>\n",
              "      <td>False</td>\n",
              "    </tr>\n",
              "    <tr>\n",
              "      <th>1</th>\n",
              "      <td>True</td>\n",
              "      <td>True</td>\n",
              "    </tr>\n",
              "    <tr>\n",
              "      <th>2</th>\n",
              "      <td>False</td>\n",
              "      <td>False</td>\n",
              "    </tr>\n",
              "    <tr>\n",
              "      <th>3</th>\n",
              "      <td>False</td>\n",
              "      <td>True</td>\n",
              "    </tr>\n",
              "    <tr>\n",
              "      <th>4</th>\n",
              "      <td>False</td>\n",
              "      <td>False</td>\n",
              "    </tr>\n",
              "  </tbody>\n",
              "</table>\n",
              "</div>"
            ],
            "text/plain": [
              "   Temperature  Humidity\n",
              "0        False     False\n",
              "1         True      True\n",
              "2        False     False\n",
              "3        False      True\n",
              "4        False     False"
            ]
          },
          "execution_count": 4,
          "metadata": {
            "tags": []
          },
          "output_type": "execute_result"
        }
      ],
      "source": [
        "#check for null\n",
        "d1.isnull()"
      ]
    },
    {
      "cell_type": "markdown",
      "metadata": {
        "id": "1mR6mwjZkqhg"
      },
      "source": [
        "* How many missing values does each column have?"
      ]
    },
    {
      "cell_type": "code",
      "execution_count": 5,
      "metadata": {
        "colab": {
          "base_uri": "https://localhost:8080/"
        },
        "id": "GuttaqhSkqhg",
        "outputId": "0dbaacb8-d588-44a2-9bda-35080b4f6919"
      },
      "outputs": [
        {
          "data": {
            "text/plain": [
              "Temperature    1\n",
              "Humidity       2\n",
              "dtype: int64"
            ]
          },
          "execution_count": 5,
          "metadata": {
            "tags": []
          },
          "output_type": "execute_result"
        }
      ],
      "source": [
        "#total null\n",
        "d1.isnull().sum()"
      ]
    },
    {
      "cell_type": "markdown",
      "metadata": {
        "id": "RdJX6nKdkqhh"
      },
      "source": [
        "## Dealing with missing values\n",
        "\n",
        "\n",
        "* Now, we know we have missing values, the next thing that we need to work on, is how to deal with these missing values"
      ]
    },
    {
      "cell_type": "markdown",
      "metadata": {
        "id": "5iYTalWckqhh"
      },
      "source": [
        "## Method 1: Delete the rows which contain missing values.\n",
        " * This method include dropping all the rows that have missing value in any column. "
      ]
    },
    {
      "cell_type": "markdown",
      "metadata": {
        "id": "sB425bYFkqhh"
      },
      "source": [
        "* Use a suitable method to drop all the rows having missing values and save the change in d2 variable"
      ]
    },
    {
      "cell_type": "code",
      "execution_count": 6,
      "metadata": {
        "id": "ms-0jJZpkqhh"
      },
      "outputs": [],
      "source": [
        "d2=d1.dropna()"
      ]
    },
    {
      "cell_type": "markdown",
      "metadata": {
        "id": "uvJFaJ8bkqhi"
      },
      "source": [
        "* Print d2"
      ]
    },
    {
      "cell_type": "code",
      "execution_count": 7,
      "metadata": {
        "colab": {
          "base_uri": "https://localhost:8080/",
          "height": 142
        },
        "id": "YoXoAdXGkqhi",
        "outputId": "5add88e8-d685-4cbe-8fe3-f12be94a8e02"
      },
      "outputs": [
        {
          "data": {
            "text/html": [
              "<div>\n",
              "<style scoped>\n",
              "    .dataframe tbody tr th:only-of-type {\n",
              "        vertical-align: middle;\n",
              "    }\n",
              "\n",
              "    .dataframe tbody tr th {\n",
              "        vertical-align: top;\n",
              "    }\n",
              "\n",
              "    .dataframe thead th {\n",
              "        text-align: right;\n",
              "    }\n",
              "</style>\n",
              "<table border=\"1\" class=\"dataframe\">\n",
              "  <thead>\n",
              "    <tr style=\"text-align: right;\">\n",
              "      <th></th>\n",
              "      <th>Temperature</th>\n",
              "      <th>Humidity</th>\n",
              "    </tr>\n",
              "  </thead>\n",
              "  <tbody>\n",
              "    <tr>\n",
              "      <th>0</th>\n",
              "      <td>1.0</td>\n",
              "      <td>22.0</td>\n",
              "    </tr>\n",
              "    <tr>\n",
              "      <th>2</th>\n",
              "      <td>3.0</td>\n",
              "      <td>2.0</td>\n",
              "    </tr>\n",
              "    <tr>\n",
              "      <th>4</th>\n",
              "      <td>3.0</td>\n",
              "      <td>20.0</td>\n",
              "    </tr>\n",
              "  </tbody>\n",
              "</table>\n",
              "</div>"
            ],
            "text/plain": [
              "   Temperature  Humidity\n",
              "0          1.0      22.0\n",
              "2          3.0       2.0\n",
              "4          3.0      20.0"
            ]
          },
          "execution_count": 7,
          "metadata": {
            "tags": []
          },
          "output_type": "execute_result"
        }
      ],
      "source": [
        "#print nan\n",
        "d2"
      ]
    },
    {
      "cell_type": "markdown",
      "metadata": {
        "id": "_BYBoQIFkqhi"
      },
      "source": [
        "* Hey Remember : droping rows with nan is one of the method to deal with missing values. But you have to decide if you need to go for this method by checking percentage of nan present in the dataframe.\n",
        "\n",
        "* If a column is having more than 60% of nan values then its better to remove such variables altogether if business permits "
      ]
    },
    {
      "cell_type": "markdown",
      "metadata": {
        "id": "0E0Gyw0mkqhi"
      },
      "source": [
        "## Method 2: Replacing missing values\n",
        "* Sometimes rather than dropping NA values, you'd rather replace them with a valid value. This value might be a single number like zero, or it might be some sort of imputation or interpolation"
      ]
    },
    {
      "cell_type": "markdown",
      "metadata": {
        "id": "rwg-9c8ukqhj"
      },
      "source": [
        "* Impute the missing values with constant number of your choice"
      ]
    },
    {
      "cell_type": "code",
      "execution_count": 8,
      "metadata": {
        "colab": {
          "base_uri": "https://localhost:8080/",
          "height": 204
        },
        "id": "CCzT8A-4kqhj",
        "outputId": "9b25c6d3-a077-4d33-bef8-e31c58f79876"
      },
      "outputs": [
        {
          "data": {
            "text/html": [
              "<div>\n",
              "<style scoped>\n",
              "    .dataframe tbody tr th:only-of-type {\n",
              "        vertical-align: middle;\n",
              "    }\n",
              "\n",
              "    .dataframe tbody tr th {\n",
              "        vertical-align: top;\n",
              "    }\n",
              "\n",
              "    .dataframe thead th {\n",
              "        text-align: right;\n",
              "    }\n",
              "</style>\n",
              "<table border=\"1\" class=\"dataframe\">\n",
              "  <thead>\n",
              "    <tr style=\"text-align: right;\">\n",
              "      <th></th>\n",
              "      <th>Temperature</th>\n",
              "      <th>Humidity</th>\n",
              "    </tr>\n",
              "  </thead>\n",
              "  <tbody>\n",
              "    <tr>\n",
              "      <th>0</th>\n",
              "      <td>1.0</td>\n",
              "      <td>22.0</td>\n",
              "    </tr>\n",
              "    <tr>\n",
              "      <th>1</th>\n",
              "      <td>100.0</td>\n",
              "      <td>100.0</td>\n",
              "    </tr>\n",
              "    <tr>\n",
              "      <th>2</th>\n",
              "      <td>3.0</td>\n",
              "      <td>2.0</td>\n",
              "    </tr>\n",
              "    <tr>\n",
              "      <th>3</th>\n",
              "      <td>2.0</td>\n",
              "      <td>100.0</td>\n",
              "    </tr>\n",
              "    <tr>\n",
              "      <th>4</th>\n",
              "      <td>3.0</td>\n",
              "      <td>20.0</td>\n",
              "    </tr>\n",
              "  </tbody>\n",
              "</table>\n",
              "</div>"
            ],
            "text/plain": [
              "   Temperature  Humidity\n",
              "0          1.0      22.0\n",
              "1        100.0     100.0\n",
              "2          3.0       2.0\n",
              "3          2.0     100.0\n",
              "4          3.0      20.0"
            ]
          },
          "execution_count": 8,
          "metadata": {
            "tags": []
          },
          "output_type": "execute_result"
        }
      ],
      "source": [
        "# The below output has imputed missing  values with 100\n",
        "d1.fillna(100)"
      ]
    },
    {
      "cell_type": "markdown",
      "metadata": {
        "id": "Owk-O3CZkqhj"
      },
      "source": [
        "* Do you think its a  good way to treat Nan values? What if such constant values are not suitable for our further analysis?\n",
        "Try to give your thoughts on this."
      ]
    },
    {
      "cell_type": "code",
      "execution_count": 9,
      "metadata": {
        "id": "4Vn0HNw4kqhj"
      },
      "outputs": [],
      "source": [
        "# Replacing with random number is not a good idea. In this case it will lead to outlier. It is always better to replace numerical values with median."
      ]
    },
    {
      "cell_type": "markdown",
      "metadata": {
        "id": "rHxP4ad7kqhj"
      },
      "source": [
        "* Impute the missing values with mean"
      ]
    },
    {
      "cell_type": "code",
      "execution_count": 10,
      "metadata": {
        "colab": {
          "base_uri": "https://localhost:8080/",
          "height": 204
        },
        "id": "FKB7R8Takqhk",
        "outputId": "f7fb1449-c098-40c3-df72-974e2bec83e2"
      },
      "outputs": [
        {
          "data": {
            "text/html": [
              "<div>\n",
              "<style scoped>\n",
              "    .dataframe tbody tr th:only-of-type {\n",
              "        vertical-align: middle;\n",
              "    }\n",
              "\n",
              "    .dataframe tbody tr th {\n",
              "        vertical-align: top;\n",
              "    }\n",
              "\n",
              "    .dataframe thead th {\n",
              "        text-align: right;\n",
              "    }\n",
              "</style>\n",
              "<table border=\"1\" class=\"dataframe\">\n",
              "  <thead>\n",
              "    <tr style=\"text-align: right;\">\n",
              "      <th></th>\n",
              "      <th>Temperature</th>\n",
              "      <th>Humidity</th>\n",
              "    </tr>\n",
              "  </thead>\n",
              "  <tbody>\n",
              "    <tr>\n",
              "      <th>0</th>\n",
              "      <td>1.00</td>\n",
              "      <td>22.000000</td>\n",
              "    </tr>\n",
              "    <tr>\n",
              "      <th>1</th>\n",
              "      <td>2.25</td>\n",
              "      <td>14.666667</td>\n",
              "    </tr>\n",
              "    <tr>\n",
              "      <th>2</th>\n",
              "      <td>3.00</td>\n",
              "      <td>2.000000</td>\n",
              "    </tr>\n",
              "    <tr>\n",
              "      <th>3</th>\n",
              "      <td>2.00</td>\n",
              "      <td>14.666667</td>\n",
              "    </tr>\n",
              "    <tr>\n",
              "      <th>4</th>\n",
              "      <td>3.00</td>\n",
              "      <td>20.000000</td>\n",
              "    </tr>\n",
              "  </tbody>\n",
              "</table>\n",
              "</div>"
            ],
            "text/plain": [
              "   Temperature   Humidity\n",
              "0         1.00  22.000000\n",
              "1         2.25  14.666667\n",
              "2         3.00   2.000000\n",
              "3         2.00  14.666667\n",
              "4         3.00  20.000000"
            ]
          },
          "execution_count": 10,
          "metadata": {
            "tags": []
          },
          "output_type": "execute_result"
        }
      ],
      "source": [
        "#  imputing mean\n",
        "d1.fillna(d1.mean())"
      ]
    },
    {
      "cell_type": "markdown",
      "metadata": {
        "id": "wzwa_GzRkqhk"
      },
      "source": [
        "* Impute the missing values with median"
      ]
    },
    {
      "cell_type": "code",
      "execution_count": 11,
      "metadata": {
        "colab": {
          "base_uri": "https://localhost:8080/",
          "height": 204
        },
        "id": "CrDrortKkqhk",
        "outputId": "3a9ca12a-c7ee-4e40-a89a-8add630b225c"
      },
      "outputs": [
        {
          "data": {
            "text/html": [
              "<div>\n",
              "<style scoped>\n",
              "    .dataframe tbody tr th:only-of-type {\n",
              "        vertical-align: middle;\n",
              "    }\n",
              "\n",
              "    .dataframe tbody tr th {\n",
              "        vertical-align: top;\n",
              "    }\n",
              "\n",
              "    .dataframe thead th {\n",
              "        text-align: right;\n",
              "    }\n",
              "</style>\n",
              "<table border=\"1\" class=\"dataframe\">\n",
              "  <thead>\n",
              "    <tr style=\"text-align: right;\">\n",
              "      <th></th>\n",
              "      <th>Temperature</th>\n",
              "      <th>Humidity</th>\n",
              "    </tr>\n",
              "  </thead>\n",
              "  <tbody>\n",
              "    <tr>\n",
              "      <th>0</th>\n",
              "      <td>1.0</td>\n",
              "      <td>22.0</td>\n",
              "    </tr>\n",
              "    <tr>\n",
              "      <th>1</th>\n",
              "      <td>2.5</td>\n",
              "      <td>20.0</td>\n",
              "    </tr>\n",
              "    <tr>\n",
              "      <th>2</th>\n",
              "      <td>3.0</td>\n",
              "      <td>2.0</td>\n",
              "    </tr>\n",
              "    <tr>\n",
              "      <th>3</th>\n",
              "      <td>2.0</td>\n",
              "      <td>20.0</td>\n",
              "    </tr>\n",
              "    <tr>\n",
              "      <th>4</th>\n",
              "      <td>3.0</td>\n",
              "      <td>20.0</td>\n",
              "    </tr>\n",
              "  </tbody>\n",
              "</table>\n",
              "</div>"
            ],
            "text/plain": [
              "   Temperature  Humidity\n",
              "0          1.0      22.0\n",
              "1          2.5      20.0\n",
              "2          3.0       2.0\n",
              "3          2.0      20.0\n",
              "4          3.0      20.0"
            ]
          },
          "execution_count": 11,
          "metadata": {
            "tags": []
          },
          "output_type": "execute_result"
        }
      ],
      "source": [
        "#median imputing\n",
        "d1.fillna(d1.median())"
      ]
    },
    {
      "cell_type": "markdown",
      "metadata": {
        "id": "PRzK4otMkqhk"
      },
      "source": [
        "* Replacing with the mean, mode or median approximations are a statistical approach of handling the missing values.\n",
        "\n",
        "* Another Fun fact:\n",
        "    \n",
        "    This is an approximation which can add variance to the data set. But the loss of the data can be negated by this method which yields better results compared to removal of rows and columns."
      ]
    },
    {
      "cell_type": "markdown",
      "metadata": {
        "id": "GMtx5Urqkqhk"
      },
      "source": [
        "* Impute Nan with forward fill"
      ]
    },
    {
      "cell_type": "code",
      "execution_count": 12,
      "metadata": {
        "colab": {
          "base_uri": "https://localhost:8080/",
          "height": 204
        },
        "id": "te5396qBkqhl",
        "outputId": "bef74659-936b-495c-d2df-015573fa684f"
      },
      "outputs": [
        {
          "data": {
            "text/html": [
              "<div>\n",
              "<style scoped>\n",
              "    .dataframe tbody tr th:only-of-type {\n",
              "        vertical-align: middle;\n",
              "    }\n",
              "\n",
              "    .dataframe tbody tr th {\n",
              "        vertical-align: top;\n",
              "    }\n",
              "\n",
              "    .dataframe thead th {\n",
              "        text-align: right;\n",
              "    }\n",
              "</style>\n",
              "<table border=\"1\" class=\"dataframe\">\n",
              "  <thead>\n",
              "    <tr style=\"text-align: right;\">\n",
              "      <th></th>\n",
              "      <th>Temperature</th>\n",
              "      <th>Humidity</th>\n",
              "    </tr>\n",
              "  </thead>\n",
              "  <tbody>\n",
              "    <tr>\n",
              "      <th>0</th>\n",
              "      <td>1.0</td>\n",
              "      <td>22.0</td>\n",
              "    </tr>\n",
              "    <tr>\n",
              "      <th>1</th>\n",
              "      <td>1.0</td>\n",
              "      <td>22.0</td>\n",
              "    </tr>\n",
              "    <tr>\n",
              "      <th>2</th>\n",
              "      <td>3.0</td>\n",
              "      <td>2.0</td>\n",
              "    </tr>\n",
              "    <tr>\n",
              "      <th>3</th>\n",
              "      <td>2.0</td>\n",
              "      <td>2.0</td>\n",
              "    </tr>\n",
              "    <tr>\n",
              "      <th>4</th>\n",
              "      <td>3.0</td>\n",
              "      <td>20.0</td>\n",
              "    </tr>\n",
              "  </tbody>\n",
              "</table>\n",
              "</div>"
            ],
            "text/plain": [
              "   Temperature  Humidity\n",
              "0          1.0      22.0\n",
              "1          1.0      22.0\n",
              "2          3.0       2.0\n",
              "3          2.0       2.0\n",
              "4          3.0      20.0"
            ]
          },
          "execution_count": 12,
          "metadata": {
            "tags": []
          },
          "output_type": "execute_result"
        }
      ],
      "source": [
        "#forward fill\n",
        "d1.fillna(method='ffill')"
      ]
    },
    {
      "cell_type": "markdown",
      "metadata": {
        "id": "eH05-uFJkqhl"
      },
      "source": [
        "* Impute Nan with backward fill"
      ]
    },
    {
      "cell_type": "code",
      "execution_count": 13,
      "metadata": {
        "colab": {
          "base_uri": "https://localhost:8080/",
          "height": 204
        },
        "id": "8qRteICGkqhl",
        "outputId": "e59e3ab7-cdbf-4133-d3bc-75ad231304b0"
      },
      "outputs": [
        {
          "data": {
            "text/html": [
              "<div>\n",
              "<style scoped>\n",
              "    .dataframe tbody tr th:only-of-type {\n",
              "        vertical-align: middle;\n",
              "    }\n",
              "\n",
              "    .dataframe tbody tr th {\n",
              "        vertical-align: top;\n",
              "    }\n",
              "\n",
              "    .dataframe thead th {\n",
              "        text-align: right;\n",
              "    }\n",
              "</style>\n",
              "<table border=\"1\" class=\"dataframe\">\n",
              "  <thead>\n",
              "    <tr style=\"text-align: right;\">\n",
              "      <th></th>\n",
              "      <th>Temperature</th>\n",
              "      <th>Humidity</th>\n",
              "    </tr>\n",
              "  </thead>\n",
              "  <tbody>\n",
              "    <tr>\n",
              "      <th>0</th>\n",
              "      <td>1.0</td>\n",
              "      <td>22.0</td>\n",
              "    </tr>\n",
              "    <tr>\n",
              "      <th>1</th>\n",
              "      <td>3.0</td>\n",
              "      <td>2.0</td>\n",
              "    </tr>\n",
              "    <tr>\n",
              "      <th>2</th>\n",
              "      <td>3.0</td>\n",
              "      <td>2.0</td>\n",
              "    </tr>\n",
              "    <tr>\n",
              "      <th>3</th>\n",
              "      <td>2.0</td>\n",
              "      <td>20.0</td>\n",
              "    </tr>\n",
              "    <tr>\n",
              "      <th>4</th>\n",
              "      <td>3.0</td>\n",
              "      <td>20.0</td>\n",
              "    </tr>\n",
              "  </tbody>\n",
              "</table>\n",
              "</div>"
            ],
            "text/plain": [
              "   Temperature  Humidity\n",
              "0          1.0      22.0\n",
              "1          3.0       2.0\n",
              "2          3.0       2.0\n",
              "3          2.0      20.0\n",
              "4          3.0      20.0"
            ]
          },
          "execution_count": 13,
          "metadata": {
            "tags": []
          },
          "output_type": "execute_result"
        }
      ],
      "source": [
        "#backward fill\n",
        "d1.fillna(method='bfill')"
      ]
    },
    {
      "cell_type": "markdown",
      "metadata": {
        "id": "b9M8GD2Jkqhl"
      },
      "source": [
        "* Hey a fun fact here, as sweet as a cookie:\n",
        "\n",
        "    - ffill/pad/bfill are good imputation method if our data is of time series. This would keep the trend unaffected for our analysis."
      ]
    },
    {
      "cell_type": "markdown",
      "metadata": {
        "id": "x5J30Hulkqhl"
      },
      "source": [
        "* Impute nan using interpolation method"
      ]
    },
    {
      "cell_type": "code",
      "execution_count": 14,
      "metadata": {
        "colab": {
          "base_uri": "https://localhost:8080/",
          "height": 204
        },
        "id": "TM3KAAC0kqhl",
        "outputId": "30605534-ad5e-49ca-a18d-bc18874aa729"
      },
      "outputs": [
        {
          "data": {
            "text/html": [
              "<div>\n",
              "<style scoped>\n",
              "    .dataframe tbody tr th:only-of-type {\n",
              "        vertical-align: middle;\n",
              "    }\n",
              "\n",
              "    .dataframe tbody tr th {\n",
              "        vertical-align: top;\n",
              "    }\n",
              "\n",
              "    .dataframe thead th {\n",
              "        text-align: right;\n",
              "    }\n",
              "</style>\n",
              "<table border=\"1\" class=\"dataframe\">\n",
              "  <thead>\n",
              "    <tr style=\"text-align: right;\">\n",
              "      <th></th>\n",
              "      <th>Temperature</th>\n",
              "      <th>Humidity</th>\n",
              "    </tr>\n",
              "  </thead>\n",
              "  <tbody>\n",
              "    <tr>\n",
              "      <th>0</th>\n",
              "      <td>1.0</td>\n",
              "      <td>22.0</td>\n",
              "    </tr>\n",
              "    <tr>\n",
              "      <th>1</th>\n",
              "      <td>2.0</td>\n",
              "      <td>12.0</td>\n",
              "    </tr>\n",
              "    <tr>\n",
              "      <th>2</th>\n",
              "      <td>3.0</td>\n",
              "      <td>2.0</td>\n",
              "    </tr>\n",
              "    <tr>\n",
              "      <th>3</th>\n",
              "      <td>2.0</td>\n",
              "      <td>11.0</td>\n",
              "    </tr>\n",
              "    <tr>\n",
              "      <th>4</th>\n",
              "      <td>3.0</td>\n",
              "      <td>20.0</td>\n",
              "    </tr>\n",
              "  </tbody>\n",
              "</table>\n",
              "</div>"
            ],
            "text/plain": [
              "   Temperature  Humidity\n",
              "0          1.0      22.0\n",
              "1          2.0      12.0\n",
              "2          3.0       2.0\n",
              "3          2.0      11.0\n",
              "4          3.0      20.0"
            ]
          },
          "execution_count": 14,
          "metadata": {
            "tags": []
          },
          "output_type": "execute_result"
        }
      ],
      "source": [
        "#interpolate\n",
        "d1.interpolate(method ='linear', limit_direction ='forward')"
      ]
    },
    {
      "cell_type": "markdown",
      "metadata": {
        "id": "RU3U6gp9kqhm"
      },
      "source": [
        "* You lucky champ! you got to know another amazing fact:\n",
        "    - Interpolation method by default is linear in nature. It is an imputation technique that assumes a linear relationship between data points and utilises non-missing values from adjacent data points to compute a value for a missing data point.\n",
        "    - You can explore other techniques involved in interplolation method, which might be usefull for your project."
      ]
    },
    {
      "cell_type": "markdown",
      "metadata": {
        "id": "ReGk1Utckqhn"
      },
      "source": [
        "# Dropping Irrelevant Columns"
      ]
    },
    {
      "cell_type": "markdown",
      "metadata": {
        "id": "rJZ0HZJPkqhn"
      },
      "source": [
        "* Create a dataframe df = pd.DataFrame(np.random.randint(0,100,size=(100, 5)), columns=list('ABCDE'))\n"
      ]
    },
    {
      "cell_type": "code",
      "execution_count": 16,
      "metadata": {
        "id": "XtENCthAkqhn"
      },
      "outputs": [],
      "source": [
        "np.random.seed(10)\n",
        "\n",
        "df = pd.DataFrame(np.random.randint(0,100,size=(100, 5)), columns=list('ABCDE'))\n"
      ]
    },
    {
      "cell_type": "markdown",
      "metadata": {
        "id": "bUQ0M4CKkqhn"
      },
      "source": [
        "* print df"
      ]
    },
    {
      "cell_type": "code",
      "execution_count": 17,
      "metadata": {
        "colab": {
          "base_uri": "https://localhost:8080/"
        },
        "id": "iuFh13J_kqho",
        "outputId": "55b629ed-cfeb-4bc2-b4a6-23c17bddb931"
      },
      "outputs": [
        {
          "name": "stdout",
          "output_type": "stream",
          "text": [
            "     A   B   C   D   E\n",
            "0    9  15  64  28  89\n",
            "1   93  29   8  73   0\n",
            "2   40  36  16  11  54\n",
            "3   88  62  33  72  78\n",
            "4   49  51  54  77  69\n",
            "..  ..  ..  ..  ..  ..\n",
            "95   3  50  59  34  21\n",
            "96  16  18  61  54  60\n",
            "97  21  87  83  71  16\n",
            "98  67  38  27  96  87\n",
            "99  98  89  16  82  19\n",
            "\n",
            "[100 rows x 5 columns]\n"
          ]
        }
      ],
      "source": [
        "print (df)"
      ]
    },
    {
      "cell_type": "markdown",
      "metadata": {
        "id": "cctu8rh5lL9j"
      },
      "source": [
        "* Note: Since all the rows are having random numbers, your dataframe observations might be different than the output given above"
      ]
    },
    {
      "cell_type": "markdown",
      "metadata": {
        "id": "wwTEQf2Jkqho"
      },
      "source": [
        "* Suppose for our analysis our project do not require column E. So you need to remove this column. update this new change using inplace parameter"
      ]
    },
    {
      "cell_type": "code",
      "execution_count": 18,
      "metadata": {
        "id": "6dPLhUwikqho"
      },
      "outputs": [],
      "source": [
        "#drop E\n",
        "df.drop([\"E\"], axis=1, inplace=True)"
      ]
    },
    {
      "cell_type": "markdown",
      "metadata": {
        "id": "1rtM-5APkqho"
      },
      "source": [
        "* Check if column **E** is removed by printing head of df"
      ]
    },
    {
      "cell_type": "code",
      "execution_count": 19,
      "metadata": {
        "colab": {
          "base_uri": "https://localhost:8080/",
          "height": 204
        },
        "id": "yvEa_vfOkqhp",
        "outputId": "a11da548-5c27-46f4-98e1-8c22ba63a432"
      },
      "outputs": [
        {
          "data": {
            "text/html": [
              "<div>\n",
              "<style scoped>\n",
              "    .dataframe tbody tr th:only-of-type {\n",
              "        vertical-align: middle;\n",
              "    }\n",
              "\n",
              "    .dataframe tbody tr th {\n",
              "        vertical-align: top;\n",
              "    }\n",
              "\n",
              "    .dataframe thead th {\n",
              "        text-align: right;\n",
              "    }\n",
              "</style>\n",
              "<table border=\"1\" class=\"dataframe\">\n",
              "  <thead>\n",
              "    <tr style=\"text-align: right;\">\n",
              "      <th></th>\n",
              "      <th>A</th>\n",
              "      <th>B</th>\n",
              "      <th>C</th>\n",
              "      <th>D</th>\n",
              "    </tr>\n",
              "  </thead>\n",
              "  <tbody>\n",
              "    <tr>\n",
              "      <th>0</th>\n",
              "      <td>9</td>\n",
              "      <td>15</td>\n",
              "      <td>64</td>\n",
              "      <td>28</td>\n",
              "    </tr>\n",
              "    <tr>\n",
              "      <th>1</th>\n",
              "      <td>93</td>\n",
              "      <td>29</td>\n",
              "      <td>8</td>\n",
              "      <td>73</td>\n",
              "    </tr>\n",
              "    <tr>\n",
              "      <th>2</th>\n",
              "      <td>40</td>\n",
              "      <td>36</td>\n",
              "      <td>16</td>\n",
              "      <td>11</td>\n",
              "    </tr>\n",
              "    <tr>\n",
              "      <th>3</th>\n",
              "      <td>88</td>\n",
              "      <td>62</td>\n",
              "      <td>33</td>\n",
              "      <td>72</td>\n",
              "    </tr>\n",
              "    <tr>\n",
              "      <th>4</th>\n",
              "      <td>49</td>\n",
              "      <td>51</td>\n",
              "      <td>54</td>\n",
              "      <td>77</td>\n",
              "    </tr>\n",
              "  </tbody>\n",
              "</table>\n",
              "</div>"
            ],
            "text/plain": [
              "    A   B   C   D\n",
              "0   9  15  64  28\n",
              "1  93  29   8  73\n",
              "2  40  36  16  11\n",
              "3  88  62  33  72\n",
              "4  49  51  54  77"
            ]
          },
          "execution_count": 19,
          "metadata": {
            "tags": []
          },
          "output_type": "execute_result"
        }
      ],
      "source": [
        "#df head\n",
        "df.head()"
      ]
    },
    {
      "cell_type": "markdown",
      "metadata": {
        "id": "XQDwFmMKkqhq"
      },
      "source": [
        "# Ensure requirements as per domain"
      ]
    },
    {
      "cell_type": "markdown",
      "metadata": {
        "id": "V1LgaSKOjnPm"
      },
      "source": [
        "\n",
        "* Shallow copy the dataframe df in variable df2 and print df2 head\n",
        "\n",
        "\n",
        "\n",
        "\n"
      ]
    },
    {
      "cell_type": "code",
      "execution_count": 20,
      "metadata": {
        "colab": {
          "base_uri": "https://localhost:8080/",
          "height": 204
        },
        "id": "uFK6ZRVZjTAt",
        "outputId": "9eba1013-695c-4f07-9913-5241df7800ba"
      },
      "outputs": [
        {
          "data": {
            "text/html": [
              "<div>\n",
              "<style scoped>\n",
              "    .dataframe tbody tr th:only-of-type {\n",
              "        vertical-align: middle;\n",
              "    }\n",
              "\n",
              "    .dataframe tbody tr th {\n",
              "        vertical-align: top;\n",
              "    }\n",
              "\n",
              "    .dataframe thead th {\n",
              "        text-align: right;\n",
              "    }\n",
              "</style>\n",
              "<table border=\"1\" class=\"dataframe\">\n",
              "  <thead>\n",
              "    <tr style=\"text-align: right;\">\n",
              "      <th></th>\n",
              "      <th>A</th>\n",
              "      <th>B</th>\n",
              "      <th>C</th>\n",
              "      <th>D</th>\n",
              "    </tr>\n",
              "  </thead>\n",
              "  <tbody>\n",
              "    <tr>\n",
              "      <th>0</th>\n",
              "      <td>9</td>\n",
              "      <td>15</td>\n",
              "      <td>64</td>\n",
              "      <td>28</td>\n",
              "    </tr>\n",
              "    <tr>\n",
              "      <th>1</th>\n",
              "      <td>93</td>\n",
              "      <td>29</td>\n",
              "      <td>8</td>\n",
              "      <td>73</td>\n",
              "    </tr>\n",
              "    <tr>\n",
              "      <th>2</th>\n",
              "      <td>40</td>\n",
              "      <td>36</td>\n",
              "      <td>16</td>\n",
              "      <td>11</td>\n",
              "    </tr>\n",
              "    <tr>\n",
              "      <th>3</th>\n",
              "      <td>88</td>\n",
              "      <td>62</td>\n",
              "      <td>33</td>\n",
              "      <td>72</td>\n",
              "    </tr>\n",
              "    <tr>\n",
              "      <th>4</th>\n",
              "      <td>49</td>\n",
              "      <td>51</td>\n",
              "      <td>54</td>\n",
              "      <td>77</td>\n",
              "    </tr>\n",
              "  </tbody>\n",
              "</table>\n",
              "</div>"
            ],
            "text/plain": [
              "    A   B   C   D\n",
              "0   9  15  64  28\n",
              "1  93  29   8  73\n",
              "2  40  36  16  11\n",
              "3  88  62  33  72\n",
              "4  49  51  54  77"
            ]
          },
          "execution_count": 20,
          "metadata": {
            "tags": []
          },
          "output_type": "execute_result"
        }
      ],
      "source": [
        "df2=df.copy()\n",
        "\n",
        "#df2 head\n",
        "df2.head()"
      ]
    },
    {
      "cell_type": "markdown",
      "metadata": {
        "id": "2OmoXpwLkqhq"
      },
      "source": [
        "* Suppose your domain expert says to filter column B with even numbers to do correct analysis. Implement the same below and update the change in varaible df2."
      ]
    },
    {
      "cell_type": "code",
      "execution_count": 21,
      "metadata": {
        "id": "lOG09CHLkqhq"
      },
      "outputs": [],
      "source": [
        "df2 = df2[df2['B'] % 2 == 0]"
      ]
    },
    {
      "cell_type": "markdown",
      "metadata": {
        "id": "9glWk_f8kqhq"
      },
      "source": [
        "* print updated head of *df2*"
      ]
    },
    {
      "cell_type": "code",
      "execution_count": 22,
      "metadata": {
        "colab": {
          "base_uri": "https://localhost:8080/",
          "height": 204
        },
        "id": "-7DJrucnkqhq",
        "outputId": "9b89ef86-558b-478b-f005-43b51b18035c"
      },
      "outputs": [
        {
          "data": {
            "text/html": [
              "<div>\n",
              "<style scoped>\n",
              "    .dataframe tbody tr th:only-of-type {\n",
              "        vertical-align: middle;\n",
              "    }\n",
              "\n",
              "    .dataframe tbody tr th {\n",
              "        vertical-align: top;\n",
              "    }\n",
              "\n",
              "    .dataframe thead th {\n",
              "        text-align: right;\n",
              "    }\n",
              "</style>\n",
              "<table border=\"1\" class=\"dataframe\">\n",
              "  <thead>\n",
              "    <tr style=\"text-align: right;\">\n",
              "      <th></th>\n",
              "      <th>A</th>\n",
              "      <th>B</th>\n",
              "      <th>C</th>\n",
              "      <th>D</th>\n",
              "    </tr>\n",
              "  </thead>\n",
              "  <tbody>\n",
              "    <tr>\n",
              "      <th>2</th>\n",
              "      <td>40</td>\n",
              "      <td>36</td>\n",
              "      <td>16</td>\n",
              "      <td>11</td>\n",
              "    </tr>\n",
              "    <tr>\n",
              "      <th>3</th>\n",
              "      <td>88</td>\n",
              "      <td>62</td>\n",
              "      <td>33</td>\n",
              "      <td>72</td>\n",
              "    </tr>\n",
              "    <tr>\n",
              "      <th>6</th>\n",
              "      <td>30</td>\n",
              "      <td>30</td>\n",
              "      <td>89</td>\n",
              "      <td>12</td>\n",
              "    </tr>\n",
              "    <tr>\n",
              "      <th>9</th>\n",
              "      <td>11</td>\n",
              "      <td>28</td>\n",
              "      <td>74</td>\n",
              "      <td>88</td>\n",
              "    </tr>\n",
              "    <tr>\n",
              "      <th>10</th>\n",
              "      <td>15</td>\n",
              "      <td>18</td>\n",
              "      <td>80</td>\n",
              "      <td>71</td>\n",
              "    </tr>\n",
              "  </tbody>\n",
              "</table>\n",
              "</div>"
            ],
            "text/plain": [
              "     A   B   C   D\n",
              "2   40  36  16  11\n",
              "3   88  62  33  72\n",
              "6   30  30  89  12\n",
              "9   11  28  74  88\n",
              "10  15  18  80  71"
            ]
          },
          "execution_count": 22,
          "metadata": {
            "tags": []
          },
          "output_type": "execute_result"
        }
      ],
      "source": [
        "# df2 head\n",
        "df2.head()"
      ]
    },
    {
      "cell_type": "markdown",
      "metadata": {
        "id": "dRAh9uVnkqhq"
      },
      "source": [
        "# Creating a sensible index values\n"
      ]
    },
    {
      "cell_type": "markdown",
      "metadata": {
        "id": "ngZAGkC2kqhr"
      },
      "source": [
        "* Oops. The index in this dataframe doesn't make sense. please correct index in a sequential manner starting from 1. Save the updates in df2"
      ]
    },
    {
      "cell_type": "code",
      "execution_count": 23,
      "metadata": {
        "id": "X_M-38Qxkqhr"
      },
      "outputs": [],
      "source": [
        "#set proper index\n",
        "df2 = df2.reset_index(drop=True)"
      ]
    },
    {
      "cell_type": "markdown",
      "metadata": {
        "id": "k7MEL_Ldkqhr"
      },
      "source": [
        "* print df2 head again"
      ]
    },
    {
      "cell_type": "code",
      "execution_count": 24,
      "metadata": {
        "colab": {
          "base_uri": "https://localhost:8080/",
          "height": 204
        },
        "id": "_qLt44-vkqhr",
        "outputId": "2e895ec7-6d9a-425d-8eb9-fa1e0de57bab"
      },
      "outputs": [
        {
          "data": {
            "text/html": [
              "<div>\n",
              "<style scoped>\n",
              "    .dataframe tbody tr th:only-of-type {\n",
              "        vertical-align: middle;\n",
              "    }\n",
              "\n",
              "    .dataframe tbody tr th {\n",
              "        vertical-align: top;\n",
              "    }\n",
              "\n",
              "    .dataframe thead th {\n",
              "        text-align: right;\n",
              "    }\n",
              "</style>\n",
              "<table border=\"1\" class=\"dataframe\">\n",
              "  <thead>\n",
              "    <tr style=\"text-align: right;\">\n",
              "      <th></th>\n",
              "      <th>A</th>\n",
              "      <th>B</th>\n",
              "      <th>C</th>\n",
              "      <th>D</th>\n",
              "    </tr>\n",
              "  </thead>\n",
              "  <tbody>\n",
              "    <tr>\n",
              "      <th>0</th>\n",
              "      <td>40</td>\n",
              "      <td>36</td>\n",
              "      <td>16</td>\n",
              "      <td>11</td>\n",
              "    </tr>\n",
              "    <tr>\n",
              "      <th>1</th>\n",
              "      <td>88</td>\n",
              "      <td>62</td>\n",
              "      <td>33</td>\n",
              "      <td>72</td>\n",
              "    </tr>\n",
              "    <tr>\n",
              "      <th>2</th>\n",
              "      <td>30</td>\n",
              "      <td>30</td>\n",
              "      <td>89</td>\n",
              "      <td>12</td>\n",
              "    </tr>\n",
              "    <tr>\n",
              "      <th>3</th>\n",
              "      <td>11</td>\n",
              "      <td>28</td>\n",
              "      <td>74</td>\n",
              "      <td>88</td>\n",
              "    </tr>\n",
              "    <tr>\n",
              "      <th>4</th>\n",
              "      <td>15</td>\n",
              "      <td>18</td>\n",
              "      <td>80</td>\n",
              "      <td>71</td>\n",
              "    </tr>\n",
              "  </tbody>\n",
              "</table>\n",
              "</div>"
            ],
            "text/plain": [
              "    A   B   C   D\n",
              "0  40  36  16  11\n",
              "1  88  62  33  72\n",
              "2  30  30  89  12\n",
              "3  11  28  74  88\n",
              "4  15  18  80  71"
            ]
          },
          "execution_count": 24,
          "metadata": {
            "tags": []
          },
          "output_type": "execute_result"
        }
      ],
      "source": [
        "# df2 head\n",
        "df2.head()"
      ]
    },
    {
      "cell_type": "markdown",
      "metadata": {
        "id": "t1htc1J-kqhr"
      },
      "source": [
        "# Renaming column names to meaningful names.\n"
      ]
    },
    {
      "cell_type": "markdown",
      "metadata": {
        "id": "P3JtdP4fkqhr"
      },
      "source": [
        "* Now df2 columns represents marks of the adventurous 'Anand', the brave 'Barkha', the compassionate 'Chandu' and the dashing 'Daniel'. Rename the columns with their name inplace of their first letter of their name."
      ]
    },
    {
      "cell_type": "code",
      "execution_count": 25,
      "metadata": {
        "id": "wsQ2Sr-9kqhs"
      },
      "outputs": [],
      "source": [
        "#column renaming\n",
        "df2 = df2.rename(columns={'A': 'Anand', 'B': 'Barkha', 'C': 'Chandu', 'D': 'Daniel'})"
      ]
    },
    {
      "cell_type": "markdown",
      "metadata": {
        "id": "wwV5om7Ikqhs"
      },
      "source": [
        "* print df2 tail with updated column names"
      ]
    },
    {
      "cell_type": "code",
      "execution_count": 26,
      "metadata": {
        "colab": {
          "base_uri": "https://localhost:8080/",
          "height": 204
        },
        "id": "ZA5btO84kqhs",
        "outputId": "1f4a2e0c-88f4-4fd9-baeb-6ed99d30d4f7"
      },
      "outputs": [
        {
          "data": {
            "text/html": [
              "<div>\n",
              "<style scoped>\n",
              "    .dataframe tbody tr th:only-of-type {\n",
              "        vertical-align: middle;\n",
              "    }\n",
              "\n",
              "    .dataframe tbody tr th {\n",
              "        vertical-align: top;\n",
              "    }\n",
              "\n",
              "    .dataframe thead th {\n",
              "        text-align: right;\n",
              "    }\n",
              "</style>\n",
              "<table border=\"1\" class=\"dataframe\">\n",
              "  <thead>\n",
              "    <tr style=\"text-align: right;\">\n",
              "      <th></th>\n",
              "      <th>Anand</th>\n",
              "      <th>Barkha</th>\n",
              "      <th>Chandu</th>\n",
              "      <th>Daniel</th>\n",
              "    </tr>\n",
              "  </thead>\n",
              "  <tbody>\n",
              "    <tr>\n",
              "      <th>0</th>\n",
              "      <td>40</td>\n",
              "      <td>36</td>\n",
              "      <td>16</td>\n",
              "      <td>11</td>\n",
              "    </tr>\n",
              "    <tr>\n",
              "      <th>1</th>\n",
              "      <td>88</td>\n",
              "      <td>62</td>\n",
              "      <td>33</td>\n",
              "      <td>72</td>\n",
              "    </tr>\n",
              "    <tr>\n",
              "      <th>2</th>\n",
              "      <td>30</td>\n",
              "      <td>30</td>\n",
              "      <td>89</td>\n",
              "      <td>12</td>\n",
              "    </tr>\n",
              "    <tr>\n",
              "      <th>3</th>\n",
              "      <td>11</td>\n",
              "      <td>28</td>\n",
              "      <td>74</td>\n",
              "      <td>88</td>\n",
              "    </tr>\n",
              "    <tr>\n",
              "      <th>4</th>\n",
              "      <td>15</td>\n",
              "      <td>18</td>\n",
              "      <td>80</td>\n",
              "      <td>71</td>\n",
              "    </tr>\n",
              "  </tbody>\n",
              "</table>\n",
              "</div>"
            ],
            "text/plain": [
              "   Anand  Barkha  Chandu  Daniel\n",
              "0     40      36      16      11\n",
              "1     88      62      33      72\n",
              "2     30      30      89      12\n",
              "3     11      28      74      88\n",
              "4     15      18      80      71"
            ]
          },
          "execution_count": 26,
          "metadata": {
            "tags": []
          },
          "output_type": "execute_result"
        }
      ],
      "source": [
        "# df2 head\n",
        "df2.head()"
      ]
    },
    {
      "cell_type": "markdown",
      "metadata": {
        "id": "OVPJo5YEkqhs"
      },
      "source": [
        "* Yeah! now the data looks pretty meaningful to study"
      ]
    },
    {
      "cell_type": "markdown",
      "metadata": {
        "id": "TmIexkkOkqhs"
      },
      "source": [
        "# Treating Duplicate Data"
      ]
    },
    {
      "cell_type": "markdown",
      "metadata": {
        "id": "FisYRuFD0CA7"
      },
      "source": [
        "* Make another dataframe df3 by deep copying df2."
      ]
    },
    {
      "cell_type": "code",
      "execution_count": 27,
      "metadata": {
        "id": "7YdZvdGozNFT"
      },
      "outputs": [],
      "source": [
        "df3= df2.copy()"
      ]
    },
    {
      "cell_type": "markdown",
      "metadata": {
        "id": "3hCi4Zjokqhs"
      },
      "source": [
        "* Make another column in df3 with name 'dummy' having 0 as values\n",
        "throughout the rows."
      ]
    },
    {
      "cell_type": "code",
      "execution_count": 28,
      "metadata": {
        "id": "IdXkjwYHkqht"
      },
      "outputs": [],
      "source": [
        "#assign dummy column full of zero value\n",
        "df3['dummy'] = 0"
      ]
    },
    {
      "cell_type": "code",
      "execution_count": 29,
      "metadata": {
        "colab": {
          "base_uri": "https://localhost:8080/"
        },
        "id": "en7XzaxD2rrV",
        "outputId": "c8955307-f98e-4427-f925-a7310baa900d"
      },
      "outputs": [
        {
          "name": "stdout",
          "output_type": "stream",
          "text": [
            "    A   B   C   D\n",
            "0   9  15  64  28\n",
            "1  93  29   8  73\n",
            "2  40  36  16  11\n",
            "3  88  62  33  72\n",
            "4  49  51  54  77\n",
            "   Anand  Barkha  Chandu  Daniel\n",
            "0     40      36      16      11\n",
            "1     88      62      33      72\n",
            "2     30      30      89      12\n",
            "3     11      28      74      88\n",
            "4     15      18      80      71\n",
            "   Anand  Barkha  Chandu  Daniel  dummy\n",
            "0     40      36      16      11      0\n",
            "1     88      62      33      72      0\n",
            "2     30      30      89      12      0\n",
            "3     11      28      74      88      0\n",
            "4     15      18      80      71      0\n"
          ]
        }
      ],
      "source": [
        "# print head of df, df2 and df3\n",
        "print(df.head())\n",
        "print(df2.head())\n",
        "print(df3.head())"
      ]
    },
    {
      "cell_type": "markdown",
      "metadata": {
        "id": "MxcNd_Ja1YXs"
      },
      "source": [
        "* Hey buddy! Don't you think, there is some difference between copy operation used for creating df2 and df3."
      ]
    },
    {
      "cell_type": "markdown",
      "metadata": {
        "id": "2vlkb3edkqht"
      },
      "source": [
        "* print tail of df3"
      ]
    },
    {
      "cell_type": "code",
      "execution_count": 31,
      "metadata": {
        "colab": {
          "base_uri": "https://localhost:8080/",
          "height": 204
        },
        "id": "asZ8XuR55qIC",
        "outputId": "fc518259-7983-4175-ee3b-0b26af6b300f"
      },
      "outputs": [
        {
          "data": {
            "text/html": [
              "<div>\n",
              "<style scoped>\n",
              "    .dataframe tbody tr th:only-of-type {\n",
              "        vertical-align: middle;\n",
              "    }\n",
              "\n",
              "    .dataframe tbody tr th {\n",
              "        vertical-align: top;\n",
              "    }\n",
              "\n",
              "    .dataframe thead th {\n",
              "        text-align: right;\n",
              "    }\n",
              "</style>\n",
              "<table border=\"1\" class=\"dataframe\">\n",
              "  <thead>\n",
              "    <tr style=\"text-align: right;\">\n",
              "      <th></th>\n",
              "      <th>Anand</th>\n",
              "      <th>Barkha</th>\n",
              "      <th>Chandu</th>\n",
              "      <th>Daniel</th>\n",
              "      <th>dummy</th>\n",
              "    </tr>\n",
              "  </thead>\n",
              "  <tbody>\n",
              "    <tr>\n",
              "      <th>43</th>\n",
              "      <td>1</td>\n",
              "      <td>82</td>\n",
              "      <td>34</td>\n",
              "      <td>11</td>\n",
              "      <td>0</td>\n",
              "    </tr>\n",
              "    <tr>\n",
              "      <th>44</th>\n",
              "      <td>74</td>\n",
              "      <td>36</td>\n",
              "      <td>6</td>\n",
              "      <td>63</td>\n",
              "      <td>0</td>\n",
              "    </tr>\n",
              "    <tr>\n",
              "      <th>45</th>\n",
              "      <td>3</td>\n",
              "      <td>50</td>\n",
              "      <td>59</td>\n",
              "      <td>34</td>\n",
              "      <td>0</td>\n",
              "    </tr>\n",
              "    <tr>\n",
              "      <th>46</th>\n",
              "      <td>16</td>\n",
              "      <td>18</td>\n",
              "      <td>61</td>\n",
              "      <td>54</td>\n",
              "      <td>0</td>\n",
              "    </tr>\n",
              "    <tr>\n",
              "      <th>47</th>\n",
              "      <td>67</td>\n",
              "      <td>38</td>\n",
              "      <td>27</td>\n",
              "      <td>96</td>\n",
              "      <td>0</td>\n",
              "    </tr>\n",
              "  </tbody>\n",
              "</table>\n",
              "</div>"
            ],
            "text/plain": [
              "    Anand  Barkha  Chandu  Daniel  dummy\n",
              "43      1      82      34      11      0\n",
              "44     74      36       6      63      0\n",
              "45      3      50      59      34      0\n",
              "46     16      18      61      54      0\n",
              "47     67      38      27      96      0"
            ]
          },
          "execution_count": 31,
          "metadata": {
            "tags": []
          },
          "output_type": "execute_result"
        }
      ],
      "source": [
        "# df3 tail\n",
        "df3.tail()"
      ]
    },
    {
      "cell_type": "markdown",
      "metadata": {
        "id": "r4ulvQTdkqht"
      },
      "source": [
        "* make an array name 'ListB' with values of column 'Barkha'"
      ]
    },
    {
      "cell_type": "code",
      "execution_count": 32,
      "metadata": {
        "id": "DDQvQNGdkqht"
      },
      "outputs": [],
      "source": [
        "ListB= df3['Barkha'].values"
      ]
    },
    {
      "cell_type": "markdown",
      "metadata": {
        "id": "kxp2Sttm57LA"
      },
      "source": [
        "* Print ListB"
      ]
    },
    {
      "cell_type": "code",
      "execution_count": 33,
      "metadata": {
        "colab": {
          "base_uri": "https://localhost:8080/"
        },
        "id": "fCqZUrDdkqht",
        "outputId": "5988c404-af47-4e25-eebf-a8f40cf4698f"
      },
      "outputs": [
        {
          "data": {
            "text/plain": [
              "array([36, 62, 30, 28, 18, 50, 88, 50, 80, 66, 96, 30,  4, 30,  2, 42, 94,\n",
              "       18, 44, 68, 58, 48, 70, 22, 36, 32, 32, 96, 30, 86,  0, 76, 88, 64,\n",
              "       52, 46, 20, 66, 56,  8, 68, 50, 28, 82, 36, 50, 18, 38])"
            ]
          },
          "execution_count": 33,
          "metadata": {
            "tags": []
          },
          "output_type": "execute_result"
        }
      ],
      "source": [
        "#print ListB\n",
        "ListB"
      ]
    },
    {
      "cell_type": "markdown",
      "metadata": {
        "id": "XdTgrnTJkqhu"
      },
      "source": [
        "* Assign this array values as another column in df3 with name 'Anonymous'"
      ]
    },
    {
      "cell_type": "code",
      "execution_count": 34,
      "metadata": {
        "id": "2U01qa6Akqhu"
      },
      "outputs": [],
      "source": [
        "#create Anonymous column\n",
        "df3['Anonymous'] = pd.DataFrame(ListB)"
      ]
    },
    {
      "cell_type": "markdown",
      "metadata": {
        "id": "9Tnv9FxNkqhu"
      },
      "source": [
        "* Create a dataframe 'ListA' with values of row index 3, 10 and 40"
      ]
    },
    {
      "cell_type": "code",
      "execution_count": 35,
      "metadata": {
        "id": "6KjmI6RRkqhu"
      },
      "outputs": [],
      "source": [
        "ListA= df3.iloc[[3,10,40],]"
      ]
    },
    {
      "cell_type": "markdown",
      "metadata": {
        "id": "536Zw_9kkqhu"
      },
      "source": [
        "* print ListA"
      ]
    },
    {
      "cell_type": "code",
      "execution_count": 36,
      "metadata": {
        "colab": {
          "base_uri": "https://localhost:8080/",
          "height": 142
        },
        "id": "uiwW-8S9kqhu",
        "outputId": "de26485f-4e3a-4706-fdda-553274a21b05"
      },
      "outputs": [
        {
          "data": {
            "text/html": [
              "<div>\n",
              "<style scoped>\n",
              "    .dataframe tbody tr th:only-of-type {\n",
              "        vertical-align: middle;\n",
              "    }\n",
              "\n",
              "    .dataframe tbody tr th {\n",
              "        vertical-align: top;\n",
              "    }\n",
              "\n",
              "    .dataframe thead th {\n",
              "        text-align: right;\n",
              "    }\n",
              "</style>\n",
              "<table border=\"1\" class=\"dataframe\">\n",
              "  <thead>\n",
              "    <tr style=\"text-align: right;\">\n",
              "      <th></th>\n",
              "      <th>Anand</th>\n",
              "      <th>Barkha</th>\n",
              "      <th>Chandu</th>\n",
              "      <th>Daniel</th>\n",
              "      <th>dummy</th>\n",
              "      <th>Anonymous</th>\n",
              "    </tr>\n",
              "  </thead>\n",
              "  <tbody>\n",
              "    <tr>\n",
              "      <th>3</th>\n",
              "      <td>11</td>\n",
              "      <td>28</td>\n",
              "      <td>74</td>\n",
              "      <td>88</td>\n",
              "      <td>0</td>\n",
              "      <td>28</td>\n",
              "    </tr>\n",
              "    <tr>\n",
              "      <th>10</th>\n",
              "      <td>88</td>\n",
              "      <td>96</td>\n",
              "      <td>73</td>\n",
              "      <td>40</td>\n",
              "      <td>0</td>\n",
              "      <td>96</td>\n",
              "    </tr>\n",
              "    <tr>\n",
              "      <th>40</th>\n",
              "      <td>87</td>\n",
              "      <td>68</td>\n",
              "      <td>86</td>\n",
              "      <td>14</td>\n",
              "      <td>0</td>\n",
              "      <td>68</td>\n",
              "    </tr>\n",
              "  </tbody>\n",
              "</table>\n",
              "</div>"
            ],
            "text/plain": [
              "    Anand  Barkha  Chandu  Daniel  dummy  Anonymous\n",
              "3      11      28      74      88      0         28\n",
              "10     88      96      73      40      0         96\n",
              "40     87      68      86      14      0         68"
            ]
          },
          "execution_count": 36,
          "metadata": {
            "tags": []
          },
          "output_type": "execute_result"
        }
      ],
      "source": [
        "# print ListA\n",
        "ListA"
      ]
    },
    {
      "cell_type": "markdown",
      "metadata": {
        "id": "HLT1U7ZQkqhu"
      },
      "source": [
        "* Concat ListA to df3 ignoring the index values of ListA so that we can maintain the sequential index value thoughout the dataframe."
      ]
    },
    {
      "cell_type": "code",
      "execution_count": 37,
      "metadata": {
        "id": "zj_zUXiokqhv"
      },
      "outputs": [],
      "source": [
        "df3= pd.concat([ListA, df3], axis=0, ignore_index=True)"
      ]
    },
    {
      "cell_type": "markdown",
      "metadata": {
        "id": "qp2M-WnYkqhv"
      },
      "source": [
        "* print head of df3"
      ]
    },
    {
      "cell_type": "code",
      "execution_count": 38,
      "metadata": {
        "colab": {
          "base_uri": "https://localhost:8080/",
          "height": 204
        },
        "id": "GwotDl4Tkqhv",
        "outputId": "242a7b5b-589e-4aaa-c3ee-049b797ec9ab"
      },
      "outputs": [
        {
          "data": {
            "text/html": [
              "<div>\n",
              "<style scoped>\n",
              "    .dataframe tbody tr th:only-of-type {\n",
              "        vertical-align: middle;\n",
              "    }\n",
              "\n",
              "    .dataframe tbody tr th {\n",
              "        vertical-align: top;\n",
              "    }\n",
              "\n",
              "    .dataframe thead th {\n",
              "        text-align: right;\n",
              "    }\n",
              "</style>\n",
              "<table border=\"1\" class=\"dataframe\">\n",
              "  <thead>\n",
              "    <tr style=\"text-align: right;\">\n",
              "      <th></th>\n",
              "      <th>Anand</th>\n",
              "      <th>Barkha</th>\n",
              "      <th>Chandu</th>\n",
              "      <th>Daniel</th>\n",
              "      <th>dummy</th>\n",
              "      <th>Anonymous</th>\n",
              "    </tr>\n",
              "  </thead>\n",
              "  <tbody>\n",
              "    <tr>\n",
              "      <th>0</th>\n",
              "      <td>11</td>\n",
              "      <td>28</td>\n",
              "      <td>74</td>\n",
              "      <td>88</td>\n",
              "      <td>0</td>\n",
              "      <td>28</td>\n",
              "    </tr>\n",
              "    <tr>\n",
              "      <th>1</th>\n",
              "      <td>88</td>\n",
              "      <td>96</td>\n",
              "      <td>73</td>\n",
              "      <td>40</td>\n",
              "      <td>0</td>\n",
              "      <td>96</td>\n",
              "    </tr>\n",
              "    <tr>\n",
              "      <th>2</th>\n",
              "      <td>87</td>\n",
              "      <td>68</td>\n",
              "      <td>86</td>\n",
              "      <td>14</td>\n",
              "      <td>0</td>\n",
              "      <td>68</td>\n",
              "    </tr>\n",
              "    <tr>\n",
              "      <th>3</th>\n",
              "      <td>40</td>\n",
              "      <td>36</td>\n",
              "      <td>16</td>\n",
              "      <td>11</td>\n",
              "      <td>0</td>\n",
              "      <td>36</td>\n",
              "    </tr>\n",
              "    <tr>\n",
              "      <th>4</th>\n",
              "      <td>88</td>\n",
              "      <td>62</td>\n",
              "      <td>33</td>\n",
              "      <td>72</td>\n",
              "      <td>0</td>\n",
              "      <td>62</td>\n",
              "    </tr>\n",
              "  </tbody>\n",
              "</table>\n",
              "</div>"
            ],
            "text/plain": [
              "   Anand  Barkha  Chandu  Daniel  dummy  Anonymous\n",
              "0     11      28      74      88      0         28\n",
              "1     88      96      73      40      0         96\n",
              "2     87      68      86      14      0         68\n",
              "3     40      36      16      11      0         36\n",
              "4     88      62      33      72      0         62"
            ]
          },
          "execution_count": 38,
          "metadata": {
            "tags": []
          },
          "output_type": "execute_result"
        }
      ],
      "source": [
        "# df3 head\n",
        "df3.head()"
      ]
    },
    {
      "cell_type": "markdown",
      "metadata": {
        "id": "ETx-cCU5kqhv"
      },
      "source": [
        "* Check if there is any duplicate rows present in the dataframe df3"
      ]
    },
    {
      "cell_type": "code",
      "execution_count": 39,
      "metadata": {
        "colab": {
          "base_uri": "https://localhost:8080/"
        },
        "id": "KkK9vv6Lkqhv",
        "outputId": "04fd67c2-7e21-43c1-d3a1-fe3b3894e36f"
      },
      "outputs": [
        {
          "data": {
            "text/plain": [
              "3"
            ]
          },
          "execution_count": 39,
          "metadata": {
            "tags": []
          },
          "output_type": "execute_result"
        }
      ],
      "source": [
        "#check duplicate\n",
        "df3.duplicated().sum()"
      ]
    },
    {
      "cell_type": "markdown",
      "metadata": {
        "id": "Okvw1xgtkqhv"
      },
      "source": [
        "* By above output it seems we do have duplicated rows in our dataset"
      ]
    },
    {
      "cell_type": "markdown",
      "metadata": {
        "id": "z0QOuS-_kqhw"
      },
      "source": [
        "* Drop duplicated rows using pandas function keeping first values of such duplicated observations"
      ]
    },
    {
      "cell_type": "code",
      "execution_count": 40,
      "metadata": {
        "id": "gRsgecqbkqhw"
      },
      "outputs": [],
      "source": [
        "#drop duplicate\n",
        "df3.drop_duplicates(keep = False, inplace = True)"
      ]
    },
    {
      "cell_type": "markdown",
      "metadata": {
        "id": "FbNFF-4jkqhw"
      },
      "source": [
        "* Check again if we have any duplicate row values present "
      ]
    },
    {
      "cell_type": "code",
      "execution_count": 41,
      "metadata": {
        "colab": {
          "base_uri": "https://localhost:8080/"
        },
        "id": "ehOxm1Mckqhw",
        "outputId": "44dfb0bf-37d8-4019-9601-84c62473049c"
      },
      "outputs": [
        {
          "data": {
            "text/plain": [
              "0"
            ]
          },
          "execution_count": 41,
          "metadata": {
            "tags": []
          },
          "output_type": "execute_result"
        }
      ],
      "source": [
        "#check duplicate\n",
        "df3.duplicated().sum()"
      ]
    },
    {
      "cell_type": "markdown",
      "metadata": {
        "id": "7Sg80lIkkqhw"
      },
      "source": [
        "* Yipeee!! Did you notice the dataframe is free from any duplicate rows now."
      ]
    },
    {
      "cell_type": "markdown",
      "metadata": {
        "id": "za0nup3Pkqhw"
      },
      "source": [
        "* Drop any duplicate columns present in the dataframe df"
      ]
    },
    {
      "cell_type": "code",
      "execution_count": 42,
      "metadata": {
        "colab": {
          "base_uri": "https://localhost:8080/",
          "height": 204
        },
        "id": "NE9l9xM0kqhw",
        "outputId": "c74316b2-f997-40f6-c160-6cb988a5b2ec"
      },
      "outputs": [
        {
          "data": {
            "text/html": [
              "<div>\n",
              "<style scoped>\n",
              "    .dataframe tbody tr th:only-of-type {\n",
              "        vertical-align: middle;\n",
              "    }\n",
              "\n",
              "    .dataframe tbody tr th {\n",
              "        vertical-align: top;\n",
              "    }\n",
              "\n",
              "    .dataframe thead th {\n",
              "        text-align: right;\n",
              "    }\n",
              "</style>\n",
              "<table border=\"1\" class=\"dataframe\">\n",
              "  <thead>\n",
              "    <tr style=\"text-align: right;\">\n",
              "      <th></th>\n",
              "      <th>Anand</th>\n",
              "      <th>Barkha</th>\n",
              "      <th>Chandu</th>\n",
              "      <th>Daniel</th>\n",
              "      <th>dummy</th>\n",
              "    </tr>\n",
              "  </thead>\n",
              "  <tbody>\n",
              "    <tr>\n",
              "      <th>3</th>\n",
              "      <td>40</td>\n",
              "      <td>36</td>\n",
              "      <td>16</td>\n",
              "      <td>11</td>\n",
              "      <td>0</td>\n",
              "    </tr>\n",
              "    <tr>\n",
              "      <th>4</th>\n",
              "      <td>88</td>\n",
              "      <td>62</td>\n",
              "      <td>33</td>\n",
              "      <td>72</td>\n",
              "      <td>0</td>\n",
              "    </tr>\n",
              "    <tr>\n",
              "      <th>5</th>\n",
              "      <td>30</td>\n",
              "      <td>30</td>\n",
              "      <td>89</td>\n",
              "      <td>12</td>\n",
              "      <td>0</td>\n",
              "    </tr>\n",
              "    <tr>\n",
              "      <th>7</th>\n",
              "      <td>15</td>\n",
              "      <td>18</td>\n",
              "      <td>80</td>\n",
              "      <td>71</td>\n",
              "      <td>0</td>\n",
              "    </tr>\n",
              "    <tr>\n",
              "      <th>8</th>\n",
              "      <td>88</td>\n",
              "      <td>50</td>\n",
              "      <td>54</td>\n",
              "      <td>34</td>\n",
              "      <td>0</td>\n",
              "    </tr>\n",
              "  </tbody>\n",
              "</table>\n",
              "</div>"
            ],
            "text/plain": [
              "   Anand  Barkha  Chandu  Daniel  dummy\n",
              "3     40      36      16      11      0\n",
              "4     88      62      33      72      0\n",
              "5     30      30      89      12      0\n",
              "7     15      18      80      71      0\n",
              "8     88      50      54      34      0"
            ]
          },
          "execution_count": 42,
          "metadata": {
            "tags": []
          },
          "output_type": "execute_result"
        }
      ],
      "source": [
        "df3= df3.T.drop_duplicates().T\n",
        "\n",
        "#print df3\n",
        "df3.head()"
      ]
    },
    {
      "cell_type": "markdown",
      "metadata": {
        "id": "HAMB8--rkqhx"
      },
      "source": [
        "* Did you notice which Column is dropped?\n",
        "I am sure you noticed it.\n",
        "Name that column below"
      ]
    },
    {
      "cell_type": "code",
      "execution_count": 43,
      "metadata": {
        "id": "x7HRPWXHkqhx"
      },
      "outputs": [],
      "source": [
        "#Column: Anonymous_______"
      ]
    },
    {
      "cell_type": "markdown",
      "metadata": {
        "id": "n53B2-pCkqhx"
      },
      "source": [
        "# Treating constant column values"
      ]
    },
    {
      "cell_type": "markdown",
      "metadata": {
        "id": "fDpWhHSlkqhx"
      },
      "source": [
        "Check unique values in each columns"
      ]
    },
    {
      "cell_type": "code",
      "execution_count": 44,
      "metadata": {
        "colab": {
          "base_uri": "https://localhost:8080/"
        },
        "id": "5-L6SLhqkqhx",
        "outputId": "3af3e8a7-c13a-4f5e-aceb-e4d91ae6f01a"
      },
      "outputs": [
        {
          "data": {
            "text/plain": [
              "Anand     40\n",
              "Barkha    32\n",
              "Chandu    38\n",
              "Daniel    35\n",
              "dummy      1\n",
              "dtype: int64"
            ]
          },
          "execution_count": 44,
          "metadata": {
            "tags": []
          },
          "output_type": "execute_result"
        }
      ],
      "source": [
        "# df3 unique value\n",
        "df3.nunique()"
      ]
    },
    {
      "cell_type": "markdown",
      "metadata": {
        "id": "4G9ZC-n-kqhx"
      },
      "source": [
        "* By above output which column has only 1 value as unique throught the rows? \n",
        "Yeah! you are right, its dummy column.\n",
        "So lets drop it"
      ]
    },
    {
      "cell_type": "markdown",
      "metadata": {
        "id": "D3y3ZWW6kqhx"
      },
      "source": [
        "* Drop dummy column as it has constant values which will not give us any information and save the changes to df3 using inplace parameter"
      ]
    },
    {
      "cell_type": "code",
      "execution_count": 45,
      "metadata": {
        "id": "SR10jRVQkqhy"
      },
      "outputs": [],
      "source": [
        "# drop dummy\n",
        "df3.drop('dummy', axis=1, inplace=True)"
      ]
    },
    {
      "cell_type": "markdown",
      "metadata": {
        "id": "nHdi2uHskqhy"
      },
      "source": [
        "* print final obtained dataframe df3"
      ]
    },
    {
      "cell_type": "code",
      "execution_count": 46,
      "metadata": {
        "colab": {
          "base_uri": "https://localhost:8080/",
          "height": 204
        },
        "id": "0-YUwfDKkqhy",
        "outputId": "6b08a1ba-c56f-40dc-ce5b-cdbc545e494a"
      },
      "outputs": [
        {
          "data": {
            "text/html": [
              "<div>\n",
              "<style scoped>\n",
              "    .dataframe tbody tr th:only-of-type {\n",
              "        vertical-align: middle;\n",
              "    }\n",
              "\n",
              "    .dataframe tbody tr th {\n",
              "        vertical-align: top;\n",
              "    }\n",
              "\n",
              "    .dataframe thead th {\n",
              "        text-align: right;\n",
              "    }\n",
              "</style>\n",
              "<table border=\"1\" class=\"dataframe\">\n",
              "  <thead>\n",
              "    <tr style=\"text-align: right;\">\n",
              "      <th></th>\n",
              "      <th>Anand</th>\n",
              "      <th>Barkha</th>\n",
              "      <th>Chandu</th>\n",
              "      <th>Daniel</th>\n",
              "    </tr>\n",
              "  </thead>\n",
              "  <tbody>\n",
              "    <tr>\n",
              "      <th>3</th>\n",
              "      <td>40</td>\n",
              "      <td>36</td>\n",
              "      <td>16</td>\n",
              "      <td>11</td>\n",
              "    </tr>\n",
              "    <tr>\n",
              "      <th>4</th>\n",
              "      <td>88</td>\n",
              "      <td>62</td>\n",
              "      <td>33</td>\n",
              "      <td>72</td>\n",
              "    </tr>\n",
              "    <tr>\n",
              "      <th>5</th>\n",
              "      <td>30</td>\n",
              "      <td>30</td>\n",
              "      <td>89</td>\n",
              "      <td>12</td>\n",
              "    </tr>\n",
              "    <tr>\n",
              "      <th>7</th>\n",
              "      <td>15</td>\n",
              "      <td>18</td>\n",
              "      <td>80</td>\n",
              "      <td>71</td>\n",
              "    </tr>\n",
              "    <tr>\n",
              "      <th>8</th>\n",
              "      <td>88</td>\n",
              "      <td>50</td>\n",
              "      <td>54</td>\n",
              "      <td>34</td>\n",
              "    </tr>\n",
              "  </tbody>\n",
              "</table>\n",
              "</div>"
            ],
            "text/plain": [
              "   Anand  Barkha  Chandu  Daniel\n",
              "3     40      36      16      11\n",
              "4     88      62      33      72\n",
              "5     30      30      89      12\n",
              "7     15      18      80      71\n",
              "8     88      50      54      34"
            ]
          },
          "execution_count": 46,
          "metadata": {
            "tags": []
          },
          "output_type": "execute_result"
        }
      ],
      "source": [
        "# print df3\n",
        "df3.head()"
      ]
    },
    {
      "cell_type": "markdown",
      "metadata": {
        "id": "aKvKQdkukafh"
      },
      "source": [
        "# Iterating dataframes\n",
        "<p style='text-align: right;'> 25 points </p>\n",
        "\n",
        "Let's look at three main ways to iterate over DataFrames.\n",
        "\n",
        "1. iteritems()\n",
        "2. iterrows()\n",
        "3. itertuples()\n",
        "\n",
        "We will also see time taken by these methods to print our dataframe. \n",
        "\n",
        "**1. Iterating DataFrames with iteritems()**\n",
        "\n",
        "Lets iterate over rows of df3 uisng iteritems.\n",
        "\n"
      ]
    },
    {
      "cell_type": "code",
      "execution_count": 47,
      "metadata": {
        "colab": {
          "base_uri": "https://localhost:8080/"
        },
        "id": "GBNvIdaRkafi",
        "outputId": "484c4e96-1018-4c8a-a51b-2b6595039ba7"
      },
      "outputs": [
        {
          "name": "stdout",
          "output_type": "stream",
          "text": [
            "label: Anand\n",
            "content: 3     40\n",
            "4     88\n",
            "5     30\n",
            "7     15\n",
            "8     88\n",
            "9     77\n",
            "10    97\n",
            "11    81\n",
            "12    96\n",
            "14    28\n",
            "15    33\n",
            "16    68\n",
            "17     9\n",
            "18    62\n",
            "19    32\n",
            "20    45\n",
            "21     6\n",
            "22    44\n",
            "23    39\n",
            "24    69\n",
            "25     5\n",
            "26     4\n",
            "27    10\n",
            "28    85\n",
            "29    31\n",
            "30     0\n",
            "31     2\n",
            "32    63\n",
            "33    19\n",
            "34    58\n",
            "35     7\n",
            "36    27\n",
            "37    27\n",
            "38    99\n",
            "39    84\n",
            "40    77\n",
            "41    82\n",
            "42    74\n",
            "44    50\n",
            "45     1\n",
            "46     1\n",
            "47    74\n",
            "48     3\n",
            "49    16\n",
            "50    67\n",
            "Name: Anand, dtype: int64\n",
            "label: Barkha\n",
            "content: 3     36\n",
            "4     62\n",
            "5     30\n",
            "7     18\n",
            "8     50\n",
            "9     88\n",
            "10    50\n",
            "11    80\n",
            "12    66\n",
            "14    30\n",
            "15     4\n",
            "16    30\n",
            "17     2\n",
            "18    42\n",
            "19    94\n",
            "20    18\n",
            "21    44\n",
            "22    68\n",
            "23    58\n",
            "24    48\n",
            "25    70\n",
            "26    22\n",
            "27    36\n",
            "28    32\n",
            "29    32\n",
            "30    96\n",
            "31    30\n",
            "32    86\n",
            "33     0\n",
            "34    76\n",
            "35    88\n",
            "36    64\n",
            "37    52\n",
            "38    46\n",
            "39    20\n",
            "40    66\n",
            "41    56\n",
            "42     8\n",
            "44    50\n",
            "45    28\n",
            "46    82\n",
            "47    36\n",
            "48    50\n",
            "49    18\n",
            "50    38\n",
            "Name: Barkha, dtype: int64\n",
            "label: Chandu\n",
            "content: 3     16\n",
            "4     33\n",
            "5     89\n",
            "7     80\n",
            "8     54\n",
            "9     15\n",
            "10    45\n",
            "11    41\n",
            "12    67\n",
            "14    89\n",
            "15    87\n",
            "16    70\n",
            "17    65\n",
            "18    34\n",
            "19    86\n",
            "20    50\n",
            "21     9\n",
            "22    14\n",
            "23    81\n",
            "24    60\n",
            "25    61\n",
            "26    19\n",
            "27     0\n",
            "28    81\n",
            "29    96\n",
            "30    25\n",
            "31    17\n",
            "32    29\n",
            "33     7\n",
            "34    10\n",
            "35    96\n",
            "36    49\n",
            "37    90\n",
            "38    46\n",
            "39    49\n",
            "40    37\n",
            "41    41\n",
            "42    92\n",
            "44    85\n",
            "45    58\n",
            "46    34\n",
            "47     6\n",
            "48    59\n",
            "49    61\n",
            "50    27\n",
            "Name: Chandu, dtype: int64\n",
            "label: Daniel\n",
            "content: 3     11\n",
            "4     72\n",
            "5     12\n",
            "7     71\n",
            "8     34\n",
            "9      6\n",
            "10    40\n",
            "11    90\n",
            "12    62\n",
            "14    25\n",
            "15    94\n",
            "16    74\n",
            "17    13\n",
            "18    40\n",
            "19    58\n",
            "20    44\n",
            "21    50\n",
            "22     4\n",
            "23    39\n",
            "24    58\n",
            "25    16\n",
            "26    85\n",
            "27    30\n",
            "28    13\n",
            "29    38\n",
            "30    63\n",
            "31    59\n",
            "32    71\n",
            "33    93\n",
            "34    79\n",
            "35    38\n",
            "36    90\n",
            "37    57\n",
            "38    45\n",
            "39    33\n",
            "40    31\n",
            "41    90\n",
            "42    32\n",
            "44    14\n",
            "45    10\n",
            "46    11\n",
            "47    63\n",
            "48    34\n",
            "49    54\n",
            "50    96\n",
            "Name: Daniel, dtype: int64\n",
            "Time taken(sec):  4.713773727416992\n"
          ]
        }
      ],
      "source": [
        "import time\n",
        "start = time.time()\n",
        "\n",
        "#Use iteritems to iterate\n",
        "for label, content in df3.items():\n",
        "    print(f'label: {label}')\n",
        "    print(f'content: {content}', sep='\\n')\n",
        "\n",
        "\n",
        "print('Time taken(sec): ',(time.time()-start)*1000)"
      ]
    },
    {
      "cell_type": "markdown",
      "metadata": {
        "id": "5TcM7XA5kafi"
      },
      "source": [
        "Did you notice buddy how iteritems are iterating over df3.\n",
        "\n",
        "Along with ways each iterating function works, also keep tallying the time taken for all other lopps too!. This will be fun, lets check iterrows()\n",
        "\n",
        "**2. Iterating DataFrames with iterrows()**"
      ]
    },
    {
      "cell_type": "code",
      "execution_count": 48,
      "metadata": {
        "colab": {
          "base_uri": "https://localhost:8080/"
        },
        "id": "JIID_HdHkafi",
        "outputId": "695391dd-0e1a-4238-eaf8-fa3e2bcc0aae"
      },
      "outputs": [
        {
          "name": "stdout",
          "output_type": "stream",
          "text": [
            "Index: 3\n",
            "Anand     40\n",
            "Barkha    36\n",
            "Chandu    16\n",
            "Daniel    11\n",
            "Name: 3, dtype: int64\n",
            "\n",
            "Index: 4\n",
            "Anand     88\n",
            "Barkha    62\n",
            "Chandu    33\n",
            "Daniel    72\n",
            "Name: 4, dtype: int64\n",
            "\n",
            "Index: 5\n",
            "Anand     30\n",
            "Barkha    30\n",
            "Chandu    89\n",
            "Daniel    12\n",
            "Name: 5, dtype: int64\n",
            "\n",
            "Index: 7\n",
            "Anand     15\n",
            "Barkha    18\n",
            "Chandu    80\n",
            "Daniel    71\n",
            "Name: 7, dtype: int64\n",
            "\n",
            "Index: 8\n",
            "Anand     88\n",
            "Barkha    50\n",
            "Chandu    54\n",
            "Daniel    34\n",
            "Name: 8, dtype: int64\n",
            "\n",
            "Index: 9\n",
            "Anand     77\n",
            "Barkha    88\n",
            "Chandu    15\n",
            "Daniel     6\n",
            "Name: 9, dtype: int64\n",
            "\n",
            "Index: 10\n",
            "Anand     97\n",
            "Barkha    50\n",
            "Chandu    45\n",
            "Daniel    40\n",
            "Name: 10, dtype: int64\n",
            "\n",
            "Index: 11\n",
            "Anand     81\n",
            "Barkha    80\n",
            "Chandu    41\n",
            "Daniel    90\n",
            "Name: 11, dtype: int64\n",
            "\n",
            "Index: 12\n",
            "Anand     96\n",
            "Barkha    66\n",
            "Chandu    67\n",
            "Daniel    62\n",
            "Name: 12, dtype: int64\n",
            "\n",
            "Index: 14\n",
            "Anand     28\n",
            "Barkha    30\n",
            "Chandu    89\n",
            "Daniel    25\n",
            "Name: 14, dtype: int64\n",
            "\n",
            "Index: 15\n",
            "Anand     33\n",
            "Barkha     4\n",
            "Chandu    87\n",
            "Daniel    94\n",
            "Name: 15, dtype: int64\n",
            "\n",
            "Index: 16\n",
            "Anand     68\n",
            "Barkha    30\n",
            "Chandu    70\n",
            "Daniel    74\n",
            "Name: 16, dtype: int64\n",
            "\n",
            "Index: 17\n",
            "Anand      9\n",
            "Barkha     2\n",
            "Chandu    65\n",
            "Daniel    13\n",
            "Name: 17, dtype: int64\n",
            "\n",
            "Index: 18\n",
            "Anand     62\n",
            "Barkha    42\n",
            "Chandu    34\n",
            "Daniel    40\n",
            "Name: 18, dtype: int64\n",
            "\n",
            "Index: 19\n",
            "Anand     32\n",
            "Barkha    94\n",
            "Chandu    86\n",
            "Daniel    58\n",
            "Name: 19, dtype: int64\n",
            "\n",
            "Index: 20\n",
            "Anand     45\n",
            "Barkha    18\n",
            "Chandu    50\n",
            "Daniel    44\n",
            "Name: 20, dtype: int64\n",
            "\n",
            "Index: 21\n",
            "Anand      6\n",
            "Barkha    44\n",
            "Chandu     9\n",
            "Daniel    50\n",
            "Name: 21, dtype: int64\n",
            "\n",
            "Index: 22\n",
            "Anand     44\n",
            "Barkha    68\n",
            "Chandu    14\n",
            "Daniel     4\n",
            "Name: 22, dtype: int64\n",
            "\n",
            "Index: 23\n",
            "Anand     39\n",
            "Barkha    58\n",
            "Chandu    81\n",
            "Daniel    39\n",
            "Name: 23, dtype: int64\n",
            "\n",
            "Index: 24\n",
            "Anand     69\n",
            "Barkha    48\n",
            "Chandu    60\n",
            "Daniel    58\n",
            "Name: 24, dtype: int64\n",
            "\n",
            "Index: 25\n",
            "Anand      5\n",
            "Barkha    70\n",
            "Chandu    61\n",
            "Daniel    16\n",
            "Name: 25, dtype: int64\n",
            "\n",
            "Index: 26\n",
            "Anand      4\n",
            "Barkha    22\n",
            "Chandu    19\n",
            "Daniel    85\n",
            "Name: 26, dtype: int64\n",
            "\n",
            "Index: 27\n",
            "Anand     10\n",
            "Barkha    36\n",
            "Chandu     0\n",
            "Daniel    30\n",
            "Name: 27, dtype: int64\n",
            "\n",
            "Index: 28\n",
            "Anand     85\n",
            "Barkha    32\n",
            "Chandu    81\n",
            "Daniel    13\n",
            "Name: 28, dtype: int64\n",
            "\n",
            "Index: 29\n",
            "Anand     31\n",
            "Barkha    32\n",
            "Chandu    96\n",
            "Daniel    38\n",
            "Name: 29, dtype: int64\n",
            "\n",
            "Index: 30\n",
            "Anand      0\n",
            "Barkha    96\n",
            "Chandu    25\n",
            "Daniel    63\n",
            "Name: 30, dtype: int64\n",
            "\n",
            "Index: 31\n",
            "Anand      2\n",
            "Barkha    30\n",
            "Chandu    17\n",
            "Daniel    59\n",
            "Name: 31, dtype: int64\n",
            "\n",
            "Index: 32\n",
            "Anand     63\n",
            "Barkha    86\n",
            "Chandu    29\n",
            "Daniel    71\n",
            "Name: 32, dtype: int64\n",
            "\n",
            "Index: 33\n",
            "Anand     19\n",
            "Barkha     0\n",
            "Chandu     7\n",
            "Daniel    93\n",
            "Name: 33, dtype: int64\n",
            "\n",
            "Index: 34\n",
            "Anand     58\n",
            "Barkha    76\n",
            "Chandu    10\n",
            "Daniel    79\n",
            "Name: 34, dtype: int64\n",
            "\n",
            "Index: 35\n",
            "Anand      7\n",
            "Barkha    88\n",
            "Chandu    96\n",
            "Daniel    38\n",
            "Name: 35, dtype: int64\n",
            "\n",
            "Index: 36\n",
            "Anand     27\n",
            "Barkha    64\n",
            "Chandu    49\n",
            "Daniel    90\n",
            "Name: 36, dtype: int64\n",
            "\n",
            "Index: 37\n",
            "Anand     27\n",
            "Barkha    52\n",
            "Chandu    90\n",
            "Daniel    57\n",
            "Name: 37, dtype: int64\n",
            "\n",
            "Index: 38\n",
            "Anand     99\n",
            "Barkha    46\n",
            "Chandu    46\n",
            "Daniel    45\n",
            "Name: 38, dtype: int64\n",
            "\n",
            "Index: 39\n",
            "Anand     84\n",
            "Barkha    20\n",
            "Chandu    49\n",
            "Daniel    33\n",
            "Name: 39, dtype: int64\n",
            "\n",
            "Index: 40\n",
            "Anand     77\n",
            "Barkha    66\n",
            "Chandu    37\n",
            "Daniel    31\n",
            "Name: 40, dtype: int64\n",
            "\n",
            "Index: 41\n",
            "Anand     82\n",
            "Barkha    56\n",
            "Chandu    41\n",
            "Daniel    90\n",
            "Name: 41, dtype: int64\n",
            "\n",
            "Index: 42\n",
            "Anand     74\n",
            "Barkha     8\n",
            "Chandu    92\n",
            "Daniel    32\n",
            "Name: 42, dtype: int64\n",
            "\n",
            "Index: 44\n",
            "Anand     50\n",
            "Barkha    50\n",
            "Chandu    85\n",
            "Daniel    14\n",
            "Name: 44, dtype: int64\n",
            "\n",
            "Index: 45\n",
            "Anand      1\n",
            "Barkha    28\n",
            "Chandu    58\n",
            "Daniel    10\n",
            "Name: 45, dtype: int64\n",
            "\n",
            "Index: 46\n",
            "Anand      1\n",
            "Barkha    82\n",
            "Chandu    34\n",
            "Daniel    11\n",
            "Name: 46, dtype: int64\n",
            "\n",
            "Index: 47\n",
            "Anand     74\n",
            "Barkha    36\n",
            "Chandu     6\n",
            "Daniel    63\n",
            "Name: 47, dtype: int64\n",
            "\n",
            "Index: 48\n",
            "Anand      3\n",
            "Barkha    50\n",
            "Chandu    59\n",
            "Daniel    34\n",
            "Name: 48, dtype: int64\n",
            "\n",
            "Index: 49\n",
            "Anand     16\n",
            "Barkha    18\n",
            "Chandu    61\n",
            "Daniel    54\n",
            "Name: 49, dtype: int64\n",
            "\n",
            "Index: 50\n",
            "Anand     67\n",
            "Barkha    38\n",
            "Chandu    27\n",
            "Daniel    96\n",
            "Name: 50, dtype: int64\n",
            "\n",
            "Time taken(sec):  36.740779876708984\n"
          ]
        }
      ],
      "source": [
        "import time\n",
        "start = time.time()\n",
        "#Use iterrows to iterate\n",
        "for i, row in df3.iterrows():\n",
        "\tprint(f\"Index: {i}\")\n",
        "\tprint(f\"{row}\\n\")\n",
        " \n",
        "print('Time taken(sec): ',(time.time()-start)*1000)"
      ]
    },
    {
      "cell_type": "markdown",
      "metadata": {
        "id": "__0rZ_nzkafj"
      },
      "source": [
        "**3. Iterating DataFrames with itertuples()**"
      ]
    },
    {
      "cell_type": "code",
      "execution_count": 49,
      "metadata": {
        "colab": {
          "base_uri": "https://localhost:8080/"
        },
        "id": "GJ9mr0QUkafj",
        "outputId": "1392ab2e-4a01-4b6f-f1fe-3d88c3da901c"
      },
      "outputs": [
        {
          "name": "stdout",
          "output_type": "stream",
          "text": [
            "Pandas(Index=3, Anand=40, Barkha=36, Chandu=16, Daniel=11)\n",
            "Pandas(Index=4, Anand=88, Barkha=62, Chandu=33, Daniel=72)\n",
            "Pandas(Index=5, Anand=30, Barkha=30, Chandu=89, Daniel=12)\n",
            "Pandas(Index=7, Anand=15, Barkha=18, Chandu=80, Daniel=71)\n",
            "Pandas(Index=8, Anand=88, Barkha=50, Chandu=54, Daniel=34)\n",
            "Pandas(Index=9, Anand=77, Barkha=88, Chandu=15, Daniel=6)\n",
            "Pandas(Index=10, Anand=97, Barkha=50, Chandu=45, Daniel=40)\n",
            "Pandas(Index=11, Anand=81, Barkha=80, Chandu=41, Daniel=90)\n",
            "Pandas(Index=12, Anand=96, Barkha=66, Chandu=67, Daniel=62)\n",
            "Pandas(Index=14, Anand=28, Barkha=30, Chandu=89, Daniel=25)\n",
            "Pandas(Index=15, Anand=33, Barkha=4, Chandu=87, Daniel=94)\n",
            "Pandas(Index=16, Anand=68, Barkha=30, Chandu=70, Daniel=74)\n",
            "Pandas(Index=17, Anand=9, Barkha=2, Chandu=65, Daniel=13)\n",
            "Pandas(Index=18, Anand=62, Barkha=42, Chandu=34, Daniel=40)\n",
            "Pandas(Index=19, Anand=32, Barkha=94, Chandu=86, Daniel=58)\n",
            "Pandas(Index=20, Anand=45, Barkha=18, Chandu=50, Daniel=44)\n",
            "Pandas(Index=21, Anand=6, Barkha=44, Chandu=9, Daniel=50)\n",
            "Pandas(Index=22, Anand=44, Barkha=68, Chandu=14, Daniel=4)\n",
            "Pandas(Index=23, Anand=39, Barkha=58, Chandu=81, Daniel=39)\n",
            "Pandas(Index=24, Anand=69, Barkha=48, Chandu=60, Daniel=58)\n",
            "Pandas(Index=25, Anand=5, Barkha=70, Chandu=61, Daniel=16)\n",
            "Pandas(Index=26, Anand=4, Barkha=22, Chandu=19, Daniel=85)\n",
            "Pandas(Index=27, Anand=10, Barkha=36, Chandu=0, Daniel=30)\n",
            "Pandas(Index=28, Anand=85, Barkha=32, Chandu=81, Daniel=13)\n",
            "Pandas(Index=29, Anand=31, Barkha=32, Chandu=96, Daniel=38)\n",
            "Pandas(Index=30, Anand=0, Barkha=96, Chandu=25, Daniel=63)\n",
            "Pandas(Index=31, Anand=2, Barkha=30, Chandu=17, Daniel=59)\n",
            "Pandas(Index=32, Anand=63, Barkha=86, Chandu=29, Daniel=71)\n",
            "Pandas(Index=33, Anand=19, Barkha=0, Chandu=7, Daniel=93)\n",
            "Pandas(Index=34, Anand=58, Barkha=76, Chandu=10, Daniel=79)\n",
            "Pandas(Index=35, Anand=7, Barkha=88, Chandu=96, Daniel=38)\n",
            "Pandas(Index=36, Anand=27, Barkha=64, Chandu=49, Daniel=90)\n",
            "Pandas(Index=37, Anand=27, Barkha=52, Chandu=90, Daniel=57)\n",
            "Pandas(Index=38, Anand=99, Barkha=46, Chandu=46, Daniel=45)\n",
            "Pandas(Index=39, Anand=84, Barkha=20, Chandu=49, Daniel=33)\n",
            "Pandas(Index=40, Anand=77, Barkha=66, Chandu=37, Daniel=31)\n",
            "Pandas(Index=41, Anand=82, Barkha=56, Chandu=41, Daniel=90)\n",
            "Pandas(Index=42, Anand=74, Barkha=8, Chandu=92, Daniel=32)\n",
            "Pandas(Index=44, Anand=50, Barkha=50, Chandu=85, Daniel=14)\n",
            "Pandas(Index=45, Anand=1, Barkha=28, Chandu=58, Daniel=10)\n",
            "Pandas(Index=46, Anand=1, Barkha=82, Chandu=34, Daniel=11)\n",
            "Pandas(Index=47, Anand=74, Barkha=36, Chandu=6, Daniel=63)\n",
            "Pandas(Index=48, Anand=3, Barkha=50, Chandu=59, Daniel=34)\n",
            "Pandas(Index=49, Anand=16, Barkha=18, Chandu=61, Daniel=54)\n",
            "Pandas(Index=50, Anand=67, Barkha=38, Chandu=27, Daniel=96)\n",
            "Time taken(sec):  2.294301986694336\n"
          ]
        }
      ],
      "source": [
        "#iterate df3 using itertuples\n",
        "import time\n",
        "start = time.time()\n",
        "\n",
        "#Use itertuples to iterate\n",
        "for row in df3.itertuples():\n",
        "    print(row)\n",
        "\n",
        "print('Time taken(sec): ',(time.time()-start)*1000)"
      ]
    },
    {
      "cell_type": "markdown",
      "metadata": {
        "id": "0O_bga6Tkafj"
      },
      "source": [
        "Hey buddy! so as you have seen every method works differently \n",
        "    \n",
        "    iteritems(): Helps to iterate over each element of the set, column-wise. \n",
        "    iterrows(): Each element of the set, row-wise. \n",
        "    itertuple(): Each row and form a tuple out of them.\n",
        "\n",
        "But if you ask for speed. The most best perfromance is given by itertuples compared to other two iterating methods.\n",
        "So if anytime you need to save your computation time on iteration of dataframes you can go for itertuples. Was'nt it fun?:)"
      ]
    }
  ],
  "metadata": {
    "colab": {
      "collapsed_sections": [
        "4SgrLjyDkqhy"
      ],
      "include_colab_link": true,
      "name": "6_Data Cleaning_CloudyML.ipynb",
      "provenance": []
    },
    "kernelspec": {
      "display_name": "Python 3",
      "language": "python",
      "name": "python3"
    },
    "language_info": {
      "codemirror_mode": {
        "name": "ipython",
        "version": 3
      },
      "file_extension": ".py",
      "mimetype": "text/x-python",
      "name": "python",
      "nbconvert_exporter": "python",
      "pygments_lexer": "ipython3",
      "version": "3.8.5"
    }
  },
  "nbformat": 4,
  "nbformat_minor": 0
}
