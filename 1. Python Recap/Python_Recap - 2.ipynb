{
  "cells": [
    {
      "cell_type": "markdown",
      "metadata": {
        "colab_type": "text",
        "id": "view-in-github"
      },
      "source": [
        "<a href=\"https://colab.research.google.com/github/sureshmecad/CloudyML-AI-FOR-ALL/blob/main/3_Data_Structure_CloudyML.ipynb\" target=\"_parent\"><img src=\"https://colab.research.google.com/assets/colab-badge.svg\" alt=\"Open In Colab\"/></a>"
      ]
    },
    {
      "cell_type": "markdown",
      "id": "cdBeKX2iLIGn",
      "metadata": {
        "id": "cdBeKX2iLIGn"
      },
      "source": [
        "# <center> <u>Python Recap - 2 - Data Structures <u> </center>"
      ]
    },
    {
      "cell_type": "markdown",
      "id": "fPfBh7RJLIGo",
      "metadata": {
        "id": "fPfBh7RJLIGo"
      },
      "source": [
        "## 1. Lists\n"
      ]
    },
    {
      "cell_type": "markdown",
      "id": "BJns3FPILIGr",
      "metadata": {
        "id": "BJns3FPILIGr"
      },
      "source": [
        "#### 1.1 Create an empty list with the name ‘a’, print the value of a and type(a).\n"
      ]
    },
    {
      "cell_type": "code",
      "execution_count": 1,
      "id": "yAfvSqtaLIGs",
      "metadata": {
        "id": "yAfvSqtaLIGs"
      },
      "outputs": [],
      "source": [
        "# create empty list, name it 'a'\n",
        "a = []"
      ]
    },
    {
      "cell_type": "code",
      "execution_count": 2,
      "id": "eJ4CE6UzLIGu",
      "metadata": {
        "colab": {
          "base_uri": "https://localhost:8080/"
        },
        "id": "eJ4CE6UzLIGu",
        "outputId": "0622d5ce-fa97-41b4-d78f-f5bfb7f4155e"
      },
      "outputs": [
        {
          "name": "stdout",
          "output_type": "stream",
          "text": [
            "[]\n"
          ]
        }
      ],
      "source": [
        "# print the value of a\n",
        "print(a)"
      ]
    },
    {
      "cell_type": "code",
      "execution_count": 3,
      "id": "8E_qrHqkLIGv",
      "metadata": {
        "colab": {
          "base_uri": "https://localhost:8080/"
        },
        "id": "8E_qrHqkLIGv",
        "outputId": "e568ce9f-50f2-4796-98a8-61ae723a9b7e"
      },
      "outputs": [
        {
          "data": {
            "text/plain": [
              "list"
            ]
          },
          "execution_count": 3,
          "metadata": {
            "tags": []
          },
          "output_type": "execute_result"
        }
      ],
      "source": [
        "# print the type of a\n",
        "type(a)"
      ]
    },
    {
      "cell_type": "markdown",
      "id": "EZ50iXm1LIGx",
      "metadata": {
        "id": "EZ50iXm1LIGx"
      },
      "source": [
        "#### 1.2.Create a list , languages = ['R','Python', 'SAS', 'Scala', 42], "
      ]
    },
    {
      "cell_type": "markdown",
      "id": "lcIZt_dNLIGy",
      "metadata": {
        "id": "lcIZt_dNLIGy"
      },
      "source": [
        "<p style='text-align: right;'> 1+1+1+1+1+1+1+1 = 7 points</p>\n"
      ]
    },
    {
      "cell_type": "code",
      "execution_count": 4,
      "id": "8QDslp6qLIGz",
      "metadata": {
        "id": "8QDslp6qLIGz"
      },
      "outputs": [],
      "source": [
        "#code here\n",
        "languages = ['R','Python', 'SAS', 'Scala', 42]"
      ]
    },
    {
      "cell_type": "markdown",
      "id": "nQHmGdLaLIG0",
      "metadata": {
        "id": "nQHmGdLaLIG0"
      },
      "source": [
        "Print the number of elements in the list"
      ]
    },
    {
      "cell_type": "code",
      "execution_count": 5,
      "id": "1gwT9uC8LIG0",
      "metadata": {
        "colab": {
          "base_uri": "https://localhost:8080/"
        },
        "id": "1gwT9uC8LIG0",
        "outputId": "c2735d14-489f-436b-ebf0-0890aa89b09d"
      },
      "outputs": [
        {
          "data": {
            "text/plain": [
              "5"
            ]
          },
          "execution_count": 5,
          "metadata": {
            "tags": []
          },
          "output_type": "execute_result"
        }
      ],
      "source": [
        "#code here\n",
        "len(languages)"
      ]
    },
    {
      "cell_type": "markdown",
      "id": "n4-1yAaXLIG1",
      "metadata": {
        "id": "n4-1yAaXLIG1"
      },
      "source": [
        "Using for loop iterate and print all the elements in the list"
      ]
    },
    {
      "cell_type": "code",
      "execution_count": 6,
      "id": "jkyBNGaWLIG2",
      "metadata": {
        "colab": {
          "base_uri": "https://localhost:8080/"
        },
        "id": "jkyBNGaWLIG2",
        "outputId": "ac8576c3-5852-4cd8-ce8e-373c14dc4e27"
      },
      "outputs": [
        {
          "name": "stdout",
          "output_type": "stream",
          "text": [
            "R\n",
            "Python\n",
            "SAS\n",
            "Scala\n",
            "42\n"
          ]
        }
      ],
      "source": [
        "#code here\n",
        "for i in languages:\n",
        "  print(i)"
      ]
    },
    {
      "cell_type": "markdown",
      "id": "VUa9NdtLLIG3",
      "metadata": {
        "id": "VUa9NdtLLIG3"
      },
      "source": [
        "Select the second item, 'Python' and store it in a new variable named 'temp'"
      ]
    },
    {
      "cell_type": "code",
      "execution_count": 7,
      "id": "AJZBuJnNLIG4",
      "metadata": {
        "id": "AJZBuJnNLIG4"
      },
      "outputs": [],
      "source": [
        "#code here\n",
        "temp = languages[1]"
      ]
    },
    {
      "cell_type": "markdown",
      "id": "tNtDeq-RLIG4",
      "metadata": {
        "id": "tNtDeq-RLIG4"
      },
      "source": [
        "Print the value of temp and type(temp)"
      ]
    },
    {
      "cell_type": "code",
      "execution_count": 8,
      "id": "m19wpXq3LIG5",
      "metadata": {
        "colab": {
          "base_uri": "https://localhost:8080/"
        },
        "id": "m19wpXq3LIG5",
        "outputId": "f0ac6d15-3a4a-4dac-e3b8-3a4c360a14b6"
      },
      "outputs": [
        {
          "name": "stdout",
          "output_type": "stream",
          "text": [
            "Python\n",
            "<class 'str'>\n"
          ]
        }
      ],
      "source": [
        "#code here\n",
        "print(temp)\n",
        "print(type(temp))"
      ]
    },
    {
      "cell_type": "markdown",
      "id": "3nAVGlifLIG6",
      "metadata": {
        "id": "3nAVGlifLIG6"
      },
      "source": [
        "Using list comprehension, print the last two elemets of list"
      ]
    },
    {
      "cell_type": "code",
      "execution_count": 9,
      "id": "kcX9q_f8LIG6",
      "metadata": {
        "colab": {
          "base_uri": "https://localhost:8080/"
        },
        "id": "kcX9q_f8LIG6",
        "outputId": "1f495587-bf05-47c3-d729-1566bca4b3b7"
      },
      "outputs": [
        {
          "data": {
            "text/plain": [
              "['Scala', 42]"
            ]
          },
          "execution_count": 9,
          "metadata": {
            "tags": []
          },
          "output_type": "execute_result"
        }
      ],
      "source": [
        "# code here\n",
        "languages[3:5]"
      ]
    },
    {
      "cell_type": "markdown",
      "id": "yelsLMCFLIG7",
      "metadata": {
        "id": "yelsLMCFLIG7"
      },
      "source": [
        "Append the element 'Java' in the list"
      ]
    },
    {
      "cell_type": "code",
      "execution_count": 10,
      "id": "3RhrxXpyLIG7",
      "metadata": {
        "id": "3RhrxXpyLIG7"
      },
      "outputs": [],
      "source": [
        "#code here\n",
        "languages.append('Java')"
      ]
    },
    {
      "cell_type": "markdown",
      "id": "xSfvCnFGLIG8",
      "metadata": {
        "id": "xSfvCnFGLIG8"
      },
      "source": [
        "Remove the element 42 from the list and print the list"
      ]
    },
    {
      "cell_type": "code",
      "execution_count": 11,
      "id": "EVNQzY50LIG8",
      "metadata": {
        "colab": {
          "base_uri": "https://localhost:8080/"
        },
        "id": "EVNQzY50LIG8",
        "outputId": "cb2b47da-85c6-4842-fa16-0e7b2cecf117"
      },
      "outputs": [
        {
          "name": "stdout",
          "output_type": "stream",
          "text": [
            "['R', 'Python', 'SAS', 'Scala', 'Java']\n"
          ]
        }
      ],
      "source": [
        "#code here\n",
        "languages.remove(42)\n",
        "print(languages)"
      ]
    },
    {
      "cell_type": "markdown",
      "id": "yjpVzMZ5LIG9",
      "metadata": {
        "id": "yjpVzMZ5LIG9"
      },
      "source": [
        "#### 1.3. Create a list, colors = [‘Red’, ‘Blue’, ‘White’]"
      ]
    },
    {
      "cell_type": "markdown",
      "id": "1s3ZGpTqLIG9",
      "metadata": {
        "id": "1s3ZGpTqLIG9"
      },
      "source": [
        "<p style='text-align: right;'> 1+1+1+1+1+1+1 = 6 points</p>\n"
      ]
    },
    {
      "cell_type": "code",
      "execution_count": 12,
      "id": "MJ9q8tl8LIG9",
      "metadata": {
        "id": "MJ9q8tl8LIG9"
      },
      "outputs": [],
      "source": [
        "#code here\n",
        "colors = ['Red', 'Blue', 'White']"
      ]
    },
    {
      "cell_type": "markdown",
      "id": "maBE5RgYLIG-",
      "metadata": {
        "id": "maBE5RgYLIG-"
      },
      "source": [
        "Append the element 'Black' to colors"
      ]
    },
    {
      "cell_type": "code",
      "execution_count": 13,
      "id": "7lp96C8fLIG-",
      "metadata": {
        "id": "7lp96C8fLIG-"
      },
      "outputs": [],
      "source": [
        "#code here\n",
        "colors.append('Black')"
      ]
    },
    {
      "cell_type": "markdown",
      "id": "TFl1EjxyLIG-",
      "metadata": {
        "id": "TFl1EjxyLIG-"
      },
      "source": [
        "Append the color 'Orange' to second position (index=1) and print the list"
      ]
    },
    {
      "cell_type": "code",
      "execution_count": 14,
      "id": "Ue4wpHDiLIG-",
      "metadata": {
        "colab": {
          "base_uri": "https://localhost:8080/"
        },
        "id": "Ue4wpHDiLIG-",
        "outputId": "0e0f90dd-f776-4d3d-b242-f4b6779605b7"
      },
      "outputs": [
        {
          "name": "stdout",
          "output_type": "stream",
          "text": [
            "['Red', 'Orange', 'Blue', 'White', 'Black']\n"
          ]
        }
      ],
      "source": [
        "# code here\n",
        "colors.insert(1, 'Orange')\n",
        "print(colors)"
      ]
    },
    {
      "cell_type": "markdown",
      "id": "eTdvTcgHLIG-",
      "metadata": {
        "id": "eTdvTcgHLIG-"
      },
      "source": [
        "Print the list\n"
      ]
    },
    {
      "cell_type": "code",
      "execution_count": 15,
      "id": "PGuj-CGOLIG_",
      "metadata": {
        "colab": {
          "base_uri": "https://localhost:8080/"
        },
        "id": "PGuj-CGOLIG_",
        "outputId": "2533da91-0058-44d4-f1eb-853d2ed99097"
      },
      "outputs": [
        {
          "name": "stdout",
          "output_type": "stream",
          "text": [
            "['Red', 'Orange', 'Blue', 'White', 'Black']\n"
          ]
        }
      ],
      "source": [
        "# code here\n",
        "print(colors)"
      ]
    },
    {
      "cell_type": "markdown",
      "id": "LHKkhVxLLIG_",
      "metadata": {
        "id": "LHKkhVxLLIG_"
      },
      "source": [
        "Create another list, colors2 = [‘Grey’, ‘Sky Blue’]"
      ]
    },
    {
      "cell_type": "code",
      "execution_count": 16,
      "id": "MxAA8oYLLIG_",
      "metadata": {
        "id": "MxAA8oYLLIG_"
      },
      "outputs": [],
      "source": [
        "# code here\n",
        "colors2 = ['Grey', 'Sky Blue']"
      ]
    },
    {
      "cell_type": "markdown",
      "id": "P0Q6_HRyLIG_",
      "metadata": {
        "id": "P0Q6_HRyLIG_"
      },
      "source": [
        "Add the elements of colors2 to colors using extend function in the list"
      ]
    },
    {
      "cell_type": "code",
      "execution_count": 17,
      "id": "Tm95xb4MLIG_",
      "metadata": {
        "id": "Tm95xb4MLIG_"
      },
      "outputs": [],
      "source": [
        "#code here\n",
        "colors.extend(colors2)"
      ]
    },
    {
      "cell_type": "markdown",
      "id": "ar-YzCZwLIHA",
      "metadata": {
        "id": "ar-YzCZwLIHA"
      },
      "source": [
        "Print len of colors and its elements"
      ]
    },
    {
      "cell_type": "code",
      "execution_count": 18,
      "id": "GtMDYSjfLIHA",
      "metadata": {
        "colab": {
          "base_uri": "https://localhost:8080/"
        },
        "id": "GtMDYSjfLIHA",
        "outputId": "08693a24-587e-4cfb-f1b9-81d3cab9ebbc"
      },
      "outputs": [
        {
          "name": "stdout",
          "output_type": "stream",
          "text": [
            "7\n",
            "['Red', 'Orange', 'Blue', 'White', 'Black', 'Grey', 'Sky Blue']\n"
          ]
        }
      ],
      "source": [
        "# code here\n",
        "print(len(colors))\n",
        "print(colors)"
      ]
    },
    {
      "cell_type": "markdown",
      "id": "ZUEsfhoKLIHA",
      "metadata": {
        "id": "ZUEsfhoKLIHA"
      },
      "source": [
        "Sort the list and print it."
      ]
    },
    {
      "cell_type": "code",
      "execution_count": 19,
      "id": "hIk1ltCILIHA",
      "metadata": {
        "colab": {
          "base_uri": "https://localhost:8080/"
        },
        "id": "hIk1ltCILIHA",
        "outputId": "1be7aa3e-1cd7-484f-bdb9-5e0afaf386d2"
      },
      "outputs": [
        {
          "name": "stdout",
          "output_type": "stream",
          "text": [
            "['Black', 'Blue', 'Grey', 'Orange', 'Red', 'Sky Blue', 'White']\n"
          ]
        }
      ],
      "source": [
        "# code here\n",
        "colors.sort()\n",
        "print(colors)"
      ]
    },
    {
      "cell_type": "markdown",
      "id": "Vo9sf9iJLIHB",
      "metadata": {
        "id": "Vo9sf9iJLIHB"
      },
      "source": [
        "#### 1.4. Create a string, sent = ‘Coronavirus Caused Lockdowns Around The World.”"
      ]
    },
    {
      "cell_type": "markdown",
      "id": "1DHX-JEeLIHB",
      "metadata": {
        "id": "1DHX-JEeLIHB"
      },
      "source": [
        "<p style='text-align: right;'> 7 points</p>\n"
      ]
    },
    {
      "cell_type": "code",
      "execution_count": 20,
      "id": "aEDe7IIJLIHB",
      "metadata": {
        "id": "aEDe7IIJLIHB"
      },
      "outputs": [],
      "source": [
        "# code here\n",
        "sent = \"Coronavirus Caused Lockdowns Around The World.\""
      ]
    },
    {
      "cell_type": "markdown",
      "id": "191v_Os1LIHB",
      "metadata": {
        "id": "191v_Os1LIHB"
      },
      "source": [
        "Use split function to convert the string into a list of words and save it in variable words and print the same"
      ]
    },
    {
      "cell_type": "code",
      "execution_count": 21,
      "id": "YA8DAAqmLIHC",
      "metadata": {
        "colab": {
          "base_uri": "https://localhost:8080/"
        },
        "id": "YA8DAAqmLIHC",
        "outputId": "d750663a-d5fd-4262-cf47-5bf660338056"
      },
      "outputs": [
        {
          "name": "stdout",
          "output_type": "stream",
          "text": [
            "['Coronavirus', 'Caused', 'Lockdowns', 'Around', 'The', 'World.']\n"
          ]
        }
      ],
      "source": [
        "# code here\n",
        "s = sent.split()\n",
        "print(s)"
      ]
    },
    {
      "cell_type": "markdown",
      "id": "rT0x2iCyLIHC",
      "metadata": {
        "id": "rT0x2iCyLIHC"
      },
      "source": [
        "Using list comprehensions, convert each word in the list to lower case and store it in variable words_lower. \n",
        "Print words_lower"
      ]
    },
    {
      "cell_type": "code",
      "execution_count": 22,
      "id": "a310wwppLIHC",
      "metadata": {
        "colab": {
          "base_uri": "https://localhost:8080/"
        },
        "id": "a310wwppLIHC",
        "outputId": "22549b20-383b-4ce6-edd1-d51f4f9c5924"
      },
      "outputs": [
        {
          "name": "stdout",
          "output_type": "stream",
          "text": [
            "['coronavirus', 'caused', 'lockdowns', 'around', 'the', 'world.']\n"
          ]
        }
      ],
      "source": [
        "# code here\n",
        "words_lower = []\n",
        "for i in range(len(s)):\n",
        "  words_lower.append(s[i].lower())\n",
        "\n",
        "print(words_lower)"
      ]
    },
    {
      "cell_type": "markdown",
      "id": "VMMKMZKqLIHC",
      "metadata": {
        "id": "VMMKMZKqLIHC"
      },
      "source": [
        "Check whether ‘country’ is in the list"
      ]
    },
    {
      "cell_type": "code",
      "execution_count": 23,
      "id": "JF3pxS9bLIHD",
      "metadata": {
        "colab": {
          "base_uri": "https://localhost:8080/"
        },
        "id": "JF3pxS9bLIHD",
        "outputId": "47d0af85-2b6f-4843-dffc-ea1a1e6a0c52"
      },
      "outputs": [
        {
          "name": "stdout",
          "output_type": "stream",
          "text": [
            "False\n"
          ]
        }
      ],
      "source": [
        "# code here\n",
        "data_string = \"country\"\n",
        "res = [ele for ele in words_lower if(ele in data_string)]\n",
        "print(str(bool(res)))"
      ]
    },
    {
      "cell_type": "markdown",
      "id": "x52miLwfLIHD",
      "metadata": {
        "id": "x52miLwfLIHD"
      },
      "source": [
        "Remove the element ‘the’ from the list and print the list."
      ]
    },
    {
      "cell_type": "code",
      "execution_count": 24,
      "id": "7UFBKTJrLIHD",
      "metadata": {
        "colab": {
          "base_uri": "https://localhost:8080/"
        },
        "id": "7UFBKTJrLIHD",
        "outputId": "1b8325fc-7bd2-4a91-9a98-19002aea75e9"
      },
      "outputs": [
        {
          "name": "stdout",
          "output_type": "stream",
          "text": [
            "['coronavirus', 'caused', 'lockdowns', 'around', 'world.']\n"
          ]
        }
      ],
      "source": [
        "# code here\n",
        "words_lower.remove(\"the\")\n",
        "print(words_lower)"
      ]
    },
    {
      "cell_type": "markdown",
      "id": "ELMu7K2NLIHD",
      "metadata": {
        "id": "ELMu7K2NLIHD"
      },
      "source": [
        "Select the first 4 words from the list words_lower using slicing and store them in a new variable x4"
      ]
    },
    {
      "cell_type": "code",
      "execution_count": 25,
      "id": "7U-sG1XoLIHD",
      "metadata": {
        "colab": {
          "base_uri": "https://localhost:8080/"
        },
        "id": "7U-sG1XoLIHD",
        "outputId": "44c63aa6-8ca9-4be4-a2dc-5635fb53b285"
      },
      "outputs": [
        {
          "name": "stdout",
          "output_type": "stream",
          "text": [
            "['coronavirus', 'caused', 'lockdowns', 'around']\n"
          ]
        }
      ],
      "source": [
        "#code here\n",
        "x4 = words_lower[0:4]\n",
        "print(x4)"
      ]
    },
    {
      "cell_type": "code",
      "execution_count": 26,
      "id": "c3A8juT9LIHE",
      "metadata": {
        "colab": {
          "base_uri": "https://localhost:8080/"
        },
        "id": "c3A8juT9LIHE",
        "outputId": "ce844e04-7b07-4622-b8dd-8b8cff67450c"
      },
      "outputs": [
        {
          "name": "stdout",
          "output_type": "stream",
          "text": [
            "['coronavirus', 'caused', 'lockdowns', 'around']\n"
          ]
        }
      ],
      "source": [
        "print (x4)\n"
      ]
    },
    {
      "cell_type": "markdown",
      "id": "Qyhbhb4ILIHE",
      "metadata": {
        "id": "Qyhbhb4ILIHE"
      },
      "source": [
        "Convert the list of elements to single string using join function and print it"
      ]
    },
    {
      "cell_type": "code",
      "execution_count": 27,
      "id": "nriDrCn8LIHE",
      "metadata": {
        "colab": {
          "base_uri": "https://localhost:8080/"
        },
        "id": "nriDrCn8LIHE",
        "outputId": "239457c9-f5e9-4b96-d9d7-cddb18521998"
      },
      "outputs": [
        {
          "name": "stdout",
          "output_type": "stream",
          "text": [
            "coronavirus caused lockdowns around\n"
          ]
        }
      ],
      "source": [
        "#code here\n",
        "str = \" \"\n",
        "print(str.join(x4))"
      ]
    },
    {
      "cell_type": "markdown",
      "id": "od8sDEoCLIHE",
      "metadata": {
        "id": "od8sDEoCLIHE"
      },
      "source": [
        "## 2. Sets"
      ]
    },
    {
      "cell_type": "markdown",
      "id": "ZHbZrWPMLIHF",
      "metadata": {
        "id": "ZHbZrWPMLIHF"
      },
      "source": [
        "#### 2.1. Create stud_grades = ['A','A','B','C','C','F']"
      ]
    },
    {
      "cell_type": "markdown",
      "id": "7V2CzSOiLIHF",
      "metadata": {
        "id": "7V2CzSOiLIHF"
      },
      "source": [
        "<p style='text-align: right;'> 7 points</p>\n"
      ]
    },
    {
      "cell_type": "code",
      "execution_count": 28,
      "id": "mQCeos5cLIHF",
      "metadata": {
        "id": "mQCeos5cLIHF"
      },
      "outputs": [],
      "source": [
        "#code here\n",
        "stud_grades = ['A','A','B','C','C','F']"
      ]
    },
    {
      "cell_type": "markdown",
      "id": "QCyVLbo4LIHF",
      "metadata": {
        "id": "QCyVLbo4LIHF"
      },
      "source": [
        "Print the len of stud_grades"
      ]
    },
    {
      "cell_type": "code",
      "execution_count": 29,
      "id": "zVWPPPSsLIHF",
      "metadata": {
        "colab": {
          "base_uri": "https://localhost:8080/"
        },
        "id": "zVWPPPSsLIHF",
        "outputId": "13ea130a-f421-4eb4-a158-a8b66686a444"
      },
      "outputs": [
        {
          "data": {
            "text/plain": [
              "6"
            ]
          },
          "execution_count": 29,
          "metadata": {
            "tags": []
          },
          "output_type": "execute_result"
        }
      ],
      "source": [
        "#code here\n",
        "len(stud_grades)"
      ]
    },
    {
      "cell_type": "markdown",
      "id": "i04ZyLG_LIHG",
      "metadata": {
        "id": "i04ZyLG_LIHG"
      },
      "source": [
        "Create a new variable, stud_grades_set = set(stud_grades)"
      ]
    },
    {
      "cell_type": "code",
      "execution_count": 30,
      "id": "m1192KhJLIHG",
      "metadata": {
        "id": "m1192KhJLIHG"
      },
      "outputs": [],
      "source": [
        "#code here\n",
        "stud_grades_set = set(stud_grades)\n",
        "#stud_grades_set = sorted(stud_grades_set)"
      ]
    },
    {
      "cell_type": "markdown",
      "id": "W_xCyVuILIHG",
      "metadata": {
        "id": "W_xCyVuILIHG"
      },
      "source": [
        "Print stud_grades_set. "
      ]
    },
    {
      "cell_type": "code",
      "execution_count": 31,
      "id": "FqjPcuB1LIHG",
      "metadata": {
        "colab": {
          "base_uri": "https://localhost:8080/"
        },
        "id": "FqjPcuB1LIHG",
        "outputId": "2b85ef5b-9eb5-4f41-f02b-6ef65cba5395"
      },
      "outputs": [
        {
          "name": "stdout",
          "output_type": "stream",
          "text": [
            "{'A', 'F', 'C', 'B'}\n"
          ]
        }
      ],
      "source": [
        "#code here\n",
        "print(stud_grades_set)"
      ]
    },
    {
      "cell_type": "markdown",
      "id": "PlBJoSvULIHH",
      "metadata": {
        "id": "PlBJoSvULIHH"
      },
      "source": [
        "print the type of stud_grades and stud_grades_set and print their corresponding elements. Try to understand the difference between them."
      ]
    },
    {
      "cell_type": "code",
      "execution_count": 32,
      "id": "xq4k0s9nLIHH",
      "metadata": {
        "colab": {
          "base_uri": "https://localhost:8080/"
        },
        "id": "xq4k0s9nLIHH",
        "outputId": "4ce9781c-d2c4-4820-9f79-987e228e4daf"
      },
      "outputs": [
        {
          "name": "stdout",
          "output_type": "stream",
          "text": [
            "<class 'list'> ['A', 'A', 'B', 'C', 'C', 'F']\n",
            "<class 'set'> {'A', 'F', 'C', 'B'}\n"
          ]
        }
      ],
      "source": [
        "#code here\n",
        "print(type(stud_grades), (stud_grades))\n",
        "print(type(stud_grades_set), (stud_grades_set))"
      ]
    },
    {
      "cell_type": "markdown",
      "id": "SZk6Jwa1LIHH",
      "metadata": {
        "id": "SZk6Jwa1LIHH"
      },
      "source": [
        "Add a new element ‘G’ to stud_grades_set"
      ]
    },
    {
      "cell_type": "code",
      "execution_count": 33,
      "id": "72kE895cLIHH",
      "metadata": {
        "id": "72kE895cLIHH"
      },
      "outputs": [],
      "source": [
        "#code here\n",
        "stud_grades_set.add('G')"
      ]
    },
    {
      "cell_type": "markdown",
      "id": "WJ6uxXzVLIHI",
      "metadata": {
        "id": "WJ6uxXzVLIHI"
      },
      "source": [
        "Add element 'F' to stud_grades_set. and print it."
      ]
    },
    {
      "cell_type": "code",
      "execution_count": 34,
      "id": "m4suf41LLIHI",
      "metadata": {
        "colab": {
          "base_uri": "https://localhost:8080/"
        },
        "id": "m4suf41LLIHI",
        "outputId": "93320a90-41da-4d8a-eabf-6f6bb5eb0405"
      },
      "outputs": [
        {
          "name": "stdout",
          "output_type": "stream",
          "text": [
            "{'B', 'C', 'G', 'A', 'F'}\n"
          ]
        }
      ],
      "source": [
        "#code here\n",
        "stud_grades_set.add('F')\n",
        "print(stud_grades_set)"
      ]
    },
    {
      "cell_type": "markdown",
      "id": "5N76Qh8eLIHI",
      "metadata": {
        "id": "5N76Qh8eLIHI"
      },
      "source": [
        "!!Did you notice? set doesn't add an element if it's already present in it, unlike lists."
      ]
    },
    {
      "cell_type": "markdown",
      "id": "g4Xk_xXrLIHI",
      "metadata": {
        "id": "g4Xk_xXrLIHI"
      },
      "source": [
        "Remove ‘F’ from stud_grades_set"
      ]
    },
    {
      "cell_type": "code",
      "execution_count": 35,
      "id": "3f462WToLIHI",
      "metadata": {
        "id": "3f462WToLIHI"
      },
      "outputs": [],
      "source": [
        "#code here\n",
        "stud_grades_set.remove('F')"
      ]
    },
    {
      "cell_type": "markdown",
      "id": "lUqecFR5LIHJ",
      "metadata": {
        "id": "lUqecFR5LIHJ"
      },
      "source": [
        "Print the elements and the length of stud_grades_set"
      ]
    },
    {
      "cell_type": "code",
      "execution_count": 36,
      "id": "C_jG203PLIHJ",
      "metadata": {
        "colab": {
          "base_uri": "https://localhost:8080/"
        },
        "id": "C_jG203PLIHJ",
        "outputId": "ce66280e-6bc1-4fd6-da89-631808648744"
      },
      "outputs": [
        {
          "name": "stdout",
          "output_type": "stream",
          "text": [
            "{'B', 'C', 'G', 'A'}\n"
          ]
        },
        {
          "data": {
            "text/plain": [
              "4"
            ]
          },
          "execution_count": 36,
          "metadata": {
            "tags": []
          },
          "output_type": "execute_result"
        }
      ],
      "source": [
        "#code here\n",
        "print(stud_grades_set)\n",
        "len(stud_grades_set)"
      ]
    },
    {
      "cell_type": "markdown",
      "id": "pMCqRb_7LIHJ",
      "metadata": {
        "id": "pMCqRb_7LIHJ"
      },
      "source": [
        "#### 2.2. Create colors = [‘red’,’blue’,’orange’], and fruits = [‘orange’,’grapes’,’apples’] "
      ]
    },
    {
      "cell_type": "markdown",
      "id": "0WF1burQLIHJ",
      "metadata": {
        "id": "0WF1burQLIHJ"
      },
      "source": [
        "<p style='text-align: right;'> 6 points</p>\n"
      ]
    },
    {
      "cell_type": "code",
      "execution_count": 37,
      "id": "3GQyKGWFLIHK",
      "metadata": {
        "id": "3GQyKGWFLIHK"
      },
      "outputs": [],
      "source": [
        "#code here\n",
        "colors = ['red','blue','orange']\n",
        "fruits = ['orange','grapes','apples']"
      ]
    },
    {
      "cell_type": "markdown",
      "id": "_tCu8s47LIHK",
      "metadata": {
        "id": "_tCu8s47LIHK"
      },
      "source": [
        "Print color and fruits"
      ]
    },
    {
      "cell_type": "code",
      "execution_count": 38,
      "id": "SxHmakHPLIHK",
      "metadata": {
        "colab": {
          "base_uri": "https://localhost:8080/"
        },
        "id": "SxHmakHPLIHK",
        "outputId": "1afed2e8-dfe8-4f17-b47b-70dda710166c"
      },
      "outputs": [
        {
          "name": "stdout",
          "output_type": "stream",
          "text": [
            "['red', 'blue', 'orange']\n",
            "['orange', 'grapes', 'apples']\n"
          ]
        }
      ],
      "source": [
        "#code here\n",
        "print(colors)\n",
        "print(fruits)"
      ]
    },
    {
      "cell_type": "markdown",
      "id": "E20c14A3LIHK",
      "metadata": {
        "id": "E20c14A3LIHK"
      },
      "source": [
        "Create colors_set, and fruits_set. (using set() ) and print them"
      ]
    },
    {
      "cell_type": "code",
      "execution_count": 39,
      "id": "s2lNPvm0LIHK",
      "metadata": {
        "colab": {
          "base_uri": "https://localhost:8080/"
        },
        "id": "s2lNPvm0LIHK",
        "outputId": "07794332-0a3c-4a47-b5df-096ef66af3cc"
      },
      "outputs": [
        {
          "name": "stdout",
          "output_type": "stream",
          "text": [
            "{'blue', 'red', 'orange'}\n",
            "{'apples', 'grapes', 'orange'}\n"
          ]
        }
      ],
      "source": [
        "#code here\n",
        "colors_set = set(colors)\n",
        "fruits_set = set(fruits)\n",
        "print(colors_set)\n",
        "print(fruits_set)"
      ]
    },
    {
      "cell_type": "markdown",
      "id": "v2iggip5LIHL",
      "metadata": {
        "id": "v2iggip5LIHL"
      },
      "source": [
        "Find the union of both the sets."
      ]
    },
    {
      "cell_type": "code",
      "execution_count": 40,
      "id": "CaaD5qb5LIHL",
      "metadata": {
        "colab": {
          "base_uri": "https://localhost:8080/"
        },
        "id": "CaaD5qb5LIHL",
        "outputId": "7e51fda0-bac6-4566-e201-324670f12da0"
      },
      "outputs": [
        {
          "data": {
            "text/plain": [
              "{'apples', 'blue', 'grapes', 'orange', 'red'}"
            ]
          },
          "execution_count": 40,
          "metadata": {
            "tags": []
          },
          "output_type": "execute_result"
        }
      ],
      "source": [
        "#code here\n",
        "colors_set.union(fruits_set)"
      ]
    },
    {
      "cell_type": "markdown",
      "id": "VGeGXuXTLIHL",
      "metadata": {
        "id": "VGeGXuXTLIHL"
      },
      "source": [
        "Find the intersection of both the sets "
      ]
    },
    {
      "cell_type": "code",
      "execution_count": 41,
      "id": "32eyXNkwLIHL",
      "metadata": {
        "colab": {
          "base_uri": "https://localhost:8080/"
        },
        "id": "32eyXNkwLIHL",
        "outputId": "129975cc-2b43-47df-f5bd-88ea43fc7981"
      },
      "outputs": [
        {
          "data": {
            "text/plain": [
              "{'orange'}"
            ]
          },
          "execution_count": 41,
          "metadata": {
            "tags": []
          },
          "output_type": "execute_result"
        }
      ],
      "source": [
        "#code here\n",
        "\n",
        "colors_set.intersection(fruits_set)"
      ]
    },
    {
      "cell_type": "markdown",
      "id": "EMOAeTxuLIHM",
      "metadata": {
        "id": "EMOAeTxuLIHM"
      },
      "source": [
        "Find the elements which are Fruits but not colors (using set.difference() )"
      ]
    },
    {
      "cell_type": "code",
      "execution_count": 42,
      "id": "FL_uvoEULIHM",
      "metadata": {
        "colab": {
          "base_uri": "https://localhost:8080/"
        },
        "id": "FL_uvoEULIHM",
        "outputId": "c9ec90d6-1bdb-48c6-ff9e-696d64bf3239"
      },
      "outputs": [
        {
          "data": {
            "text/plain": [
              "{'apples', 'grapes'}"
            ]
          },
          "execution_count": 42,
          "metadata": {
            "tags": []
          },
          "output_type": "execute_result"
        }
      ],
      "source": [
        "#code here\n",
        "fruits_set.difference(colors_set)"
      ]
    },
    {
      "cell_type": "markdown",
      "id": "GmQrmZZdLIHM",
      "metadata": {
        "id": "GmQrmZZdLIHM"
      },
      "source": [
        "## 3. TUPLES"
      ]
    },
    {
      "cell_type": "markdown",
      "id": "yc0HixyRLIHN",
      "metadata": {
        "id": "yc0HixyRLIHN"
      },
      "source": [
        "#### 3.1 . Create temp = [17, ’Virat’, 50.0]"
      ]
    },
    {
      "cell_type": "markdown",
      "id": "80W6ShQFLIHN",
      "metadata": {
        "id": "80W6ShQFLIHN"
      },
      "source": [
        "<p style='text-align: right;'> 7 points</p>\n"
      ]
    },
    {
      "cell_type": "code",
      "execution_count": 43,
      "id": "6Lykv7e7LIHN",
      "metadata": {
        "id": "6Lykv7e7LIHN"
      },
      "outputs": [],
      "source": [
        "#code here\n",
        "temp = [17, 'Virat', 50.0]"
      ]
    },
    {
      "cell_type": "markdown",
      "id": "cgM8yqejLIHN",
      "metadata": {
        "id": "cgM8yqejLIHN"
      },
      "source": [
        "Iterate through temp and print all the items in temp"
      ]
    },
    {
      "cell_type": "code",
      "execution_count": 44,
      "id": "46m-LVevLIHO",
      "metadata": {
        "colab": {
          "base_uri": "https://localhost:8080/"
        },
        "id": "46m-LVevLIHO",
        "outputId": "263b50b7-e0c2-4348-c601-937f72c3c06d"
      },
      "outputs": [
        {
          "name": "stdout",
          "output_type": "stream",
          "text": [
            "17\n",
            "Virat\n",
            "50.0\n"
          ]
        }
      ],
      "source": [
        "#code here\n",
        "for i in temp:\n",
        "  print(i)"
      ]
    },
    {
      "cell_type": "markdown",
      "id": "_2Gng3KZLIHO",
      "metadata": {
        "id": "_2Gng3KZLIHO"
      },
      "source": [
        "replace first element with 11 in temp"
      ]
    },
    {
      "cell_type": "code",
      "execution_count": 45,
      "id": "O0Y9h4JNLIHO",
      "metadata": {
        "id": "O0Y9h4JNLIHO"
      },
      "outputs": [],
      "source": [
        "#code here\n",
        "temp1 = list(temp)\n",
        "temp1[0] = '11'\n",
        "temp = tuple(temp1)"
      ]
    },
    {
      "cell_type": "markdown",
      "id": "NK7uSccZLIHO",
      "metadata": {
        "id": "NK7uSccZLIHO"
      },
      "source": [
        "Set temp1 = tuple(temp)"
      ]
    },
    {
      "cell_type": "code",
      "execution_count": 46,
      "id": "mmk9dWrYLIHP",
      "metadata": {
        "id": "mmk9dWrYLIHP"
      },
      "outputs": [],
      "source": [
        "#code here\n",
        "temp = tuple(temp1)"
      ]
    },
    {
      "cell_type": "markdown",
      "id": "NDsPj0B1LIHP",
      "metadata": {
        "id": "NDsPj0B1LIHP"
      },
      "source": [
        "Iterate through temp1 and print all the items in temp1. "
      ]
    },
    {
      "cell_type": "code",
      "execution_count": 47,
      "id": "ibjLjV8kLIHP",
      "metadata": {
        "colab": {
          "base_uri": "https://localhost:8080/"
        },
        "id": "ibjLjV8kLIHP",
        "outputId": "57ffb123-0c70-480e-a49f-ca371b64538b"
      },
      "outputs": [
        {
          "name": "stdout",
          "output_type": "stream",
          "text": [
            "11\n",
            "Virat\n",
            "50.0\n"
          ]
        }
      ],
      "source": [
        "#code here\n",
        "for i in temp:\n",
        "  print(i)"
      ]
    },
    {
      "cell_type": "markdown",
      "id": "AGS3ZHmxLIHP",
      "metadata": {
        "id": "AGS3ZHmxLIHP"
      },
      "source": [
        "replace first element with 17 in temp1"
      ]
    },
    {
      "cell_type": "code",
      "execution_count": 48,
      "id": "vUKqVsmRLIHP",
      "metadata": {
        "colab": {
          "base_uri": "https://localhost:8080/",
          "height": 197
        },
        "id": "vUKqVsmRLIHP",
        "outputId": "9ccaacf4-cc75-4b1b-e49b-4472751b4937"
      },
      "outputs": [
        {
          "ename": "TypeError",
          "evalue": "ignored",
          "output_type": "error",
          "traceback": [
            "\u001b[0;31m---------------------------------------------------------------------------\u001b[0m",
            "\u001b[0;31mTypeError\u001b[0m                                 Traceback (most recent call last)",
            "\u001b[0;32m<ipython-input-48-c8004fbdfd42>\u001b[0m in \u001b[0;36m<module>\u001b[0;34m()\u001b[0m\n\u001b[1;32m      1\u001b[0m \u001b[0;31m#code here\u001b[0m\u001b[0;34m\u001b[0m\u001b[0;34m\u001b[0m\u001b[0;34m\u001b[0m\u001b[0m\n\u001b[0;32m----> 2\u001b[0;31m \u001b[0mtemp\u001b[0m\u001b[0;34m[\u001b[0m\u001b[0;36m0\u001b[0m\u001b[0;34m]\u001b[0m\u001b[0;34m=\u001b[0m\u001b[0;36m17\u001b[0m\u001b[0;34m\u001b[0m\u001b[0;34m\u001b[0m\u001b[0m\n\u001b[0m\u001b[1;32m      3\u001b[0m \u001b[0mtuple\u001b[0m\u001b[0;34m(\u001b[0m\u001b[0mtemp\u001b[0m\u001b[0;34m)\u001b[0m\u001b[0;34m\u001b[0m\u001b[0;34m\u001b[0m\u001b[0m\n",
            "\u001b[0;31mTypeError\u001b[0m: 'tuple' object does not support item assignment"
          ]
        }
      ],
      "source": [
        "#code here\n",
        "temp[0]=17\n",
        "tuple(temp)"
      ]
    },
    {
      "cell_type": "markdown",
      "id": "K6EQAylwLIHQ",
      "metadata": {
        "id": "K6EQAylwLIHQ"
      },
      "source": [
        "<b>Oops!! You got an error. Hey Don't worry! Its because Once a tuple is created, you cannot change its values unlike list.</b>"
      ]
    },
    {
      "cell_type": "markdown",
      "id": "lVRj9Uq6LIHQ",
      "metadata": {
        "id": "lVRj9Uq6LIHQ"
      },
      "source": [
        "#### 3.2 . Create city = (\"Bangalore\", 28.9949521, 72)"
      ]
    },
    {
      "cell_type": "markdown",
      "id": "U9Mm28ffLIHQ",
      "metadata": {
        "id": "U9Mm28ffLIHQ"
      },
      "source": [
        "<p style='text-align: right;'> 6 points</p>\n"
      ]
    },
    {
      "cell_type": "code",
      "execution_count": 49,
      "id": "SFxA_LSJLIHQ",
      "metadata": {
        "id": "SFxA_LSJLIHQ"
      },
      "outputs": [],
      "source": [
        "#code here\n",
        "city = (\"Bangalore\", 28.9949521, 72)"
      ]
    },
    {
      "cell_type": "markdown",
      "id": "8e0tlvwJLIHR",
      "metadata": {
        "id": "8e0tlvwJLIHR"
      },
      "source": [
        "Print first element of city"
      ]
    },
    {
      "cell_type": "code",
      "execution_count": 50,
      "id": "pxyoGABrLIHR",
      "metadata": {
        "colab": {
          "base_uri": "https://localhost:8080/",
          "height": 35
        },
        "id": "pxyoGABrLIHR",
        "outputId": "d9236ec4-601d-46ce-9d17-48fe37ec45ea"
      },
      "outputs": [
        {
          "data": {
            "application/vnd.google.colaboratory.intrinsic+json": {
              "type": "string"
            },
            "text/plain": [
              "'Bangalore'"
            ]
          },
          "execution_count": 50,
          "metadata": {
            "tags": []
          },
          "output_type": "execute_result"
        }
      ],
      "source": [
        "#code here\n",
        "city[0]"
      ]
    },
    {
      "cell_type": "markdown",
      "id": "XOGgkR7cLIHR",
      "metadata": {
        "id": "XOGgkR7cLIHR"
      },
      "source": [
        "Create city2 = (‘Chennai’, 30.01, 74)"
      ]
    },
    {
      "cell_type": "code",
      "execution_count": 51,
      "id": "FTsn6rNzLIHS",
      "metadata": {
        "id": "FTsn6rNzLIHS"
      },
      "outputs": [],
      "source": [
        "#code here\n",
        "city2 = ('Chennai', 30.01, 74)"
      ]
    },
    {
      "cell_type": "markdown",
      "id": "g0WzG58iLIHS",
      "metadata": {
        "id": "g0WzG58iLIHS"
      },
      "source": [
        "Create cities which consist of city and city2"
      ]
    },
    {
      "cell_type": "code",
      "execution_count": 52,
      "id": "a80Pb9mnLIHS",
      "metadata": {
        "id": "a80Pb9mnLIHS"
      },
      "outputs": [],
      "source": [
        "#code here\n",
        "cities = ((city, ) + (city2, ))"
      ]
    },
    {
      "cell_type": "markdown",
      "id": "7hT7RjC-LIHS",
      "metadata": {
        "id": "7hT7RjC-LIHS"
      },
      "source": [
        "Print cities"
      ]
    },
    {
      "cell_type": "code",
      "execution_count": 53,
      "id": "gi6_zm_DLIHT",
      "metadata": {
        "colab": {
          "base_uri": "https://localhost:8080/"
        },
        "id": "gi6_zm_DLIHT",
        "outputId": "f7c90ac1-ad27-4f0f-ef31-4733d89fea63"
      },
      "outputs": [
        {
          "name": "stdout",
          "output_type": "stream",
          "text": [
            "(('Bangalore', 28.9949521, 72), ('Chennai', 30.01, 74))\n"
          ]
        }
      ],
      "source": [
        "#code here\n",
        "print(cities)"
      ]
    },
    {
      "cell_type": "markdown",
      "id": "eVuLV3EKLIHT",
      "metadata": {
        "id": "eVuLV3EKLIHT"
      },
      "source": [
        "Print type of first element in cities"
      ]
    },
    {
      "cell_type": "code",
      "execution_count": 54,
      "id": "Y8TzkrLlLIHT",
      "metadata": {
        "colab": {
          "base_uri": "https://localhost:8080/"
        },
        "id": "Y8TzkrLlLIHT",
        "outputId": "ec19d622-df60-4050-e625-2b49c51cd486"
      },
      "outputs": [
        {
          "name": "stdout",
          "output_type": "stream",
          "text": [
            "<class 'tuple'>\n"
          ]
        }
      ],
      "source": [
        "#code here\n",
        "print(type(cities[0]))"
      ]
    },
    {
      "cell_type": "markdown",
      "id": "tdoCwjogLIHT",
      "metadata": {
        "id": "tdoCwjogLIHT"
      },
      "source": [
        "print the type of cities\n"
      ]
    },
    {
      "cell_type": "code",
      "execution_count": 55,
      "id": "gLpeaJl1LIHU",
      "metadata": {
        "colab": {
          "base_uri": "https://localhost:8080/"
        },
        "id": "gLpeaJl1LIHU",
        "outputId": "02a9a2ae-0000-468b-c415-40e35ea5cac8"
      },
      "outputs": [
        {
          "name": "stdout",
          "output_type": "stream",
          "text": [
            "<class 'tuple'>\n"
          ]
        }
      ],
      "source": [
        "#code here\n",
        "print(type(cities))"
      ]
    },
    {
      "cell_type": "markdown",
      "id": "fRrFxES8LIHU",
      "metadata": {
        "id": "fRrFxES8LIHU"
      },
      "source": [
        "Hey that implies you made a nested tuples!!"
      ]
    },
    {
      "cell_type": "markdown",
      "id": "YDXbkHYoLIHU",
      "metadata": {
        "id": "YDXbkHYoLIHU"
      },
      "source": [
        "## 4. DICT"
      ]
    },
    {
      "cell_type": "markdown",
      "id": "1BumA9rqLIHV",
      "metadata": {
        "id": "1BumA9rqLIHV"
      },
      "source": [
        "#### 4.1 Create a dictionary d = {\"actor\":\"amir\",\"animal\":\"cat\",\"earth\":2,\"list\":[23,32,12]}"
      ]
    },
    {
      "cell_type": "code",
      "execution_count": 56,
      "id": "iz4UOT0aLIHV",
      "metadata": {
        "id": "iz4UOT0aLIHV"
      },
      "outputs": [],
      "source": [
        "#code here\n",
        "d = {\"actor\":\"amir\",\"animal\":\"cat\",\"earth\":2,\"list\":[23,32,12]}"
      ]
    },
    {
      "cell_type": "markdown",
      "id": "q3-V-ysNLIHV",
      "metadata": {
        "id": "q3-V-ysNLIHV"
      },
      "source": [
        "Print the value of d[0]"
      ]
    },
    {
      "cell_type": "code",
      "execution_count": 57,
      "id": "OmSXi-PTLIHV",
      "metadata": {
        "colab": {
          "base_uri": "https://localhost:8080/",
          "height": 180
        },
        "id": "OmSXi-PTLIHV",
        "outputId": "1f1d80af-b6cc-4d0e-bbb9-2535aa2830f5"
      },
      "outputs": [
        {
          "ename": "KeyError",
          "evalue": "ignored",
          "output_type": "error",
          "traceback": [
            "\u001b[0;31m---------------------------------------------------------------------------\u001b[0m",
            "\u001b[0;31mKeyError\u001b[0m                                  Traceback (most recent call last)",
            "\u001b[0;32m<ipython-input-57-a306cefea1b5>\u001b[0m in \u001b[0;36m<module>\u001b[0;34m()\u001b[0m\n\u001b[1;32m      1\u001b[0m \u001b[0;31m#code here\u001b[0m\u001b[0;34m\u001b[0m\u001b[0;34m\u001b[0m\u001b[0;34m\u001b[0m\u001b[0m\n\u001b[0;32m----> 2\u001b[0;31m \u001b[0md\u001b[0m\u001b[0;34m[\u001b[0m\u001b[0;36m0\u001b[0m\u001b[0;34m]\u001b[0m\u001b[0;34m\u001b[0m\u001b[0;34m\u001b[0m\u001b[0m\n\u001b[0m",
            "\u001b[0;31mKeyError\u001b[0m: 0"
          ]
        }
      ],
      "source": [
        "#code here\n",
        "d[0]"
      ]
    },
    {
      "cell_type": "markdown",
      "id": "bSDe1RqZLIHV",
      "metadata": {
        "id": "bSDe1RqZLIHV"
      },
      "source": [
        "<b>Oops!! again an error. again a fun fact. Dictionary return the value for key if key is in the dictionary, else throws KeyError\n",
        "and we don't have key 0 here :( </b>"
      ]
    },
    {
      "cell_type": "markdown",
      "id": "mzxbGuStLIHW",
      "metadata": {
        "id": "mzxbGuStLIHW"
      },
      "source": [
        "Store the value of d[‘actor’] to a new variable actor."
      ]
    },
    {
      "cell_type": "code",
      "execution_count": 58,
      "id": "SjrZWDyjLIHW",
      "metadata": {
        "id": "SjrZWDyjLIHW"
      },
      "outputs": [],
      "source": [
        "#code here\n",
        "actor = d['actor']"
      ]
    },
    {
      "cell_type": "markdown",
      "id": "X1ULjib6LIHW",
      "metadata": {
        "id": "X1ULjib6LIHW"
      },
      "source": [
        "Print the type of actor"
      ]
    },
    {
      "cell_type": "code",
      "execution_count": 59,
      "id": "XS65bauBLIHW",
      "metadata": {
        "colab": {
          "base_uri": "https://localhost:8080/"
        },
        "id": "XS65bauBLIHW",
        "outputId": "be5b5ed4-f840-41ee-caf4-1a41bf7d0b00"
      },
      "outputs": [
        {
          "name": "stdout",
          "output_type": "stream",
          "text": [
            "<class 'str'>\n"
          ]
        }
      ],
      "source": [
        "#code here\n",
        "print(type(actor))"
      ]
    },
    {
      "cell_type": "markdown",
      "id": "fD65a9OLLIHW",
      "metadata": {
        "id": "fD65a9OLLIHW"
      },
      "source": [
        "Store the value of d[‘list’] in new variable l. "
      ]
    },
    {
      "cell_type": "code",
      "execution_count": 60,
      "id": "iaZ3YkGtLIHX",
      "metadata": {
        "id": "iaZ3YkGtLIHX"
      },
      "outputs": [],
      "source": [
        "#code here\n",
        "I = d['list']"
      ]
    },
    {
      "cell_type": "markdown",
      "id": "jb5wRNX7LIHX",
      "metadata": {
        "id": "jb5wRNX7LIHX"
      },
      "source": [
        "Print the type of l. "
      ]
    },
    {
      "cell_type": "code",
      "execution_count": 61,
      "id": "6XBI3ZXlLIHX",
      "metadata": {
        "colab": {
          "base_uri": "https://localhost:8080/"
        },
        "id": "6XBI3ZXlLIHX",
        "outputId": "02d54aa3-4dc8-49e1-c7d8-ff9b4223a164"
      },
      "outputs": [
        {
          "name": "stdout",
          "output_type": "stream",
          "text": [
            "<class 'list'>\n"
          ]
        }
      ],
      "source": [
        "#code here\n",
        "print(type(I))"
      ]
    },
    {
      "cell_type": "markdown",
      "id": "iW2yb38aLIHX",
      "metadata": {
        "id": "iW2yb38aLIHX"
      },
      "source": [
        "Create d1 = { ‘singer’ : ‘Kr$na’ , ‘album’: ‘Still here’, ‘genre’ : ‘hip-hop’}"
      ]
    },
    {
      "cell_type": "code",
      "execution_count": 62,
      "id": "am7vaHGoLIHX",
      "metadata": {
        "id": "am7vaHGoLIHX"
      },
      "outputs": [],
      "source": [
        "#code here\n",
        "d1 = { 'singer' : 'Kr$na' , 'album': 'Still here', 'genre' : 'hip-hop'}"
      ]
    },
    {
      "cell_type": "markdown",
      "id": "4uhXqj1RLIHY",
      "metadata": {
        "id": "4uhXqj1RLIHY"
      },
      "source": [
        "Merge d1 into d."
      ]
    },
    {
      "cell_type": "code",
      "execution_count": 63,
      "id": "i5DyTrcgLIHY",
      "metadata": {
        "id": "i5DyTrcgLIHY"
      },
      "outputs": [],
      "source": [
        "#code here\n",
        "d.update(d1)"
      ]
    },
    {
      "cell_type": "markdown",
      "id": "Vgk-1JBzLIHa",
      "metadata": {
        "id": "Vgk-1JBzLIHa"
      },
      "source": [
        "print d"
      ]
    },
    {
      "cell_type": "code",
      "execution_count": 64,
      "id": "u-ANNDHBLIHa",
      "metadata": {
        "colab": {
          "base_uri": "https://localhost:8080/"
        },
        "id": "u-ANNDHBLIHa",
        "outputId": "80e2075d-b9bf-477e-88cf-301e17803c5d"
      },
      "outputs": [
        {
          "name": "stdout",
          "output_type": "stream",
          "text": [
            "{'actor': 'amir', 'animal': 'cat', 'earth': 2, 'list': [23, 32, 12], 'singer': 'Kr$na', 'album': 'Still here', 'genre': 'hip-hop'}\n"
          ]
        }
      ],
      "source": [
        "#code here\n",
        "print(d)"
      ]
    },
    {
      "cell_type": "markdown",
      "id": "Vm4xzm1zLIHa",
      "metadata": {
        "id": "Vm4xzm1zLIHa"
      },
      "source": [
        "Print all the keys in d"
      ]
    },
    {
      "cell_type": "code",
      "execution_count": 65,
      "id": "5R1RfEhPLIHb",
      "metadata": {
        "colab": {
          "base_uri": "https://localhost:8080/"
        },
        "id": "5R1RfEhPLIHb",
        "outputId": "acb85c9f-feed-434a-e00f-b9f4168710ff"
      },
      "outputs": [
        {
          "data": {
            "text/plain": [
              "dict_keys(['actor', 'animal', 'earth', 'list', 'singer', 'album', 'genre'])"
            ]
          },
          "execution_count": 65,
          "metadata": {
            "tags": []
          },
          "output_type": "execute_result"
        }
      ],
      "source": [
        "#code here\n",
        "d.keys()"
      ]
    },
    {
      "cell_type": "markdown",
      "id": "Xz43jBUkLIHb",
      "metadata": {
        "id": "Xz43jBUkLIHb"
      },
      "source": [
        "Print all the values in d"
      ]
    },
    {
      "cell_type": "code",
      "execution_count": 66,
      "id": "npEqkiYILIHb",
      "metadata": {
        "colab": {
          "base_uri": "https://localhost:8080/"
        },
        "id": "npEqkiYILIHb",
        "outputId": "e761816d-474a-42b2-a666-f5e4c2dec34a"
      },
      "outputs": [
        {
          "data": {
            "text/plain": [
              "dict_values(['amir', 'cat', 2, [23, 32, 12], 'Kr$na', 'Still here', 'hip-hop'])"
            ]
          },
          "execution_count": 66,
          "metadata": {
            "tags": []
          },
          "output_type": "execute_result"
        }
      ],
      "source": [
        "#code here\n",
        "d.values()"
      ]
    },
    {
      "cell_type": "markdown",
      "id": "YDbxr0UvLIHb",
      "metadata": {
        "id": "YDbxr0UvLIHb"
      },
      "source": [
        "Iterate over d, and print each key, value pair as given in output"
      ]
    },
    {
      "cell_type": "code",
      "execution_count": 67,
      "id": "BP6IX_-NLIHc",
      "metadata": {
        "colab": {
          "base_uri": "https://localhost:8080/"
        },
        "id": "BP6IX_-NLIHc",
        "outputId": "7d3ddafa-94c3-4a2d-841e-a3b22ed1a6cc"
      },
      "outputs": [
        {
          "name": "stdout",
          "output_type": "stream",
          "text": [
            "actor -> amir\n",
            "animal -> cat\n",
            "earth -> 2\n",
            "list -> [23, 32, 12]\n",
            "singer -> Kr$na\n",
            "album -> Still here\n",
            "genre -> hip-hop\n"
          ]
        }
      ],
      "source": [
        "#code here\n",
        "for i in d:\n",
        "  print(i, '->', d[i])"
      ]
    },
    {
      "cell_type": "markdown",
      "id": "Vg2P_kwYLIHc",
      "metadata": {
        "id": "Vg2P_kwYLIHc"
      },
      "source": [
        "count the number of occurences of charachters in string named \"sent\" using dictionary and print the same.\n"
      ]
    },
    {
      "cell_type": "code",
      "execution_count": 68,
      "id": "fNah2K0fLIHc",
      "metadata": {
        "colab": {
          "base_uri": "https://localhost:8080/"
        },
        "id": "fNah2K0fLIHc",
        "outputId": "4e872c8c-fe24-4e61-cc4e-842efb752be3"
      },
      "outputs": [
        {
          "data": {
            "text/plain": [
              "{' ': 5,\n",
              " '.': 1,\n",
              " 'A': 1,\n",
              " 'C': 2,\n",
              " 'L': 1,\n",
              " 'T': 1,\n",
              " 'W': 1,\n",
              " 'a': 2,\n",
              " 'c': 1,\n",
              " 'd': 4,\n",
              " 'e': 2,\n",
              " 'h': 1,\n",
              " 'i': 1,\n",
              " 'k': 1,\n",
              " 'l': 1,\n",
              " 'n': 3,\n",
              " 'o': 6,\n",
              " 'r': 4,\n",
              " 's': 3,\n",
              " 'u': 3,\n",
              " 'v': 1,\n",
              " 'w': 1}"
            ]
          },
          "execution_count": 68,
          "metadata": {
            "tags": []
          },
          "output_type": "execute_result"
        }
      ],
      "source": [
        "#code here\n",
        "dict1 = {}\n",
        "for i in sent:\n",
        "    dict1[i]=0\n",
        "for j in sent:\n",
        "    dict1[j]=dict1[j]+1\n",
        "\n",
        "dict1"
      ]
    },
    {
      "cell_type": "markdown",
      "id": "GdynzvZaLIHc",
      "metadata": {
        "id": "GdynzvZaLIHc"
      },
      "source": [
        "# --------------------------------------------------------------------"
      ]
    }
  ],
  "metadata": {
    "colab": {
      "collapsed_sections": [],
      "include_colab_link": true,
      "name": "3_Data Structure_CloudyML.ipynb",
      "provenance": []
    },
    "kernelspec": {
      "display_name": "Python 3",
      "language": "python",
      "name": "python3"
    },
    "language_info": {
      "codemirror_mode": {
        "name": "ipython",
        "version": 3
      },
      "file_extension": ".py",
      "mimetype": "text/x-python",
      "name": "python",
      "nbconvert_exporter": "python",
      "pygments_lexer": "ipython3",
      "version": "3.8.5"
    }
  },
  "nbformat": 4,
  "nbformat_minor": 5
}
