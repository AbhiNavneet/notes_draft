{
  "cells": [
    {
      "attachments": {},
      "cell_type": "markdown",
      "metadata": {
        "id": "qEd4Of1S3AHd"
      },
      "source": [
        "# Assignment 1:  Store_Sales"
      ]
    },
    {
      "attachments": {},
      "cell_type": "markdown",
      "metadata": {
        "id": "rI5fi9Ec3AHd"
      },
      "source": [
        "### Import the library with alias np"
      ]
    },
    {
      "cell_type": "code",
      "execution_count": 2,
      "metadata": {
        "ExecuteTime": {
          "end_time": "2020-11-18T14:11:52.500937Z",
          "start_time": "2020-11-18T14:11:52.493728Z"
        },
        "id": "JCog5Qpx3AHe"
      },
      "outputs": [],
      "source": [
        "import numpy as np"
      ]
    },
    {
      "attachments": {},
      "cell_type": "markdown",
      "metadata": {
        "id": "Ebj0_8Cl3AHe"
      },
      "source": [
        "####  1. Create an array of  8 eights"
      ]
    },
    {
      "cell_type": "code",
      "execution_count": null,
      "metadata": {
        "ExecuteTime": {
          "end_time": "2020-11-18T14:11:54.013984Z",
          "start_time": "2020-11-18T14:11:53.998764Z"
        },
        "id": "sVXJbUDn3AHe"
      },
      "outputs": [],
      "source": [
        "np.ones(8)*8"
      ]
    },
    {
      "attachments": {},
      "cell_type": "markdown",
      "metadata": {
        "id": "LU_4XIer3AHe"
      },
      "source": [
        "#### 2. Create an array of the integers from 10 to 50"
      ]
    },
    {
      "cell_type": "code",
      "execution_count": null,
      "metadata": {
        "ExecuteTime": {
          "end_time": "2020-11-18T14:12:01.662170Z",
          "start_time": "2020-11-18T14:12:01.657133Z"
        },
        "colab": {
          "base_uri": "https://localhost:8080/"
        },
        "id": "XiQAQhVp3AHe",
        "outputId": "769db61b-352a-40e1-bc57-9f90adfecdd8"
      },
      "outputs": [],
      "source": [
        "np.arange(10,51)"
      ]
    },
    {
      "attachments": {},
      "cell_type": "markdown",
      "metadata": {
        "id": "Ahh4V67O3AHf"
      },
      "source": [
        "#### 3. Create a 3x3 matrix with values ranging from 22 to 30"
      ]
    },
    {
      "cell_type": "code",
      "execution_count": null,
      "metadata": {
        "ExecuteTime": {
          "end_time": "2020-11-18T14:12:12.695697Z",
          "start_time": "2020-11-18T14:12:12.680091Z"
        },
        "id": "iYsl73bS3AHf"
      },
      "outputs": [],
      "source": [
        "np.arange(22,31).reshape(3,3)"
      ]
    },
    {
      "attachments": {},
      "cell_type": "markdown",
      "metadata": {
        "id": "EfibzwB83AHf"
      },
      "source": [
        "## Indexing\n",
        "Use below Array 'arr' for Questions below. \n",
        "\n"
      ]
    },
    {
      "cell_type": "code",
      "execution_count": null,
      "metadata": {
        "ExecuteTime": {
          "end_time": "2020-11-18T14:12:18.179297Z",
          "start_time": "2020-11-18T14:12:18.166890Z"
        },
        "id": "XzmCCFmk3AHf"
      },
      "outputs": [],
      "source": [
        "arr = np.array([[26, 27, 28, 29, 30],\n",
        "       [31, 32, 33, 34, 35],\n",
        "       [36, 37, 38, 39, 40],\n",
        "       [41, 42, 43, 44, 45],\n",
        "       [46, 47, 48, 49, 50]])\n",
        "arr"
      ]
    },
    {
      "attachments": {},
      "cell_type": "markdown",
      "metadata": {
        "collapsed": true,
        "id": "ib0aYLy03AHf"
      },
      "source": [
        "#### 4. Use indexing on arr to get below output\n",
        "\n",
        "       [[37, 38, 39, 40],\n",
        "       [42, 43, 44, 45],\n",
        "       [47, 48, 49, 50]]"
      ]
    },
    {
      "cell_type": "code",
      "execution_count": null,
      "metadata": {
        "ExecuteTime": {
          "end_time": "2020-11-18T14:12:23.162386Z",
          "start_time": "2020-11-18T14:12:23.157846Z"
        },
        "id": "jaeiYbSG3AHf"
      },
      "outputs": [],
      "source": [
        "arr[2:,1:]"
      ]
    },
    {
      "attachments": {},
      "cell_type": "markdown",
      "metadata": {
        "collapsed": true,
        "id": "roerkfJq3AHf"
      },
      "source": [
        "#### 5. Use indexing on arr to get below output\n",
        "Output should be 50"
      ]
    },
    {
      "cell_type": "code",
      "execution_count": null,
      "metadata": {
        "ExecuteTime": {
          "end_time": "2020-11-18T14:12:33.245858Z",
          "start_time": "2020-11-18T14:12:33.228607Z"
        },
        "id": "TPOj_Ap33AHg"
      },
      "outputs": [],
      "source": [
        "arr[4:,4][0]"
      ]
    },
    {
      "attachments": {},
      "cell_type": "markdown",
      "metadata": {
        "collapsed": true,
        "id": "eQCb3G2W3AHg"
      },
      "source": [
        "#### 6. Use indexing on arr to get below output\n",
        "      [[27],\n",
        "       [32],\n",
        "       [37]]"
      ]
    },
    {
      "cell_type": "code",
      "execution_count": null,
      "metadata": {
        "ExecuteTime": {
          "end_time": "2020-11-18T14:12:34.673380Z",
          "start_time": "2020-11-18T14:12:34.661768Z"
        },
        "id": "FKNH1ivg3AHg"
      },
      "outputs": [],
      "source": [
        "arr[0:3,1:2]"
      ]
    },
    {
      "attachments": {},
      "cell_type": "markdown",
      "metadata": {
        "collapsed": true,
        "id": "J5I0tHl13AHg"
      },
      "source": [
        "#### 7. Use indexing on arr to get below output\n",
        "      [46, 47, 48, 49, 50]"
      ]
    },
    {
      "cell_type": "code",
      "execution_count": null,
      "metadata": {
        "ExecuteTime": {
          "end_time": "2020-11-18T14:12:37.835049Z",
          "start_time": "2020-11-18T14:12:37.819006Z"
        },
        "id": "K_ds-9O83AHg"
      },
      "outputs": [],
      "source": [
        "arr[-1]"
      ]
    },
    {
      "attachments": {},
      "cell_type": "markdown",
      "metadata": {
        "collapsed": true,
        "id": "N7If4Qm13AHg"
      },
      "source": [
        "#### 8. Use indexing on arr to get below output\n",
        "     [[41, 42, 43, 44, 45],\n",
        "       [46, 47, 48, 49, 50]]"
      ]
    },
    {
      "cell_type": "code",
      "execution_count": null,
      "metadata": {
        "ExecuteTime": {
          "end_time": "2020-11-18T14:12:46.339838Z",
          "start_time": "2020-11-18T14:12:46.326961Z"
        },
        "id": "_ODDWmMI3AHg"
      },
      "outputs": [],
      "source": [
        "arr[3:]"
      ]
    },
    {
      "attachments": {},
      "cell_type": "markdown",
      "metadata": {
        "id": "YAxzLy-33AHg"
      },
      "source": [
        "### NumPy  Stats Functions\n",
        "\n",
        "Use below given array 'arr'"
      ]
    },
    {
      "cell_type": "code",
      "execution_count": null,
      "metadata": {
        "ExecuteTime": {
          "end_time": "2020-11-18T14:12:51.416329Z",
          "start_time": "2020-11-18T14:12:51.398141Z"
        },
        "id": "rudcV8St3AHg"
      },
      "outputs": [],
      "source": [
        "arr = np.array([[10, 11, 12, 13, 14],\n",
        "       [15, 16, 17, 18, 19],\n",
        "       [20, 21, 22, 23, 24],\n",
        "       [25, 26, 27, 28, 29],\n",
        "       [30, 31, 32, 33, 34],\n",
        "       [35, 36, 37, 38, 39]])"
      ]
    },
    {
      "attachments": {},
      "cell_type": "markdown",
      "metadata": {
        "id": "ySZR5Kr23AHg"
      },
      "source": [
        "#### 9. Find the sum of all the values in given array 'arr'"
      ]
    },
    {
      "cell_type": "code",
      "execution_count": null,
      "metadata": {
        "ExecuteTime": {
          "end_time": "2020-11-18T14:12:55.596990Z",
          "start_time": "2020-11-18T14:12:55.582257Z"
        },
        "id": "whUaKcc03AHg"
      },
      "outputs": [],
      "source": [
        "np.sum(arr)"
      ]
    },
    {
      "attachments": {},
      "cell_type": "markdown",
      "metadata": {
        "id": "_JyZahWt3AHg"
      },
      "source": [
        "#### 10. Find the standard deviation of the values in given array 'arr'"
      ]
    },
    {
      "cell_type": "code",
      "execution_count": null,
      "metadata": {
        "ExecuteTime": {
          "end_time": "2020-11-18T14:12:57.293052Z",
          "start_time": "2020-11-18T14:12:57.283021Z"
        },
        "id": "rd4x_3yk3AHg"
      },
      "outputs": [],
      "source": [
        "np.std(arr)"
      ]
    },
    {
      "attachments": {},
      "cell_type": "markdown",
      "metadata": {
        "id": "NdYwSQRO3AHg"
      },
      "source": [
        "#### 11.  Find the mean of all the values in given array 'arr'"
      ]
    },
    {
      "cell_type": "code",
      "execution_count": null,
      "metadata": {
        "ExecuteTime": {
          "end_time": "2020-11-18T14:12:58.639514Z",
          "start_time": "2020-11-18T14:12:58.627432Z"
        },
        "id": "AuVb4eyn3AHg"
      },
      "outputs": [],
      "source": [
        "np.mean(arr)"
      ]
    },
    {
      "attachments": {},
      "cell_type": "markdown",
      "metadata": {
        "id": "Kz8Skvet3AHh"
      },
      "source": [
        "# Section 2: Pandas Solutions"
      ]
    },
    {
      "attachments": {},
      "cell_type": "markdown",
      "metadata": {
        "ExecuteTime": {
          "end_time": "2020-03-30T16:30:52.096627Z",
          "start_time": "2020-03-30T16:30:52.091679Z"
        },
        "id": "2odOFhTE3AHh"
      },
      "source": [
        "#### Import pandas library  with alias pd"
      ]
    },
    {
      "cell_type": "code",
      "execution_count": null,
      "metadata": {
        "ExecuteTime": {
          "end_time": "2020-11-18T14:13:37.910604Z",
          "start_time": "2020-11-18T14:13:37.905737Z"
        },
        "id": "8m-2Cl5T3AHh"
      },
      "outputs": [],
      "source": [
        "import pandas as pd"
      ]
    },
    {
      "attachments": {},
      "cell_type": "markdown",
      "metadata": {
        "id": "2HdntLZf3AHh"
      },
      "source": [
        "#### Read the given csv file"
      ]
    },
    {
      "cell_type": "code",
      "execution_count": null,
      "metadata": {
        "ExecuteTime": {
          "end_time": "2020-11-18T14:13:38.270998Z",
          "start_time": "2020-11-18T14:13:38.258304Z"
        },
        "id": "ut8q2tUc3AHh"
      },
      "outputs": [],
      "source": [
        "df = pd.read_csv(\"Store Sales.csv\")"
      ]
    },
    {
      "attachments": {},
      "cell_type": "markdown",
      "metadata": {
        "id": "mnYh_olF3AHh"
      },
      "source": [
        "### 1. What are the unique values in  the column \"Parking\"?"
      ]
    },
    {
      "cell_type": "code",
      "execution_count": null,
      "metadata": {
        "ExecuteTime": {
          "end_time": "2020-11-18T14:13:38.709648Z",
          "start_time": "2020-11-18T14:13:38.696162Z"
        },
        "id": "IeGAaODN3AHh"
      },
      "outputs": [],
      "source": [
        "df[\"Parking\"].unique()"
      ]
    },
    {
      "attachments": {},
      "cell_type": "markdown",
      "metadata": {
        "id": "tTDuFUS33AHh"
      },
      "source": [
        "### 2. What is the mean store area of the given data? "
      ]
    },
    {
      "cell_type": "code",
      "execution_count": null,
      "metadata": {
        "ExecuteTime": {
          "end_time": "2020-11-18T14:13:40.025724Z",
          "start_time": "2020-11-18T14:13:40.012289Z"
        },
        "id": "MnXIW1Mn3AHh"
      },
      "outputs": [],
      "source": [
        "df[\"Store_Area\"].mean()"
      ]
    },
    {
      "attachments": {},
      "cell_type": "markdown",
      "metadata": {
        "id": "ykPHo_RI3AHh"
      },
      "source": [
        "### 3.What are the different columns available in the dataset?"
      ]
    },
    {
      "cell_type": "code",
      "execution_count": null,
      "metadata": {
        "ExecuteTime": {
          "end_time": "2020-11-18T14:13:16.743995Z",
          "start_time": "2020-11-18T14:13:16.732919Z"
        },
        "id": "NyNmIDWN3AHh"
      },
      "outputs": [],
      "source": [
        "df.columns"
      ]
    },
    {
      "attachments": {},
      "cell_type": "markdown",
      "metadata": {
        "id": "SR1DZqUX3AHh"
      },
      "source": [
        "### 4. Create a new series (series1) with only the values of third row"
      ]
    },
    {
      "cell_type": "code",
      "execution_count": null,
      "metadata": {
        "ExecuteTime": {
          "end_time": "2020-11-18T14:16:46.680926Z",
          "start_time": "2020-11-18T14:16:46.671773Z"
        },
        "id": "p2wX9Hbo3AHh"
      },
      "outputs": [],
      "source": [
        "series1=df.iloc[2]\n",
        "series1"
      ]
    },
    {
      "attachments": {},
      "cell_type": "markdown",
      "metadata": {
        "id": "Mggm22w03AHh"
      },
      "source": [
        "### 5. Create a new dataframe(df_short which contain first 5 rows and two columns(\"Coupon_Category\" and \"Store_Sales\")"
      ]
    },
    {
      "cell_type": "code",
      "execution_count": null,
      "metadata": {
        "ExecuteTime": {
          "end_time": "2020-11-18T14:17:51.647071Z",
          "start_time": "2020-11-18T14:17:51.622431Z"
        },
        "id": "P75B5Mdk3AHh"
      },
      "outputs": [],
      "source": [
        "df_short=df.loc[[0,1,2,3,4],[\"Coupon_Category\",\"Store_Sales\"]]\n",
        "df_short"
      ]
    },
    {
      "cell_type": "code",
      "execution_count": null,
      "metadata": {
        "ExecuteTime": {
          "end_time": "2020-11-18T14:18:32.167260Z",
          "start_time": "2020-11-18T14:18:32.151113Z"
        },
        "id": "9HP0WYd63AHh"
      },
      "outputs": [],
      "source": [
        "df.head(5)[[\"Coupon_Category\",\"Store_Sales\"]]"
      ]
    },
    {
      "attachments": {},
      "cell_type": "markdown",
      "metadata": {
        "id": "-AY8oe_e3AHh"
      },
      "source": [
        "### 6. In dataframe df_short, replace the index with [\"First Row\",\"Second Row\",\"Third Row\", \"Forth Row\", \"Fifth Row\"]"
      ]
    },
    {
      "cell_type": "code",
      "execution_count": null,
      "metadata": {
        "ExecuteTime": {
          "end_time": "2020-11-18T14:21:49.755293Z",
          "start_time": "2020-11-18T14:21:49.720390Z"
        },
        "id": "KDf-FDvw3AHh"
      },
      "outputs": [],
      "source": [
        "df_short[\"Names\"]=[\"First Row\",\"Second Row\",\"Third Row\", \"Forth Row\", \"Fifth Row\"]\n",
        "print(df_short)\n",
        "\n",
        "df_short.set_index(\"Names\",inplace=True)\n",
        "df_short"
      ]
    },
    {
      "attachments": {},
      "cell_type": "markdown",
      "metadata": {
        "id": "b-Sc0v5c3AHh"
      },
      "source": [
        "### 7. Create a dataframe df2 fulfilling the given conditions - Dist_Metro>18000 and Parking= Open"
      ]
    },
    {
      "cell_type": "code",
      "execution_count": null,
      "metadata": {
        "ExecuteTime": {
          "end_time": "2020-11-18T14:23:38.115765Z",
          "start_time": "2020-11-18T14:23:38.077015Z"
        },
        "id": "A3n8LKv83AHh"
      },
      "outputs": [],
      "source": [
        "df2=df[(df[\"Dist_Metro\"]>18000) & (df[\"Parking\"]==\"Open\")]\n",
        "df2"
      ]
    },
    {
      "attachments": {},
      "cell_type": "markdown",
      "metadata": {
        "id": "2y-pn0Sf3AHh"
      },
      "source": [
        "### 8.What is the minimum store sales and the standard Deviation of store sales."
      ]
    },
    {
      "cell_type": "code",
      "execution_count": null,
      "metadata": {
        "ExecuteTime": {
          "end_time": "2020-11-18T14:24:50.994586Z",
          "start_time": "2020-11-18T14:24:50.976291Z"
        },
        "id": "XlFB1jHi3AHh"
      },
      "outputs": [],
      "source": [
        "a=df[\"Store_Sales\"].min()\n",
        "b=df[\"Store_Sales\"].std()\n",
        "print(\"The Minimum of Store Sales is\",a,\"and the standard deviation of Store sales is\", b )"
      ]
    },
    {
      "attachments": {},
      "cell_type": "markdown",
      "metadata": {
        "id": "AL8SBcCO3AHh"
      },
      "source": [
        "### 9. Group the dataset with respect to the variable 'Coupon_Category' using aggregation function mean()"
      ]
    },
    {
      "cell_type": "code",
      "execution_count": null,
      "metadata": {
        "ExecuteTime": {
          "end_time": "2020-11-18T14:25:13.055098Z",
          "start_time": "2020-11-18T14:25:13.022218Z"
        },
        "id": "OVzSHvo73AHh"
      },
      "outputs": [],
      "source": [
        "df.groupby(\"Coupon_Category\").mean()"
      ]
    },
    {
      "attachments": {},
      "cell_type": "markdown",
      "metadata": {
        "id": "4jwneK3X3AHh"
      },
      "source": [
        "### 10. Drop the variable 'Parking' from the data."
      ]
    },
    {
      "cell_type": "code",
      "execution_count": null,
      "metadata": {
        "ExecuteTime": {
          "end_time": "2020-11-18T14:33:19.645834Z",
          "start_time": "2020-11-18T14:33:19.625905Z"
        },
        "id": "0jCWjicT3AHh"
      },
      "outputs": [],
      "source": [
        "df_1 = df.drop('Parking',axis=1)  \n",
        "df_1.head()"
      ]
    },
    {
      "attachments": {},
      "cell_type": "markdown",
      "metadata": {
        "id": "7N0BaB-L3AHh"
      },
      "source": [
        "### 11. Export the Q10 dataframe without the 'Parking' column into a csv file."
      ]
    },
    {
      "cell_type": "code",
      "execution_count": null,
      "metadata": {
        "id": "soaVDcUu3AHh"
      },
      "outputs": [],
      "source": [
        "df_1.to_csv('df.csv',index=False) "
      ]
    },
    {
      "attachments": {},
      "cell_type": "markdown",
      "metadata": {
        "id": "Dr3kTYW43AHi"
      },
      "source": [
        "# Question on some additional functions"
      ]
    },
    {
      "attachments": {},
      "cell_type": "markdown",
      "metadata": {
        "id": "Uemi19jk3AHi"
      },
      "source": [
        "###  Display the first 10 entries of the dataset.  (Hint-use function head())"
      ]
    },
    {
      "cell_type": "code",
      "execution_count": null,
      "metadata": {
        "ExecuteTime": {
          "end_time": "2020-11-18T14:36:32.155436Z",
          "start_time": "2020-11-18T14:36:32.114317Z"
        },
        "id": "S1dF6VLM3AHi"
      },
      "outputs": [],
      "source": [
        "df.head(10)"
      ]
    },
    {
      "attachments": {},
      "cell_type": "markdown",
      "metadata": {
        "id": "y6SgxqGL3AHi"
      },
      "source": [
        "###  Display the last 5 entries of the dataset.(Hint- use function tail())"
      ]
    },
    {
      "cell_type": "code",
      "execution_count": null,
      "metadata": {
        "ExecuteTime": {
          "end_time": "2020-11-18T14:36:34.001258Z",
          "start_time": "2020-11-18T14:36:33.973807Z"
        },
        "id": "2YTxwPHF3AHi"
      },
      "outputs": [],
      "source": [
        "df.tail()"
      ]
    },
    {
      "attachments": {},
      "cell_type": "markdown",
      "metadata": {
        "id": "446-b4oM3AHi"
      },
      "source": [
        "### How many rows and columns are present in the dataset? (Hint- Use function shape)"
      ]
    },
    {
      "cell_type": "code",
      "execution_count": null,
      "metadata": {
        "ExecuteTime": {
          "end_time": "2020-11-18T14:36:36.645156Z",
          "start_time": "2020-11-18T14:36:36.630788Z"
        },
        "id": "9Q9PLF1M3AHi"
      },
      "outputs": [],
      "source": [
        "a = df.shape\n",
        "print(\"There are\",a[0],\"rows and\",a[1],\"columns.\")"
      ]
    },
    {
      "attachments": {},
      "cell_type": "markdown",
      "metadata": {
        "id": "7g104FC63AHi"
      },
      "source": [
        "###  What are the different data types of the variables in the given dataset? (Hint- Use function info())"
      ]
    },
    {
      "cell_type": "code",
      "execution_count": null,
      "metadata": {
        "ExecuteTime": {
          "end_time": "2020-11-18T14:36:42.359869Z",
          "start_time": "2020-11-18T14:36:42.336713Z"
        },
        "id": "G7Gou6lh3AHi"
      },
      "outputs": [],
      "source": [
        "df.info()"
      ]
    },
    {
      "cell_type": "code",
      "execution_count": null,
      "metadata": {
        "ExecuteTime": {
          "end_time": "2020-11-18T14:37:28.472053Z",
          "start_time": "2020-11-18T14:37:28.456911Z"
        },
        "id": "z0Exle6g3AHi"
      },
      "outputs": [],
      "source": [
        "df.dtypes"
      ]
    },
    {
      "attachments": {},
      "cell_type": "markdown",
      "metadata": {
        "id": "6-V0qkk23AHi"
      },
      "source": [
        "# END"
      ]
    }
  ],
  "metadata": {
    "colab": {
      "collapsed_sections": [
        "eQCb3G2W3AHg",
        "J5I0tHl13AHg",
        "N7If4Qm13AHg",
        "ySZR5Kr23AHg",
        "2odOFhTE3AHh",
        "2HdntLZf3AHh"
      ],
      "name": "Questions_Store Sale.ipynb",
      "provenance": []
    },
    "kernelspec": {
      "display_name": "Python 3",
      "language": "python",
      "name": "python3"
    },
    "language_info": {
      "codemirror_mode": {
        "name": "ipython",
        "version": 3
      },
      "file_extension": ".py",
      "mimetype": "text/x-python",
      "name": "python",
      "nbconvert_exporter": "python",
      "pygments_lexer": "ipython3",
      "version": "3.10.11"
    },
    "toc": {
      "base_numbering": 1,
      "nav_menu": {},
      "number_sections": true,
      "sideBar": true,
      "skip_h1_title": false,
      "title_cell": "Table of Contents",
      "title_sidebar": "Contents",
      "toc_cell": false,
      "toc_position": {},
      "toc_section_display": true,
      "toc_window_display": false
    },
    "varInspector": {
      "cols": {
        "lenName": 16,
        "lenType": 16,
        "lenVar": 40
      },
      "kernels_config": {
        "python": {
          "delete_cmd_postfix": "",
          "delete_cmd_prefix": "del ",
          "library": "var_list.py",
          "varRefreshCmd": "print(var_dic_list())"
        },
        "r": {
          "delete_cmd_postfix": ") ",
          "delete_cmd_prefix": "rm(",
          "library": "var_list.r",
          "varRefreshCmd": "cat(var_dic_list()) "
        }
      },
      "types_to_exclude": [
        "module",
        "function",
        "builtin_function_or_method",
        "instance",
        "_Feature"
      ],
      "window_display": false
    }
  },
  "nbformat": 4,
  "nbformat_minor": 0
}
